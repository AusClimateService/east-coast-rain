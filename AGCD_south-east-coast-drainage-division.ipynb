{
 "cells": [
  {
   "cell_type": "code",
   "execution_count": 1,
   "id": "a2eae9cd",
   "metadata": {
    "execution": {
     "iopub.execute_input": "2022-03-31T23:28:22.414790Z",
     "iopub.status.busy": "2022-03-31T23:28:22.413810Z",
     "iopub.status.idle": "2022-03-31T23:28:31.526046Z",
     "shell.execute_reply": "2022-03-31T23:28:31.523873Z"
    },
    "papermill": {
     "duration": 9.233011,
     "end_time": "2022-03-31T23:28:31.526622",
     "exception": false,
     "start_time": "2022-03-31T23:28:22.293611",
     "status": "completed"
    },
    "scrolled": true,
    "tags": []
   },
   "outputs": [],
   "source": [
    "import os\n",
    "import glob\n",
    "import datetime\n",
    "\n",
    "import matplotlib.pyplot as plt\n",
    "import numpy as np\n",
    "import pandas as pd\n",
    "import xarray as xr\n",
    "from scipy.stats import genextreme as gev\n",
    "\n",
    "from unseen import fileio\n",
    "from unseen import time_utils\n",
    "from unseen import indices\n",
    "from unseen import general_utils"
   ]
  },
  {
   "cell_type": "code",
   "execution_count": 2,
   "id": "302d1804",
   "metadata": {
    "execution": {
     "iopub.execute_input": "2022-03-31T23:28:31.594581Z",
     "iopub.status.busy": "2022-03-31T23:28:31.593074Z",
     "iopub.status.idle": "2022-03-31T23:28:31.601407Z",
     "shell.execute_reply": "2022-03-31T23:28:31.600134Z"
    },
    "papermill": {
     "duration": 0.043621,
     "end_time": "2022-03-31T23:28:31.601705",
     "exception": false,
     "start_time": "2022-03-31T23:28:31.558084",
     "status": "completed"
    },
    "tags": [
     "parameters"
    ]
   },
   "outputs": [],
   "source": [
    "# Parameters\n",
    "dpi = 300"
   ]
  },
  {
   "cell_type": "code",
   "execution_count": 3,
   "id": "f9c4d3de",
   "metadata": {
    "execution": {
     "iopub.execute_input": "2022-03-31T23:28:31.670080Z",
     "iopub.status.busy": "2022-03-31T23:28:31.669156Z",
     "iopub.status.idle": "2022-03-31T23:28:31.674044Z",
     "shell.execute_reply": "2022-03-31T23:28:31.672990Z"
    },
    "papermill": {
     "duration": 0.04373,
     "end_time": "2022-03-31T23:28:31.674312",
     "exception": false,
     "start_time": "2022-03-31T23:28:31.630582",
     "status": "completed"
    },
    "tags": [
     "injected-parameters"
    ]
   },
   "outputs": [],
   "source": [
    "# Parameters\n",
    "shapefile = \"/g/data/xv83/dbi599/east-coast-rain/shapefiles/south-east-coast-nsw.shp\"\n",
    "metadata_file = \"/home/599/dbi599/forks/unseen/config/dataset_agcd_daily.yml\"\n",
    "rx15day_file = \"/g/data/xv83/dbi599/east-coast-rain/data/Rx15day_AGCD-CSIRO_r005_1900-2022_annual-aug-to-sep_south-east-coast-drainage-division.zarr.zip\"\n",
    "region_name = \"south-east-coast-drainage-division\"\n"
   ]
  },
  {
   "cell_type": "code",
   "execution_count": 4,
   "id": "27c43066",
   "metadata": {
    "execution": {
     "iopub.execute_input": "2022-03-31T23:28:31.736942Z",
     "iopub.status.busy": "2022-03-31T23:28:31.735737Z",
     "iopub.status.idle": "2022-03-31T23:28:31.741414Z",
     "shell.execute_reply": "2022-03-31T23:28:31.742215Z"
    },
    "papermill": {
     "duration": 0.040561,
     "end_time": "2022-03-31T23:28:31.742540",
     "exception": false,
     "start_time": "2022-03-31T23:28:31.701979",
     "status": "completed"
    },
    "tags": []
   },
   "outputs": [],
   "source": [
    "assert os.path.isfile(metadata_file), \"Must provide a metadata file (papermill option -p metadata_file [filepath])\"\n",
    "assert os.path.isfile(shapefile), \"Must provide a shapefile (papermill option -p shapefile [filepath])\"\n",
    "assert 'rx15day_file' in locals(), \"Must provide an rx15day output file (papermill option -p rx15day_file [filepath])\"\n",
    "assert 'region_name' in locals(), \"Must provide a region name (papermill option -p region_name [name])\""
   ]
  },
  {
   "cell_type": "markdown",
   "id": "ba8de1e7",
   "metadata": {
    "papermill": {
     "duration": 0.041003,
     "end_time": "2022-03-31T23:28:31.813401",
     "exception": false,
     "start_time": "2022-03-31T23:28:31.772398",
     "status": "completed"
    },
    "tags": []
   },
   "source": [
    "## Generate Rx15day data"
   ]
  },
  {
   "cell_type": "code",
   "execution_count": 5,
   "id": "3aba6ad7",
   "metadata": {
    "execution": {
     "iopub.execute_input": "2022-03-31T23:28:31.881151Z",
     "iopub.status.busy": "2022-03-31T23:28:31.880103Z",
     "iopub.status.idle": "2022-03-31T23:28:31.889642Z",
     "shell.execute_reply": "2022-03-31T23:28:31.888601Z"
    },
    "papermill": {
     "duration": 0.043511,
     "end_time": "2022-03-31T23:28:31.890053",
     "exception": false,
     "start_time": "2022-03-31T23:28:31.846542",
     "status": "completed"
    },
    "tags": []
   },
   "outputs": [],
   "source": [
    "agcd_files = glob.glob('/g/data/xv83/agcd-csiro/precip/precip-total_AGCD-CSIRO_r005_*_daily.nc')\n",
    "agcd_files.sort()"
   ]
  },
  {
   "cell_type": "code",
   "execution_count": 6,
   "id": "8ea03c79",
   "metadata": {
    "execution": {
     "iopub.execute_input": "2022-03-31T23:28:31.954668Z",
     "iopub.status.busy": "2022-03-31T23:28:31.953738Z",
     "iopub.status.idle": "2022-03-31T23:28:31.963640Z",
     "shell.execute_reply": "2022-03-31T23:28:31.962688Z"
    },
    "papermill": {
     "duration": 0.044682,
     "end_time": "2022-03-31T23:28:31.964018",
     "exception": false,
     "start_time": "2022-03-31T23:28:31.919336",
     "status": "completed"
    },
    "tags": []
   },
   "outputs": [],
   "source": [
    "#test = fileio.open_dataset(\n",
    "#    agcd_files,\n",
    "#    chunks={'time': 8000, 'lat': 40, 'lon': 40},\n",
    "#    metadata_file=metadata_file,\n",
    "#    shapefile=shapefile,\n",
    "#    variables=['pr'],\n",
    "#    spatial_agg='mean',\n",
    "#    input_freq='D',\n",
    "#    rolling_sum_window=15,\n",
    "#    time_freq='A-AUG',    \n",
    "#    time_agg='max',\n",
    "#)"
   ]
  },
  {
   "cell_type": "code",
   "execution_count": 7,
   "id": "73ba61b9",
   "metadata": {
    "execution": {
     "iopub.execute_input": "2022-03-31T23:28:32.034470Z",
     "iopub.status.busy": "2022-03-31T23:28:32.033336Z",
     "iopub.status.idle": "2022-03-31T23:42:36.235118Z",
     "shell.execute_reply": "2022-03-31T23:42:36.236168Z"
    },
    "papermill": {
     "duration": 844.242521,
     "end_time": "2022-03-31T23:42:36.237063",
     "exception": false,
     "start_time": "2022-03-31T23:28:31.994542",
     "status": "completed"
    },
    "tags": []
   },
   "outputs": [
    {
     "name": "stdout",
     "output_type": "stream",
     "text": [
      "/g/data/xv83/agcd-csiro/precip/precip-total_AGCD-CSIRO_r005_19000101-19001231_daily.nc\n"
     ]
    },
    {
     "name": "stdout",
     "output_type": "stream",
     "text": [
      "/g/data/xv83/agcd-csiro/precip/precip-total_AGCD-CSIRO_r005_19010101-19011231_daily.nc\n"
     ]
    },
    {
     "name": "stdout",
     "output_type": "stream",
     "text": [
      "/g/data/xv83/agcd-csiro/precip/precip-total_AGCD-CSIRO_r005_19020101-19021231_daily.nc\n"
     ]
    },
    {
     "name": "stdout",
     "output_type": "stream",
     "text": [
      "/g/data/xv83/agcd-csiro/precip/precip-total_AGCD-CSIRO_r005_19030101-19031231_daily.nc\n"
     ]
    },
    {
     "name": "stdout",
     "output_type": "stream",
     "text": [
      "/g/data/xv83/agcd-csiro/precip/precip-total_AGCD-CSIRO_r005_19040101-19041231_daily.nc\n"
     ]
    },
    {
     "name": "stdout",
     "output_type": "stream",
     "text": [
      "/g/data/xv83/agcd-csiro/precip/precip-total_AGCD-CSIRO_r005_19050101-19051231_daily.nc\n"
     ]
    },
    {
     "name": "stdout",
     "output_type": "stream",
     "text": [
      "/g/data/xv83/agcd-csiro/precip/precip-total_AGCD-CSIRO_r005_19060101-19061231_daily.nc\n"
     ]
    },
    {
     "name": "stdout",
     "output_type": "stream",
     "text": [
      "/g/data/xv83/agcd-csiro/precip/precip-total_AGCD-CSIRO_r005_19070101-19071231_daily.nc\n"
     ]
    },
    {
     "name": "stdout",
     "output_type": "stream",
     "text": [
      "/g/data/xv83/agcd-csiro/precip/precip-total_AGCD-CSIRO_r005_19080101-19081231_daily.nc\n"
     ]
    },
    {
     "name": "stdout",
     "output_type": "stream",
     "text": [
      "/g/data/xv83/agcd-csiro/precip/precip-total_AGCD-CSIRO_r005_19090101-19091231_daily.nc\n"
     ]
    },
    {
     "name": "stdout",
     "output_type": "stream",
     "text": [
      "/g/data/xv83/agcd-csiro/precip/precip-total_AGCD-CSIRO_r005_19100101-19101231_daily.nc\n"
     ]
    },
    {
     "name": "stdout",
     "output_type": "stream",
     "text": [
      "/g/data/xv83/agcd-csiro/precip/precip-total_AGCD-CSIRO_r005_19110101-19111231_daily.nc\n"
     ]
    },
    {
     "name": "stdout",
     "output_type": "stream",
     "text": [
      "/g/data/xv83/agcd-csiro/precip/precip-total_AGCD-CSIRO_r005_19120101-19121231_daily.nc\n"
     ]
    },
    {
     "name": "stdout",
     "output_type": "stream",
     "text": [
      "/g/data/xv83/agcd-csiro/precip/precip-total_AGCD-CSIRO_r005_19130101-19131231_daily.nc\n"
     ]
    },
    {
     "name": "stdout",
     "output_type": "stream",
     "text": [
      "/g/data/xv83/agcd-csiro/precip/precip-total_AGCD-CSIRO_r005_19140101-19141231_daily.nc\n"
     ]
    },
    {
     "name": "stdout",
     "output_type": "stream",
     "text": [
      "/g/data/xv83/agcd-csiro/precip/precip-total_AGCD-CSIRO_r005_19150101-19151231_daily.nc\n"
     ]
    },
    {
     "name": "stdout",
     "output_type": "stream",
     "text": [
      "/g/data/xv83/agcd-csiro/precip/precip-total_AGCD-CSIRO_r005_19160101-19161231_daily.nc\n"
     ]
    },
    {
     "name": "stdout",
     "output_type": "stream",
     "text": [
      "/g/data/xv83/agcd-csiro/precip/precip-total_AGCD-CSIRO_r005_19170101-19171231_daily.nc\n"
     ]
    },
    {
     "name": "stdout",
     "output_type": "stream",
     "text": [
      "/g/data/xv83/agcd-csiro/precip/precip-total_AGCD-CSIRO_r005_19180101-19181231_daily.nc\n"
     ]
    },
    {
     "name": "stdout",
     "output_type": "stream",
     "text": [
      "/g/data/xv83/agcd-csiro/precip/precip-total_AGCD-CSIRO_r005_19190101-19191231_daily.nc\n"
     ]
    },
    {
     "name": "stdout",
     "output_type": "stream",
     "text": [
      "/g/data/xv83/agcd-csiro/precip/precip-total_AGCD-CSIRO_r005_19200101-19201231_daily.nc\n"
     ]
    },
    {
     "name": "stdout",
     "output_type": "stream",
     "text": [
      "/g/data/xv83/agcd-csiro/precip/precip-total_AGCD-CSIRO_r005_19210101-19211231_daily.nc\n"
     ]
    },
    {
     "name": "stdout",
     "output_type": "stream",
     "text": [
      "/g/data/xv83/agcd-csiro/precip/precip-total_AGCD-CSIRO_r005_19220101-19221231_daily.nc\n"
     ]
    },
    {
     "name": "stdout",
     "output_type": "stream",
     "text": [
      "/g/data/xv83/agcd-csiro/precip/precip-total_AGCD-CSIRO_r005_19230101-19231231_daily.nc\n"
     ]
    },
    {
     "name": "stdout",
     "output_type": "stream",
     "text": [
      "/g/data/xv83/agcd-csiro/precip/precip-total_AGCD-CSIRO_r005_19240101-19241231_daily.nc\n"
     ]
    },
    {
     "name": "stdout",
     "output_type": "stream",
     "text": [
      "/g/data/xv83/agcd-csiro/precip/precip-total_AGCD-CSIRO_r005_19250101-19251231_daily.nc\n"
     ]
    },
    {
     "name": "stdout",
     "output_type": "stream",
     "text": [
      "/g/data/xv83/agcd-csiro/precip/precip-total_AGCD-CSIRO_r005_19260101-19261231_daily.nc\n"
     ]
    },
    {
     "name": "stdout",
     "output_type": "stream",
     "text": [
      "/g/data/xv83/agcd-csiro/precip/precip-total_AGCD-CSIRO_r005_19270101-19271231_daily.nc\n"
     ]
    },
    {
     "name": "stdout",
     "output_type": "stream",
     "text": [
      "/g/data/xv83/agcd-csiro/precip/precip-total_AGCD-CSIRO_r005_19280101-19281231_daily.nc\n"
     ]
    },
    {
     "name": "stdout",
     "output_type": "stream",
     "text": [
      "/g/data/xv83/agcd-csiro/precip/precip-total_AGCD-CSIRO_r005_19290101-19291231_daily.nc\n"
     ]
    },
    {
     "name": "stdout",
     "output_type": "stream",
     "text": [
      "/g/data/xv83/agcd-csiro/precip/precip-total_AGCD-CSIRO_r005_19300101-19301231_daily.nc\n"
     ]
    },
    {
     "name": "stdout",
     "output_type": "stream",
     "text": [
      "/g/data/xv83/agcd-csiro/precip/precip-total_AGCD-CSIRO_r005_19310101-19311231_daily.nc\n"
     ]
    },
    {
     "name": "stdout",
     "output_type": "stream",
     "text": [
      "/g/data/xv83/agcd-csiro/precip/precip-total_AGCD-CSIRO_r005_19320101-19321231_daily.nc\n"
     ]
    },
    {
     "name": "stdout",
     "output_type": "stream",
     "text": [
      "/g/data/xv83/agcd-csiro/precip/precip-total_AGCD-CSIRO_r005_19330101-19331231_daily.nc\n"
     ]
    },
    {
     "name": "stdout",
     "output_type": "stream",
     "text": [
      "/g/data/xv83/agcd-csiro/precip/precip-total_AGCD-CSIRO_r005_19340101-19341231_daily.nc\n"
     ]
    },
    {
     "name": "stdout",
     "output_type": "stream",
     "text": [
      "/g/data/xv83/agcd-csiro/precip/precip-total_AGCD-CSIRO_r005_19350101-19351231_daily.nc\n"
     ]
    },
    {
     "name": "stdout",
     "output_type": "stream",
     "text": [
      "/g/data/xv83/agcd-csiro/precip/precip-total_AGCD-CSIRO_r005_19360101-19361231_daily.nc\n"
     ]
    },
    {
     "name": "stdout",
     "output_type": "stream",
     "text": [
      "/g/data/xv83/agcd-csiro/precip/precip-total_AGCD-CSIRO_r005_19370101-19371231_daily.nc\n"
     ]
    },
    {
     "name": "stdout",
     "output_type": "stream",
     "text": [
      "/g/data/xv83/agcd-csiro/precip/precip-total_AGCD-CSIRO_r005_19380101-19381231_daily.nc\n"
     ]
    },
    {
     "name": "stdout",
     "output_type": "stream",
     "text": [
      "/g/data/xv83/agcd-csiro/precip/precip-total_AGCD-CSIRO_r005_19390101-19391231_daily.nc\n"
     ]
    },
    {
     "name": "stdout",
     "output_type": "stream",
     "text": [
      "/g/data/xv83/agcd-csiro/precip/precip-total_AGCD-CSIRO_r005_19400101-19401231_daily.nc\n"
     ]
    },
    {
     "name": "stdout",
     "output_type": "stream",
     "text": [
      "/g/data/xv83/agcd-csiro/precip/precip-total_AGCD-CSIRO_r005_19410101-19411231_daily.nc\n"
     ]
    },
    {
     "name": "stdout",
     "output_type": "stream",
     "text": [
      "/g/data/xv83/agcd-csiro/precip/precip-total_AGCD-CSIRO_r005_19420101-19421231_daily.nc\n"
     ]
    },
    {
     "name": "stdout",
     "output_type": "stream",
     "text": [
      "/g/data/xv83/agcd-csiro/precip/precip-total_AGCD-CSIRO_r005_19430101-19431231_daily.nc\n"
     ]
    },
    {
     "name": "stdout",
     "output_type": "stream",
     "text": [
      "/g/data/xv83/agcd-csiro/precip/precip-total_AGCD-CSIRO_r005_19440101-19441231_daily.nc\n"
     ]
    },
    {
     "name": "stdout",
     "output_type": "stream",
     "text": [
      "/g/data/xv83/agcd-csiro/precip/precip-total_AGCD-CSIRO_r005_19450101-19451231_daily.nc\n"
     ]
    },
    {
     "name": "stdout",
     "output_type": "stream",
     "text": [
      "/g/data/xv83/agcd-csiro/precip/precip-total_AGCD-CSIRO_r005_19460101-19461231_daily.nc\n"
     ]
    },
    {
     "name": "stdout",
     "output_type": "stream",
     "text": [
      "/g/data/xv83/agcd-csiro/precip/precip-total_AGCD-CSIRO_r005_19470101-19471231_daily.nc\n"
     ]
    },
    {
     "name": "stdout",
     "output_type": "stream",
     "text": [
      "/g/data/xv83/agcd-csiro/precip/precip-total_AGCD-CSIRO_r005_19480101-19481231_daily.nc\n"
     ]
    },
    {
     "name": "stdout",
     "output_type": "stream",
     "text": [
      "/g/data/xv83/agcd-csiro/precip/precip-total_AGCD-CSIRO_r005_19490101-19491231_daily.nc\n"
     ]
    },
    {
     "name": "stdout",
     "output_type": "stream",
     "text": [
      "/g/data/xv83/agcd-csiro/precip/precip-total_AGCD-CSIRO_r005_19500101-19501231_daily.nc\n"
     ]
    },
    {
     "name": "stdout",
     "output_type": "stream",
     "text": [
      "/g/data/xv83/agcd-csiro/precip/precip-total_AGCD-CSIRO_r005_19510101-19511231_daily.nc\n"
     ]
    },
    {
     "name": "stdout",
     "output_type": "stream",
     "text": [
      "/g/data/xv83/agcd-csiro/precip/precip-total_AGCD-CSIRO_r005_19520101-19521231_daily.nc\n"
     ]
    },
    {
     "name": "stdout",
     "output_type": "stream",
     "text": [
      "/g/data/xv83/agcd-csiro/precip/precip-total_AGCD-CSIRO_r005_19530101-19531231_daily.nc\n"
     ]
    },
    {
     "name": "stdout",
     "output_type": "stream",
     "text": [
      "/g/data/xv83/agcd-csiro/precip/precip-total_AGCD-CSIRO_r005_19540101-19541231_daily.nc\n"
     ]
    },
    {
     "name": "stdout",
     "output_type": "stream",
     "text": [
      "/g/data/xv83/agcd-csiro/precip/precip-total_AGCD-CSIRO_r005_19550101-19551231_daily.nc\n"
     ]
    },
    {
     "name": "stdout",
     "output_type": "stream",
     "text": [
      "/g/data/xv83/agcd-csiro/precip/precip-total_AGCD-CSIRO_r005_19560101-19561231_daily.nc\n"
     ]
    },
    {
     "name": "stdout",
     "output_type": "stream",
     "text": [
      "/g/data/xv83/agcd-csiro/precip/precip-total_AGCD-CSIRO_r005_19570101-19571231_daily.nc\n"
     ]
    },
    {
     "name": "stdout",
     "output_type": "stream",
     "text": [
      "/g/data/xv83/agcd-csiro/precip/precip-total_AGCD-CSIRO_r005_19580101-19581231_daily.nc\n"
     ]
    },
    {
     "name": "stdout",
     "output_type": "stream",
     "text": [
      "/g/data/xv83/agcd-csiro/precip/precip-total_AGCD-CSIRO_r005_19590101-19591231_daily.nc\n"
     ]
    },
    {
     "name": "stdout",
     "output_type": "stream",
     "text": [
      "/g/data/xv83/agcd-csiro/precip/precip-total_AGCD-CSIRO_r005_19600101-19601231_daily.nc\n"
     ]
    },
    {
     "name": "stdout",
     "output_type": "stream",
     "text": [
      "/g/data/xv83/agcd-csiro/precip/precip-total_AGCD-CSIRO_r005_19610101-19611231_daily.nc\n"
     ]
    },
    {
     "name": "stdout",
     "output_type": "stream",
     "text": [
      "/g/data/xv83/agcd-csiro/precip/precip-total_AGCD-CSIRO_r005_19620101-19621231_daily.nc\n"
     ]
    },
    {
     "name": "stdout",
     "output_type": "stream",
     "text": [
      "/g/data/xv83/agcd-csiro/precip/precip-total_AGCD-CSIRO_r005_19630101-19631231_daily.nc\n"
     ]
    },
    {
     "name": "stdout",
     "output_type": "stream",
     "text": [
      "/g/data/xv83/agcd-csiro/precip/precip-total_AGCD-CSIRO_r005_19640101-19641231_daily.nc\n"
     ]
    },
    {
     "name": "stdout",
     "output_type": "stream",
     "text": [
      "/g/data/xv83/agcd-csiro/precip/precip-total_AGCD-CSIRO_r005_19650101-19651231_daily.nc\n"
     ]
    },
    {
     "name": "stdout",
     "output_type": "stream",
     "text": [
      "/g/data/xv83/agcd-csiro/precip/precip-total_AGCD-CSIRO_r005_19660101-19661231_daily.nc\n"
     ]
    },
    {
     "name": "stdout",
     "output_type": "stream",
     "text": [
      "/g/data/xv83/agcd-csiro/precip/precip-total_AGCD-CSIRO_r005_19670101-19671231_daily.nc\n"
     ]
    },
    {
     "name": "stdout",
     "output_type": "stream",
     "text": [
      "/g/data/xv83/agcd-csiro/precip/precip-total_AGCD-CSIRO_r005_19680101-19681231_daily.nc\n"
     ]
    },
    {
     "name": "stdout",
     "output_type": "stream",
     "text": [
      "/g/data/xv83/agcd-csiro/precip/precip-total_AGCD-CSIRO_r005_19690101-19691231_daily.nc\n"
     ]
    },
    {
     "name": "stdout",
     "output_type": "stream",
     "text": [
      "/g/data/xv83/agcd-csiro/precip/precip-total_AGCD-CSIRO_r005_19700101-19701231_daily.nc\n"
     ]
    },
    {
     "name": "stdout",
     "output_type": "stream",
     "text": [
      "/g/data/xv83/agcd-csiro/precip/precip-total_AGCD-CSIRO_r005_19710101-19711231_daily.nc\n"
     ]
    },
    {
     "name": "stdout",
     "output_type": "stream",
     "text": [
      "/g/data/xv83/agcd-csiro/precip/precip-total_AGCD-CSIRO_r005_19720101-19721231_daily.nc\n"
     ]
    },
    {
     "name": "stdout",
     "output_type": "stream",
     "text": [
      "/g/data/xv83/agcd-csiro/precip/precip-total_AGCD-CSIRO_r005_19730101-19731231_daily.nc\n"
     ]
    },
    {
     "name": "stdout",
     "output_type": "stream",
     "text": [
      "/g/data/xv83/agcd-csiro/precip/precip-total_AGCD-CSIRO_r005_19740101-19741231_daily.nc\n"
     ]
    },
    {
     "name": "stdout",
     "output_type": "stream",
     "text": [
      "/g/data/xv83/agcd-csiro/precip/precip-total_AGCD-CSIRO_r005_19750101-19751231_daily.nc\n"
     ]
    },
    {
     "name": "stdout",
     "output_type": "stream",
     "text": [
      "/g/data/xv83/agcd-csiro/precip/precip-total_AGCD-CSIRO_r005_19760101-19761231_daily.nc\n"
     ]
    },
    {
     "name": "stdout",
     "output_type": "stream",
     "text": [
      "/g/data/xv83/agcd-csiro/precip/precip-total_AGCD-CSIRO_r005_19770101-19771231_daily.nc\n"
     ]
    },
    {
     "name": "stdout",
     "output_type": "stream",
     "text": [
      "/g/data/xv83/agcd-csiro/precip/precip-total_AGCD-CSIRO_r005_19780101-19781231_daily.nc\n"
     ]
    },
    {
     "name": "stdout",
     "output_type": "stream",
     "text": [
      "/g/data/xv83/agcd-csiro/precip/precip-total_AGCD-CSIRO_r005_19790101-19791231_daily.nc\n"
     ]
    },
    {
     "name": "stdout",
     "output_type": "stream",
     "text": [
      "/g/data/xv83/agcd-csiro/precip/precip-total_AGCD-CSIRO_r005_19800101-19801231_daily.nc\n"
     ]
    },
    {
     "name": "stdout",
     "output_type": "stream",
     "text": [
      "/g/data/xv83/agcd-csiro/precip/precip-total_AGCD-CSIRO_r005_19810101-19811231_daily.nc\n"
     ]
    },
    {
     "name": "stdout",
     "output_type": "stream",
     "text": [
      "/g/data/xv83/agcd-csiro/precip/precip-total_AGCD-CSIRO_r005_19820101-19821231_daily.nc\n"
     ]
    },
    {
     "name": "stdout",
     "output_type": "stream",
     "text": [
      "/g/data/xv83/agcd-csiro/precip/precip-total_AGCD-CSIRO_r005_19830101-19831231_daily.nc\n"
     ]
    },
    {
     "name": "stdout",
     "output_type": "stream",
     "text": [
      "/g/data/xv83/agcd-csiro/precip/precip-total_AGCD-CSIRO_r005_19840101-19841231_daily.nc\n"
     ]
    },
    {
     "name": "stdout",
     "output_type": "stream",
     "text": [
      "/g/data/xv83/agcd-csiro/precip/precip-total_AGCD-CSIRO_r005_19850101-19851231_daily.nc\n"
     ]
    },
    {
     "name": "stdout",
     "output_type": "stream",
     "text": [
      "/g/data/xv83/agcd-csiro/precip/precip-total_AGCD-CSIRO_r005_19860101-19861231_daily.nc\n"
     ]
    },
    {
     "name": "stdout",
     "output_type": "stream",
     "text": [
      "/g/data/xv83/agcd-csiro/precip/precip-total_AGCD-CSIRO_r005_19870101-19871231_daily.nc\n"
     ]
    },
    {
     "name": "stdout",
     "output_type": "stream",
     "text": [
      "/g/data/xv83/agcd-csiro/precip/precip-total_AGCD-CSIRO_r005_19880101-19881231_daily.nc\n"
     ]
    },
    {
     "name": "stdout",
     "output_type": "stream",
     "text": [
      "/g/data/xv83/agcd-csiro/precip/precip-total_AGCD-CSIRO_r005_19890101-19891231_daily.nc\n"
     ]
    },
    {
     "name": "stdout",
     "output_type": "stream",
     "text": [
      "/g/data/xv83/agcd-csiro/precip/precip-total_AGCD-CSIRO_r005_19900101-19901231_daily.nc\n"
     ]
    },
    {
     "name": "stdout",
     "output_type": "stream",
     "text": [
      "/g/data/xv83/agcd-csiro/precip/precip-total_AGCD-CSIRO_r005_19910101-19911231_daily.nc\n"
     ]
    },
    {
     "name": "stdout",
     "output_type": "stream",
     "text": [
      "/g/data/xv83/agcd-csiro/precip/precip-total_AGCD-CSIRO_r005_19920101-19921231_daily.nc\n"
     ]
    },
    {
     "name": "stdout",
     "output_type": "stream",
     "text": [
      "/g/data/xv83/agcd-csiro/precip/precip-total_AGCD-CSIRO_r005_19930101-19931231_daily.nc\n"
     ]
    },
    {
     "name": "stdout",
     "output_type": "stream",
     "text": [
      "/g/data/xv83/agcd-csiro/precip/precip-total_AGCD-CSIRO_r005_19940101-19941231_daily.nc\n"
     ]
    },
    {
     "name": "stdout",
     "output_type": "stream",
     "text": [
      "/g/data/xv83/agcd-csiro/precip/precip-total_AGCD-CSIRO_r005_19950101-19951231_daily.nc\n"
     ]
    },
    {
     "name": "stdout",
     "output_type": "stream",
     "text": [
      "/g/data/xv83/agcd-csiro/precip/precip-total_AGCD-CSIRO_r005_19960101-19961231_daily.nc\n"
     ]
    },
    {
     "name": "stdout",
     "output_type": "stream",
     "text": [
      "/g/data/xv83/agcd-csiro/precip/precip-total_AGCD-CSIRO_r005_19970101-19971231_daily.nc\n"
     ]
    },
    {
     "name": "stdout",
     "output_type": "stream",
     "text": [
      "/g/data/xv83/agcd-csiro/precip/precip-total_AGCD-CSIRO_r005_19980101-19981231_daily.nc\n"
     ]
    },
    {
     "name": "stdout",
     "output_type": "stream",
     "text": [
      "/g/data/xv83/agcd-csiro/precip/precip-total_AGCD-CSIRO_r005_19990101-19991231_daily.nc\n"
     ]
    },
    {
     "name": "stdout",
     "output_type": "stream",
     "text": [
      "/g/data/xv83/agcd-csiro/precip/precip-total_AGCD-CSIRO_r005_20000101-20001231_daily.nc\n"
     ]
    },
    {
     "name": "stdout",
     "output_type": "stream",
     "text": [
      "/g/data/xv83/agcd-csiro/precip/precip-total_AGCD-CSIRO_r005_20010101-20011231_daily.nc\n"
     ]
    },
    {
     "name": "stdout",
     "output_type": "stream",
     "text": [
      "/g/data/xv83/agcd-csiro/precip/precip-total_AGCD-CSIRO_r005_20020101-20021231_daily.nc\n"
     ]
    },
    {
     "name": "stdout",
     "output_type": "stream",
     "text": [
      "/g/data/xv83/agcd-csiro/precip/precip-total_AGCD-CSIRO_r005_20030101-20031231_daily.nc\n"
     ]
    },
    {
     "name": "stdout",
     "output_type": "stream",
     "text": [
      "/g/data/xv83/agcd-csiro/precip/precip-total_AGCD-CSIRO_r005_20040101-20041231_daily.nc\n"
     ]
    },
    {
     "name": "stdout",
     "output_type": "stream",
     "text": [
      "/g/data/xv83/agcd-csiro/precip/precip-total_AGCD-CSIRO_r005_20050101-20051231_daily.nc\n"
     ]
    },
    {
     "name": "stdout",
     "output_type": "stream",
     "text": [
      "/g/data/xv83/agcd-csiro/precip/precip-total_AGCD-CSIRO_r005_20060101-20061231_daily.nc\n"
     ]
    },
    {
     "name": "stdout",
     "output_type": "stream",
     "text": [
      "/g/data/xv83/agcd-csiro/precip/precip-total_AGCD-CSIRO_r005_20070101-20071231_daily.nc\n"
     ]
    },
    {
     "name": "stdout",
     "output_type": "stream",
     "text": [
      "/g/data/xv83/agcd-csiro/precip/precip-total_AGCD-CSIRO_r005_20080101-20081231_daily.nc\n"
     ]
    },
    {
     "name": "stdout",
     "output_type": "stream",
     "text": [
      "/g/data/xv83/agcd-csiro/precip/precip-total_AGCD-CSIRO_r005_20090101-20091231_daily.nc\n"
     ]
    },
    {
     "name": "stdout",
     "output_type": "stream",
     "text": [
      "/g/data/xv83/agcd-csiro/precip/precip-total_AGCD-CSIRO_r005_20100101-20101231_daily.nc\n"
     ]
    },
    {
     "name": "stdout",
     "output_type": "stream",
     "text": [
      "/g/data/xv83/agcd-csiro/precip/precip-total_AGCD-CSIRO_r005_20110101-20111231_daily.nc\n"
     ]
    },
    {
     "name": "stdout",
     "output_type": "stream",
     "text": [
      "/g/data/xv83/agcd-csiro/precip/precip-total_AGCD-CSIRO_r005_20120101-20121231_daily.nc\n"
     ]
    },
    {
     "name": "stdout",
     "output_type": "stream",
     "text": [
      "/g/data/xv83/agcd-csiro/precip/precip-total_AGCD-CSIRO_r005_20130101-20131231_daily.nc\n"
     ]
    },
    {
     "name": "stdout",
     "output_type": "stream",
     "text": [
      "/g/data/xv83/agcd-csiro/precip/precip-total_AGCD-CSIRO_r005_20140101-20141231_daily.nc\n"
     ]
    },
    {
     "name": "stdout",
     "output_type": "stream",
     "text": [
      "/g/data/xv83/agcd-csiro/precip/precip-total_AGCD-CSIRO_r005_20150101-20151231_daily.nc\n"
     ]
    },
    {
     "name": "stdout",
     "output_type": "stream",
     "text": [
      "/g/data/xv83/agcd-csiro/precip/precip-total_AGCD-CSIRO_r005_20160101-20161231_daily.nc\n"
     ]
    },
    {
     "name": "stdout",
     "output_type": "stream",
     "text": [
      "/g/data/xv83/agcd-csiro/precip/precip-total_AGCD-CSIRO_r005_20170101-20171231_daily.nc\n"
     ]
    },
    {
     "name": "stdout",
     "output_type": "stream",
     "text": [
      "/g/data/xv83/agcd-csiro/precip/precip-total_AGCD-CSIRO_r005_20180101-20181231_daily.nc\n"
     ]
    },
    {
     "name": "stdout",
     "output_type": "stream",
     "text": [
      "/g/data/xv83/agcd-csiro/precip/precip-total_AGCD-CSIRO_r005_20190101-20220322_daily.nc\n"
     ]
    }
   ],
   "source": [
    "ds_list = []\n",
    "for infile in agcd_files:\n",
    "    print(infile)\n",
    "    ds = fileio.open_dataset(\n",
    "        infile,\n",
    "        metadata_file=metadata_file,\n",
    "        shapefile=shapefile,\n",
    "        variables=['pr'],\n",
    "        spatial_agg='mean', \n",
    "    )\n",
    "    ds = ds.compute()\n",
    "    ds_list.append(ds)"
   ]
  },
  {
   "cell_type": "code",
   "execution_count": 8,
   "id": "7213812f",
   "metadata": {
    "execution": {
     "iopub.execute_input": "2022-03-31T23:42:36.455190Z",
     "iopub.status.busy": "2022-03-31T23:42:36.452632Z",
     "iopub.status.idle": "2022-03-31T23:42:36.519335Z",
     "shell.execute_reply": "2022-03-31T23:42:36.518096Z"
    },
    "papermill": {
     "duration": 0.199323,
     "end_time": "2022-03-31T23:42:36.519675",
     "exception": false,
     "start_time": "2022-03-31T23:42:36.320352",
     "status": "completed"
    },
    "tags": []
   },
   "outputs": [],
   "source": [
    "ds = xr.concat(ds_list, dim='time')"
   ]
  },
  {
   "cell_type": "code",
   "execution_count": 9,
   "id": "77e7f0b3",
   "metadata": {
    "execution": {
     "iopub.execute_input": "2022-03-31T23:42:36.698066Z",
     "iopub.status.busy": "2022-03-31T23:42:36.694139Z",
     "iopub.status.idle": "2022-03-31T23:42:36.733620Z",
     "shell.execute_reply": "2022-03-31T23:42:36.732299Z"
    },
    "papermill": {
     "duration": 0.132584,
     "end_time": "2022-03-31T23:42:36.734026",
     "exception": false,
     "start_time": "2022-03-31T23:42:36.601442",
     "status": "completed"
    },
    "tags": []
   },
   "outputs": [
    {
     "data": {
      "text/html": [
       "<div><svg style=\"position: absolute; width: 0; height: 0; overflow: hidden\">\n",
       "<defs>\n",
       "<symbol id=\"icon-database\" viewBox=\"0 0 32 32\">\n",
       "<path d=\"M16 0c-8.837 0-16 2.239-16 5v4c0 2.761 7.163 5 16 5s16-2.239 16-5v-4c0-2.761-7.163-5-16-5z\"></path>\n",
       "<path d=\"M16 17c-8.837 0-16-2.239-16-5v6c0 2.761 7.163 5 16 5s16-2.239 16-5v-6c0 2.761-7.163 5-16 5z\"></path>\n",
       "<path d=\"M16 26c-8.837 0-16-2.239-16-5v6c0 2.761 7.163 5 16 5s16-2.239 16-5v-6c0 2.761-7.163 5-16 5z\"></path>\n",
       "</symbol>\n",
       "<symbol id=\"icon-file-text2\" viewBox=\"0 0 32 32\">\n",
       "<path d=\"M28.681 7.159c-0.694-0.947-1.662-2.053-2.724-3.116s-2.169-2.030-3.116-2.724c-1.612-1.182-2.393-1.319-2.841-1.319h-15.5c-1.378 0-2.5 1.121-2.5 2.5v27c0 1.378 1.122 2.5 2.5 2.5h23c1.378 0 2.5-1.122 2.5-2.5v-19.5c0-0.448-0.137-1.23-1.319-2.841zM24.543 5.457c0.959 0.959 1.712 1.825 2.268 2.543h-4.811v-4.811c0.718 0.556 1.584 1.309 2.543 2.268zM28 29.5c0 0.271-0.229 0.5-0.5 0.5h-23c-0.271 0-0.5-0.229-0.5-0.5v-27c0-0.271 0.229-0.5 0.5-0.5 0 0 15.499-0 15.5 0v7c0 0.552 0.448 1 1 1h7v19.5z\"></path>\n",
       "<path d=\"M23 26h-14c-0.552 0-1-0.448-1-1s0.448-1 1-1h14c0.552 0 1 0.448 1 1s-0.448 1-1 1z\"></path>\n",
       "<path d=\"M23 22h-14c-0.552 0-1-0.448-1-1s0.448-1 1-1h14c0.552 0 1 0.448 1 1s-0.448 1-1 1z\"></path>\n",
       "<path d=\"M23 18h-14c-0.552 0-1-0.448-1-1s0.448-1 1-1h14c0.552 0 1 0.448 1 1s-0.448 1-1 1z\"></path>\n",
       "</symbol>\n",
       "</defs>\n",
       "</svg>\n",
       "<style>/* CSS stylesheet for displaying xarray objects in jupyterlab.\n",
       " *\n",
       " */\n",
       "\n",
       ":root {\n",
       "  --xr-font-color0: var(--jp-content-font-color0, rgba(0, 0, 0, 1));\n",
       "  --xr-font-color2: var(--jp-content-font-color2, rgba(0, 0, 0, 0.54));\n",
       "  --xr-font-color3: var(--jp-content-font-color3, rgba(0, 0, 0, 0.38));\n",
       "  --xr-border-color: var(--jp-border-color2, #e0e0e0);\n",
       "  --xr-disabled-color: var(--jp-layout-color3, #bdbdbd);\n",
       "  --xr-background-color: var(--jp-layout-color0, white);\n",
       "  --xr-background-color-row-even: var(--jp-layout-color1, white);\n",
       "  --xr-background-color-row-odd: var(--jp-layout-color2, #eeeeee);\n",
       "}\n",
       "\n",
       "html[theme=dark],\n",
       "body.vscode-dark {\n",
       "  --xr-font-color0: rgba(255, 255, 255, 1);\n",
       "  --xr-font-color2: rgba(255, 255, 255, 0.54);\n",
       "  --xr-font-color3: rgba(255, 255, 255, 0.38);\n",
       "  --xr-border-color: #1F1F1F;\n",
       "  --xr-disabled-color: #515151;\n",
       "  --xr-background-color: #111111;\n",
       "  --xr-background-color-row-even: #111111;\n",
       "  --xr-background-color-row-odd: #313131;\n",
       "}\n",
       "\n",
       ".xr-wrap {\n",
       "  display: block !important;\n",
       "  min-width: 300px;\n",
       "  max-width: 700px;\n",
       "}\n",
       "\n",
       ".xr-text-repr-fallback {\n",
       "  /* fallback to plain text repr when CSS is not injected (untrusted notebook) */\n",
       "  display: none;\n",
       "}\n",
       "\n",
       ".xr-header {\n",
       "  padding-top: 6px;\n",
       "  padding-bottom: 6px;\n",
       "  margin-bottom: 4px;\n",
       "  border-bottom: solid 1px var(--xr-border-color);\n",
       "}\n",
       "\n",
       ".xr-header > div,\n",
       ".xr-header > ul {\n",
       "  display: inline;\n",
       "  margin-top: 0;\n",
       "  margin-bottom: 0;\n",
       "}\n",
       "\n",
       ".xr-obj-type,\n",
       ".xr-array-name {\n",
       "  margin-left: 2px;\n",
       "  margin-right: 10px;\n",
       "}\n",
       "\n",
       ".xr-obj-type {\n",
       "  color: var(--xr-font-color2);\n",
       "}\n",
       "\n",
       ".xr-sections {\n",
       "  padding-left: 0 !important;\n",
       "  display: grid;\n",
       "  grid-template-columns: 150px auto auto 1fr 20px 20px;\n",
       "}\n",
       "\n",
       ".xr-section-item {\n",
       "  display: contents;\n",
       "}\n",
       "\n",
       ".xr-section-item input {\n",
       "  display: none;\n",
       "}\n",
       "\n",
       ".xr-section-item input + label {\n",
       "  color: var(--xr-disabled-color);\n",
       "}\n",
       "\n",
       ".xr-section-item input:enabled + label {\n",
       "  cursor: pointer;\n",
       "  color: var(--xr-font-color2);\n",
       "}\n",
       "\n",
       ".xr-section-item input:enabled + label:hover {\n",
       "  color: var(--xr-font-color0);\n",
       "}\n",
       "\n",
       ".xr-section-summary {\n",
       "  grid-column: 1;\n",
       "  color: var(--xr-font-color2);\n",
       "  font-weight: 500;\n",
       "}\n",
       "\n",
       ".xr-section-summary > span {\n",
       "  display: inline-block;\n",
       "  padding-left: 0.5em;\n",
       "}\n",
       "\n",
       ".xr-section-summary-in:disabled + label {\n",
       "  color: var(--xr-font-color2);\n",
       "}\n",
       "\n",
       ".xr-section-summary-in + label:before {\n",
       "  display: inline-block;\n",
       "  content: '►';\n",
       "  font-size: 11px;\n",
       "  width: 15px;\n",
       "  text-align: center;\n",
       "}\n",
       "\n",
       ".xr-section-summary-in:disabled + label:before {\n",
       "  color: var(--xr-disabled-color);\n",
       "}\n",
       "\n",
       ".xr-section-summary-in:checked + label:before {\n",
       "  content: '▼';\n",
       "}\n",
       "\n",
       ".xr-section-summary-in:checked + label > span {\n",
       "  display: none;\n",
       "}\n",
       "\n",
       ".xr-section-summary,\n",
       ".xr-section-inline-details {\n",
       "  padding-top: 4px;\n",
       "  padding-bottom: 4px;\n",
       "}\n",
       "\n",
       ".xr-section-inline-details {\n",
       "  grid-column: 2 / -1;\n",
       "}\n",
       "\n",
       ".xr-section-details {\n",
       "  display: none;\n",
       "  grid-column: 1 / -1;\n",
       "  margin-bottom: 5px;\n",
       "}\n",
       "\n",
       ".xr-section-summary-in:checked ~ .xr-section-details {\n",
       "  display: contents;\n",
       "}\n",
       "\n",
       ".xr-array-wrap {\n",
       "  grid-column: 1 / -1;\n",
       "  display: grid;\n",
       "  grid-template-columns: 20px auto;\n",
       "}\n",
       "\n",
       ".xr-array-wrap > label {\n",
       "  grid-column: 1;\n",
       "  vertical-align: top;\n",
       "}\n",
       "\n",
       ".xr-preview {\n",
       "  color: var(--xr-font-color3);\n",
       "}\n",
       "\n",
       ".xr-array-preview,\n",
       ".xr-array-data {\n",
       "  padding: 0 5px !important;\n",
       "  grid-column: 2;\n",
       "}\n",
       "\n",
       ".xr-array-data,\n",
       ".xr-array-in:checked ~ .xr-array-preview {\n",
       "  display: none;\n",
       "}\n",
       "\n",
       ".xr-array-in:checked ~ .xr-array-data,\n",
       ".xr-array-preview {\n",
       "  display: inline-block;\n",
       "}\n",
       "\n",
       ".xr-dim-list {\n",
       "  display: inline-block !important;\n",
       "  list-style: none;\n",
       "  padding: 0 !important;\n",
       "  margin: 0;\n",
       "}\n",
       "\n",
       ".xr-dim-list li {\n",
       "  display: inline-block;\n",
       "  padding: 0;\n",
       "  margin: 0;\n",
       "}\n",
       "\n",
       ".xr-dim-list:before {\n",
       "  content: '(';\n",
       "}\n",
       "\n",
       ".xr-dim-list:after {\n",
       "  content: ')';\n",
       "}\n",
       "\n",
       ".xr-dim-list li:not(:last-child):after {\n",
       "  content: ',';\n",
       "  padding-right: 5px;\n",
       "}\n",
       "\n",
       ".xr-has-index {\n",
       "  font-weight: bold;\n",
       "}\n",
       "\n",
       ".xr-var-list,\n",
       ".xr-var-item {\n",
       "  display: contents;\n",
       "}\n",
       "\n",
       ".xr-var-item > div,\n",
       ".xr-var-item label,\n",
       ".xr-var-item > .xr-var-name span {\n",
       "  background-color: var(--xr-background-color-row-even);\n",
       "  margin-bottom: 0;\n",
       "}\n",
       "\n",
       ".xr-var-item > .xr-var-name:hover span {\n",
       "  padding-right: 5px;\n",
       "}\n",
       "\n",
       ".xr-var-list > li:nth-child(odd) > div,\n",
       ".xr-var-list > li:nth-child(odd) > label,\n",
       ".xr-var-list > li:nth-child(odd) > .xr-var-name span {\n",
       "  background-color: var(--xr-background-color-row-odd);\n",
       "}\n",
       "\n",
       ".xr-var-name {\n",
       "  grid-column: 1;\n",
       "}\n",
       "\n",
       ".xr-var-dims {\n",
       "  grid-column: 2;\n",
       "}\n",
       "\n",
       ".xr-var-dtype {\n",
       "  grid-column: 3;\n",
       "  text-align: right;\n",
       "  color: var(--xr-font-color2);\n",
       "}\n",
       "\n",
       ".xr-var-preview {\n",
       "  grid-column: 4;\n",
       "}\n",
       "\n",
       ".xr-var-name,\n",
       ".xr-var-dims,\n",
       ".xr-var-dtype,\n",
       ".xr-preview,\n",
       ".xr-attrs dt {\n",
       "  white-space: nowrap;\n",
       "  overflow: hidden;\n",
       "  text-overflow: ellipsis;\n",
       "  padding-right: 10px;\n",
       "}\n",
       "\n",
       ".xr-var-name:hover,\n",
       ".xr-var-dims:hover,\n",
       ".xr-var-dtype:hover,\n",
       ".xr-attrs dt:hover {\n",
       "  overflow: visible;\n",
       "  width: auto;\n",
       "  z-index: 1;\n",
       "}\n",
       "\n",
       ".xr-var-attrs,\n",
       ".xr-var-data {\n",
       "  display: none;\n",
       "  background-color: var(--xr-background-color) !important;\n",
       "  padding-bottom: 5px !important;\n",
       "}\n",
       "\n",
       ".xr-var-attrs-in:checked ~ .xr-var-attrs,\n",
       ".xr-var-data-in:checked ~ .xr-var-data {\n",
       "  display: block;\n",
       "}\n",
       "\n",
       ".xr-var-data > table {\n",
       "  float: right;\n",
       "}\n",
       "\n",
       ".xr-var-name span,\n",
       ".xr-var-data,\n",
       ".xr-attrs {\n",
       "  padding-left: 25px !important;\n",
       "}\n",
       "\n",
       ".xr-attrs,\n",
       ".xr-var-attrs,\n",
       ".xr-var-data {\n",
       "  grid-column: 1 / -1;\n",
       "}\n",
       "\n",
       "dl.xr-attrs {\n",
       "  padding: 0;\n",
       "  margin: 0;\n",
       "  display: grid;\n",
       "  grid-template-columns: 125px auto;\n",
       "}\n",
       "\n",
       ".xr-attrs dt,\n",
       ".xr-attrs dd {\n",
       "  padding: 0;\n",
       "  margin: 0;\n",
       "  float: left;\n",
       "  padding-right: 10px;\n",
       "  width: auto;\n",
       "}\n",
       "\n",
       ".xr-attrs dt {\n",
       "  font-weight: normal;\n",
       "  grid-column: 1;\n",
       "}\n",
       "\n",
       ".xr-attrs dt:hover span {\n",
       "  display: inline-block;\n",
       "  background: var(--xr-background-color);\n",
       "  padding-right: 10px;\n",
       "}\n",
       "\n",
       ".xr-attrs dd {\n",
       "  grid-column: 2;\n",
       "  white-space: pre-wrap;\n",
       "  word-break: break-all;\n",
       "}\n",
       "\n",
       ".xr-icon-database,\n",
       ".xr-icon-file-text2 {\n",
       "  display: inline-block;\n",
       "  vertical-align: middle;\n",
       "  width: 1em;\n",
       "  height: 1.5em !important;\n",
       "  stroke-width: 0;\n",
       "  stroke: currentColor;\n",
       "  fill: currentColor;\n",
       "}\n",
       "</style><pre class='xr-text-repr-fallback'>&lt;xarray.Dataset&gt;\n",
       "Dimensions:  (time: 44641)\n",
       "Coordinates:\n",
       "  * time     (time) object 1900-01-01 09:00:00 ... 2022-03-22 09:00:00\n",
       "Data variables:\n",
       "    pr       (time) float32 2.084 0.2928 0.1212 0.4116 ... 3.719 0.1759 0.0233\n",
       "Attributes: (12/33)\n",
       "    CDI:                           Climate Data Interface version ?? (http://...\n",
       "    history:                       Tue Sep 03 14:23:23 2019: cdo -O -z zip_4 ...\n",
       "    institution:                   Australian Bureau of Meteorology, GPO Box ...\n",
       "    Conventions:                   CF-1.6\n",
       "    geospatial_lat_min:            -44.525\n",
       "    geospatial_lat_max:            -9.975\n",
       "    ...                            ...\n",
       "    url:                           http://www.bom.gov.au/climate/\n",
       "    licence:                       Copyright for any data supplied by the Bur...\n",
       "    id:                            Australian Gridded Climate Data (AGCD)\n",
       "    summary:                       The daily and monthly rainfall data repres...\n",
       "    naming_authority:              au.gov.bom\n",
       "    CDO:                           Climate Data Operators version 1.7.0 (http...</pre><div class='xr-wrap' style='display:none'><div class='xr-header'><div class='xr-obj-type'>xarray.Dataset</div></div><ul class='xr-sections'><li class='xr-section-item'><input id='section-79fe2b16-913d-43ae-a1c5-973e6403e0fb' class='xr-section-summary-in' type='checkbox' disabled ><label for='section-79fe2b16-913d-43ae-a1c5-973e6403e0fb' class='xr-section-summary'  title='Expand/collapse section'>Dimensions:</label><div class='xr-section-inline-details'><ul class='xr-dim-list'><li><span class='xr-has-index'>time</span>: 44641</li></ul></div><div class='xr-section-details'></div></li><li class='xr-section-item'><input id='section-8dde35e4-8e49-4625-bc91-7d91025fb5d5' class='xr-section-summary-in' type='checkbox'  checked><label for='section-8dde35e4-8e49-4625-bc91-7d91025fb5d5' class='xr-section-summary' >Coordinates: <span>(1)</span></label><div class='xr-section-inline-details'></div><div class='xr-section-details'><ul class='xr-var-list'><li class='xr-var-item'><div class='xr-var-name'><span class='xr-has-index'>time</span></div><div class='xr-var-dims'>(time)</div><div class='xr-var-dtype'>object</div><div class='xr-var-preview xr-preview'>1900-01-01 09:00:00 ... 2022-03-...</div><input id='attrs-a486c89a-4dbf-4f63-aa37-81355782ee0e' class='xr-var-attrs-in' type='checkbox' disabled><label for='attrs-a486c89a-4dbf-4f63-aa37-81355782ee0e' title='Show/Hide attributes'><svg class='icon xr-icon-file-text2'><use xlink:href='#icon-file-text2'></use></svg></label><input id='data-b0a30a2f-e3ae-4642-aa2a-5485a887b662' class='xr-var-data-in' type='checkbox'><label for='data-b0a30a2f-e3ae-4642-aa2a-5485a887b662' title='Show/Hide data repr'><svg class='icon xr-icon-database'><use xlink:href='#icon-database'></use></svg></label><div class='xr-var-attrs'><dl class='xr-attrs'></dl></div><div class='xr-var-data'><pre>array([cftime.DatetimeGregorian(1900, 1, 1, 9, 0, 0, 0, has_year_zero=False),\n",
       "       cftime.DatetimeGregorian(1900, 1, 2, 9, 0, 0, 0, has_year_zero=False),\n",
       "       cftime.DatetimeGregorian(1900, 1, 3, 9, 0, 0, 0, has_year_zero=False),\n",
       "       ...,\n",
       "       cftime.DatetimeGregorian(2022, 3, 20, 9, 0, 0, 0, has_year_zero=False),\n",
       "       cftime.DatetimeGregorian(2022, 3, 21, 9, 0, 0, 0, has_year_zero=False),\n",
       "       cftime.DatetimeGregorian(2022, 3, 22, 9, 0, 0, 0, has_year_zero=False)],\n",
       "      dtype=object)</pre></div></li></ul></div></li><li class='xr-section-item'><input id='section-54cd3256-9e8d-400e-a477-391743594dde' class='xr-section-summary-in' type='checkbox'  checked><label for='section-54cd3256-9e8d-400e-a477-391743594dde' class='xr-section-summary' >Data variables: <span>(1)</span></label><div class='xr-section-inline-details'></div><div class='xr-section-details'><ul class='xr-var-list'><li class='xr-var-item'><div class='xr-var-name'><span>pr</span></div><div class='xr-var-dims'>(time)</div><div class='xr-var-dtype'>float32</div><div class='xr-var-preview xr-preview'>2.084 0.2928 ... 0.1759 0.0233</div><input id='attrs-a339ae91-e915-4ec2-bd20-aa5e50fd4031' class='xr-var-attrs-in' type='checkbox' ><label for='attrs-a339ae91-e915-4ec2-bd20-aa5e50fd4031' title='Show/Hide attributes'><svg class='icon xr-icon-file-text2'><use xlink:href='#icon-file-text2'></use></svg></label><input id='data-7f832b29-70ec-4c8a-b7e4-6bbb6b281719' class='xr-var-data-in' type='checkbox'><label for='data-7f832b29-70ec-4c8a-b7e4-6bbb6b281719' title='Show/Hide data repr'><svg class='icon xr-icon-database'><use xlink:href='#icon-database'></use></svg></label><div class='xr-var-attrs'><dl class='xr-attrs'><dt><span>standard_name :</span></dt><dd>lwe_thickness_of_precipitation_amount</dd><dt><span>long_name :</span></dt><dd>Daily precipitation</dd><dt><span>units :</span></dt><dd>mm day-1</dd><dt><span>cell_methods :</span></dt><dd>time: sum</dd><dt><span>analysis_version_number :</span></dt><dd>3.01</dd><dt><span>number_of_stations_reporting :</span></dt><dd>2757</dd><dt><span>source :</span></dt><dd>Interpolated surface observations</dd><dt><span>frequency :</span></dt><dd>daily</dd><dt><span>length_scale_for_analysis :</span></dt><dd>80.0</dd><dt><span>analysis_time :</span></dt><dd>2010-10-23 14:49:46 UTC</dd></dl></div><div class='xr-var-data'><pre>array([2.0836427 , 0.29279554, 0.12122256, ..., 3.7188015 , 0.1759345 ,\n",
       "       0.02330056], dtype=float32)</pre></div></li></ul></div></li><li class='xr-section-item'><input id='section-80340be5-ba3e-4195-8eab-8cd6815bae9b' class='xr-section-summary-in' type='checkbox'  ><label for='section-80340be5-ba3e-4195-8eab-8cd6815bae9b' class='xr-section-summary' >Attributes: <span>(33)</span></label><div class='xr-section-inline-details'></div><div class='xr-section-details'><dl class='xr-attrs'><dt><span>CDI :</span></dt><dd>Climate Data Interface version ?? (http://mpimet.mpg.de/cdi)</dd><dt><span>history :</span></dt><dd>Tue Sep 03 14:23:23 2019: cdo -O -z zip_4 -f nc4c mergetime /tmp/awap/precip_total_r005_19000101_19000101.nc /tmp/awap/precip_total_r005_19000102_19000102.nc /tmp/awap/precip_total_r005_19000103_19000103.nc /tmp/awap/precip_total_r005_19000104_19000104.nc /tmp/awap/precip_total_r005_19000105_19000105.nc /tmp/awap/precip_total_r005_19000106_19000106.nc /tmp/awap/precip_total_r005_19000107_19000107.nc /tmp/awap/precip_total_r005_19000108_19000108.nc /tmp/awap/precip_total_r005_19000109_19000109.nc /tmp/awap/precip_total_r005_19000110_19000110.nc /tmp/awap/precip_total_r005_19000111_19000111.nc /tmp/awap/precip_total_r005_19000112_19000112.nc /tmp/awap/precip_total_r005_19000113_19000113.nc /tmp/awap/precip_total_r005_19000114_19000114.nc /tmp/awap/precip_total_r005_19000115_19000115.nc /tmp/awap/precip_total_r005_19000116_19000116.nc /tmp/awap/precip_total_r005_19000117_19000117.nc /tmp/awap/precip_total_r005_19000118_19000118.nc /tmp/awap/precip_total_r005_19000119_19000119.nc /tmp/awap/precip_total_r005_19000120_19000120.nc\n",
       "Tue Jan 17 22:25:12 2017: conversion to netCDF, /cmap/script/utilities/aifs2nc/convert_aifs_binary.py /cmap/data/awap/rr.dir/daily_means_0.05.dir/1900/rr.1900123119001231.grid.un.gz /tmp/tmp.y1hsR4hgz3_precip_total_r005_19001231_19001231.nc --check-rpms --base-config-file /cmap/config/agcd/metadata/agcd_base.json --config-file /cmap/config/agcd/metadata/precip_total.json --overwrite --missval 99999.9</dd><dt><span>institution :</span></dt><dd>Australian Bureau of Meteorology, GPO Box 1289, Melbourne VIC 3001, Australia</dd><dt><span>Conventions :</span></dt><dd>CF-1.6</dd><dt><span>geospatial_lat_min :</span></dt><dd>-44.525</dd><dt><span>geospatial_lat_max :</span></dt><dd>-9.975</dd><dt><span>geospatial_lon_min :</span></dt><dd>111.975</dd><dt><span>geospatial_lon_max :</span></dt><dd>156.275</dd><dt><span>time_coverage_start :</span></dt><dd>1899-12-31T09:00:00</dd><dt><span>time_coverage_end :</span></dt><dd>1900-01-01T09:00:00</dd><dt><span>original_AIFS_header :</span></dt><dd>SOUTHWEST_LATITUDE: 44.5, SOUTHWEST_LONGITUDE: 112.0, NUMBER_OF_LONGITUDES_IN_GRID: 886, RAINFALL_ANALYSIS: 1900010119000101, LENGTH_SCALE_FOR_ANALYSIS: 80.0, BUREAU_OF_METEOROLOGY, NUMBER_OF_LATITUDES_IN_GRID: 691, GRID_INCREMENT_OF_LONGITUDE: 0.05, GRID_INCREMENT_OF_LATITUDE: 0.05, ROW_CHANGES_WITH_LONGITUDE, NUMBER_OF_STATIONS_REPORTING: 2757, ANALYSIS_TIME: 2010-10-23 14:49:46 UTC, COLUMN_NUMBER_AT_SOUTHWEST_CORNER: 1, ROW_NUMBER_AT_SOUTHWEST_CORNER: 1, ANALYSIS_VERSION_NUMBER: 3.01, LATITUDE_-_LONGITUDE_GRID</dd><dt><span>date_created :</span></dt><dd>2017-01-17T22:13:51.976225</dd><dt><span>bom-cmp-awap_version :</span></dt><dd>bom-cmp-awap-1.00-89.0.x86_64</dd><dt><span>bom-cmp-util_aifs2nc_version :</span></dt><dd>bom-cmp-util_aifs2nc-v1.1.0-2.x86_64</dd><dt><span>netcdf_version :</span></dt><dd>4.3.0 of Jul 16 2013 05:46:56 $</dd><dt><span>uuid :</span></dt><dd>14333ae2-28fe-4cb6-9f00-677adc94f25e</dd><dt><span>keywords_reference :</span></dt><dd>Global Change Master Directory (GCMD). 2015. GCMD Keywords, Version 8.1. Greenbelt, MD: Global Change Data Center, Science and Exploration Directorate, Goddard Space Flight Center (GSFC) National Aeronautics and Space Administration (NASA). URL:http://gcmd.nasa.gov/learn/keywords.html</dd><dt><span>acknowledgment :</span></dt><dd>The Australian Government, Bureau of Meteorology; The Australian Water Availability Project; The AusCover facility of the Terrestrial Ecosystem Research Network (TERN)</dd><dt><span>copyright :</span></dt><dd>(C) Copyright Commonwealth of Australia 2017, Bureau of Meteorology (ABN 92637 533532), see http://www.bom.gov.au/other/copyright.shtml for terms and conditions of reuse.</dd><dt><span>title :</span></dt><dd>Interpolated Rain Gauge Precipitation</dd><dt><span>keywords_vocabulary :</span></dt><dd>GCMD Science Keywords, Version 8.1</dd><dt><span>standard_name_vocabulary :</span></dt><dd>CF Standard Names, v28</dd><dt><span>keywords :</span></dt><dd>Earth Science, Atmosphere, Precipitation, Precipitation Amount, Liquid Water Equivalent</dd><dt><span>data_format :</span></dt><dd>netCDF4 with zlib compression</dd><dt><span>cdm_data_type :</span></dt><dd>Grid</dd><dt><span>analysis_components :</span></dt><dd>total: the gridded accumulation of rainfall.</dd><dt><span>references :</span></dt><dd>http://www.bom.gov.au/amm/docs/2009/jones_hres.pdf; http://www.csiro.au/awap; http://www.cawcr.gov.au/technical-reports/CTR_013.pdf</dd><dt><span>url :</span></dt><dd>http://www.bom.gov.au/climate/</dd><dt><span>licence :</span></dt><dd>Copyright for any data supplied by the Bureau of Meteorology is held in the Commonwealth of Australia and the purchaser shall give acknowledgement of the source in reference to the data. Apart from dealings under the Copyright Act 1968, the purchaser shall not reproduce (electronically or otherwise), modify or supply (by sale or otherwise) these data without written permission from the supplier.</dd><dt><span>id :</span></dt><dd>Australian Gridded Climate Data (AGCD)</dd><dt><span>summary :</span></dt><dd>The daily and monthly rainfall data represents the amount of precipitation of any type (including the liquid equivalent of frozen hydrometeors such as hail and snow) observed by means of rain gauges stationed across Australia. These gauges measure millimetres of liquid water depth over a 24-hour period running from 9am local clock time the previous day to 9am on the observed day. Rainfall data from up to 6500 sites across the country are analysed, with limited quality control, onto 0.05x0.05 degree grids using the technique described in Jones et al. (2009). Monthly rainfall totals are calculated from the accumulation of the contributing daily rainfall totals, and may incorporate multi-day rainfall totals if observations were missing on any one day. Weekly rainfall totals are calculated from the sum of the daily grids. Multi-month rainfall totals are calculated from the sum of monthly grids. Month-to-date and Year-to-date rainfall grids are calculated from the sum of the contributing monthly and daily grids. </dd><dt><span>naming_authority :</span></dt><dd>au.gov.bom</dd><dt><span>CDO :</span></dt><dd>Climate Data Operators version 1.7.0 (http://mpimet.mpg.de/cdo)</dd></dl></div></li></ul></div></div>"
      ],
      "text/plain": [
       "<xarray.Dataset>\n",
       "Dimensions:  (time: 44641)\n",
       "Coordinates:\n",
       "  * time     (time) object 1900-01-01 09:00:00 ... 2022-03-22 09:00:00\n",
       "Data variables:\n",
       "    pr       (time) float32 2.084 0.2928 0.1212 0.4116 ... 3.719 0.1759 0.0233\n",
       "Attributes: (12/33)\n",
       "    CDI:                           Climate Data Interface version ?? (http://...\n",
       "    history:                       Tue Sep 03 14:23:23 2019: cdo -O -z zip_4 ...\n",
       "    institution:                   Australian Bureau of Meteorology, GPO Box ...\n",
       "    Conventions:                   CF-1.6\n",
       "    geospatial_lat_min:            -44.525\n",
       "    geospatial_lat_max:            -9.975\n",
       "    ...                            ...\n",
       "    url:                           http://www.bom.gov.au/climate/\n",
       "    licence:                       Copyright for any data supplied by the Bur...\n",
       "    id:                            Australian Gridded Climate Data (AGCD)\n",
       "    summary:                       The daily and monthly rainfall data repres...\n",
       "    naming_authority:              au.gov.bom\n",
       "    CDO:                           Climate Data Operators version 1.7.0 (http..."
      ]
     },
     "execution_count": 9,
     "metadata": {},
     "output_type": "execute_result"
    }
   ],
   "source": [
    "ds"
   ]
  },
  {
   "cell_type": "code",
   "execution_count": 10,
   "id": "a95d4d0d",
   "metadata": {
    "execution": {
     "iopub.execute_input": "2022-03-31T23:42:36.914312Z",
     "iopub.status.busy": "2022-03-31T23:42:36.912577Z",
     "iopub.status.idle": "2022-03-31T23:42:36.919140Z",
     "shell.execute_reply": "2022-03-31T23:42:36.917349Z"
    },
    "papermill": {
     "duration": 0.105386,
     "end_time": "2022-03-31T23:42:36.919566",
     "exception": false,
     "start_time": "2022-03-31T23:42:36.814180",
     "status": "completed"
    },
    "tags": []
   },
   "outputs": [],
   "source": [
    "ds = ds.compute()"
   ]
  },
  {
   "cell_type": "code",
   "execution_count": 11,
   "id": "9341a802",
   "metadata": {
    "execution": {
     "iopub.execute_input": "2022-03-31T23:42:37.119065Z",
     "iopub.status.busy": "2022-03-31T23:42:37.105558Z",
     "iopub.status.idle": "2022-03-31T23:42:37.241383Z",
     "shell.execute_reply": "2022-03-31T23:42:37.240102Z"
    },
    "papermill": {
     "duration": 0.244171,
     "end_time": "2022-03-31T23:42:37.241728",
     "exception": false,
     "start_time": "2022-03-31T23:42:36.997557",
     "status": "completed"
    },
    "tags": []
   },
   "outputs": [
    {
     "data": {
      "text/html": [
       "<div><svg style=\"position: absolute; width: 0; height: 0; overflow: hidden\">\n",
       "<defs>\n",
       "<symbol id=\"icon-database\" viewBox=\"0 0 32 32\">\n",
       "<path d=\"M16 0c-8.837 0-16 2.239-16 5v4c0 2.761 7.163 5 16 5s16-2.239 16-5v-4c0-2.761-7.163-5-16-5z\"></path>\n",
       "<path d=\"M16 17c-8.837 0-16-2.239-16-5v6c0 2.761 7.163 5 16 5s16-2.239 16-5v-6c0 2.761-7.163 5-16 5z\"></path>\n",
       "<path d=\"M16 26c-8.837 0-16-2.239-16-5v6c0 2.761 7.163 5 16 5s16-2.239 16-5v-6c0 2.761-7.163 5-16 5z\"></path>\n",
       "</symbol>\n",
       "<symbol id=\"icon-file-text2\" viewBox=\"0 0 32 32\">\n",
       "<path d=\"M28.681 7.159c-0.694-0.947-1.662-2.053-2.724-3.116s-2.169-2.030-3.116-2.724c-1.612-1.182-2.393-1.319-2.841-1.319h-15.5c-1.378 0-2.5 1.121-2.5 2.5v27c0 1.378 1.122 2.5 2.5 2.5h23c1.378 0 2.5-1.122 2.5-2.5v-19.5c0-0.448-0.137-1.23-1.319-2.841zM24.543 5.457c0.959 0.959 1.712 1.825 2.268 2.543h-4.811v-4.811c0.718 0.556 1.584 1.309 2.543 2.268zM28 29.5c0 0.271-0.229 0.5-0.5 0.5h-23c-0.271 0-0.5-0.229-0.5-0.5v-27c0-0.271 0.229-0.5 0.5-0.5 0 0 15.499-0 15.5 0v7c0 0.552 0.448 1 1 1h7v19.5z\"></path>\n",
       "<path d=\"M23 26h-14c-0.552 0-1-0.448-1-1s0.448-1 1-1h14c0.552 0 1 0.448 1 1s-0.448 1-1 1z\"></path>\n",
       "<path d=\"M23 22h-14c-0.552 0-1-0.448-1-1s0.448-1 1-1h14c0.552 0 1 0.448 1 1s-0.448 1-1 1z\"></path>\n",
       "<path d=\"M23 18h-14c-0.552 0-1-0.448-1-1s0.448-1 1-1h14c0.552 0 1 0.448 1 1s-0.448 1-1 1z\"></path>\n",
       "</symbol>\n",
       "</defs>\n",
       "</svg>\n",
       "<style>/* CSS stylesheet for displaying xarray objects in jupyterlab.\n",
       " *\n",
       " */\n",
       "\n",
       ":root {\n",
       "  --xr-font-color0: var(--jp-content-font-color0, rgba(0, 0, 0, 1));\n",
       "  --xr-font-color2: var(--jp-content-font-color2, rgba(0, 0, 0, 0.54));\n",
       "  --xr-font-color3: var(--jp-content-font-color3, rgba(0, 0, 0, 0.38));\n",
       "  --xr-border-color: var(--jp-border-color2, #e0e0e0);\n",
       "  --xr-disabled-color: var(--jp-layout-color3, #bdbdbd);\n",
       "  --xr-background-color: var(--jp-layout-color0, white);\n",
       "  --xr-background-color-row-even: var(--jp-layout-color1, white);\n",
       "  --xr-background-color-row-odd: var(--jp-layout-color2, #eeeeee);\n",
       "}\n",
       "\n",
       "html[theme=dark],\n",
       "body.vscode-dark {\n",
       "  --xr-font-color0: rgba(255, 255, 255, 1);\n",
       "  --xr-font-color2: rgba(255, 255, 255, 0.54);\n",
       "  --xr-font-color3: rgba(255, 255, 255, 0.38);\n",
       "  --xr-border-color: #1F1F1F;\n",
       "  --xr-disabled-color: #515151;\n",
       "  --xr-background-color: #111111;\n",
       "  --xr-background-color-row-even: #111111;\n",
       "  --xr-background-color-row-odd: #313131;\n",
       "}\n",
       "\n",
       ".xr-wrap {\n",
       "  display: block !important;\n",
       "  min-width: 300px;\n",
       "  max-width: 700px;\n",
       "}\n",
       "\n",
       ".xr-text-repr-fallback {\n",
       "  /* fallback to plain text repr when CSS is not injected (untrusted notebook) */\n",
       "  display: none;\n",
       "}\n",
       "\n",
       ".xr-header {\n",
       "  padding-top: 6px;\n",
       "  padding-bottom: 6px;\n",
       "  margin-bottom: 4px;\n",
       "  border-bottom: solid 1px var(--xr-border-color);\n",
       "}\n",
       "\n",
       ".xr-header > div,\n",
       ".xr-header > ul {\n",
       "  display: inline;\n",
       "  margin-top: 0;\n",
       "  margin-bottom: 0;\n",
       "}\n",
       "\n",
       ".xr-obj-type,\n",
       ".xr-array-name {\n",
       "  margin-left: 2px;\n",
       "  margin-right: 10px;\n",
       "}\n",
       "\n",
       ".xr-obj-type {\n",
       "  color: var(--xr-font-color2);\n",
       "}\n",
       "\n",
       ".xr-sections {\n",
       "  padding-left: 0 !important;\n",
       "  display: grid;\n",
       "  grid-template-columns: 150px auto auto 1fr 20px 20px;\n",
       "}\n",
       "\n",
       ".xr-section-item {\n",
       "  display: contents;\n",
       "}\n",
       "\n",
       ".xr-section-item input {\n",
       "  display: none;\n",
       "}\n",
       "\n",
       ".xr-section-item input + label {\n",
       "  color: var(--xr-disabled-color);\n",
       "}\n",
       "\n",
       ".xr-section-item input:enabled + label {\n",
       "  cursor: pointer;\n",
       "  color: var(--xr-font-color2);\n",
       "}\n",
       "\n",
       ".xr-section-item input:enabled + label:hover {\n",
       "  color: var(--xr-font-color0);\n",
       "}\n",
       "\n",
       ".xr-section-summary {\n",
       "  grid-column: 1;\n",
       "  color: var(--xr-font-color2);\n",
       "  font-weight: 500;\n",
       "}\n",
       "\n",
       ".xr-section-summary > span {\n",
       "  display: inline-block;\n",
       "  padding-left: 0.5em;\n",
       "}\n",
       "\n",
       ".xr-section-summary-in:disabled + label {\n",
       "  color: var(--xr-font-color2);\n",
       "}\n",
       "\n",
       ".xr-section-summary-in + label:before {\n",
       "  display: inline-block;\n",
       "  content: '►';\n",
       "  font-size: 11px;\n",
       "  width: 15px;\n",
       "  text-align: center;\n",
       "}\n",
       "\n",
       ".xr-section-summary-in:disabled + label:before {\n",
       "  color: var(--xr-disabled-color);\n",
       "}\n",
       "\n",
       ".xr-section-summary-in:checked + label:before {\n",
       "  content: '▼';\n",
       "}\n",
       "\n",
       ".xr-section-summary-in:checked + label > span {\n",
       "  display: none;\n",
       "}\n",
       "\n",
       ".xr-section-summary,\n",
       ".xr-section-inline-details {\n",
       "  padding-top: 4px;\n",
       "  padding-bottom: 4px;\n",
       "}\n",
       "\n",
       ".xr-section-inline-details {\n",
       "  grid-column: 2 / -1;\n",
       "}\n",
       "\n",
       ".xr-section-details {\n",
       "  display: none;\n",
       "  grid-column: 1 / -1;\n",
       "  margin-bottom: 5px;\n",
       "}\n",
       "\n",
       ".xr-section-summary-in:checked ~ .xr-section-details {\n",
       "  display: contents;\n",
       "}\n",
       "\n",
       ".xr-array-wrap {\n",
       "  grid-column: 1 / -1;\n",
       "  display: grid;\n",
       "  grid-template-columns: 20px auto;\n",
       "}\n",
       "\n",
       ".xr-array-wrap > label {\n",
       "  grid-column: 1;\n",
       "  vertical-align: top;\n",
       "}\n",
       "\n",
       ".xr-preview {\n",
       "  color: var(--xr-font-color3);\n",
       "}\n",
       "\n",
       ".xr-array-preview,\n",
       ".xr-array-data {\n",
       "  padding: 0 5px !important;\n",
       "  grid-column: 2;\n",
       "}\n",
       "\n",
       ".xr-array-data,\n",
       ".xr-array-in:checked ~ .xr-array-preview {\n",
       "  display: none;\n",
       "}\n",
       "\n",
       ".xr-array-in:checked ~ .xr-array-data,\n",
       ".xr-array-preview {\n",
       "  display: inline-block;\n",
       "}\n",
       "\n",
       ".xr-dim-list {\n",
       "  display: inline-block !important;\n",
       "  list-style: none;\n",
       "  padding: 0 !important;\n",
       "  margin: 0;\n",
       "}\n",
       "\n",
       ".xr-dim-list li {\n",
       "  display: inline-block;\n",
       "  padding: 0;\n",
       "  margin: 0;\n",
       "}\n",
       "\n",
       ".xr-dim-list:before {\n",
       "  content: '(';\n",
       "}\n",
       "\n",
       ".xr-dim-list:after {\n",
       "  content: ')';\n",
       "}\n",
       "\n",
       ".xr-dim-list li:not(:last-child):after {\n",
       "  content: ',';\n",
       "  padding-right: 5px;\n",
       "}\n",
       "\n",
       ".xr-has-index {\n",
       "  font-weight: bold;\n",
       "}\n",
       "\n",
       ".xr-var-list,\n",
       ".xr-var-item {\n",
       "  display: contents;\n",
       "}\n",
       "\n",
       ".xr-var-item > div,\n",
       ".xr-var-item label,\n",
       ".xr-var-item > .xr-var-name span {\n",
       "  background-color: var(--xr-background-color-row-even);\n",
       "  margin-bottom: 0;\n",
       "}\n",
       "\n",
       ".xr-var-item > .xr-var-name:hover span {\n",
       "  padding-right: 5px;\n",
       "}\n",
       "\n",
       ".xr-var-list > li:nth-child(odd) > div,\n",
       ".xr-var-list > li:nth-child(odd) > label,\n",
       ".xr-var-list > li:nth-child(odd) > .xr-var-name span {\n",
       "  background-color: var(--xr-background-color-row-odd);\n",
       "}\n",
       "\n",
       ".xr-var-name {\n",
       "  grid-column: 1;\n",
       "}\n",
       "\n",
       ".xr-var-dims {\n",
       "  grid-column: 2;\n",
       "}\n",
       "\n",
       ".xr-var-dtype {\n",
       "  grid-column: 3;\n",
       "  text-align: right;\n",
       "  color: var(--xr-font-color2);\n",
       "}\n",
       "\n",
       ".xr-var-preview {\n",
       "  grid-column: 4;\n",
       "}\n",
       "\n",
       ".xr-var-name,\n",
       ".xr-var-dims,\n",
       ".xr-var-dtype,\n",
       ".xr-preview,\n",
       ".xr-attrs dt {\n",
       "  white-space: nowrap;\n",
       "  overflow: hidden;\n",
       "  text-overflow: ellipsis;\n",
       "  padding-right: 10px;\n",
       "}\n",
       "\n",
       ".xr-var-name:hover,\n",
       ".xr-var-dims:hover,\n",
       ".xr-var-dtype:hover,\n",
       ".xr-attrs dt:hover {\n",
       "  overflow: visible;\n",
       "  width: auto;\n",
       "  z-index: 1;\n",
       "}\n",
       "\n",
       ".xr-var-attrs,\n",
       ".xr-var-data {\n",
       "  display: none;\n",
       "  background-color: var(--xr-background-color) !important;\n",
       "  padding-bottom: 5px !important;\n",
       "}\n",
       "\n",
       ".xr-var-attrs-in:checked ~ .xr-var-attrs,\n",
       ".xr-var-data-in:checked ~ .xr-var-data {\n",
       "  display: block;\n",
       "}\n",
       "\n",
       ".xr-var-data > table {\n",
       "  float: right;\n",
       "}\n",
       "\n",
       ".xr-var-name span,\n",
       ".xr-var-data,\n",
       ".xr-attrs {\n",
       "  padding-left: 25px !important;\n",
       "}\n",
       "\n",
       ".xr-attrs,\n",
       ".xr-var-attrs,\n",
       ".xr-var-data {\n",
       "  grid-column: 1 / -1;\n",
       "}\n",
       "\n",
       "dl.xr-attrs {\n",
       "  padding: 0;\n",
       "  margin: 0;\n",
       "  display: grid;\n",
       "  grid-template-columns: 125px auto;\n",
       "}\n",
       "\n",
       ".xr-attrs dt,\n",
       ".xr-attrs dd {\n",
       "  padding: 0;\n",
       "  margin: 0;\n",
       "  float: left;\n",
       "  padding-right: 10px;\n",
       "  width: auto;\n",
       "}\n",
       "\n",
       ".xr-attrs dt {\n",
       "  font-weight: normal;\n",
       "  grid-column: 1;\n",
       "}\n",
       "\n",
       ".xr-attrs dt:hover span {\n",
       "  display: inline-block;\n",
       "  background: var(--xr-background-color);\n",
       "  padding-right: 10px;\n",
       "}\n",
       "\n",
       ".xr-attrs dd {\n",
       "  grid-column: 2;\n",
       "  white-space: pre-wrap;\n",
       "  word-break: break-all;\n",
       "}\n",
       "\n",
       ".xr-icon-database,\n",
       ".xr-icon-file-text2 {\n",
       "  display: inline-block;\n",
       "  vertical-align: middle;\n",
       "  width: 1em;\n",
       "  height: 1.5em !important;\n",
       "  stroke-width: 0;\n",
       "  stroke: currentColor;\n",
       "  fill: currentColor;\n",
       "}\n",
       "</style><pre class='xr-text-repr-fallback'>&lt;xarray.Dataset&gt;\n",
       "Dimensions:  (month: 12)\n",
       "Coordinates:\n",
       "  * month    (month) int64 1 2 3 4 5 6 7 8 9 10 11 12\n",
       "Data variables:\n",
       "    pr       (month) float32 3.651 4.246 3.811 2.796 ... 1.721 2.308 2.811 3.183</pre><div class='xr-wrap' style='display:none'><div class='xr-header'><div class='xr-obj-type'>xarray.Dataset</div></div><ul class='xr-sections'><li class='xr-section-item'><input id='section-82a532b4-f3d3-4c82-b22f-91f2e0f9cc99' class='xr-section-summary-in' type='checkbox' disabled ><label for='section-82a532b4-f3d3-4c82-b22f-91f2e0f9cc99' class='xr-section-summary'  title='Expand/collapse section'>Dimensions:</label><div class='xr-section-inline-details'><ul class='xr-dim-list'><li><span class='xr-has-index'>month</span>: 12</li></ul></div><div class='xr-section-details'></div></li><li class='xr-section-item'><input id='section-48704f8a-bc90-4dd4-b7da-70cd293873d2' class='xr-section-summary-in' type='checkbox'  checked><label for='section-48704f8a-bc90-4dd4-b7da-70cd293873d2' class='xr-section-summary' >Coordinates: <span>(1)</span></label><div class='xr-section-inline-details'></div><div class='xr-section-details'><ul class='xr-var-list'><li class='xr-var-item'><div class='xr-var-name'><span class='xr-has-index'>month</span></div><div class='xr-var-dims'>(month)</div><div class='xr-var-dtype'>int64</div><div class='xr-var-preview xr-preview'>1 2 3 4 5 6 7 8 9 10 11 12</div><input id='attrs-39e7cf6a-fdcb-4f90-8753-020e14ac2ada' class='xr-var-attrs-in' type='checkbox' disabled><label for='attrs-39e7cf6a-fdcb-4f90-8753-020e14ac2ada' title='Show/Hide attributes'><svg class='icon xr-icon-file-text2'><use xlink:href='#icon-file-text2'></use></svg></label><input id='data-07e705ef-99aa-4e8c-b235-830ca23bcc0f' class='xr-var-data-in' type='checkbox'><label for='data-07e705ef-99aa-4e8c-b235-830ca23bcc0f' title='Show/Hide data repr'><svg class='icon xr-icon-database'><use xlink:href='#icon-database'></use></svg></label><div class='xr-var-attrs'><dl class='xr-attrs'></dl></div><div class='xr-var-data'><pre>array([ 1,  2,  3,  4,  5,  6,  7,  8,  9, 10, 11, 12])</pre></div></li></ul></div></li><li class='xr-section-item'><input id='section-7e08fa73-c6dc-4df9-8f50-5f2daf033ce8' class='xr-section-summary-in' type='checkbox'  checked><label for='section-7e08fa73-c6dc-4df9-8f50-5f2daf033ce8' class='xr-section-summary' >Data variables: <span>(1)</span></label><div class='xr-section-inline-details'></div><div class='xr-section-details'><ul class='xr-var-list'><li class='xr-var-item'><div class='xr-var-name'><span>pr</span></div><div class='xr-var-dims'>(month)</div><div class='xr-var-dtype'>float32</div><div class='xr-var-preview xr-preview'>3.651 4.246 3.811 ... 2.811 3.183</div><input id='attrs-fb44963e-cb39-45fc-b5d9-d92de0b5ebbb' class='xr-var-attrs-in' type='checkbox' disabled><label for='attrs-fb44963e-cb39-45fc-b5d9-d92de0b5ebbb' title='Show/Hide attributes'><svg class='icon xr-icon-file-text2'><use xlink:href='#icon-file-text2'></use></svg></label><input id='data-32d52382-13ae-4d0a-8e81-c10c9b547a80' class='xr-var-data-in' type='checkbox'><label for='data-32d52382-13ae-4d0a-8e81-c10c9b547a80' title='Show/Hide data repr'><svg class='icon xr-icon-database'><use xlink:href='#icon-database'></use></svg></label><div class='xr-var-attrs'><dl class='xr-attrs'></dl></div><div class='xr-var-data'><pre>array([3.6513093, 4.2455   , 3.8110173, 2.7955627, 2.3621426, 2.552262 ,\n",
       "       1.9149219, 1.657054 , 1.7205726, 2.3079042, 2.8111382, 3.1825492],\n",
       "      dtype=float32)</pre></div></li></ul></div></li><li class='xr-section-item'><input id='section-37121044-7e9b-441d-8e61-688e1bce8a5f' class='xr-section-summary-in' type='checkbox' disabled ><label for='section-37121044-7e9b-441d-8e61-688e1bce8a5f' class='xr-section-summary'  title='Expand/collapse section'>Attributes: <span>(0)</span></label><div class='xr-section-inline-details'></div><div class='xr-section-details'><dl class='xr-attrs'></dl></div></li></ul></div></div>"
      ],
      "text/plain": [
       "<xarray.Dataset>\n",
       "Dimensions:  (month: 12)\n",
       "Coordinates:\n",
       "  * month    (month) int64 1 2 3 4 5 6 7 8 9 10 11 12\n",
       "Data variables:\n",
       "    pr       (month) float32 3.651 4.246 3.811 2.796 ... 1.721 2.308 2.811 3.183"
      ]
     },
     "execution_count": 11,
     "metadata": {},
     "output_type": "execute_result"
    }
   ],
   "source": [
    "clim = ds.groupby('time.month').mean()\n",
    "clim"
   ]
  },
  {
   "cell_type": "code",
   "execution_count": 12,
   "id": "dc58181d",
   "metadata": {
    "execution": {
     "iopub.execute_input": "2022-03-31T23:42:37.441002Z",
     "iopub.status.busy": "2022-03-31T23:42:37.439372Z",
     "iopub.status.idle": "2022-03-31T23:42:37.651374Z",
     "shell.execute_reply": "2022-03-31T23:42:37.650159Z"
    },
    "papermill": {
     "duration": 0.329414,
     "end_time": "2022-03-31T23:42:37.651813",
     "exception": false,
     "start_time": "2022-03-31T23:42:37.322399",
     "status": "completed"
    },
    "tags": []
   },
   "outputs": [
    {
     "data": {
      "text/plain": [
       "[<matplotlib.lines.Line2D at 0x7fd1d5983370>]"
      ]
     },
     "execution_count": 12,
     "metadata": {},
     "output_type": "execute_result"
    },
    {
     "data": {
      "image/png": "[encoded data removed]",
      "text/plain": [
       "<Figure size 432x288 with 1 Axes>"
      ]
     },
     "metadata": {
      "needs_background": "light"
     },
     "output_type": "display_data"
    }
   ],
   "source": [
    "clim['pr'].plot()"
   ]
  },
  {
   "cell_type": "code",
   "execution_count": 13,
   "id": "b58b26a5",
   "metadata": {
    "execution": {
     "iopub.execute_input": "2022-03-31T23:42:37.866287Z",
     "iopub.status.busy": "2022-03-31T23:42:37.826557Z",
     "iopub.status.idle": "2022-03-31T23:42:38.316977Z",
     "shell.execute_reply": "2022-03-31T23:42:38.317730Z"
    },
    "papermill": {
     "duration": 0.582787,
     "end_time": "2022-03-31T23:42:38.318140",
     "exception": false,
     "start_time": "2022-03-31T23:42:37.735353",
     "status": "completed"
    },
    "tags": []
   },
   "outputs": [],
   "source": [
    "ds_15day = ds.rolling({'time': 15}).sum()\n",
    "ds_rx15day = time_utils.temporal_aggregation(ds_15day, 'A-AUG', 'D', 'max', ['pr'])"
   ]
  },
  {
   "cell_type": "code",
   "execution_count": 14,
   "id": "fb8ed0be",
   "metadata": {
    "execution": {
     "iopub.execute_input": "2022-03-31T23:42:38.468734Z",
     "iopub.status.busy": "2022-03-31T23:42:38.467038Z",
     "iopub.status.idle": "2022-03-31T23:42:38.484395Z",
     "shell.execute_reply": "2022-03-31T23:42:38.483497Z"
    },
    "papermill": {
     "duration": 0.09758,
     "end_time": "2022-03-31T23:42:38.484736",
     "exception": false,
     "start_time": "2022-03-31T23:42:38.387156",
     "status": "completed"
    },
    "tags": []
   },
   "outputs": [
    {
     "data": {
      "text/html": [
       "<div><svg style=\"position: absolute; width: 0; height: 0; overflow: hidden\">\n",
       "<defs>\n",
       "<symbol id=\"icon-database\" viewBox=\"0 0 32 32\">\n",
       "<path d=\"M16 0c-8.837 0-16 2.239-16 5v4c0 2.761 7.163 5 16 5s16-2.239 16-5v-4c0-2.761-7.163-5-16-5z\"></path>\n",
       "<path d=\"M16 17c-8.837 0-16-2.239-16-5v6c0 2.761 7.163 5 16 5s16-2.239 16-5v-6c0 2.761-7.163 5-16 5z\"></path>\n",
       "<path d=\"M16 26c-8.837 0-16-2.239-16-5v6c0 2.761 7.163 5 16 5s16-2.239 16-5v-6c0 2.761-7.163 5-16 5z\"></path>\n",
       "</symbol>\n",
       "<symbol id=\"icon-file-text2\" viewBox=\"0 0 32 32\">\n",
       "<path d=\"M28.681 7.159c-0.694-0.947-1.662-2.053-2.724-3.116s-2.169-2.030-3.116-2.724c-1.612-1.182-2.393-1.319-2.841-1.319h-15.5c-1.378 0-2.5 1.121-2.5 2.5v27c0 1.378 1.122 2.5 2.5 2.5h23c1.378 0 2.5-1.122 2.5-2.5v-19.5c0-0.448-0.137-1.23-1.319-2.841zM24.543 5.457c0.959 0.959 1.712 1.825 2.268 2.543h-4.811v-4.811c0.718 0.556 1.584 1.309 2.543 2.268zM28 29.5c0 0.271-0.229 0.5-0.5 0.5h-23c-0.271 0-0.5-0.229-0.5-0.5v-27c0-0.271 0.229-0.5 0.5-0.5 0 0 15.499-0 15.5 0v7c0 0.552 0.448 1 1 1h7v19.5z\"></path>\n",
       "<path d=\"M23 26h-14c-0.552 0-1-0.448-1-1s0.448-1 1-1h14c0.552 0 1 0.448 1 1s-0.448 1-1 1z\"></path>\n",
       "<path d=\"M23 22h-14c-0.552 0-1-0.448-1-1s0.448-1 1-1h14c0.552 0 1 0.448 1 1s-0.448 1-1 1z\"></path>\n",
       "<path d=\"M23 18h-14c-0.552 0-1-0.448-1-1s0.448-1 1-1h14c0.552 0 1 0.448 1 1s-0.448 1-1 1z\"></path>\n",
       "</symbol>\n",
       "</defs>\n",
       "</svg>\n",
       "<style>/* CSS stylesheet for displaying xarray objects in jupyterlab.\n",
       " *\n",
       " */\n",
       "\n",
       ":root {\n",
       "  --xr-font-color0: var(--jp-content-font-color0, rgba(0, 0, 0, 1));\n",
       "  --xr-font-color2: var(--jp-content-font-color2, rgba(0, 0, 0, 0.54));\n",
       "  --xr-font-color3: var(--jp-content-font-color3, rgba(0, 0, 0, 0.38));\n",
       "  --xr-border-color: var(--jp-border-color2, #e0e0e0);\n",
       "  --xr-disabled-color: var(--jp-layout-color3, #bdbdbd);\n",
       "  --xr-background-color: var(--jp-layout-color0, white);\n",
       "  --xr-background-color-row-even: var(--jp-layout-color1, white);\n",
       "  --xr-background-color-row-odd: var(--jp-layout-color2, #eeeeee);\n",
       "}\n",
       "\n",
       "html[theme=dark],\n",
       "body.vscode-dark {\n",
       "  --xr-font-color0: rgba(255, 255, 255, 1);\n",
       "  --xr-font-color2: rgba(255, 255, 255, 0.54);\n",
       "  --xr-font-color3: rgba(255, 255, 255, 0.38);\n",
       "  --xr-border-color: #1F1F1F;\n",
       "  --xr-disabled-color: #515151;\n",
       "  --xr-background-color: #111111;\n",
       "  --xr-background-color-row-even: #111111;\n",
       "  --xr-background-color-row-odd: #313131;\n",
       "}\n",
       "\n",
       ".xr-wrap {\n",
       "  display: block !important;\n",
       "  min-width: 300px;\n",
       "  max-width: 700px;\n",
       "}\n",
       "\n",
       ".xr-text-repr-fallback {\n",
       "  /* fallback to plain text repr when CSS is not injected (untrusted notebook) */\n",
       "  display: none;\n",
       "}\n",
       "\n",
       ".xr-header {\n",
       "  padding-top: 6px;\n",
       "  padding-bottom: 6px;\n",
       "  margin-bottom: 4px;\n",
       "  border-bottom: solid 1px var(--xr-border-color);\n",
       "}\n",
       "\n",
       ".xr-header > div,\n",
       ".xr-header > ul {\n",
       "  display: inline;\n",
       "  margin-top: 0;\n",
       "  margin-bottom: 0;\n",
       "}\n",
       "\n",
       ".xr-obj-type,\n",
       ".xr-array-name {\n",
       "  margin-left: 2px;\n",
       "  margin-right: 10px;\n",
       "}\n",
       "\n",
       ".xr-obj-type {\n",
       "  color: var(--xr-font-color2);\n",
       "}\n",
       "\n",
       ".xr-sections {\n",
       "  padding-left: 0 !important;\n",
       "  display: grid;\n",
       "  grid-template-columns: 150px auto auto 1fr 20px 20px;\n",
       "}\n",
       "\n",
       ".xr-section-item {\n",
       "  display: contents;\n",
       "}\n",
       "\n",
       ".xr-section-item input {\n",
       "  display: none;\n",
       "}\n",
       "\n",
       ".xr-section-item input + label {\n",
       "  color: var(--xr-disabled-color);\n",
       "}\n",
       "\n",
       ".xr-section-item input:enabled + label {\n",
       "  cursor: pointer;\n",
       "  color: var(--xr-font-color2);\n",
       "}\n",
       "\n",
       ".xr-section-item input:enabled + label:hover {\n",
       "  color: var(--xr-font-color0);\n",
       "}\n",
       "\n",
       ".xr-section-summary {\n",
       "  grid-column: 1;\n",
       "  color: var(--xr-font-color2);\n",
       "  font-weight: 500;\n",
       "}\n",
       "\n",
       ".xr-section-summary > span {\n",
       "  display: inline-block;\n",
       "  padding-left: 0.5em;\n",
       "}\n",
       "\n",
       ".xr-section-summary-in:disabled + label {\n",
       "  color: var(--xr-font-color2);\n",
       "}\n",
       "\n",
       ".xr-section-summary-in + label:before {\n",
       "  display: inline-block;\n",
       "  content: '►';\n",
       "  font-size: 11px;\n",
       "  width: 15px;\n",
       "  text-align: center;\n",
       "}\n",
       "\n",
       ".xr-section-summary-in:disabled + label:before {\n",
       "  color: var(--xr-disabled-color);\n",
       "}\n",
       "\n",
       ".xr-section-summary-in:checked + label:before {\n",
       "  content: '▼';\n",
       "}\n",
       "\n",
       ".xr-section-summary-in:checked + label > span {\n",
       "  display: none;\n",
       "}\n",
       "\n",
       ".xr-section-summary,\n",
       ".xr-section-inline-details {\n",
       "  padding-top: 4px;\n",
       "  padding-bottom: 4px;\n",
       "}\n",
       "\n",
       ".xr-section-inline-details {\n",
       "  grid-column: 2 / -1;\n",
       "}\n",
       "\n",
       ".xr-section-details {\n",
       "  display: none;\n",
       "  grid-column: 1 / -1;\n",
       "  margin-bottom: 5px;\n",
       "}\n",
       "\n",
       ".xr-section-summary-in:checked ~ .xr-section-details {\n",
       "  display: contents;\n",
       "}\n",
       "\n",
       ".xr-array-wrap {\n",
       "  grid-column: 1 / -1;\n",
       "  display: grid;\n",
       "  grid-template-columns: 20px auto;\n",
       "}\n",
       "\n",
       ".xr-array-wrap > label {\n",
       "  grid-column: 1;\n",
       "  vertical-align: top;\n",
       "}\n",
       "\n",
       ".xr-preview {\n",
       "  color: var(--xr-font-color3);\n",
       "}\n",
       "\n",
       ".xr-array-preview,\n",
       ".xr-array-data {\n",
       "  padding: 0 5px !important;\n",
       "  grid-column: 2;\n",
       "}\n",
       "\n",
       ".xr-array-data,\n",
       ".xr-array-in:checked ~ .xr-array-preview {\n",
       "  display: none;\n",
       "}\n",
       "\n",
       ".xr-array-in:checked ~ .xr-array-data,\n",
       ".xr-array-preview {\n",
       "  display: inline-block;\n",
       "}\n",
       "\n",
       ".xr-dim-list {\n",
       "  display: inline-block !important;\n",
       "  list-style: none;\n",
       "  padding: 0 !important;\n",
       "  margin: 0;\n",
       "}\n",
       "\n",
       ".xr-dim-list li {\n",
       "  display: inline-block;\n",
       "  padding: 0;\n",
       "  margin: 0;\n",
       "}\n",
       "\n",
       ".xr-dim-list:before {\n",
       "  content: '(';\n",
       "}\n",
       "\n",
       ".xr-dim-list:after {\n",
       "  content: ')';\n",
       "}\n",
       "\n",
       ".xr-dim-list li:not(:last-child):after {\n",
       "  content: ',';\n",
       "  padding-right: 5px;\n",
       "}\n",
       "\n",
       ".xr-has-index {\n",
       "  font-weight: bold;\n",
       "}\n",
       "\n",
       ".xr-var-list,\n",
       ".xr-var-item {\n",
       "  display: contents;\n",
       "}\n",
       "\n",
       ".xr-var-item > div,\n",
       ".xr-var-item label,\n",
       ".xr-var-item > .xr-var-name span {\n",
       "  background-color: var(--xr-background-color-row-even);\n",
       "  margin-bottom: 0;\n",
       "}\n",
       "\n",
       ".xr-var-item > .xr-var-name:hover span {\n",
       "  padding-right: 5px;\n",
       "}\n",
       "\n",
       ".xr-var-list > li:nth-child(odd) > div,\n",
       ".xr-var-list > li:nth-child(odd) > label,\n",
       ".xr-var-list > li:nth-child(odd) > .xr-var-name span {\n",
       "  background-color: var(--xr-background-color-row-odd);\n",
       "}\n",
       "\n",
       ".xr-var-name {\n",
       "  grid-column: 1;\n",
       "}\n",
       "\n",
       ".xr-var-dims {\n",
       "  grid-column: 2;\n",
       "}\n",
       "\n",
       ".xr-var-dtype {\n",
       "  grid-column: 3;\n",
       "  text-align: right;\n",
       "  color: var(--xr-font-color2);\n",
       "}\n",
       "\n",
       ".xr-var-preview {\n",
       "  grid-column: 4;\n",
       "}\n",
       "\n",
       ".xr-var-name,\n",
       ".xr-var-dims,\n",
       ".xr-var-dtype,\n",
       ".xr-preview,\n",
       ".xr-attrs dt {\n",
       "  white-space: nowrap;\n",
       "  overflow: hidden;\n",
       "  text-overflow: ellipsis;\n",
       "  padding-right: 10px;\n",
       "}\n",
       "\n",
       ".xr-var-name:hover,\n",
       ".xr-var-dims:hover,\n",
       ".xr-var-dtype:hover,\n",
       ".xr-attrs dt:hover {\n",
       "  overflow: visible;\n",
       "  width: auto;\n",
       "  z-index: 1;\n",
       "}\n",
       "\n",
       ".xr-var-attrs,\n",
       ".xr-var-data {\n",
       "  display: none;\n",
       "  background-color: var(--xr-background-color) !important;\n",
       "  padding-bottom: 5px !important;\n",
       "}\n",
       "\n",
       ".xr-var-attrs-in:checked ~ .xr-var-attrs,\n",
       ".xr-var-data-in:checked ~ .xr-var-data {\n",
       "  display: block;\n",
       "}\n",
       "\n",
       ".xr-var-data > table {\n",
       "  float: right;\n",
       "}\n",
       "\n",
       ".xr-var-name span,\n",
       ".xr-var-data,\n",
       ".xr-attrs {\n",
       "  padding-left: 25px !important;\n",
       "}\n",
       "\n",
       ".xr-attrs,\n",
       ".xr-var-attrs,\n",
       ".xr-var-data {\n",
       "  grid-column: 1 / -1;\n",
       "}\n",
       "\n",
       "dl.xr-attrs {\n",
       "  padding: 0;\n",
       "  margin: 0;\n",
       "  display: grid;\n",
       "  grid-template-columns: 125px auto;\n",
       "}\n",
       "\n",
       ".xr-attrs dt,\n",
       ".xr-attrs dd {\n",
       "  padding: 0;\n",
       "  margin: 0;\n",
       "  float: left;\n",
       "  padding-right: 10px;\n",
       "  width: auto;\n",
       "}\n",
       "\n",
       ".xr-attrs dt {\n",
       "  font-weight: normal;\n",
       "  grid-column: 1;\n",
       "}\n",
       "\n",
       ".xr-attrs dt:hover span {\n",
       "  display: inline-block;\n",
       "  background: var(--xr-background-color);\n",
       "  padding-right: 10px;\n",
       "}\n",
       "\n",
       ".xr-attrs dd {\n",
       "  grid-column: 2;\n",
       "  white-space: pre-wrap;\n",
       "  word-break: break-all;\n",
       "}\n",
       "\n",
       ".xr-icon-database,\n",
       ".xr-icon-file-text2 {\n",
       "  display: inline-block;\n",
       "  vertical-align: middle;\n",
       "  width: 1em;\n",
       "  height: 1.5em !important;\n",
       "  stroke-width: 0;\n",
       "  stroke: currentColor;\n",
       "  fill: currentColor;\n",
       "}\n",
       "</style><pre class='xr-text-repr-fallback'>&lt;xarray.Dataset&gt;\n",
       "Dimensions:  (time: 123)\n",
       "Coordinates:\n",
       "  * time     (time) object 1900-08-31 00:00:00 ... 2022-08-31 00:00:00\n",
       "Data variables:\n",
       "    pr       (time) float64 164.3 126.0 106.6 109.6 ... 114.0 299.4 315.1 378.1\n",
       "Attributes: (12/33)\n",
       "    CDI:                           Climate Data Interface version ?? (http://...\n",
       "    history:                       Tue Sep 03 14:23:23 2019: cdo -O -z zip_4 ...\n",
       "    institution:                   Australian Bureau of Meteorology, GPO Box ...\n",
       "    Conventions:                   CF-1.6\n",
       "    geospatial_lat_min:            -44.525\n",
       "    geospatial_lat_max:            -9.975\n",
       "    ...                            ...\n",
       "    url:                           http://www.bom.gov.au/climate/\n",
       "    licence:                       Copyright for any data supplied by the Bur...\n",
       "    id:                            Australian Gridded Climate Data (AGCD)\n",
       "    summary:                       The daily and monthly rainfall data repres...\n",
       "    naming_authority:              au.gov.bom\n",
       "    CDO:                           Climate Data Operators version 1.7.0 (http...</pre><div class='xr-wrap' style='display:none'><div class='xr-header'><div class='xr-obj-type'>xarray.Dataset</div></div><ul class='xr-sections'><li class='xr-section-item'><input id='section-f16ce7a9-d083-4efa-9209-8e80907983d6' class='xr-section-summary-in' type='checkbox' disabled ><label for='section-f16ce7a9-d083-4efa-9209-8e80907983d6' class='xr-section-summary'  title='Expand/collapse section'>Dimensions:</label><div class='xr-section-inline-details'><ul class='xr-dim-list'><li><span class='xr-has-index'>time</span>: 123</li></ul></div><div class='xr-section-details'></div></li><li class='xr-section-item'><input id='section-ec46cb9d-c2c6-4b18-977b-acf3eedfca78' class='xr-section-summary-in' type='checkbox'  checked><label for='section-ec46cb9d-c2c6-4b18-977b-acf3eedfca78' class='xr-section-summary' >Coordinates: <span>(1)</span></label><div class='xr-section-inline-details'></div><div class='xr-section-details'><ul class='xr-var-list'><li class='xr-var-item'><div class='xr-var-name'><span class='xr-has-index'>time</span></div><div class='xr-var-dims'>(time)</div><div class='xr-var-dtype'>object</div><div class='xr-var-preview xr-preview'>1900-08-31 00:00:00 ... 2022-08-...</div><input id='attrs-b9dd40e1-f504-4716-8274-fa3419547b09' class='xr-var-attrs-in' type='checkbox' disabled><label for='attrs-b9dd40e1-f504-4716-8274-fa3419547b09' title='Show/Hide attributes'><svg class='icon xr-icon-file-text2'><use xlink:href='#icon-file-text2'></use></svg></label><input id='data-2acd8ac8-eded-40a2-ad22-f951f55ee1b3' class='xr-var-data-in' type='checkbox'><label for='data-2acd8ac8-eded-40a2-ad22-f951f55ee1b3' title='Show/Hide data repr'><svg class='icon xr-icon-database'><use xlink:href='#icon-database'></use></svg></label><div class='xr-var-attrs'><dl class='xr-attrs'></dl></div><div class='xr-var-data'><pre>array([cftime.DatetimeGregorian(1900, 8, 31, 0, 0, 0, 0, has_year_zero=False),\n",
       "       cftime.DatetimeGregorian(1901, 8, 31, 0, 0, 0, 0, has_year_zero=False),\n",
       "       cftime.DatetimeGregorian(1902, 8, 31, 0, 0, 0, 0, has_year_zero=False),\n",
       "       cftime.DatetimeGregorian(1903, 8, 31, 0, 0, 0, 0, has_year_zero=False),\n",
       "       cftime.DatetimeGregorian(1904, 8, 31, 0, 0, 0, 0, has_year_zero=False),\n",
       "       cftime.DatetimeGregorian(1905, 8, 31, 0, 0, 0, 0, has_year_zero=False),\n",
       "       cftime.DatetimeGregorian(1906, 8, 31, 0, 0, 0, 0, has_year_zero=False),\n",
       "       cftime.DatetimeGregorian(1907, 8, 31, 0, 0, 0, 0, has_year_zero=False),\n",
       "       cftime.DatetimeGregorian(1908, 8, 31, 0, 0, 0, 0, has_year_zero=False),\n",
       "       cftime.DatetimeGregorian(1909, 8, 31, 0, 0, 0, 0, has_year_zero=False),\n",
       "       cftime.DatetimeGregorian(1910, 8, 31, 0, 0, 0, 0, has_year_zero=False),\n",
       "       cftime.DatetimeGregorian(1911, 8, 31, 0, 0, 0, 0, has_year_zero=False),\n",
       "       cftime.DatetimeGregorian(1912, 8, 31, 0, 0, 0, 0, has_year_zero=False),\n",
       "       cftime.DatetimeGregorian(1913, 8, 31, 0, 0, 0, 0, has_year_zero=False),\n",
       "       cftime.DatetimeGregorian(1914, 8, 31, 0, 0, 0, 0, has_year_zero=False),\n",
       "       cftime.DatetimeGregorian(1915, 8, 31, 0, 0, 0, 0, has_year_zero=False),\n",
       "       cftime.DatetimeGregorian(1916, 8, 31, 0, 0, 0, 0, has_year_zero=False),\n",
       "       cftime.DatetimeGregorian(1917, 8, 31, 0, 0, 0, 0, has_year_zero=False),\n",
       "       cftime.DatetimeGregorian(1918, 8, 31, 0, 0, 0, 0, has_year_zero=False),\n",
       "       cftime.DatetimeGregorian(1919, 8, 31, 0, 0, 0, 0, has_year_zero=False),\n",
       "       cftime.DatetimeGregorian(1920, 8, 31, 0, 0, 0, 0, has_year_zero=False),\n",
       "       cftime.DatetimeGregorian(1921, 8, 31, 0, 0, 0, 0, has_year_zero=False),\n",
       "       cftime.DatetimeGregorian(1922, 8, 31, 0, 0, 0, 0, has_year_zero=False),\n",
       "       cftime.DatetimeGregorian(1923, 8, 31, 0, 0, 0, 0, has_year_zero=False),\n",
       "       cftime.DatetimeGregorian(1924, 8, 31, 0, 0, 0, 0, has_year_zero=False),\n",
       "       cftime.DatetimeGregorian(1925, 8, 31, 0, 0, 0, 0, has_year_zero=False),\n",
       "       cftime.DatetimeGregorian(1926, 8, 31, 0, 0, 0, 0, has_year_zero=False),\n",
       "       cftime.DatetimeGregorian(1927, 8, 31, 0, 0, 0, 0, has_year_zero=False),\n",
       "       cftime.DatetimeGregorian(1928, 8, 31, 0, 0, 0, 0, has_year_zero=False),\n",
       "       cftime.DatetimeGregorian(1929, 8, 31, 0, 0, 0, 0, has_year_zero=False),\n",
       "       cftime.DatetimeGregorian(1930, 8, 31, 0, 0, 0, 0, has_year_zero=False),\n",
       "       cftime.DatetimeGregorian(1931, 8, 31, 0, 0, 0, 0, has_year_zero=False),\n",
       "       cftime.DatetimeGregorian(1932, 8, 31, 0, 0, 0, 0, has_year_zero=False),\n",
       "       cftime.DatetimeGregorian(1933, 8, 31, 0, 0, 0, 0, has_year_zero=False),\n",
       "       cftime.DatetimeGregorian(1934, 8, 31, 0, 0, 0, 0, has_year_zero=False),\n",
       "       cftime.DatetimeGregorian(1935, 8, 31, 0, 0, 0, 0, has_year_zero=False),\n",
       "       cftime.DatetimeGregorian(1936, 8, 31, 0, 0, 0, 0, has_year_zero=False),\n",
       "       cftime.DatetimeGregorian(1937, 8, 31, 0, 0, 0, 0, has_year_zero=False),\n",
       "       cftime.DatetimeGregorian(1938, 8, 31, 0, 0, 0, 0, has_year_zero=False),\n",
       "       cftime.DatetimeGregorian(1939, 8, 31, 0, 0, 0, 0, has_year_zero=False),\n",
       "       cftime.DatetimeGregorian(1940, 8, 31, 0, 0, 0, 0, has_year_zero=False),\n",
       "       cftime.DatetimeGregorian(1941, 8, 31, 0, 0, 0, 0, has_year_zero=False),\n",
       "       cftime.DatetimeGregorian(1942, 8, 31, 0, 0, 0, 0, has_year_zero=False),\n",
       "       cftime.DatetimeGregorian(1943, 8, 31, 0, 0, 0, 0, has_year_zero=False),\n",
       "       cftime.DatetimeGregorian(1944, 8, 31, 0, 0, 0, 0, has_year_zero=False),\n",
       "       cftime.DatetimeGregorian(1945, 8, 31, 0, 0, 0, 0, has_year_zero=False),\n",
       "       cftime.DatetimeGregorian(1946, 8, 31, 0, 0, 0, 0, has_year_zero=False),\n",
       "       cftime.DatetimeGregorian(1947, 8, 31, 0, 0, 0, 0, has_year_zero=False),\n",
       "       cftime.DatetimeGregorian(1948, 8, 31, 0, 0, 0, 0, has_year_zero=False),\n",
       "       cftime.DatetimeGregorian(1949, 8, 31, 0, 0, 0, 0, has_year_zero=False),\n",
       "       cftime.DatetimeGregorian(1950, 8, 31, 0, 0, 0, 0, has_year_zero=False),\n",
       "       cftime.DatetimeGregorian(1951, 8, 31, 0, 0, 0, 0, has_year_zero=False),\n",
       "       cftime.DatetimeGregorian(1952, 8, 31, 0, 0, 0, 0, has_year_zero=False),\n",
       "       cftime.DatetimeGregorian(1953, 8, 31, 0, 0, 0, 0, has_year_zero=False),\n",
       "       cftime.DatetimeGregorian(1954, 8, 31, 0, 0, 0, 0, has_year_zero=False),\n",
       "       cftime.DatetimeGregorian(1955, 8, 31, 0, 0, 0, 0, has_year_zero=False),\n",
       "       cftime.DatetimeGregorian(1956, 8, 31, 0, 0, 0, 0, has_year_zero=False),\n",
       "       cftime.DatetimeGregorian(1957, 8, 31, 0, 0, 0, 0, has_year_zero=False),\n",
       "       cftime.DatetimeGregorian(1958, 8, 31, 0, 0, 0, 0, has_year_zero=False),\n",
       "       cftime.DatetimeGregorian(1959, 8, 31, 0, 0, 0, 0, has_year_zero=False),\n",
       "       cftime.DatetimeGregorian(1960, 8, 31, 0, 0, 0, 0, has_year_zero=False),\n",
       "       cftime.DatetimeGregorian(1961, 8, 31, 0, 0, 0, 0, has_year_zero=False),\n",
       "       cftime.DatetimeGregorian(1962, 8, 31, 0, 0, 0, 0, has_year_zero=False),\n",
       "       cftime.DatetimeGregorian(1963, 8, 31, 0, 0, 0, 0, has_year_zero=False),\n",
       "       cftime.DatetimeGregorian(1964, 8, 31, 0, 0, 0, 0, has_year_zero=False),\n",
       "       cftime.DatetimeGregorian(1965, 8, 31, 0, 0, 0, 0, has_year_zero=False),\n",
       "       cftime.DatetimeGregorian(1966, 8, 31, 0, 0, 0, 0, has_year_zero=False),\n",
       "       cftime.DatetimeGregorian(1967, 8, 31, 0, 0, 0, 0, has_year_zero=False),\n",
       "       cftime.DatetimeGregorian(1968, 8, 31, 0, 0, 0, 0, has_year_zero=False),\n",
       "       cftime.DatetimeGregorian(1969, 8, 31, 0, 0, 0, 0, has_year_zero=False),\n",
       "       cftime.DatetimeGregorian(1970, 8, 31, 0, 0, 0, 0, has_year_zero=False),\n",
       "       cftime.DatetimeGregorian(1971, 8, 31, 0, 0, 0, 0, has_year_zero=False),\n",
       "       cftime.DatetimeGregorian(1972, 8, 31, 0, 0, 0, 0, has_year_zero=False),\n",
       "       cftime.DatetimeGregorian(1973, 8, 31, 0, 0, 0, 0, has_year_zero=False),\n",
       "       cftime.DatetimeGregorian(1974, 8, 31, 0, 0, 0, 0, has_year_zero=False),\n",
       "       cftime.DatetimeGregorian(1975, 8, 31, 0, 0, 0, 0, has_year_zero=False),\n",
       "       cftime.DatetimeGregorian(1976, 8, 31, 0, 0, 0, 0, has_year_zero=False),\n",
       "       cftime.DatetimeGregorian(1977, 8, 31, 0, 0, 0, 0, has_year_zero=False),\n",
       "       cftime.DatetimeGregorian(1978, 8, 31, 0, 0, 0, 0, has_year_zero=False),\n",
       "       cftime.DatetimeGregorian(1979, 8, 31, 0, 0, 0, 0, has_year_zero=False),\n",
       "       cftime.DatetimeGregorian(1980, 8, 31, 0, 0, 0, 0, has_year_zero=False),\n",
       "       cftime.DatetimeGregorian(1981, 8, 31, 0, 0, 0, 0, has_year_zero=False),\n",
       "       cftime.DatetimeGregorian(1982, 8, 31, 0, 0, 0, 0, has_year_zero=False),\n",
       "       cftime.DatetimeGregorian(1983, 8, 31, 0, 0, 0, 0, has_year_zero=False),\n",
       "       cftime.DatetimeGregorian(1984, 8, 31, 0, 0, 0, 0, has_year_zero=False),\n",
       "       cftime.DatetimeGregorian(1985, 8, 31, 0, 0, 0, 0, has_year_zero=False),\n",
       "       cftime.DatetimeGregorian(1986, 8, 31, 0, 0, 0, 0, has_year_zero=False),\n",
       "       cftime.DatetimeGregorian(1987, 8, 31, 0, 0, 0, 0, has_year_zero=False),\n",
       "       cftime.DatetimeGregorian(1988, 8, 31, 0, 0, 0, 0, has_year_zero=False),\n",
       "       cftime.DatetimeGregorian(1989, 8, 31, 0, 0, 0, 0, has_year_zero=False),\n",
       "       cftime.DatetimeGregorian(1990, 8, 31, 0, 0, 0, 0, has_year_zero=False),\n",
       "       cftime.DatetimeGregorian(1991, 8, 31, 0, 0, 0, 0, has_year_zero=False),\n",
       "       cftime.DatetimeGregorian(1992, 8, 31, 0, 0, 0, 0, has_year_zero=False),\n",
       "       cftime.DatetimeGregorian(1993, 8, 31, 0, 0, 0, 0, has_year_zero=False),\n",
       "       cftime.DatetimeGregorian(1994, 8, 31, 0, 0, 0, 0, has_year_zero=False),\n",
       "       cftime.DatetimeGregorian(1995, 8, 31, 0, 0, 0, 0, has_year_zero=False),\n",
       "       cftime.DatetimeGregorian(1996, 8, 31, 0, 0, 0, 0, has_year_zero=False),\n",
       "       cftime.DatetimeGregorian(1997, 8, 31, 0, 0, 0, 0, has_year_zero=False),\n",
       "       cftime.DatetimeGregorian(1998, 8, 31, 0, 0, 0, 0, has_year_zero=False),\n",
       "       cftime.DatetimeGregorian(1999, 8, 31, 0, 0, 0, 0, has_year_zero=False),\n",
       "       cftime.DatetimeGregorian(2000, 8, 31, 0, 0, 0, 0, has_year_zero=False),\n",
       "       cftime.DatetimeGregorian(2001, 8, 31, 0, 0, 0, 0, has_year_zero=False),\n",
       "       cftime.DatetimeGregorian(2002, 8, 31, 0, 0, 0, 0, has_year_zero=False),\n",
       "       cftime.DatetimeGregorian(2003, 8, 31, 0, 0, 0, 0, has_year_zero=False),\n",
       "       cftime.DatetimeGregorian(2004, 8, 31, 0, 0, 0, 0, has_year_zero=False),\n",
       "       cftime.DatetimeGregorian(2005, 8, 31, 0, 0, 0, 0, has_year_zero=False),\n",
       "       cftime.DatetimeGregorian(2006, 8, 31, 0, 0, 0, 0, has_year_zero=False),\n",
       "       cftime.DatetimeGregorian(2007, 8, 31, 0, 0, 0, 0, has_year_zero=False),\n",
       "       cftime.DatetimeGregorian(2008, 8, 31, 0, 0, 0, 0, has_year_zero=False),\n",
       "       cftime.DatetimeGregorian(2009, 8, 31, 0, 0, 0, 0, has_year_zero=False),\n",
       "       cftime.DatetimeGregorian(2010, 8, 31, 0, 0, 0, 0, has_year_zero=False),\n",
       "       cftime.DatetimeGregorian(2011, 8, 31, 0, 0, 0, 0, has_year_zero=False),\n",
       "       cftime.DatetimeGregorian(2012, 8, 31, 0, 0, 0, 0, has_year_zero=False),\n",
       "       cftime.DatetimeGregorian(2013, 8, 31, 0, 0, 0, 0, has_year_zero=False),\n",
       "       cftime.DatetimeGregorian(2014, 8, 31, 0, 0, 0, 0, has_year_zero=False),\n",
       "       cftime.DatetimeGregorian(2015, 8, 31, 0, 0, 0, 0, has_year_zero=False),\n",
       "       cftime.DatetimeGregorian(2016, 8, 31, 0, 0, 0, 0, has_year_zero=False),\n",
       "       cftime.DatetimeGregorian(2017, 8, 31, 0, 0, 0, 0, has_year_zero=False),\n",
       "       cftime.DatetimeGregorian(2018, 8, 31, 0, 0, 0, 0, has_year_zero=False),\n",
       "       cftime.DatetimeGregorian(2019, 8, 31, 0, 0, 0, 0, has_year_zero=False),\n",
       "       cftime.DatetimeGregorian(2020, 8, 31, 0, 0, 0, 0, has_year_zero=False),\n",
       "       cftime.DatetimeGregorian(2021, 8, 31, 0, 0, 0, 0, has_year_zero=False),\n",
       "       cftime.DatetimeGregorian(2022, 8, 31, 0, 0, 0, 0, has_year_zero=False)],\n",
       "      dtype=object)</pre></div></li></ul></div></li><li class='xr-section-item'><input id='section-d9e2e69d-d8bf-40f7-a02d-11085ee22215' class='xr-section-summary-in' type='checkbox'  checked><label for='section-d9e2e69d-d8bf-40f7-a02d-11085ee22215' class='xr-section-summary' >Data variables: <span>(1)</span></label><div class='xr-section-inline-details'></div><div class='xr-section-details'><ul class='xr-var-list'><li class='xr-var-item'><div class='xr-var-name'><span>pr</span></div><div class='xr-var-dims'>(time)</div><div class='xr-var-dtype'>float64</div><div class='xr-var-preview xr-preview'>164.3 126.0 106.6 ... 315.1 378.1</div><input id='attrs-dcd41b9a-8d49-42aa-97e4-6819182abbce' class='xr-var-attrs-in' type='checkbox' ><label for='attrs-dcd41b9a-8d49-42aa-97e4-6819182abbce' title='Show/Hide attributes'><svg class='icon xr-icon-file-text2'><use xlink:href='#icon-file-text2'></use></svg></label><input id='data-770716b3-0db6-4371-85c0-178882d8b988' class='xr-var-data-in' type='checkbox'><label for='data-770716b3-0db6-4371-85c0-178882d8b988' title='Show/Hide data repr'><svg class='icon xr-icon-database'><use xlink:href='#icon-database'></use></svg></label><div class='xr-var-attrs'><dl class='xr-attrs'><dt><span>standard_name :</span></dt><dd>lwe_thickness_of_precipitation_amount</dd><dt><span>long_name :</span></dt><dd>Daily precipitation</dd><dt><span>units :</span></dt><dd>mm day-1</dd><dt><span>cell_methods :</span></dt><dd>time: sum</dd><dt><span>analysis_version_number :</span></dt><dd>3.01</dd><dt><span>number_of_stations_reporting :</span></dt><dd>2757</dd><dt><span>source :</span></dt><dd>Interpolated surface observations</dd><dt><span>frequency :</span></dt><dd>daily</dd><dt><span>length_scale_for_analysis :</span></dt><dd>80.0</dd><dt><span>analysis_time :</span></dt><dd>2010-10-23 14:49:46 UTC</dd></dl></div><div class='xr-var-data'><pre>array([164.31578064, 125.95651245, 106.58218384, 109.62215424,\n",
       "       152.74353027, 172.02374268, 125.91758728, 132.0740509 ,\n",
       "       169.63160706,  86.12659454, 156.13098145, 211.47424316,\n",
       "       130.10417175, 152.99822998, 172.51177979, 140.47982788,\n",
       "       149.3099823 , 160.09333801, 174.01719666, 170.37181091,\n",
       "       132.85122681, 176.24021912, 209.44013977, 102.64115143,\n",
       "        90.66335297, 143.85908508, 160.25102234, 151.83427429,\n",
       "       222.03948975, 316.03894043, 159.34793091, 182.32580566,\n",
       "       126.13336182, 148.17715454, 137.71768188, 105.18197632,\n",
       "        99.26480103, 170.19534302, 181.60073853, 203.96327209,\n",
       "        67.52425385, 118.01508331, 135.41923523, 185.05775452,\n",
       "       118.76235962, 215.71792603, 174.74932861, 142.61911011,\n",
       "       186.78956604, 144.50680542, 284.65530396, 215.06217957,\n",
       "       192.76237488, 157.05369568, 272.9041748 , 202.86978149,\n",
       "       266.45220947, 117.45627594, 141.68881226, 148.63340759,\n",
       "       148.92141724, 136.75253296, 190.93603516, 311.62966919,\n",
       "       137.71060181, 124.52389526, 129.04162598, 198.97921753,\n",
       "       223.60250854, 130.63609314, 126.26154327, 206.86044312,\n",
       "       195.58505249, 203.37632751, 212.83743286, 160.08247375,\n",
       "       202.1063385 , 284.3001709 , 281.61553955, 108.03928375,\n",
       "       192.15385437, 145.88613892, 140.53781128, 130.96090698,\n",
       "       128.06216431, 162.76860046, 141.34507751, 140.33302307,\n",
       "       268.62124634, 231.396698  , 266.2477417 , 178.77529907,\n",
       "       175.10673523, 120.39920807, 107.33394623, 116.21985626,\n",
       "       207.17051697, 133.69422913, 130.08297729, 129.70783997,\n",
       "       147.43099976, 209.88539124, 143.80171204, 152.62802124,\n",
       "       134.07348633, 140.4354248 , 143.85270691, 157.94113159,\n",
       "       160.26322937, 185.5533905 , 149.81292725, 137.80577087,\n",
       "       193.29721069, 274.80053711, 137.20005798, 168.18000793,\n",
       "       172.84880066, 196.63009644, 111.17879486, 114.04725647,\n",
       "       299.36306763, 315.10751343, 378.09295654])</pre></div></li></ul></div></li><li class='xr-section-item'><input id='section-dc567263-2ed1-487f-9dd5-9410e2688167' class='xr-section-summary-in' type='checkbox'  ><label for='section-dc567263-2ed1-487f-9dd5-9410e2688167' class='xr-section-summary' >Attributes: <span>(33)</span></label><div class='xr-section-inline-details'></div><div class='xr-section-details'><dl class='xr-attrs'><dt><span>CDI :</span></dt><dd>Climate Data Interface version ?? (http://mpimet.mpg.de/cdi)</dd><dt><span>history :</span></dt><dd>Tue Sep 03 14:23:23 2019: cdo -O -z zip_4 -f nc4c mergetime /tmp/awap/precip_total_r005_19000101_19000101.nc /tmp/awap/precip_total_r005_19000102_19000102.nc /tmp/awap/precip_total_r005_19000103_19000103.nc /tmp/awap/precip_total_r005_19000104_19000104.nc /tmp/awap/precip_total_r005_19000105_19000105.nc /tmp/awap/precip_total_r005_19000106_19000106.nc /tmp/awap/precip_total_r005_19000107_19000107.nc /tmp/awap/precip_total_r005_19000108_19000108.nc /tmp/awap/precip_total_r005_19000109_19000109.nc /tmp/awap/precip_total_r005_19000110_19000110.nc /tmp/awap/precip_total_r005_19000111_19000111.nc /tmp/awap/precip_total_r005_19000112_19000112.nc /tmp/awap/precip_total_r005_19000113_19000113.nc /tmp/awap/precip_total_r005_19000114_19000114.nc /tmp/awap/precip_total_r005_19000115_19000115.nc /tmp/awap/precip_total_r005_19000116_19000116.nc /tmp/awap/precip_total_r005_19000117_19000117.nc /tmp/awap/precip_total_r005_19000118_19000118.nc /tmp/awap/precip_total_r005_19000119_19000119.nc /tmp/awap/precip_total_r005_19000120_19000120.nc\n",
       "Tue Jan 17 22:25:12 2017: conversion to netCDF, /cmap/script/utilities/aifs2nc/convert_aifs_binary.py /cmap/data/awap/rr.dir/daily_means_0.05.dir/1900/rr.1900123119001231.grid.un.gz /tmp/tmp.y1hsR4hgz3_precip_total_r005_19001231_19001231.nc --check-rpms --base-config-file /cmap/config/agcd/metadata/agcd_base.json --config-file /cmap/config/agcd/metadata/precip_total.json --overwrite --missval 99999.9</dd><dt><span>institution :</span></dt><dd>Australian Bureau of Meteorology, GPO Box 1289, Melbourne VIC 3001, Australia</dd><dt><span>Conventions :</span></dt><dd>CF-1.6</dd><dt><span>geospatial_lat_min :</span></dt><dd>-44.525</dd><dt><span>geospatial_lat_max :</span></dt><dd>-9.975</dd><dt><span>geospatial_lon_min :</span></dt><dd>111.975</dd><dt><span>geospatial_lon_max :</span></dt><dd>156.275</dd><dt><span>time_coverage_start :</span></dt><dd>1899-12-31T09:00:00</dd><dt><span>time_coverage_end :</span></dt><dd>1900-01-01T09:00:00</dd><dt><span>original_AIFS_header :</span></dt><dd>SOUTHWEST_LATITUDE: 44.5, SOUTHWEST_LONGITUDE: 112.0, NUMBER_OF_LONGITUDES_IN_GRID: 886, RAINFALL_ANALYSIS: 1900010119000101, LENGTH_SCALE_FOR_ANALYSIS: 80.0, BUREAU_OF_METEOROLOGY, NUMBER_OF_LATITUDES_IN_GRID: 691, GRID_INCREMENT_OF_LONGITUDE: 0.05, GRID_INCREMENT_OF_LATITUDE: 0.05, ROW_CHANGES_WITH_LONGITUDE, NUMBER_OF_STATIONS_REPORTING: 2757, ANALYSIS_TIME: 2010-10-23 14:49:46 UTC, COLUMN_NUMBER_AT_SOUTHWEST_CORNER: 1, ROW_NUMBER_AT_SOUTHWEST_CORNER: 1, ANALYSIS_VERSION_NUMBER: 3.01, LATITUDE_-_LONGITUDE_GRID</dd><dt><span>date_created :</span></dt><dd>2017-01-17T22:13:51.976225</dd><dt><span>bom-cmp-awap_version :</span></dt><dd>bom-cmp-awap-1.00-89.0.x86_64</dd><dt><span>bom-cmp-util_aifs2nc_version :</span></dt><dd>bom-cmp-util_aifs2nc-v1.1.0-2.x86_64</dd><dt><span>netcdf_version :</span></dt><dd>4.3.0 of Jul 16 2013 05:46:56 $</dd><dt><span>uuid :</span></dt><dd>14333ae2-28fe-4cb6-9f00-677adc94f25e</dd><dt><span>keywords_reference :</span></dt><dd>Global Change Master Directory (GCMD). 2015. GCMD Keywords, Version 8.1. Greenbelt, MD: Global Change Data Center, Science and Exploration Directorate, Goddard Space Flight Center (GSFC) National Aeronautics and Space Administration (NASA). URL:http://gcmd.nasa.gov/learn/keywords.html</dd><dt><span>acknowledgment :</span></dt><dd>The Australian Government, Bureau of Meteorology; The Australian Water Availability Project; The AusCover facility of the Terrestrial Ecosystem Research Network (TERN)</dd><dt><span>copyright :</span></dt><dd>(C) Copyright Commonwealth of Australia 2017, Bureau of Meteorology (ABN 92637 533532), see http://www.bom.gov.au/other/copyright.shtml for terms and conditions of reuse.</dd><dt><span>title :</span></dt><dd>Interpolated Rain Gauge Precipitation</dd><dt><span>keywords_vocabulary :</span></dt><dd>GCMD Science Keywords, Version 8.1</dd><dt><span>standard_name_vocabulary :</span></dt><dd>CF Standard Names, v28</dd><dt><span>keywords :</span></dt><dd>Earth Science, Atmosphere, Precipitation, Precipitation Amount, Liquid Water Equivalent</dd><dt><span>data_format :</span></dt><dd>netCDF4 with zlib compression</dd><dt><span>cdm_data_type :</span></dt><dd>Grid</dd><dt><span>analysis_components :</span></dt><dd>total: the gridded accumulation of rainfall.</dd><dt><span>references :</span></dt><dd>http://www.bom.gov.au/amm/docs/2009/jones_hres.pdf; http://www.csiro.au/awap; http://www.cawcr.gov.au/technical-reports/CTR_013.pdf</dd><dt><span>url :</span></dt><dd>http://www.bom.gov.au/climate/</dd><dt><span>licence :</span></dt><dd>Copyright for any data supplied by the Bureau of Meteorology is held in the Commonwealth of Australia and the purchaser shall give acknowledgement of the source in reference to the data. Apart from dealings under the Copyright Act 1968, the purchaser shall not reproduce (electronically or otherwise), modify or supply (by sale or otherwise) these data without written permission from the supplier.</dd><dt><span>id :</span></dt><dd>Australian Gridded Climate Data (AGCD)</dd><dt><span>summary :</span></dt><dd>The daily and monthly rainfall data represents the amount of precipitation of any type (including the liquid equivalent of frozen hydrometeors such as hail and snow) observed by means of rain gauges stationed across Australia. These gauges measure millimetres of liquid water depth over a 24-hour period running from 9am local clock time the previous day to 9am on the observed day. Rainfall data from up to 6500 sites across the country are analysed, with limited quality control, onto 0.05x0.05 degree grids using the technique described in Jones et al. (2009). Monthly rainfall totals are calculated from the accumulation of the contributing daily rainfall totals, and may incorporate multi-day rainfall totals if observations were missing on any one day. Weekly rainfall totals are calculated from the sum of the daily grids. Multi-month rainfall totals are calculated from the sum of monthly grids. Month-to-date and Year-to-date rainfall grids are calculated from the sum of the contributing monthly and daily grids. </dd><dt><span>naming_authority :</span></dt><dd>au.gov.bom</dd><dt><span>CDO :</span></dt><dd>Climate Data Operators version 1.7.0 (http://mpimet.mpg.de/cdo)</dd></dl></div></li></ul></div></div>"
      ],
      "text/plain": [
       "<xarray.Dataset>\n",
       "Dimensions:  (time: 123)\n",
       "Coordinates:\n",
       "  * time     (time) object 1900-08-31 00:00:00 ... 2022-08-31 00:00:00\n",
       "Data variables:\n",
       "    pr       (time) float64 164.3 126.0 106.6 109.6 ... 114.0 299.4 315.1 378.1\n",
       "Attributes: (12/33)\n",
       "    CDI:                           Climate Data Interface version ?? (http://...\n",
       "    history:                       Tue Sep 03 14:23:23 2019: cdo -O -z zip_4 ...\n",
       "    institution:                   Australian Bureau of Meteorology, GPO Box ...\n",
       "    Conventions:                   CF-1.6\n",
       "    geospatial_lat_min:            -44.525\n",
       "    geospatial_lat_max:            -9.975\n",
       "    ...                            ...\n",
       "    url:                           http://www.bom.gov.au/climate/\n",
       "    licence:                       Copyright for any data supplied by the Bur...\n",
       "    id:                            Australian Gridded Climate Data (AGCD)\n",
       "    summary:                       The daily and monthly rainfall data repres...\n",
       "    naming_authority:              au.gov.bom\n",
       "    CDO:                           Climate Data Operators version 1.7.0 (http..."
      ]
     },
     "execution_count": 14,
     "metadata": {},
     "output_type": "execute_result"
    }
   ],
   "source": [
    "ds_rx15day"
   ]
  },
  {
   "cell_type": "code",
   "execution_count": 15,
   "id": "46ee93c6",
   "metadata": {
    "execution": {
     "iopub.execute_input": "2022-03-31T23:42:38.632905Z",
     "iopub.status.busy": "2022-03-31T23:42:38.631898Z",
     "iopub.status.idle": "2022-03-31T23:42:38.906414Z",
     "shell.execute_reply": "2022-03-31T23:42:38.904133Z"
    },
    "papermill": {
     "duration": 0.350284,
     "end_time": "2022-03-31T23:42:38.906996",
     "exception": false,
     "start_time": "2022-03-31T23:42:38.556712",
     "status": "completed"
    },
    "tags": []
   },
   "outputs": [],
   "source": [
    "time_stamp = datetime.datetime.now().strftime(\"%a %b %d %H:%M:%S %Y\")\n",
    "ds_rx15day.attrs['history'] = f'{time_stamp}: /home/599/dbi599/east-coast-rain/AGCD_{region_name}.ipynb (git@github.com:AusClimateService/east-coast-rain)'\n",
    "fileio.to_zarr(ds_rx15day, rx15day_file)"
   ]
  },
  {
   "cell_type": "markdown",
   "id": "acf59549",
   "metadata": {
    "papermill": {
     "duration": 0.091932,
     "end_time": "2022-03-31T23:42:39.085856",
     "exception": false,
     "start_time": "2022-03-31T23:42:38.993924",
     "status": "completed"
    },
    "tags": []
   },
   "source": [
    "## Analyse and plot Rx15day data"
   ]
  },
  {
   "cell_type": "code",
   "execution_count": 16,
   "id": "0d2cc2da",
   "metadata": {
    "execution": {
     "iopub.execute_input": "2022-03-31T23:42:39.286989Z",
     "iopub.status.busy": "2022-03-31T23:42:39.282023Z",
     "iopub.status.idle": "2022-03-31T23:42:39.870812Z",
     "shell.execute_reply": "2022-03-31T23:42:39.869438Z"
    },
    "papermill": {
     "duration": 0.697014,
     "end_time": "2022-03-31T23:42:39.871172",
     "exception": false,
     "start_time": "2022-03-31T23:42:39.174158",
     "status": "completed"
    },
    "tags": []
   },
   "outputs": [
    {
     "data": {
      "image/png": "[encoded data removed]",
      "text/plain": [
       "<Figure size 432x288 with 1 Axes>"
      ]
     },
     "metadata": {
      "needs_background": "light"
     },
     "output_type": "display_data"
    }
   ],
   "source": [
    "ds_rx15day['pr'].plot()\n",
    "plt.title(f'Annual (Sep-Aug) Rx15day for {region_name} (AGCD)')\n",
    "plt.ylabel('precipitation (mm)')\n",
    "plt.xlabel('year')\n",
    "plt.savefig(\n",
    "    f'/g/data/xv83/dbi599/east-coast-rain/figures/Rx15day_timeseries_AGCD_{region_name}.png',\n",
    "    bbox_inches='tight',\n",
    "    facecolor='white',\n",
    "    dpi=dpi\n",
    ")\n",
    "plt.show()"
   ]
  },
  {
   "cell_type": "code",
   "execution_count": 17,
   "id": "da74470a",
   "metadata": {
    "execution": {
     "iopub.execute_input": "2022-03-31T23:42:40.062501Z",
     "iopub.status.busy": "2022-03-31T23:42:40.061606Z",
     "iopub.status.idle": "2022-03-31T23:42:40.065881Z",
     "shell.execute_reply": "2022-03-31T23:42:40.066800Z"
    },
    "papermill": {
     "duration": 0.105499,
     "end_time": "2022-03-31T23:42:40.067197",
     "exception": false,
     "start_time": "2022-03-31T23:42:39.961698",
     "status": "completed"
    },
    "tags": []
   },
   "outputs": [],
   "source": [
    "years = ds_rx15day['time'].dt.year.values\n",
    "df_rx15day = pd.DataFrame(index=years)\n",
    "df_rx15day['pr'] = ds_rx15day['pr'].values"
   ]
  },
  {
   "cell_type": "code",
   "execution_count": 18,
   "id": "39050e49",
   "metadata": {
    "execution": {
     "iopub.execute_input": "2022-03-31T23:42:40.256038Z",
     "iopub.status.busy": "2022-03-31T23:42:40.250860Z",
     "iopub.status.idle": "2022-03-31T23:42:40.264166Z",
     "shell.execute_reply": "2022-03-31T23:42:40.262681Z"
    },
    "papermill": {
     "duration": 0.108339,
     "end_time": "2022-03-31T23:42:40.264468",
     "exception": false,
     "start_time": "2022-03-31T23:42:40.156129",
     "status": "completed"
    },
    "tags": []
   },
   "outputs": [
    {
     "data": {
      "text/plain": [
       "2022    378.092957\n",
       "1929    316.038940\n",
       "2021    315.107513\n",
       "1963    311.629669\n",
       "2020    299.363068\n",
       "1950    284.655304\n",
       "1977    284.300171\n",
       "1978    281.615540\n",
       "2013    274.800537\n",
       "1954    272.904175\n",
       "Name: pr, dtype: float64"
      ]
     },
     "execution_count": 18,
     "metadata": {},
     "output_type": "execute_result"
    }
   ],
   "source": [
    "df_rx15day['pr'].sort_values(ascending=False).head(n=10)"
   ]
  },
  {
   "cell_type": "code",
   "execution_count": 19,
   "id": "8eba155b",
   "metadata": {
    "execution": {
     "iopub.execute_input": "2022-03-31T23:42:40.447431Z",
     "iopub.status.busy": "2022-03-31T23:42:40.446128Z",
     "iopub.status.idle": "2022-03-31T23:42:40.453825Z",
     "shell.execute_reply": "2022-03-31T23:42:40.452632Z"
    },
    "papermill": {
     "duration": 0.102819,
     "end_time": "2022-03-31T23:42:40.454130",
     "exception": false,
     "start_time": "2022-03-31T23:42:40.351311",
     "status": "completed"
    },
    "tags": []
   },
   "outputs": [
    {
     "name": "stdout",
     "output_type": "stream",
     "text": [
      "378.09295654296875\n"
     ]
    }
   ],
   "source": [
    "rx15day_max = df_rx15day['pr'].values.max()\n",
    "print(rx15day_max)"
   ]
  },
  {
   "cell_type": "code",
   "execution_count": 20,
   "id": "79f51c83",
   "metadata": {
    "execution": {
     "iopub.execute_input": "2022-03-31T23:42:40.663538Z",
     "iopub.status.busy": "2022-03-31T23:42:40.661928Z",
     "iopub.status.idle": "2022-03-31T23:42:40.674972Z",
     "shell.execute_reply": "2022-03-31T23:42:40.675603Z"
    },
    "papermill": {
     "duration": 0.125844,
     "end_time": "2022-03-31T23:42:40.675973",
     "exception": false,
     "start_time": "2022-03-31T23:42:40.550129",
     "status": "completed"
    },
    "tags": []
   },
   "outputs": [],
   "source": [
    "def gev_analysis(ds, event, region, savefig=False):\n",
    "    \"\"\"Perform GEV analysis\n",
    "    \n",
    "    Args:\n",
    "      ds (Pandas Series): Data sample\n",
    "      event (float) : Event of interest\n",
    "      region (str) : Name of spatial region\n",
    "    \"\"\"\n",
    "\n",
    "    gev_shape, gev_loc, gev_scale = indices.fit_gev(ds.values)\n",
    "    print(f'Shape parameter: {gev_shape:.2f}')\n",
    "    print(f'Location parameter: {gev_loc:.2f}')\n",
    "    print(f'Scale parameter: {gev_scale:.2f}')\n",
    "\n",
    "    fig, ax = plt.subplots(figsize=[10, 8])\n",
    "    gev_xvals = np.arange(0, 700)\n",
    "    ds.plot.hist(bins=40, density=True, color='tab:green', alpha=0.5)\n",
    "    gev_pdf = gev.pdf(gev_xvals, gev_shape, gev_loc, gev_scale)\n",
    "    plt.plot(gev_xvals, gev_pdf, color='tab:green', linewidth=4.0)\n",
    "    plt.xlabel('precipitation (mm)')\n",
    "    plt.ylabel('probability')\n",
    "    plt.title(f'Annual (Sep-Aug) Rx15day for {region} (AGCD)')\n",
    "    if savefig:\n",
    "        plt.savefig(\n",
    "            f'/g/data/xv83/dbi599/east-coast-rain/figures/Rx15day_histogram_AGCD_{region}.png',\n",
    "            bbox_inches='tight',\n",
    "            facecolor='white',\n",
    "            dpi=dpi\n",
    "        )\n",
    "    plt.show()\n",
    "    \n",
    "    gev_data = gev.rvs(gev_shape, gev_loc, gev_scale, size=5000000)\n",
    "    percentile, return_period = general_utils.event_in_context(gev_data, event, 'above')\n",
    "    print(f'{percentile:.2f}% percentile')\n",
    "    print(f'{return_period:.0f} year return period\\n')"
   ]
  },
  {
   "cell_type": "code",
   "execution_count": 21,
   "id": "ef2629df",
   "metadata": {
    "execution": {
     "iopub.execute_input": "2022-03-31T23:42:40.887687Z",
     "iopub.status.busy": "2022-03-31T23:42:40.886787Z",
     "iopub.status.idle": "2022-03-31T23:42:42.878317Z",
     "shell.execute_reply": "2022-03-31T23:42:42.879479Z"
    },
    "papermill": {
     "duration": 2.10785,
     "end_time": "2022-03-31T23:42:42.879835",
     "exception": false,
     "start_time": "2022-03-31T23:42:40.771985",
     "status": "completed"
    },
    "tags": []
   },
   "outputs": [
    {
     "name": "stdout",
     "output_type": "stream",
     "text": [
      "Shape parameter: -0.04\n",
      "Location parameter: 144.80\n",
      "Scale parameter: 39.66\n"
     ]
    },
    {
     "data": {
      "image/png": "[encoded data removed]",
      "text/plain": [
       "<Figure size 720x576 with 1 Axes>"
      ]
     },
     "metadata": {
      "needs_background": "light"
     },
     "output_type": "display_data"
    },
    {
     "name": "stdout",
     "output_type": "stream",
     "text": [
      "99.47% percentile\n",
      "188 year return period\n",
      "\n"
     ]
    }
   ],
   "source": [
    "gev_analysis(df_rx15day['pr'], rx15day_max, region_name, savefig=True)"
   ]
  },
  {
   "cell_type": "code",
   "execution_count": 22,
   "id": "4845448d",
   "metadata": {
    "execution": {
     "iopub.execute_input": "2022-03-31T23:42:43.209652Z",
     "iopub.status.busy": "2022-03-31T23:42:43.056707Z",
     "iopub.status.idle": "2022-03-31T23:42:44.415001Z",
     "shell.execute_reply": "2022-03-31T23:42:44.413660Z"
    },
    "papermill": {
     "duration": 1.439635,
     "end_time": "2022-03-31T23:42:44.415323",
     "exception": false,
     "start_time": "2022-03-31T23:42:42.975688",
     "status": "completed"
    },
    "tags": []
   },
   "outputs": [
    {
     "name": "stdout",
     "output_type": "stream",
     "text": [
      "Shape parameter: -0.02\n",
      "Location parameter: 144.66\n",
      "Scale parameter: 38.97\n"
     ]
    },
    {
     "data": {
      "image/png": "[encoded data removed]",
      "text/plain": [
       "<Figure size 720x576 with 1 Axes>"
      ]
     },
     "metadata": {
      "needs_background": "light"
     },
     "output_type": "display_data"
    },
    {
     "name": "stdout",
     "output_type": "stream",
     "text": [
      "99.68% percentile\n",
      "309 year return period\n",
      "\n"
     ]
    }
   ],
   "source": [
    "gev_analysis(df_rx15day['pr'][:-1], rx15day_max, region_name)"
   ]
  },
  {
   "cell_type": "code",
   "execution_count": null,
   "id": "196cb1ae",
   "metadata": {
    "papermill": {
     "duration": 0.112873,
     "end_time": "2022-03-31T23:42:44.617970",
     "exception": false,
     "start_time": "2022-03-31T23:42:44.505097",
     "status": "completed"
    },
    "tags": []
   },
   "outputs": [],
   "source": []
  }
 ],
 "metadata": {
  "kernelspec": {
   "display_name": "Python 3",
   "language": "python",
   "name": "python3"
  },
  "language_info": {
   "codemirror_mode": {
    "name": "ipython",
    "version": 3
   },
   "file_extension": ".py",
   "mimetype": "text/x-python",
   "name": "python",
   "nbconvert_exporter": "python",
   "pygments_lexer": "ipython3",
   "version": "3.9.4"
  },
  "papermill": {
   "default_parameters": {},
   "duration": 868.427248,
   "end_time": "2022-03-31T23:42:46.642195",
   "environment_variables": {},
   "exception": null,
   "input_path": "AGCD.ipynb",
   "output_path": "AGCD_south-east-coast-drainage-division.ipynb",
   "parameters": {
    "metadata_file": "/home/599/dbi599/forks/unseen/config/dataset_agcd_daily.yml",
    "region_name": "south-east-coast-drainage-division",
    "rx15day_file": "/g/data/xv83/dbi599/east-coast-rain/data/Rx15day_AGCD-CSIRO_r005_1900-2022_annual-aug-to-sep_south-east-coast-drainage-division.zarr.zip",
    "shapefile": "/g/data/xv83/dbi599/east-coast-rain/shapefiles/south-east-coast-nsw.shp"
   },
   "start_time": "2022-03-31T23:28:18.214947",
   "version": "2.3.3"
  }
 },
 "nbformat": 4,
 "nbformat_minor": 5
}