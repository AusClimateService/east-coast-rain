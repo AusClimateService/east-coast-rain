{
 "cells": [
  {
   "cell_type": "markdown",
   "id": "c628741b",
   "metadata": {
    "tags": [
     "papermill-error-cell-tag"
    ]
   },
   "source": [
    "<span style=\"color:red; font-family:Helvetica Neue, Helvetica, Arial, sans-serif; font-size:2em;\">An Exception was encountered at '<a href=\"#papermill-error-cell\">In [14]</a>'.</span>"
   ]
  },
  {
   "cell_type": "markdown",
   "id": "4d047299",
   "metadata": {
    "papermill": {
     "duration": 0.025522,
     "end_time": "2023-03-03T01:35:27.101194",
     "exception": false,
     "start_time": "2023-03-03T01:35:27.075672",
     "status": "completed"
    },
    "tags": []
   },
   "source": [
    "# East coast floods\n"
   ]
  },
  {
   "cell_type": "code",
   "execution_count": 1,
   "id": "95569a41",
   "metadata": {
    "execution": {
     "iopub.execute_input": "2023-03-03T01:35:27.137508Z",
     "iopub.status.busy": "2023-03-03T01:35:27.136814Z",
     "iopub.status.idle": "2023-03-03T01:35:40.758620Z",
     "shell.execute_reply": "2023-03-03T01:35:40.757276Z"
    },
    "papermill": {
     "duration": 13.64097,
     "end_time": "2023-03-03T01:35:40.762514",
     "exception": false,
     "start_time": "2023-03-03T01:35:27.121544",
     "status": "completed"
    },
    "tags": []
   },
   "outputs": [],
   "source": [
    "import os\n",
    "import datetime\n",
    "import glob\n",
    "\n",
    "from collections import Counter\n",
    "import calendar\n",
    "import matplotlib.pyplot as plt\n",
    "import pandas as pd\n",
    "import numpy as np\n",
    "import cartopy\n",
    "import cartopy.crs as ccrs\n",
    "import geopandas as gp\n",
    "from IPython.display import Image\n",
    "from scipy.stats import genextreme as gev\n",
    "import xclim as xc\n",
    "import cmocean\n",
    "import seaborn as sns\n",
    "\n",
    "from unseen import fileio\n",
    "from unseen import general_utils\n",
    "from unseen import time_utils\n",
    "from unseen import indices"
   ]
  },
  {
   "cell_type": "code",
   "execution_count": 2,
   "id": "56e9e0ab",
   "metadata": {
    "execution": {
     "iopub.execute_input": "2023-03-03T01:35:40.805410Z",
     "iopub.status.busy": "2023-03-03T01:35:40.805125Z",
     "iopub.status.idle": "2023-03-03T01:35:40.809517Z",
     "shell.execute_reply": "2023-03-03T01:35:40.808642Z"
    },
    "papermill": {
     "duration": 0.028254,
     "end_time": "2023-03-03T01:35:40.812736",
     "exception": false,
     "start_time": "2023-03-03T01:35:40.784482",
     "status": "completed"
    },
    "tags": [
     "parameters"
    ]
   },
   "outputs": [],
   "source": [
    "# Optional parameters \n",
    "# (This cell is tagged \"parameters\")\n",
    "dpi = 300"
   ]
  },
  {
   "cell_type": "code",
   "execution_count": 3,
   "id": "777976be",
   "metadata": {
    "execution": {
     "iopub.execute_input": "2023-03-03T01:35:40.855303Z",
     "iopub.status.busy": "2023-03-03T01:35:40.854904Z",
     "iopub.status.idle": "2023-03-03T01:35:40.861489Z",
     "shell.execute_reply": "2023-03-03T01:35:40.860295Z"
    },
    "papermill": {
     "duration": 0.029275,
     "end_time": "2023-03-03T01:35:40.863552",
     "exception": false,
     "start_time": "2023-03-03T01:35:40.834277",
     "status": "completed"
    },
    "tags": [
     "injected-parameters"
    ]
   },
   "outputs": [],
   "source": [
    "# Parameters\n",
    "agcd_file = \"/g/data/xv83/dbi599/east-coast-rain/data/Rx15day_AGCD-CSIRO_r005_1900-2022_annual-aug-to-sep_east-coast-flood-region.zarr.zip\"\n",
    "model_file = \"/g/data/xv83/dbi599/east-coast-rain/data/Rx15day_MIROC6-dcppA-hindcast_196011-201811_annual-aug-to-sep_east-coast-flood-region.zarr.zip\"\n",
    "model_bc_file = \"/g/data/xv83/dbi599/east-coast-rain/data/Rx15day_MIROC6-dcppA-hindcast_196011-201811_annual-aug-to-sep_east-coast-flood-region_bias-corrected-AGCD-CSIRO-additive.zarr.zip\"\n",
    "similarity_bc_file = \"/g/data/xv83/dbi599/east-coast-rain/data/similarity-test_Rx15day_MIROC6-dcppA-hindcast_196011-201811_annual-aug-to-sep_east-coast-flood-region_bias-corrected-AGCD-CSIRO-additive.zarr.zip\"\n",
    "similarity_raw_file = \"/g/data/xv83/dbi599/east-coast-rain/data/similarity-test_Rx15day_MIROC6-dcppA-hindcast_196011-201811_annual-aug-to-sep_east-coast-flood-region_AGCD-CSIRO.zarr.zip\"\n",
    "independence_plot = \"/g/data/xv83/dbi599/east-coast-rain/figures/independence-test_Rx15day_MIROC6-dcppA-hindcast_196011-201811_annual-aug-to-sep_east-coast-flood-region.png\"\n",
    "model_name = \"MIROC6\"\n",
    "min_lead = 1\n",
    "region_name = \"east-coast-flood-region\"\n",
    "shape_file = \"/g/data/xv83/dbi599/east-coast-rain/shapefiles/east-coast-flood.shp\"\n",
    "file_list = \"file_lists/MIROC6_dcppA-hindcast_pr_files.txt\"\n",
    "nino_file = \"/g/data/xv83/dbi599/east-coast-rain/data/nino34-anomaly_MIROC6-dcppA-hindcast_196011-201811_base-196011-201811.nc\"\n"
   ]
  },
  {
   "cell_type": "code",
   "execution_count": 4,
   "id": "b9787631",
   "metadata": {
    "execution": {
     "iopub.execute_input": "2023-03-03T01:35:40.891701Z",
     "iopub.status.busy": "2023-03-03T01:35:40.890911Z",
     "iopub.status.idle": "2023-03-03T01:35:40.904749Z",
     "shell.execute_reply": "2023-03-03T01:35:40.903281Z"
    },
    "papermill": {
     "duration": 0.028256,
     "end_time": "2023-03-03T01:35:40.906703",
     "exception": false,
     "start_time": "2023-03-03T01:35:40.878447",
     "status": "completed"
    },
    "tags": []
   },
   "outputs": [],
   "source": [
    "# Required parameters\n",
    "assert 'model_name' in locals(), \"Must provide a model name\"\n",
    "assert 'region_name' in locals(), \"Must provide a region name\"\n",
    "assert 'min_lead' in locals(), \"Must provide a minimum lead time\"\n",
    "assert os.path.isfile(file_list), \"Must provide the input model files list (papermill option -p file_list [filepath])\"\n",
    "assert os.path.isfile(shape_file), \"Must provide the shapefile (papermill option -p shape_file [filepath])\"\n",
    "assert os.path.isfile(agcd_file), \"Must provide an AGCD data file (papermill option -p agcd_file [filepath])\"\n",
    "assert os.path.isfile(model_file), \"Must provide an model data file (papermill option -p cafe_file [filepath])\"\n",
    "assert os.path.isfile(model_bc_file), \"Must provide a model bias corrected data file (papermill option -p cafe_bc_file [filepath])\"\n",
    "assert os.path.isfile(nino_file), \"Must provide a model Nino 3.4 data file (papermill option -p nino_file [filepath])\"\n",
    "assert os.path.isfile(similarity_bc_file), \"Must provide an bias corrected similarity test file (papermill option -p similarity_bias_file [filepath])\"\n",
    "assert os.path.isfile(similarity_raw_file), \"Must provide an raw data similarity test file (papermill option -p similarity_raw_file [filepath])\"\n",
    "assert os.path.isfile(independence_plot), \"Must provide an independence test plot (papermill option -p independence_plot [filepath])\""
   ]
  },
  {
   "cell_type": "markdown",
   "id": "5c8da4f2",
   "metadata": {
    "papermill": {
     "duration": 0.009671,
     "end_time": "2023-03-03T01:35:40.928240",
     "exception": false,
     "start_time": "2023-03-03T01:35:40.918569",
     "status": "completed"
    },
    "tags": []
   },
   "source": [
    "## Observations"
   ]
  },
  {
   "cell_type": "code",
   "execution_count": 5,
   "id": "f40952f6",
   "metadata": {
    "execution": {
     "iopub.execute_input": "2023-03-03T01:35:40.959392Z",
     "iopub.status.busy": "2023-03-03T01:35:40.958847Z",
     "iopub.status.idle": "2023-03-03T01:35:41.395679Z",
     "shell.execute_reply": "2023-03-03T01:35:41.394104Z"
    },
    "papermill": {
     "duration": 0.463122,
     "end_time": "2023-03-03T01:35:41.400437",
     "exception": false,
     "start_time": "2023-03-03T01:35:40.937315",
     "status": "completed"
    },
    "tags": []
   },
   "outputs": [],
   "source": [
    "agcd_ds = fileio.open_dataset(agcd_file)\n",
    "agcd_ds = agcd_ds.dropna('time')"
   ]
  },
  {
   "cell_type": "code",
   "execution_count": 6,
   "id": "1493ff0f",
   "metadata": {
    "execution": {
     "iopub.execute_input": "2023-03-03T01:35:41.444920Z",
     "iopub.status.busy": "2023-03-03T01:35:41.444339Z",
     "iopub.status.idle": "2023-03-03T01:35:41.561125Z",
     "shell.execute_reply": "2023-03-03T01:35:41.559646Z"
    },
    "papermill": {
     "duration": 0.139892,
     "end_time": "2023-03-03T01:35:41.563707",
     "exception": false,
     "start_time": "2023-03-03T01:35:41.423815",
     "status": "completed"
    },
    "tags": []
   },
   "outputs": [
    {
     "data": {
      "text/html": [
       "<div><svg style=\"position: absolute; width: 0; height: 0; overflow: hidden\">\n",
       "<defs>\n",
       "<symbol id=\"icon-database\" viewBox=\"0 0 32 32\">\n",
       "<path d=\"M16 0c-8.837 0-16 2.239-16 5v4c0 2.761 7.163 5 16 5s16-2.239 16-5v-4c0-2.761-7.163-5-16-5z\"></path>\n",
       "<path d=\"M16 17c-8.837 0-16-2.239-16-5v6c0 2.761 7.163 5 16 5s16-2.239 16-5v-6c0 2.761-7.163 5-16 5z\"></path>\n",
       "<path d=\"M16 26c-8.837 0-16-2.239-16-5v6c0 2.761 7.163 5 16 5s16-2.239 16-5v-6c0 2.761-7.163 5-16 5z\"></path>\n",
       "</symbol>\n",
       "<symbol id=\"icon-file-text2\" viewBox=\"0 0 32 32\">\n",
       "<path d=\"M28.681 7.159c-0.694-0.947-1.662-2.053-2.724-3.116s-2.169-2.030-3.116-2.724c-1.612-1.182-2.393-1.319-2.841-1.319h-15.5c-1.378 0-2.5 1.121-2.5 2.5v27c0 1.378 1.122 2.5 2.5 2.5h23c1.378 0 2.5-1.122 2.5-2.5v-19.5c0-0.448-0.137-1.23-1.319-2.841zM24.543 5.457c0.959 0.959 1.712 1.825 2.268 2.543h-4.811v-4.811c0.718 0.556 1.584 1.309 2.543 2.268zM28 29.5c0 0.271-0.229 0.5-0.5 0.5h-23c-0.271 0-0.5-0.229-0.5-0.5v-27c0-0.271 0.229-0.5 0.5-0.5 0 0 15.499-0 15.5 0v7c0 0.552 0.448 1 1 1h7v19.5z\"></path>\n",
       "<path d=\"M23 26h-14c-0.552 0-1-0.448-1-1s0.448-1 1-1h14c0.552 0 1 0.448 1 1s-0.448 1-1 1z\"></path>\n",
       "<path d=\"M23 22h-14c-0.552 0-1-0.448-1-1s0.448-1 1-1h14c0.552 0 1 0.448 1 1s-0.448 1-1 1z\"></path>\n",
       "<path d=\"M23 18h-14c-0.552 0-1-0.448-1-1s0.448-1 1-1h14c0.552 0 1 0.448 1 1s-0.448 1-1 1z\"></path>\n",
       "</symbol>\n",
       "</defs>\n",
       "</svg>\n",
       "<style>/* CSS stylesheet for displaying xarray objects in jupyterlab.\n",
       " *\n",
       " */\n",
       "\n",
       ":root {\n",
       "  --xr-font-color0: var(--jp-content-font-color0, rgba(0, 0, 0, 1));\n",
       "  --xr-font-color2: var(--jp-content-font-color2, rgba(0, 0, 0, 0.54));\n",
       "  --xr-font-color3: var(--jp-content-font-color3, rgba(0, 0, 0, 0.38));\n",
       "  --xr-border-color: var(--jp-border-color2, #e0e0e0);\n",
       "  --xr-disabled-color: var(--jp-layout-color3, #bdbdbd);\n",
       "  --xr-background-color: var(--jp-layout-color0, white);\n",
       "  --xr-background-color-row-even: var(--jp-layout-color1, white);\n",
       "  --xr-background-color-row-odd: var(--jp-layout-color2, #eeeeee);\n",
       "}\n",
       "\n",
       "html[theme=dark],\n",
       "body[data-theme=dark],\n",
       "body.vscode-dark {\n",
       "  --xr-font-color0: rgba(255, 255, 255, 1);\n",
       "  --xr-font-color2: rgba(255, 255, 255, 0.54);\n",
       "  --xr-font-color3: rgba(255, 255, 255, 0.38);\n",
       "  --xr-border-color: #1F1F1F;\n",
       "  --xr-disabled-color: #515151;\n",
       "  --xr-background-color: #111111;\n",
       "  --xr-background-color-row-even: #111111;\n",
       "  --xr-background-color-row-odd: #313131;\n",
       "}\n",
       "\n",
       ".xr-wrap {\n",
       "  display: block !important;\n",
       "  min-width: 300px;\n",
       "  max-width: 700px;\n",
       "}\n",
       "\n",
       ".xr-text-repr-fallback {\n",
       "  /* fallback to plain text repr when CSS is not injected (untrusted notebook) */\n",
       "  display: none;\n",
       "}\n",
       "\n",
       ".xr-header {\n",
       "  padding-top: 6px;\n",
       "  padding-bottom: 6px;\n",
       "  margin-bottom: 4px;\n",
       "  border-bottom: solid 1px var(--xr-border-color);\n",
       "}\n",
       "\n",
       ".xr-header > div,\n",
       ".xr-header > ul {\n",
       "  display: inline;\n",
       "  margin-top: 0;\n",
       "  margin-bottom: 0;\n",
       "}\n",
       "\n",
       ".xr-obj-type,\n",
       ".xr-array-name {\n",
       "  margin-left: 2px;\n",
       "  margin-right: 10px;\n",
       "}\n",
       "\n",
       ".xr-obj-type {\n",
       "  color: var(--xr-font-color2);\n",
       "}\n",
       "\n",
       ".xr-sections {\n",
       "  padding-left: 0 !important;\n",
       "  display: grid;\n",
       "  grid-template-columns: 150px auto auto 1fr 20px 20px;\n",
       "}\n",
       "\n",
       ".xr-section-item {\n",
       "  display: contents;\n",
       "}\n",
       "\n",
       ".xr-section-item input {\n",
       "  display: none;\n",
       "}\n",
       "\n",
       ".xr-section-item input + label {\n",
       "  color: var(--xr-disabled-color);\n",
       "}\n",
       "\n",
       ".xr-section-item input:enabled + label {\n",
       "  cursor: pointer;\n",
       "  color: var(--xr-font-color2);\n",
       "}\n",
       "\n",
       ".xr-section-item input:enabled + label:hover {\n",
       "  color: var(--xr-font-color0);\n",
       "}\n",
       "\n",
       ".xr-section-summary {\n",
       "  grid-column: 1;\n",
       "  color: var(--xr-font-color2);\n",
       "  font-weight: 500;\n",
       "}\n",
       "\n",
       ".xr-section-summary > span {\n",
       "  display: inline-block;\n",
       "  padding-left: 0.5em;\n",
       "}\n",
       "\n",
       ".xr-section-summary-in:disabled + label {\n",
       "  color: var(--xr-font-color2);\n",
       "}\n",
       "\n",
       ".xr-section-summary-in + label:before {\n",
       "  display: inline-block;\n",
       "  content: '►';\n",
       "  font-size: 11px;\n",
       "  width: 15px;\n",
       "  text-align: center;\n",
       "}\n",
       "\n",
       ".xr-section-summary-in:disabled + label:before {\n",
       "  color: var(--xr-disabled-color);\n",
       "}\n",
       "\n",
       ".xr-section-summary-in:checked + label:before {\n",
       "  content: '▼';\n",
       "}\n",
       "\n",
       ".xr-section-summary-in:checked + label > span {\n",
       "  display: none;\n",
       "}\n",
       "\n",
       ".xr-section-summary,\n",
       ".xr-section-inline-details {\n",
       "  padding-top: 4px;\n",
       "  padding-bottom: 4px;\n",
       "}\n",
       "\n",
       ".xr-section-inline-details {\n",
       "  grid-column: 2 / -1;\n",
       "}\n",
       "\n",
       ".xr-section-details {\n",
       "  display: none;\n",
       "  grid-column: 1 / -1;\n",
       "  margin-bottom: 5px;\n",
       "}\n",
       "\n",
       ".xr-section-summary-in:checked ~ .xr-section-details {\n",
       "  display: contents;\n",
       "}\n",
       "\n",
       ".xr-array-wrap {\n",
       "  grid-column: 1 / -1;\n",
       "  display: grid;\n",
       "  grid-template-columns: 20px auto;\n",
       "}\n",
       "\n",
       ".xr-array-wrap > label {\n",
       "  grid-column: 1;\n",
       "  vertical-align: top;\n",
       "}\n",
       "\n",
       ".xr-preview {\n",
       "  color: var(--xr-font-color3);\n",
       "}\n",
       "\n",
       ".xr-array-preview,\n",
       ".xr-array-data {\n",
       "  padding: 0 5px !important;\n",
       "  grid-column: 2;\n",
       "}\n",
       "\n",
       ".xr-array-data,\n",
       ".xr-array-in:checked ~ .xr-array-preview {\n",
       "  display: none;\n",
       "}\n",
       "\n",
       ".xr-array-in:checked ~ .xr-array-data,\n",
       ".xr-array-preview {\n",
       "  display: inline-block;\n",
       "}\n",
       "\n",
       ".xr-dim-list {\n",
       "  display: inline-block !important;\n",
       "  list-style: none;\n",
       "  padding: 0 !important;\n",
       "  margin: 0;\n",
       "}\n",
       "\n",
       ".xr-dim-list li {\n",
       "  display: inline-block;\n",
       "  padding: 0;\n",
       "  margin: 0;\n",
       "}\n",
       "\n",
       ".xr-dim-list:before {\n",
       "  content: '(';\n",
       "}\n",
       "\n",
       ".xr-dim-list:after {\n",
       "  content: ')';\n",
       "}\n",
       "\n",
       ".xr-dim-list li:not(:last-child):after {\n",
       "  content: ',';\n",
       "  padding-right: 5px;\n",
       "}\n",
       "\n",
       ".xr-has-index {\n",
       "  font-weight: bold;\n",
       "}\n",
       "\n",
       ".xr-var-list,\n",
       ".xr-var-item {\n",
       "  display: contents;\n",
       "}\n",
       "\n",
       ".xr-var-item > div,\n",
       ".xr-var-item label,\n",
       ".xr-var-item > .xr-var-name span {\n",
       "  background-color: var(--xr-background-color-row-even);\n",
       "  margin-bottom: 0;\n",
       "}\n",
       "\n",
       ".xr-var-item > .xr-var-name:hover span {\n",
       "  padding-right: 5px;\n",
       "}\n",
       "\n",
       ".xr-var-list > li:nth-child(odd) > div,\n",
       ".xr-var-list > li:nth-child(odd) > label,\n",
       ".xr-var-list > li:nth-child(odd) > .xr-var-name span {\n",
       "  background-color: var(--xr-background-color-row-odd);\n",
       "}\n",
       "\n",
       ".xr-var-name {\n",
       "  grid-column: 1;\n",
       "}\n",
       "\n",
       ".xr-var-dims {\n",
       "  grid-column: 2;\n",
       "}\n",
       "\n",
       ".xr-var-dtype {\n",
       "  grid-column: 3;\n",
       "  text-align: right;\n",
       "  color: var(--xr-font-color2);\n",
       "}\n",
       "\n",
       ".xr-var-preview {\n",
       "  grid-column: 4;\n",
       "}\n",
       "\n",
       ".xr-var-name,\n",
       ".xr-var-dims,\n",
       ".xr-var-dtype,\n",
       ".xr-preview,\n",
       ".xr-attrs dt {\n",
       "  white-space: nowrap;\n",
       "  overflow: hidden;\n",
       "  text-overflow: ellipsis;\n",
       "  padding-right: 10px;\n",
       "}\n",
       "\n",
       ".xr-var-name:hover,\n",
       ".xr-var-dims:hover,\n",
       ".xr-var-dtype:hover,\n",
       ".xr-attrs dt:hover {\n",
       "  overflow: visible;\n",
       "  width: auto;\n",
       "  z-index: 1;\n",
       "}\n",
       "\n",
       ".xr-var-attrs,\n",
       ".xr-var-data {\n",
       "  display: none;\n",
       "  background-color: var(--xr-background-color) !important;\n",
       "  padding-bottom: 5px !important;\n",
       "}\n",
       "\n",
       ".xr-var-attrs-in:checked ~ .xr-var-attrs,\n",
       ".xr-var-data-in:checked ~ .xr-var-data {\n",
       "  display: block;\n",
       "}\n",
       "\n",
       ".xr-var-data > table {\n",
       "  float: right;\n",
       "}\n",
       "\n",
       ".xr-var-name span,\n",
       ".xr-var-data,\n",
       ".xr-attrs {\n",
       "  padding-left: 25px !important;\n",
       "}\n",
       "\n",
       ".xr-attrs,\n",
       ".xr-var-attrs,\n",
       ".xr-var-data {\n",
       "  grid-column: 1 / -1;\n",
       "}\n",
       "\n",
       "dl.xr-attrs {\n",
       "  padding: 0;\n",
       "  margin: 0;\n",
       "  display: grid;\n",
       "  grid-template-columns: 125px auto;\n",
       "}\n",
       "\n",
       ".xr-attrs dt,\n",
       ".xr-attrs dd {\n",
       "  padding: 0;\n",
       "  margin: 0;\n",
       "  float: left;\n",
       "  padding-right: 10px;\n",
       "  width: auto;\n",
       "}\n",
       "\n",
       ".xr-attrs dt {\n",
       "  font-weight: normal;\n",
       "  grid-column: 1;\n",
       "}\n",
       "\n",
       ".xr-attrs dt:hover span {\n",
       "  display: inline-block;\n",
       "  background: var(--xr-background-color);\n",
       "  padding-right: 10px;\n",
       "}\n",
       "\n",
       ".xr-attrs dd {\n",
       "  grid-column: 2;\n",
       "  white-space: pre-wrap;\n",
       "  word-break: break-all;\n",
       "}\n",
       "\n",
       ".xr-icon-database,\n",
       ".xr-icon-file-text2 {\n",
       "  display: inline-block;\n",
       "  vertical-align: middle;\n",
       "  width: 1em;\n",
       "  height: 1.5em !important;\n",
       "  stroke-width: 0;\n",
       "  stroke: currentColor;\n",
       "  fill: currentColor;\n",
       "}\n",
       "</style><pre class='xr-text-repr-fallback'>&lt;xarray.Dataset&gt;\n",
       "Dimensions:     (time: 122)\n",
       "Coordinates:\n",
       "    event_time  (time) &lt;U28 dask.array&lt;chunksize=(122,), meta=np.ndarray&gt;\n",
       "  * time        (time) object 1901-01-01 09:00:00 ... 2022-01-01 09:00:00\n",
       "Data variables:\n",
       "    pr          (time) float32 dask.array&lt;chunksize=(1,), meta=np.ndarray&gt;\n",
       "Attributes: (12/33)\n",
       "    CDI:                           Climate Data Interface version ?? (http://...\n",
       "    CDO:                           Climate Data Operators version 1.7.0 (http...\n",
       "    Conventions:                   CF-1.6\n",
       "    acknowledgment:                The Australian Government, Bureau of Meteo...\n",
       "    analysis_components:           total: the gridded accumulation of rainfall.\n",
       "    bom-cmp-awap_version:          bom-cmp-awap-1.00-89.0.x86_64\n",
       "    ...                            ...\n",
       "    summary:                       The daily and monthly rainfall data repres...\n",
       "    time_coverage_end:             1900-01-01T09:00:00\n",
       "    time_coverage_start:           1899-12-31T09:00:00\n",
       "    title:                         Interpolated Rain Gauge Precipitation\n",
       "    url:                           http://www.bom.gov.au/climate/\n",
       "    uuid:                          14333ae2-28fe-4cb6-9f00-677adc94f25e</pre><div class='xr-wrap' style='display:none'><div class='xr-header'><div class='xr-obj-type'>xarray.Dataset</div></div><ul class='xr-sections'><li class='xr-section-item'><input id='section-29aac278-1012-4575-a28e-074fbb733bb0' class='xr-section-summary-in' type='checkbox' disabled ><label for='section-29aac278-1012-4575-a28e-074fbb733bb0' class='xr-section-summary'  title='Expand/collapse section'>Dimensions:</label><div class='xr-section-inline-details'><ul class='xr-dim-list'><li><span class='xr-has-index'>time</span>: 122</li></ul></div><div class='xr-section-details'></div></li><li class='xr-section-item'><input id='section-cec3c3a8-db12-4a6f-977e-f398c336af71' class='xr-section-summary-in' type='checkbox'  checked><label for='section-cec3c3a8-db12-4a6f-977e-f398c336af71' class='xr-section-summary' >Coordinates: <span>(2)</span></label><div class='xr-section-inline-details'></div><div class='xr-section-details'><ul class='xr-var-list'><li class='xr-var-item'><div class='xr-var-name'><span>event_time</span></div><div class='xr-var-dims'>(time)</div><div class='xr-var-dtype'>&lt;U28</div><div class='xr-var-preview xr-preview'>dask.array&lt;chunksize=(122,), meta=np.ndarray&gt;</div><input id='attrs-601590b0-d172-4c8d-947e-5b4f373df5ca' class='xr-var-attrs-in' type='checkbox' disabled><label for='attrs-601590b0-d172-4c8d-947e-5b4f373df5ca' title='Show/Hide attributes'><svg class='icon xr-icon-file-text2'><use xlink:href='#icon-file-text2'></use></svg></label><input id='data-967acef1-e9b3-49ed-9def-e681667c036c' class='xr-var-data-in' type='checkbox'><label for='data-967acef1-e9b3-49ed-9def-e681667c036c' title='Show/Hide data repr'><svg class='icon xr-icon-database'><use xlink:href='#icon-database'></use></svg></label><div class='xr-var-attrs'><dl class='xr-attrs'></dl></div><div class='xr-var-data'><table>\n",
       "    <tr>\n",
       "        <td>\n",
       "            <table style=\"border-collapse: collapse;\">\n",
       "                <thead>\n",
       "                    <tr>\n",
       "                        <td> </td>\n",
       "                        <th> Array </th>\n",
       "                        <th> Chunk </th>\n",
       "                    </tr>\n",
       "                </thead>\n",
       "                <tbody>\n",
       "                    \n",
       "                    <tr>\n",
       "                        <th> Bytes </th>\n",
       "                        <td> 13.34 kiB </td>\n",
       "                        <td> 13.34 kiB </td>\n",
       "                    </tr>\n",
       "                    \n",
       "                    <tr>\n",
       "                        <th> Shape </th>\n",
       "                        <td> (122,) </td>\n",
       "                        <td> (122,) </td>\n",
       "                    </tr>\n",
       "                    <tr>\n",
       "                        <th> Dask graph </th>\n",
       "                        <td colspan=\"2\"> 1 chunks in 3 graph layers </td>\n",
       "                    </tr>\n",
       "                    <tr>\n",
       "                        <th> Data type </th>\n",
       "                        <td colspan=\"2\"> <U28 numpy.ndarray </td>\n",
       "                    </tr>\n",
       "                </tbody>\n",
       "            </table>\n",
       "        </td>\n",
       "        <td>\n",
       "        <svg width=\"170\" height=\"75\" style=\"stroke:rgb(0,0,0);stroke-width:1\" >\n",
       "\n",
       "  <!-- Horizontal lines -->\n",
       "  <line x1=\"0\" y1=\"0\" x2=\"120\" y2=\"0\" style=\"stroke-width:2\" />\n",
       "  <line x1=\"0\" y1=\"25\" x2=\"120\" y2=\"25\" style=\"stroke-width:2\" />\n",
       "\n",
       "  <!-- Vertical lines -->\n",
       "  <line x1=\"0\" y1=\"0\" x2=\"0\" y2=\"25\" style=\"stroke-width:2\" />\n",
       "  <line x1=\"120\" y1=\"0\" x2=\"120\" y2=\"25\" style=\"stroke-width:2\" />\n",
       "\n",
       "  <!-- Colored Rectangle -->\n",
       "  <polygon points=\"0.0,0.0 120.0,0.0 120.0,25.412616514582485 0.0,25.412616514582485\" style=\"fill:#ECB172A0;stroke-width:0\"/>\n",
       "\n",
       "  <!-- Text -->\n",
       "  <text x=\"60.000000\" y=\"45.412617\" font-size=\"1.0rem\" font-weight=\"100\" text-anchor=\"middle\" >122</text>\n",
       "  <text x=\"140.000000\" y=\"12.706308\" font-size=\"1.0rem\" font-weight=\"100\" text-anchor=\"middle\" transform=\"rotate(0,140.000000,12.706308)\">1</text>\n",
       "</svg>\n",
       "        </td>\n",
       "    </tr>\n",
       "</table></div></li><li class='xr-var-item'><div class='xr-var-name'><span class='xr-has-index'>time</span></div><div class='xr-var-dims'>(time)</div><div class='xr-var-dtype'>object</div><div class='xr-var-preview xr-preview'>1901-01-01 09:00:00 ... 2022-01-...</div><input id='attrs-6362ba68-8fd5-48f6-82c3-6ac1bf1175f8' class='xr-var-attrs-in' type='checkbox' ><label for='attrs-6362ba68-8fd5-48f6-82c3-6ac1bf1175f8' title='Show/Hide attributes'><svg class='icon xr-icon-file-text2'><use xlink:href='#icon-file-text2'></use></svg></label><input id='data-42129b6b-00a5-4b50-81e3-d6b8c593fe8f' class='xr-var-data-in' type='checkbox'><label for='data-42129b6b-00a5-4b50-81e3-d6b8c593fe8f' title='Show/Hide data repr'><svg class='icon xr-icon-database'><use xlink:href='#icon-database'></use></svg></label><div class='xr-var-attrs'><dl class='xr-attrs'><dt><span>frequency :</span></dt><dd>A</dd></dl></div><div class='xr-var-data'><pre>array([cftime.DatetimeGregorian(1901, 1, 1, 9, 0, 0, 0, has_year_zero=False),\n",
       "       cftime.DatetimeGregorian(1902, 1, 1, 9, 0, 0, 0, has_year_zero=False),\n",
       "       cftime.DatetimeGregorian(1903, 1, 1, 9, 0, 0, 0, has_year_zero=False),\n",
       "       cftime.DatetimeGregorian(1904, 1, 2, 9, 0, 0, 0, has_year_zero=False),\n",
       "       cftime.DatetimeGregorian(1905, 1, 1, 9, 0, 0, 0, has_year_zero=False),\n",
       "       cftime.DatetimeGregorian(1906, 1, 1, 9, 0, 0, 0, has_year_zero=False),\n",
       "       cftime.DatetimeGregorian(1907, 1, 1, 9, 0, 0, 0, has_year_zero=False),\n",
       "       cftime.DatetimeGregorian(1908, 1, 2, 9, 0, 0, 0, has_year_zero=False),\n",
       "       cftime.DatetimeGregorian(1909, 1, 1, 9, 0, 0, 0, has_year_zero=False),\n",
       "       cftime.DatetimeGregorian(1910, 1, 1, 9, 0, 0, 0, has_year_zero=False),\n",
       "       cftime.DatetimeGregorian(1911, 1, 1, 9, 0, 0, 0, has_year_zero=False),\n",
       "       cftime.DatetimeGregorian(1912, 1, 2, 9, 0, 0, 0, has_year_zero=False),\n",
       "       cftime.DatetimeGregorian(1913, 1, 1, 9, 0, 0, 0, has_year_zero=False),\n",
       "       cftime.DatetimeGregorian(1914, 1, 1, 9, 0, 0, 0, has_year_zero=False),\n",
       "       cftime.DatetimeGregorian(1915, 1, 1, 9, 0, 0, 0, has_year_zero=False),\n",
       "       cftime.DatetimeGregorian(1916, 1, 2, 9, 0, 0, 0, has_year_zero=False),\n",
       "       cftime.DatetimeGregorian(1917, 1, 1, 9, 0, 0, 0, has_year_zero=False),\n",
       "       cftime.DatetimeGregorian(1918, 1, 1, 9, 0, 0, 0, has_year_zero=False),\n",
       "       cftime.DatetimeGregorian(1919, 1, 1, 9, 0, 0, 0, has_year_zero=False),\n",
       "       cftime.DatetimeGregorian(1920, 1, 2, 9, 0, 0, 0, has_year_zero=False),\n",
       "       cftime.DatetimeGregorian(1921, 1, 1, 9, 0, 0, 0, has_year_zero=False),\n",
       "       cftime.DatetimeGregorian(1922, 1, 1, 9, 0, 0, 0, has_year_zero=False),\n",
       "       cftime.DatetimeGregorian(1923, 1, 1, 9, 0, 0, 0, has_year_zero=False),\n",
       "       cftime.DatetimeGregorian(1924, 1, 2, 9, 0, 0, 0, has_year_zero=False),\n",
       "       cftime.DatetimeGregorian(1925, 1, 1, 9, 0, 0, 0, has_year_zero=False),\n",
       "       cftime.DatetimeGregorian(1926, 1, 1, 9, 0, 0, 0, has_year_zero=False),\n",
       "       cftime.DatetimeGregorian(1927, 1, 1, 9, 0, 0, 0, has_year_zero=False),\n",
       "       cftime.DatetimeGregorian(1928, 1, 2, 9, 0, 0, 0, has_year_zero=False),\n",
       "       cftime.DatetimeGregorian(1929, 1, 1, 9, 0, 0, 0, has_year_zero=False),\n",
       "       cftime.DatetimeGregorian(1930, 1, 1, 9, 0, 0, 0, has_year_zero=False),\n",
       "       cftime.DatetimeGregorian(1931, 1, 1, 9, 0, 0, 0, has_year_zero=False),\n",
       "       cftime.DatetimeGregorian(1932, 1, 2, 9, 0, 0, 0, has_year_zero=False),\n",
       "       cftime.DatetimeGregorian(1933, 1, 1, 9, 0, 0, 0, has_year_zero=False),\n",
       "       cftime.DatetimeGregorian(1934, 1, 1, 9, 0, 0, 0, has_year_zero=False),\n",
       "       cftime.DatetimeGregorian(1935, 1, 1, 9, 0, 0, 0, has_year_zero=False),\n",
       "       cftime.DatetimeGregorian(1936, 1, 2, 9, 0, 0, 0, has_year_zero=False),\n",
       "       cftime.DatetimeGregorian(1937, 1, 1, 9, 0, 0, 0, has_year_zero=False),\n",
       "       cftime.DatetimeGregorian(1938, 1, 1, 9, 0, 0, 0, has_year_zero=False),\n",
       "       cftime.DatetimeGregorian(1939, 1, 1, 9, 0, 0, 0, has_year_zero=False),\n",
       "       cftime.DatetimeGregorian(1940, 1, 2, 9, 0, 0, 0, has_year_zero=False),\n",
       "       cftime.DatetimeGregorian(1941, 1, 1, 9, 0, 0, 0, has_year_zero=False),\n",
       "       cftime.DatetimeGregorian(1942, 1, 1, 9, 0, 0, 0, has_year_zero=False),\n",
       "       cftime.DatetimeGregorian(1943, 1, 1, 9, 0, 0, 0, has_year_zero=False),\n",
       "       cftime.DatetimeGregorian(1944, 1, 2, 9, 0, 0, 0, has_year_zero=False),\n",
       "       cftime.DatetimeGregorian(1945, 1, 1, 9, 0, 0, 0, has_year_zero=False),\n",
       "       cftime.DatetimeGregorian(1946, 1, 1, 9, 0, 0, 0, has_year_zero=False),\n",
       "       cftime.DatetimeGregorian(1947, 1, 1, 9, 0, 0, 0, has_year_zero=False),\n",
       "       cftime.DatetimeGregorian(1948, 1, 2, 9, 0, 0, 0, has_year_zero=False),\n",
       "       cftime.DatetimeGregorian(1949, 1, 1, 9, 0, 0, 0, has_year_zero=False),\n",
       "       cftime.DatetimeGregorian(1950, 1, 1, 9, 0, 0, 0, has_year_zero=False),\n",
       "       cftime.DatetimeGregorian(1951, 1, 1, 9, 0, 0, 0, has_year_zero=False),\n",
       "       cftime.DatetimeGregorian(1952, 1, 2, 9, 0, 0, 0, has_year_zero=False),\n",
       "       cftime.DatetimeGregorian(1953, 1, 1, 9, 0, 0, 0, has_year_zero=False),\n",
       "       cftime.DatetimeGregorian(1954, 1, 1, 9, 0, 0, 0, has_year_zero=False),\n",
       "       cftime.DatetimeGregorian(1955, 1, 1, 9, 0, 0, 0, has_year_zero=False),\n",
       "       cftime.DatetimeGregorian(1956, 1, 2, 9, 0, 0, 0, has_year_zero=False),\n",
       "       cftime.DatetimeGregorian(1957, 1, 1, 9, 0, 0, 0, has_year_zero=False),\n",
       "       cftime.DatetimeGregorian(1958, 1, 1, 9, 0, 0, 0, has_year_zero=False),\n",
       "       cftime.DatetimeGregorian(1959, 1, 1, 9, 0, 0, 0, has_year_zero=False),\n",
       "       cftime.DatetimeGregorian(1960, 1, 2, 9, 0, 0, 0, has_year_zero=False),\n",
       "       cftime.DatetimeGregorian(1961, 1, 1, 9, 0, 0, 0, has_year_zero=False),\n",
       "       cftime.DatetimeGregorian(1962, 1, 1, 9, 0, 0, 0, has_year_zero=False),\n",
       "       cftime.DatetimeGregorian(1963, 1, 1, 9, 0, 0, 0, has_year_zero=False),\n",
       "       cftime.DatetimeGregorian(1964, 1, 2, 9, 0, 0, 0, has_year_zero=False),\n",
       "       cftime.DatetimeGregorian(1965, 1, 1, 9, 0, 0, 0, has_year_zero=False),\n",
       "       cftime.DatetimeGregorian(1966, 1, 1, 9, 0, 0, 0, has_year_zero=False),\n",
       "       cftime.DatetimeGregorian(1967, 1, 1, 9, 0, 0, 0, has_year_zero=False),\n",
       "       cftime.DatetimeGregorian(1968, 1, 2, 9, 0, 0, 0, has_year_zero=False),\n",
       "       cftime.DatetimeGregorian(1969, 1, 1, 9, 0, 0, 0, has_year_zero=False),\n",
       "       cftime.DatetimeGregorian(1970, 1, 1, 9, 0, 0, 0, has_year_zero=False),\n",
       "       cftime.DatetimeGregorian(1971, 1, 1, 9, 0, 0, 0, has_year_zero=False),\n",
       "       cftime.DatetimeGregorian(1972, 1, 2, 9, 0, 0, 0, has_year_zero=False),\n",
       "       cftime.DatetimeGregorian(1973, 1, 1, 9, 0, 0, 0, has_year_zero=False),\n",
       "       cftime.DatetimeGregorian(1974, 1, 1, 9, 0, 0, 0, has_year_zero=False),\n",
       "       cftime.DatetimeGregorian(1975, 1, 1, 9, 0, 0, 0, has_year_zero=False),\n",
       "       cftime.DatetimeGregorian(1976, 1, 2, 9, 0, 0, 0, has_year_zero=False),\n",
       "       cftime.DatetimeGregorian(1977, 1, 1, 9, 0, 0, 0, has_year_zero=False),\n",
       "       cftime.DatetimeGregorian(1978, 1, 1, 9, 0, 0, 0, has_year_zero=False),\n",
       "       cftime.DatetimeGregorian(1979, 1, 1, 9, 0, 0, 0, has_year_zero=False),\n",
       "       cftime.DatetimeGregorian(1980, 1, 2, 9, 0, 0, 0, has_year_zero=False),\n",
       "       cftime.DatetimeGregorian(1981, 1, 1, 9, 0, 0, 0, has_year_zero=False),\n",
       "       cftime.DatetimeGregorian(1982, 1, 1, 9, 0, 0, 0, has_year_zero=False),\n",
       "       cftime.DatetimeGregorian(1983, 1, 1, 9, 0, 0, 0, has_year_zero=False),\n",
       "       cftime.DatetimeGregorian(1984, 1, 2, 9, 0, 0, 0, has_year_zero=False),\n",
       "       cftime.DatetimeGregorian(1985, 1, 1, 9, 0, 0, 0, has_year_zero=False),\n",
       "       cftime.DatetimeGregorian(1986, 1, 1, 9, 0, 0, 0, has_year_zero=False),\n",
       "       cftime.DatetimeGregorian(1987, 1, 1, 9, 0, 0, 0, has_year_zero=False),\n",
       "       cftime.DatetimeGregorian(1988, 1, 2, 9, 0, 0, 0, has_year_zero=False),\n",
       "       cftime.DatetimeGregorian(1989, 1, 1, 9, 0, 0, 0, has_year_zero=False),\n",
       "       cftime.DatetimeGregorian(1990, 1, 1, 9, 0, 0, 0, has_year_zero=False),\n",
       "       cftime.DatetimeGregorian(1991, 1, 1, 9, 0, 0, 0, has_year_zero=False),\n",
       "       cftime.DatetimeGregorian(1992, 1, 2, 9, 0, 0, 0, has_year_zero=False),\n",
       "       cftime.DatetimeGregorian(1993, 1, 1, 9, 0, 0, 0, has_year_zero=False),\n",
       "       cftime.DatetimeGregorian(1994, 1, 1, 9, 0, 0, 0, has_year_zero=False),\n",
       "       cftime.DatetimeGregorian(1995, 1, 1, 9, 0, 0, 0, has_year_zero=False),\n",
       "       cftime.DatetimeGregorian(1996, 1, 2, 9, 0, 0, 0, has_year_zero=False),\n",
       "       cftime.DatetimeGregorian(1997, 1, 1, 9, 0, 0, 0, has_year_zero=False),\n",
       "       cftime.DatetimeGregorian(1998, 1, 1, 9, 0, 0, 0, has_year_zero=False),\n",
       "       cftime.DatetimeGregorian(1999, 1, 1, 9, 0, 0, 0, has_year_zero=False),\n",
       "       cftime.DatetimeGregorian(2000, 1, 2, 9, 0, 0, 0, has_year_zero=False),\n",
       "       cftime.DatetimeGregorian(2001, 1, 1, 9, 0, 0, 0, has_year_zero=False),\n",
       "       cftime.DatetimeGregorian(2002, 1, 1, 9, 0, 0, 0, has_year_zero=False),\n",
       "       cftime.DatetimeGregorian(2003, 1, 1, 9, 0, 0, 0, has_year_zero=False),\n",
       "       cftime.DatetimeGregorian(2004, 1, 2, 9, 0, 0, 0, has_year_zero=False),\n",
       "       cftime.DatetimeGregorian(2005, 1, 1, 9, 0, 0, 0, has_year_zero=False),\n",
       "       cftime.DatetimeGregorian(2006, 1, 1, 9, 0, 0, 0, has_year_zero=False),\n",
       "       cftime.DatetimeGregorian(2007, 1, 1, 9, 0, 0, 0, has_year_zero=False),\n",
       "       cftime.DatetimeGregorian(2008, 1, 2, 9, 0, 0, 0, has_year_zero=False),\n",
       "       cftime.DatetimeGregorian(2009, 1, 1, 9, 0, 0, 0, has_year_zero=False),\n",
       "       cftime.DatetimeGregorian(2010, 1, 1, 9, 0, 0, 0, has_year_zero=False),\n",
       "       cftime.DatetimeGregorian(2011, 1, 1, 9, 0, 0, 0, has_year_zero=False),\n",
       "       cftime.DatetimeGregorian(2012, 1, 2, 9, 0, 0, 0, has_year_zero=False),\n",
       "       cftime.DatetimeGregorian(2013, 1, 1, 9, 0, 0, 0, has_year_zero=False),\n",
       "       cftime.DatetimeGregorian(2014, 1, 1, 9, 0, 0, 0, has_year_zero=False),\n",
       "       cftime.DatetimeGregorian(2015, 1, 1, 9, 0, 0, 0, has_year_zero=False),\n",
       "       cftime.DatetimeGregorian(2016, 1, 2, 9, 0, 0, 0, has_year_zero=False),\n",
       "       cftime.DatetimeGregorian(2017, 1, 1, 9, 0, 0, 0, has_year_zero=False),\n",
       "       cftime.DatetimeGregorian(2018, 1, 1, 9, 0, 0, 0, has_year_zero=False),\n",
       "       cftime.DatetimeGregorian(2019, 1, 1, 9, 0, 0, 0, has_year_zero=False),\n",
       "       cftime.DatetimeGregorian(2020, 1, 2, 9, 0, 0, 0, has_year_zero=False),\n",
       "       cftime.DatetimeGregorian(2021, 1, 1, 9, 0, 0, 0, has_year_zero=False),\n",
       "       cftime.DatetimeGregorian(2022, 1, 1, 9, 0, 0, 0, has_year_zero=False)],\n",
       "      dtype=object)</pre></div></li></ul></div></li><li class='xr-section-item'><input id='section-cd01abd1-429e-4bfe-a053-0f67d6535d23' class='xr-section-summary-in' type='checkbox'  checked><label for='section-cd01abd1-429e-4bfe-a053-0f67d6535d23' class='xr-section-summary' >Data variables: <span>(1)</span></label><div class='xr-section-inline-details'></div><div class='xr-section-details'><ul class='xr-var-list'><li class='xr-var-item'><div class='xr-var-name'><span>pr</span></div><div class='xr-var-dims'>(time)</div><div class='xr-var-dtype'>float32</div><div class='xr-var-preview xr-preview'>dask.array&lt;chunksize=(1,), meta=np.ndarray&gt;</div><input id='attrs-be37eb58-fcba-48c5-8a38-7140fca86ab3' class='xr-var-attrs-in' type='checkbox' ><label for='attrs-be37eb58-fcba-48c5-8a38-7140fca86ab3' title='Show/Hide attributes'><svg class='icon xr-icon-file-text2'><use xlink:href='#icon-file-text2'></use></svg></label><input id='data-a32be5e4-6679-4ed8-aba6-0d80afe26bf9' class='xr-var-data-in' type='checkbox'><label for='data-a32be5e4-6679-4ed8-aba6-0d80afe26bf9' title='Show/Hide data repr'><svg class='icon xr-icon-database'><use xlink:href='#icon-database'></use></svg></label><div class='xr-var-attrs'><dl class='xr-attrs'><dt><span>analysis_time :</span></dt><dd>2010-10-23 14:49:46 UTC</dd><dt><span>analysis_version_number :</span></dt><dd>3.01</dd><dt><span>cell_methods :</span></dt><dd>time: sum</dd><dt><span>frequency :</span></dt><dd>daily</dd><dt><span>length_scale_for_analysis :</span></dt><dd>80.0</dd><dt><span>long_name :</span></dt><dd>Daily precipitation</dd><dt><span>number_of_stations_reporting :</span></dt><dd>2757</dd><dt><span>source :</span></dt><dd>Interpolated surface observations</dd><dt><span>standard_name :</span></dt><dd>lwe_thickness_of_precipitation_amount</dd><dt><span>units :</span></dt><dd>mm day-1</dd></dl></div><div class='xr-var-data'><table>\n",
       "    <tr>\n",
       "        <td>\n",
       "            <table style=\"border-collapse: collapse;\">\n",
       "                <thead>\n",
       "                    <tr>\n",
       "                        <td> </td>\n",
       "                        <th> Array </th>\n",
       "                        <th> Chunk </th>\n",
       "                    </tr>\n",
       "                </thead>\n",
       "                <tbody>\n",
       "                    \n",
       "                    <tr>\n",
       "                        <th> Bytes </th>\n",
       "                        <td> 488 B </td>\n",
       "                        <td> 4 B </td>\n",
       "                    </tr>\n",
       "                    \n",
       "                    <tr>\n",
       "                        <th> Shape </th>\n",
       "                        <td> (122,) </td>\n",
       "                        <td> (1,) </td>\n",
       "                    </tr>\n",
       "                    <tr>\n",
       "                        <th> Dask graph </th>\n",
       "                        <td colspan=\"2\"> 122 chunks in 3 graph layers </td>\n",
       "                    </tr>\n",
       "                    <tr>\n",
       "                        <th> Data type </th>\n",
       "                        <td colspan=\"2\"> float32 numpy.ndarray </td>\n",
       "                    </tr>\n",
       "                </tbody>\n",
       "            </table>\n",
       "        </td>\n",
       "        <td>\n",
       "        <svg width=\"170\" height=\"75\" style=\"stroke:rgb(0,0,0);stroke-width:1\" >\n",
       "\n",
       "  <!-- Horizontal lines -->\n",
       "  <line x1=\"0\" y1=\"0\" x2=\"120\" y2=\"0\" style=\"stroke-width:2\" />\n",
       "  <line x1=\"0\" y1=\"25\" x2=\"120\" y2=\"25\" style=\"stroke-width:2\" />\n",
       "\n",
       "  <!-- Vertical lines -->\n",
       "  <line x1=\"0\" y1=\"0\" x2=\"0\" y2=\"25\" style=\"stroke-width:2\" />\n",
       "  <line x1=\"5\" y1=\"0\" x2=\"5\" y2=\"25\" />\n",
       "  <line x1=\"11\" y1=\"0\" x2=\"11\" y2=\"25\" />\n",
       "  <line x1=\"18\" y1=\"0\" x2=\"18\" y2=\"25\" />\n",
       "  <line x1=\"24\" y1=\"0\" x2=\"24\" y2=\"25\" />\n",
       "  <line x1=\"31\" y1=\"0\" x2=\"31\" y2=\"25\" />\n",
       "  <line x1=\"37\" y1=\"0\" x2=\"37\" y2=\"25\" />\n",
       "  <line x1=\"43\" y1=\"0\" x2=\"43\" y2=\"25\" />\n",
       "  <line x1=\"50\" y1=\"0\" x2=\"50\" y2=\"25\" />\n",
       "  <line x1=\"56\" y1=\"0\" x2=\"56\" y2=\"25\" />\n",
       "  <line x1=\"62\" y1=\"0\" x2=\"62\" y2=\"25\" />\n",
       "  <line x1=\"68\" y1=\"0\" x2=\"68\" y2=\"25\" />\n",
       "  <line x1=\"75\" y1=\"0\" x2=\"75\" y2=\"25\" />\n",
       "  <line x1=\"81\" y1=\"0\" x2=\"81\" y2=\"25\" />\n",
       "  <line x1=\"87\" y1=\"0\" x2=\"87\" y2=\"25\" />\n",
       "  <line x1=\"94\" y1=\"0\" x2=\"94\" y2=\"25\" />\n",
       "  <line x1=\"100\" y1=\"0\" x2=\"100\" y2=\"25\" />\n",
       "  <line x1=\"107\" y1=\"0\" x2=\"107\" y2=\"25\" />\n",
       "  <line x1=\"113\" y1=\"0\" x2=\"113\" y2=\"25\" />\n",
       "  <line x1=\"120\" y1=\"0\" x2=\"120\" y2=\"25\" style=\"stroke-width:2\" />\n",
       "\n",
       "  <!-- Colored Rectangle -->\n",
       "  <polygon points=\"0.0,0.0 120.0,0.0 120.0,25.412616514582485 0.0,25.412616514582485\" style=\"fill:#8B4903A0;stroke-width:0\"/>\n",
       "\n",
       "  <!-- Text -->\n",
       "  <text x=\"60.000000\" y=\"45.412617\" font-size=\"1.0rem\" font-weight=\"100\" text-anchor=\"middle\" >122</text>\n",
       "  <text x=\"140.000000\" y=\"12.706308\" font-size=\"1.0rem\" font-weight=\"100\" text-anchor=\"middle\" transform=\"rotate(0,140.000000,12.706308)\">1</text>\n",
       "</svg>\n",
       "        </td>\n",
       "    </tr>\n",
       "</table></div></li></ul></div></li><li class='xr-section-item'><input id='section-17a51111-a516-459d-b98b-864d47ecb434' class='xr-section-summary-in' type='checkbox'  ><label for='section-17a51111-a516-459d-b98b-864d47ecb434' class='xr-section-summary' >Attributes: <span>(33)</span></label><div class='xr-section-inline-details'></div><div class='xr-section-details'><dl class='xr-attrs'><dt><span>CDI :</span></dt><dd>Climate Data Interface version ?? (http://mpimet.mpg.de/cdi)</dd><dt><span>CDO :</span></dt><dd>Climate Data Operators version 1.7.0 (http://mpimet.mpg.de/cdo)</dd><dt><span>Conventions :</span></dt><dd>CF-1.6</dd><dt><span>acknowledgment :</span></dt><dd>The Australian Government, Bureau of Meteorology; The Australian Water Availability Project; The AusCover facility of the Terrestrial Ecosystem Research Network (TERN)</dd><dt><span>analysis_components :</span></dt><dd>total: the gridded accumulation of rainfall.</dd><dt><span>bom-cmp-awap_version :</span></dt><dd>bom-cmp-awap-1.00-89.0.x86_64</dd><dt><span>bom-cmp-util_aifs2nc_version :</span></dt><dd>bom-cmp-util_aifs2nc-v1.1.0-2.x86_64</dd><dt><span>cdm_data_type :</span></dt><dd>Grid</dd><dt><span>copyright :</span></dt><dd>(C) Copyright Commonwealth of Australia 2017, Bureau of Meteorology (ABN 92637 533532), see http://www.bom.gov.au/other/copyright.shtml for terms and conditions of reuse.</dd><dt><span>data_format :</span></dt><dd>netCDF4 with zlib compression</dd><dt><span>date_created :</span></dt><dd>2017-01-17T22:13:51.976225</dd><dt><span>geospatial_lat_max :</span></dt><dd>-9.975000381469727</dd><dt><span>geospatial_lat_min :</span></dt><dd>-44.525001525878906</dd><dt><span>geospatial_lon_max :</span></dt><dd>156.27499389648438</dd><dt><span>geospatial_lon_min :</span></dt><dd>111.9749984741211</dd><dt><span>history :</span></dt><dd>Wed Jan 04 15:38:00 2023: /g/data/xv83/dbi599/miniconda3/envs/unseen/bin/python3.9 /g/data/xv83/dbi599/miniconda3/envs/unseen/bin/fileio /g/data/xv83/agcd-csiro/precip/daily/precip-total_AGCD-CSIRO_r005_19000101-19001231_daily.nc /g/data/xv83/agcd-csiro/precip/daily/precip-total_AGCD-CSIRO_r005_19010101-19011231_daily.nc /g/data/xv83/agcd-csiro/precip/daily/precip-total_AGCD-CSIRO_r005_19020101-19021231_daily.nc /g/data/xv83/agcd-csiro/precip/daily/precip-total_AGCD-CSIRO_r005_19030101-19031231_daily.nc /g/data/xv83/agcd-csiro/precip/daily/precip-total_AGCD-CSIRO_r005_19040101-19041231_daily.nc /g/data/xv83/agcd-csiro/precip/daily/precip-total_AGCD-CSIRO_r005_19050101-19051231_daily.nc /g/data/xv83/agcd-csiro/precip/daily/precip-total_AGCD-CSIRO_r005_19060101-19061231_daily.nc /g/data/xv83/agcd-csiro/precip/daily/precip-total_AGCD-CSIRO_r005_19070101-19071231_daily.nc /g/data/xv83/agcd-csiro/precip/daily/precip-total_AGCD-CSIRO_r005_19080101-19081231_daily.nc /g/data/xv83/agcd-csiro/precip/daily/precip-total_AGCD-CSIRO_r005_19090101-19091231_daily.nc /g/data/xv83/agcd-csiro/precip/daily/precip-total_AGCD-CSIRO_r005_19100101-19101231_daily.nc /g/data/xv83/agcd-csiro/precip/daily/precip-total_AGCD-CSIRO_r005_19110101-19111231_daily.nc /g/data/xv83/agcd-csiro/precip/daily/precip-total_AGCD-CSIRO_r005_19120101-19121231_daily.nc /g/data/xv83/agcd-csiro/precip/daily/precip-total_AGCD-CSIRO_r005_19130101-19131231_daily.nc /g/data/xv83/agcd-csiro/precip/daily/precip-total_AGCD-CSIRO_r005_19140101-19141231_daily.nc /g/data/xv83/agcd-csiro/precip/daily/precip-total_AGCD-CSIRO_r005_19150101-19151231_daily.nc /g/data/xv83/agcd-csiro/precip/daily/precip-total_AGCD-CSIRO_r005_19160101-19161231_daily.nc /g/data/xv83/agcd-csiro/precip/daily/precip-total_AGCD-CSIRO_r005_19170101-19171231_daily.nc /g/data/xv83/agcd-csiro/precip/daily/precip-total_AGCD-CSIRO_r005_19180101-19181231_daily.nc /g/data/xv83/agcd-csiro/precip/daily/precip-total_AGCD-CSIRO_r005_19190101-19191231_daily.nc /g/data/xv83/agcd-csiro/precip/daily/precip-total_AGCD-CSIRO_r005_19200101-19201231_daily.nc /g/data/xv83/agcd-csiro/precip/daily/precip-total_AGCD-CSIRO_r005_19210101-19211231_daily.nc /g/data/xv83/agcd-csiro/precip/daily/precip-total_AGCD-CSIRO_r005_19220101-19221231_daily.nc /g/data/xv83/agcd-csiro/precip/daily/precip-total_AGCD-CSIRO_r005_19230101-19231231_daily.nc /g/data/xv83/agcd-csiro/precip/daily/precip-total_AGCD-CSIRO_r005_19240101-19241231_daily.nc /g/data/xv83/agcd-csiro/precip/daily/precip-total_AGCD-CSIRO_r005_19250101-19251231_daily.nc /g/data/xv83/agcd-csiro/precip/daily/precip-total_AGCD-CSIRO_r005_19260101-19261231_daily.nc /g/data/xv83/agcd-csiro/precip/daily/precip-total_AGCD-CSIRO_r005_19270101-19271231_daily.nc /g/data/xv83/agcd-csiro/precip/daily/precip-total_AGCD-CSIRO_r005_19280101-19281231_daily.nc /g/data/xv83/agcd-csiro/precip/daily/precip-total_AGCD-CSIRO_r005_19290101-19291231_daily.nc /g/data/xv83/agcd-csiro/precip/daily/precip-total_AGCD-CSIRO_r005_19300101-19301231_daily.nc /g/data/xv83/agcd-csiro/precip/daily/precip-total_AGCD-CSIRO_r005_19310101-19311231_daily.nc /g/data/xv83/agcd-csiro/precip/daily/precip-total_AGCD-CSIRO_r005_19320101-19321231_daily.nc /g/data/xv83/agcd-csiro/precip/daily/precip-total_AGCD-CSIRO_r005_19330101-19331231_daily.nc /g/data/xv83/agcd-csiro/precip/daily/precip-total_AGCD-CSIRO_r005_19340101-19341231_daily.nc /g/data/xv83/agcd-csiro/precip/daily/precip-total_AGCD-CSIRO_r005_19350101-19351231_daily.nc /g/data/xv83/agcd-csiro/precip/daily/precip-total_AGCD-CSIRO_r005_19360101-19361231_daily.nc /g/data/xv83/agcd-csiro/precip/daily/precip-total_AGCD-CSIRO_r005_19370101-19371231_daily.nc /g/data/xv83/agcd-csiro/precip/daily/precip-total_AGCD-CSIRO_r005_19380101-19381231_daily.nc /g/data/xv83/agcd-csiro/precip/daily/precip-total_AGCD-CSIRO_r005_19390101-19391231_daily.nc /g/data/xv83/agcd-csiro/precip/daily/precip-total_AGCD-CSIRO_r005_19400101-19401231_daily.nc /g/data/xv83/agcd-csiro/precip/daily/precip-total_AGCD-CSIRO_r005_19410101-19411231_daily.nc /g/data/xv83/agcd-csiro/precip/daily/precip-total_AGCD-CSIRO_r005_19420101-19421231_daily.nc /g/data/xv83/agcd-csiro/precip/daily/precip-total_AGCD-CSIRO_r005_19430101-19431231_daily.nc /g/data/xv83/agcd-csiro/precip/daily/precip-total_AGCD-CSIRO_r005_19440101-19441231_daily.nc /g/data/xv83/agcd-csiro/precip/daily/precip-total_AGCD-CSIRO_r005_19450101-19451231_daily.nc /g/data/xv83/agcd-csiro/precip/daily/precip-total_AGCD-CSIRO_r005_19460101-19461231_daily.nc /g/data/xv83/agcd-csiro/precip/daily/precip-total_AGCD-CSIRO_r005_19470101-19471231_daily.nc /g/data/xv83/agcd-csiro/precip/daily/precip-total_AGCD-CSIRO_r005_19480101-19481231_daily.nc /g/data/xv83/agcd-csiro/precip/daily/precip-total_AGCD-CSIRO_r005_19490101-19491231_daily.nc /g/data/xv83/agcd-csiro/precip/daily/precip-total_AGCD-CSIRO_r005_19500101-19501231_daily.nc /g/data/xv83/agcd-csiro/precip/daily/precip-total_AGCD-CSIRO_r005_19510101-19511231_daily.nc /g/data/xv83/agcd-csiro/precip/daily/precip-total_AGCD-CSIRO_r005_19520101-19521231_daily.nc /g/data/xv83/agcd-csiro/precip/daily/precip-total_AGCD-CSIRO_r005_19530101-19531231_daily.nc /g/data/xv83/agcd-csiro/precip/daily/precip-total_AGCD-CSIRO_r005_19540101-19541231_daily.nc /g/data/xv83/agcd-csiro/precip/daily/precip-total_AGCD-CSIRO_r005_19550101-19551231_daily.nc /g/data/xv83/agcd-csiro/precip/daily/precip-total_AGCD-CSIRO_r005_19560101-19561231_daily.nc /g/data/xv83/agcd-csiro/precip/daily/precip-total_AGCD-CSIRO_r005_19570101-19571231_daily.nc /g/data/xv83/agcd-csiro/precip/daily/precip-total_AGCD-CSIRO_r005_19580101-19581231_daily.nc /g/data/xv83/agcd-csiro/precip/daily/precip-total_AGCD-CSIRO_r005_19590101-19591231_daily.nc /g/data/xv83/agcd-csiro/precip/daily/precip-total_AGCD-CSIRO_r005_19600101-19601231_daily.nc /g/data/xv83/agcd-csiro/precip/daily/precip-total_AGCD-CSIRO_r005_19610101-19611231_daily.nc /g/data/xv83/agcd-csiro/precip/daily/precip-total_AGCD-CSIRO_r005_19620101-19621231_daily.nc /g/data/xv83/agcd-csiro/precip/daily/precip-total_AGCD-CSIRO_r005_19630101-19631231_daily.nc /g/data/xv83/agcd-csiro/precip/daily/precip-total_AGCD-CSIRO_r005_19640101-19641231_daily.nc /g/data/xv83/agcd-csiro/precip/daily/precip-total_AGCD-CSIRO_r005_19650101-19651231_daily.nc /g/data/xv83/agcd-csiro/precip/daily/precip-total_AGCD-CSIRO_r005_19660101-19661231_daily.nc /g/data/xv83/agcd-csiro/precip/daily/precip-total_AGCD-CSIRO_r005_19670101-19671231_daily.nc /g/data/xv83/agcd-csiro/precip/daily/precip-total_AGCD-CSIRO_r005_19680101-19681231_daily.nc /g/data/xv83/agcd-csiro/precip/daily/precip-total_AGCD-CSIRO_r005_19690101-19691231_daily.nc /g/data/xv83/agcd-csiro/precip/daily/precip-total_AGCD-CSIRO_r005_19700101-19701231_daily.nc /g/data/xv83/agcd-csiro/precip/daily/precip-total_AGCD-CSIRO_r005_19710101-19711231_daily.nc /g/data/xv83/agcd-csiro/precip/daily/precip-total_AGCD-CSIRO_r005_19720101-19721231_daily.nc /g/data/xv83/agcd-csiro/precip/daily/precip-total_AGCD-CSIRO_r005_19730101-19731231_daily.nc /g/data/xv83/agcd-csiro/precip/daily/precip-total_AGCD-CSIRO_r005_19740101-19741231_daily.nc /g/data/xv83/agcd-csiro/precip/daily/precip-total_AGCD-CSIRO_r005_19750101-19751231_daily.nc /g/data/xv83/agcd-csiro/precip/daily/precip-total_AGCD-CSIRO_r005_19760101-19761231_daily.nc /g/data/xv83/agcd-csiro/precip/daily/precip-total_AGCD-CSIRO_r005_19770101-19771231_daily.nc /g/data/xv83/agcd-csiro/precip/daily/precip-total_AGCD-CSIRO_r005_19780101-19781231_daily.nc /g/data/xv83/agcd-csiro/precip/daily/precip-total_AGCD-CSIRO_r005_19790101-19791231_daily.nc /g/data/xv83/agcd-csiro/precip/daily/precip-total_AGCD-CSIRO_r005_19800101-19801231_daily.nc /g/data/xv83/agcd-csiro/precip/daily/precip-total_AGCD-CSIRO_r005_19810101-19811231_daily.nc /g/data/xv83/agcd-csiro/precip/daily/precip-total_AGCD-CSIRO_r005_19820101-19821231_daily.nc /g/data/xv83/agcd-csiro/precip/daily/precip-total_AGCD-CSIRO_r005_19830101-19831231_daily.nc /g/data/xv83/agcd-csiro/precip/daily/precip-total_AGCD-CSIRO_r005_19840101-19841231_daily.nc /g/data/xv83/agcd-csiro/precip/daily/precip-total_AGCD-CSIRO_r005_19850101-19851231_daily.nc /g/data/xv83/agcd-csiro/precip/daily/precip-total_AGCD-CSIRO_r005_19860101-19861231_daily.nc /g/data/xv83/agcd-csiro/precip/daily/precip-total_AGCD-CSIRO_r005_19870101-19871231_daily.nc /g/data/xv83/agcd-csiro/precip/daily/precip-total_AGCD-CSIRO_r005_19880101-19881231_daily.nc /g/data/xv83/agcd-csiro/precip/daily/precip-total_AGCD-CSIRO_r005_19890101-19891231_daily.nc /g/data/xv83/agcd-csiro/precip/daily/precip-total_AGCD-CSIRO_r005_19900101-19901231_daily.nc /g/data/xv83/agcd-csiro/precip/daily/precip-total_AGCD-CSIRO_r005_19910101-19911231_daily.nc /g/data/xv83/agcd-csiro/precip/daily/precip-total_AGCD-CSIRO_r005_19920101-19921231_daily.nc /g/data/xv83/agcd-csiro/precip/daily/precip-total_AGCD-CSIRO_r005_19930101-19931231_daily.nc /g/data/xv83/agcd-csiro/precip/daily/precip-total_AGCD-CSIRO_r005_19940101-19941231_daily.nc /g/data/xv83/agcd-csiro/precip/daily/precip-total_AGCD-CSIRO_r005_19950101-19951231_daily.nc /g/data/xv83/agcd-csiro/precip/daily/precip-total_AGCD-CSIRO_r005_19960101-19961231_daily.nc /g/data/xv83/agcd-csiro/precip/daily/precip-total_AGCD-CSIRO_r005_19970101-19971231_daily.nc /g/data/xv83/agcd-csiro/precip/daily/precip-total_AGCD-CSIRO_r005_19980101-19981231_daily.nc /g/data/xv83/agcd-csiro/precip/daily/precip-total_AGCD-CSIRO_r005_19990101-19991231_daily.nc /g/data/xv83/agcd-csiro/precip/daily/precip-total_AGCD-CSIRO_r005_20000101-20001231_daily.nc /g/data/xv83/agcd-csiro/precip/daily/precip-total_AGCD-CSIRO_r005_20010101-20011231_daily.nc /g/data/xv83/agcd-csiro/precip/daily/precip-total_AGCD-CSIRO_r005_20020101-20021231_daily.nc /g/data/xv83/agcd-csiro/precip/daily/precip-total_AGCD-CSIRO_r005_20030101-20031231_daily.nc /g/data/xv83/agcd-csiro/precip/daily/precip-total_AGCD-CSIRO_r005_20040101-20041231_daily.nc /g/data/xv83/agcd-csiro/precip/daily/precip-total_AGCD-CSIRO_r005_20050101-20051231_daily.nc /g/data/xv83/agcd-csiro/precip/daily/precip-total_AGCD-CSIRO_r005_20060101-20061231_daily.nc /g/data/xv83/agcd-csiro/precip/daily/precip-total_AGCD-CSIRO_r005_20070101-20071231_daily.nc /g/data/xv83/agcd-csiro/precip/daily/precip-total_AGCD-CSIRO_r005_20080101-20081231_daily.nc /g/data/xv83/agcd-csiro/precip/daily/precip-total_AGCD-CSIRO_r005_20090101-20091231_daily.nc /g/data/xv83/agcd-csiro/precip/daily/precip-total_AGCD-CSIRO_r005_20100101-20101231_daily.nc /g/data/xv83/agcd-csiro/precip/daily/precip-total_AGCD-CSIRO_r005_20110101-20111231_daily.nc /g/data/xv83/agcd-csiro/precip/daily/precip-total_AGCD-CSIRO_r005_20120101-20121231_daily.nc /g/data/xv83/agcd-csiro/precip/daily/precip-total_AGCD-CSIRO_r005_20130101-20131231_daily.nc /g/data/xv83/agcd-csiro/precip/daily/precip-total_AGCD-CSIRO_r005_20140101-20141231_daily.nc /g/data/xv83/agcd-csiro/precip/daily/precip-total_AGCD-CSIRO_r005_20150101-20151231_daily.nc /g/data/xv83/agcd-csiro/precip/daily/precip-total_AGCD-CSIRO_r005_20160101-20161231_daily.nc /g/data/xv83/agcd-csiro/precip/daily/precip-total_AGCD-CSIRO_r005_20170101-20171231_daily.nc /g/data/xv83/agcd-csiro/precip/daily/precip-total_AGCD-CSIRO_r005_20180101-20181231_daily.nc /g/data/xv83/agcd-csiro/precip/daily/precip-total_AGCD-CSIRO_r005_20190101-20191231_daily.nc /g/data/xv83/agcd-csiro/precip/daily/precip-total_AGCD-CSIRO_r005_20200101-20201231_daily.nc /g/data/xv83/agcd-csiro/precip/daily/precip-total_AGCD-CSIRO_r005_20210101-20211231_daily.nc /g/data/xv83/agcd-csiro/precip/daily/precip-total_AGCD-CSIRO_r005_20220101-20221231_daily.nc /g/data/xv83/dbi599/east-coast-rain/data/Rx15day_AGCD-CSIRO_r005_1900-2022_annual-aug-to-sep_east-coast-flood-region.zarr.zip --variables pr --spatial_agg weighted_mean --rolling_sum_window 15 --shapefile /g/data/xv83/dbi599/east-coast-rain/shapefiles/east-coast-flood.shp --time_freq A-AUG --time_agg max --input_freq D --units_timing middle --reset_times --complete_time_agg_periods --dask_config dask_local.yml --verbose --time_agg_dates --metadata_file /home/599/dbi599/unseen/config/dataset_agcd_daily.yml (git@github.com:AusClimateService/east-coast-rain)</dd><dt><span>id :</span></dt><dd>Australian Gridded Climate Data (AGCD)</dd><dt><span>institution :</span></dt><dd>Australian Bureau of Meteorology, GPO Box 1289, Melbourne VIC 3001, Australia</dd><dt><span>keywords :</span></dt><dd>Earth Science, Atmosphere, Precipitation, Precipitation Amount, Liquid Water Equivalent</dd><dt><span>keywords_reference :</span></dt><dd>Global Change Master Directory (GCMD). 2015. GCMD Keywords, Version 8.1. Greenbelt, MD: Global Change Data Center, Science and Exploration Directorate, Goddard Space Flight Center (GSFC) National Aeronautics and Space Administration (NASA). URL:http://gcmd.nasa.gov/learn/keywords.html</dd><dt><span>keywords_vocabulary :</span></dt><dd>GCMD Science Keywords, Version 8.1</dd><dt><span>licence :</span></dt><dd>Copyright for any data supplied by the Bureau of Meteorology is held in the Commonwealth of Australia and the purchaser shall give acknowledgement of the source in reference to the data. Apart from dealings under the Copyright Act 1968, the purchaser shall not reproduce (electronically or otherwise), modify or supply (by sale or otherwise) these data without written permission from the supplier.</dd><dt><span>naming_authority :</span></dt><dd>au.gov.bom</dd><dt><span>netcdf_version :</span></dt><dd>4.3.0 of Jul 16 2013 05:46:56 $</dd><dt><span>original_AIFS_header :</span></dt><dd>SOUTHWEST_LATITUDE: 44.5, SOUTHWEST_LONGITUDE: 112.0, NUMBER_OF_LONGITUDES_IN_GRID: 886, RAINFALL_ANALYSIS: 1900010119000101, LENGTH_SCALE_FOR_ANALYSIS: 80.0, BUREAU_OF_METEOROLOGY, NUMBER_OF_LATITUDES_IN_GRID: 691, GRID_INCREMENT_OF_LONGITUDE: 0.05, GRID_INCREMENT_OF_LATITUDE: 0.05, ROW_CHANGES_WITH_LONGITUDE, NUMBER_OF_STATIONS_REPORTING: 2757, ANALYSIS_TIME: 2010-10-23 14:49:46 UTC, COLUMN_NUMBER_AT_SOUTHWEST_CORNER: 1, ROW_NUMBER_AT_SOUTHWEST_CORNER: 1, ANALYSIS_VERSION_NUMBER: 3.01, LATITUDE_-_LONGITUDE_GRID</dd><dt><span>references :</span></dt><dd>http://www.bom.gov.au/amm/docs/2009/jones_hres.pdf; http://www.csiro.au/awap; http://www.cawcr.gov.au/technical-reports/CTR_013.pdf</dd><dt><span>standard_name_vocabulary :</span></dt><dd>CF Standard Names, v28</dd><dt><span>summary :</span></dt><dd>The daily and monthly rainfall data represents the amount of precipitation of any type (including the liquid equivalent of frozen hydrometeors such as hail and snow) observed by means of rain gauges stationed across Australia. These gauges measure millimetres of liquid water depth over a 24-hour period running from 9am local clock time the previous day to 9am on the observed day. Rainfall data from up to 6500 sites across the country are analysed, with limited quality control, onto 0.05x0.05 degree grids using the technique described in Jones et al. (2009). Monthly rainfall totals are calculated from the accumulation of the contributing daily rainfall totals, and may incorporate multi-day rainfall totals if observations were missing on any one day. Weekly rainfall totals are calculated from the sum of the daily grids. Multi-month rainfall totals are calculated from the sum of monthly grids. Month-to-date and Year-to-date rainfall grids are calculated from the sum of the contributing monthly and daily grids. </dd><dt><span>time_coverage_end :</span></dt><dd>1900-01-01T09:00:00</dd><dt><span>time_coverage_start :</span></dt><dd>1899-12-31T09:00:00</dd><dt><span>title :</span></dt><dd>Interpolated Rain Gauge Precipitation</dd><dt><span>url :</span></dt><dd>http://www.bom.gov.au/climate/</dd><dt><span>uuid :</span></dt><dd>14333ae2-28fe-4cb6-9f00-677adc94f25e</dd></dl></div></li></ul></div></div>"
      ],
      "text/plain": [
       "<xarray.Dataset>\n",
       "Dimensions:     (time: 122)\n",
       "Coordinates:\n",
       "    event_time  (time) <U28 dask.array<chunksize=(122,), meta=np.ndarray>\n",
       "  * time        (time) object 1901-01-01 09:00:00 ... 2022-01-01 09:00:00\n",
       "Data variables:\n",
       "    pr          (time) float32 dask.array<chunksize=(1,), meta=np.ndarray>\n",
       "Attributes: (12/33)\n",
       "    CDI:                           Climate Data Interface version ?? (http://...\n",
       "    CDO:                           Climate Data Operators version 1.7.0 (http...\n",
       "    Conventions:                   CF-1.6\n",
       "    acknowledgment:                The Australian Government, Bureau of Meteo...\n",
       "    analysis_components:           total: the gridded accumulation of rainfall.\n",
       "    bom-cmp-awap_version:          bom-cmp-awap-1.00-89.0.x86_64\n",
       "    ...                            ...\n",
       "    summary:                       The daily and monthly rainfall data repres...\n",
       "    time_coverage_end:             1900-01-01T09:00:00\n",
       "    time_coverage_start:           1899-12-31T09:00:00\n",
       "    title:                         Interpolated Rain Gauge Precipitation\n",
       "    url:                           http://www.bom.gov.au/climate/\n",
       "    uuid:                          14333ae2-28fe-4cb6-9f00-677adc94f25e"
      ]
     },
     "execution_count": 6,
     "metadata": {},
     "output_type": "execute_result"
    }
   ],
   "source": [
    "agcd_ds"
   ]
  },
  {
   "cell_type": "code",
   "execution_count": 7,
   "id": "9c701895",
   "metadata": {
    "execution": {
     "iopub.execute_input": "2023-03-03T01:35:41.595231Z",
     "iopub.status.busy": "2023-03-03T01:35:41.594669Z",
     "iopub.status.idle": "2023-03-03T01:35:41.790620Z",
     "shell.execute_reply": "2023-03-03T01:35:41.789116Z"
    },
    "papermill": {
     "duration": 0.213224,
     "end_time": "2023-03-03T01:35:41.794301",
     "exception": false,
     "start_time": "2023-03-03T01:35:41.581077",
     "status": "completed"
    },
    "tags": []
   },
   "outputs": [],
   "source": [
    "years = agcd_ds['time'].dt.year.values\n",
    "agcd_df = pd.DataFrame(index=years)\n",
    "agcd_df['pr'] = agcd_ds['pr'].values"
   ]
  },
  {
   "cell_type": "code",
   "execution_count": 8,
   "id": "c8bfcbcf",
   "metadata": {
    "execution": {
     "iopub.execute_input": "2023-03-03T01:35:41.837584Z",
     "iopub.status.busy": "2023-03-03T01:35:41.837031Z",
     "iopub.status.idle": "2023-03-03T01:35:42.025994Z",
     "shell.execute_reply": "2023-03-03T01:35:42.024414Z"
    },
    "papermill": {
     "duration": 0.21162,
     "end_time": "2023-03-03T01:35:42.029655",
     "exception": false,
     "start_time": "2023-03-03T01:35:41.818035",
     "status": "completed"
    },
    "tags": []
   },
   "outputs": [
    {
     "name": "stdout",
     "output_type": "stream",
     "text": [
      "410.43057\n"
     ]
    }
   ],
   "source": [
    "pr2022 = agcd_ds['pr'].values.max()\n",
    "print(pr2022)"
   ]
  },
  {
   "cell_type": "markdown",
   "id": "d082e6af",
   "metadata": {
    "papermill": {
     "duration": 0.016992,
     "end_time": "2023-03-03T01:35:42.071310",
     "exception": false,
     "start_time": "2023-03-03T01:35:42.054318",
     "status": "completed"
    },
    "tags": []
   },
   "source": [
    "## Model ensemble"
   ]
  },
  {
   "cell_type": "markdown",
   "id": "f127f972",
   "metadata": {
    "papermill": {
     "duration": 0.01213,
     "end_time": "2023-03-03T01:35:42.097246",
     "exception": false,
     "start_time": "2023-03-03T01:35:42.085116",
     "status": "completed"
    },
    "tags": []
   },
   "source": [
    "### Region selection"
   ]
  },
  {
   "cell_type": "code",
   "execution_count": 9,
   "id": "0c5bfc47",
   "metadata": {
    "execution": {
     "iopub.execute_input": "2023-03-03T01:35:42.121776Z",
     "iopub.status.busy": "2023-03-03T01:35:42.121098Z",
     "iopub.status.idle": "2023-03-03T01:35:42.172094Z",
     "shell.execute_reply": "2023-03-03T01:35:42.170625Z"
    },
    "papermill": {
     "duration": 0.064649,
     "end_time": "2023-03-03T01:35:42.173778",
     "exception": false,
     "start_time": "2023-03-03T01:35:42.109129",
     "status": "completed"
    },
    "tags": []
   },
   "outputs": [],
   "source": [
    "with open(file_list) as f:\n",
    "    all_files = f.read()\n",
    "    first_file = all_files.split('\\n', 1)[0]"
   ]
  },
  {
   "cell_type": "code",
   "execution_count": 10,
   "id": "9de3847d",
   "metadata": {
    "execution": {
     "iopub.execute_input": "2023-03-03T01:35:42.208161Z",
     "iopub.status.busy": "2023-03-03T01:35:42.207686Z",
     "iopub.status.idle": "2023-03-03T01:35:42.214840Z",
     "shell.execute_reply": "2023-03-03T01:35:42.213462Z"
    },
    "papermill": {
     "duration": 0.027828,
     "end_time": "2023-03-03T01:35:42.217042",
     "exception": false,
     "start_time": "2023-03-03T01:35:42.189214",
     "status": "completed"
    },
    "tags": []
   },
   "outputs": [
    {
     "data": {
      "text/plain": [
       "'/g/data/oi10/replicas/CMIP6/DCPP/MIROC/MIROC6/dcppA-hindcast/s1960-r1i1p1f1/day/pr/gn/v20191217/pr_day_MIROC6_dcppA-hindcast_s1960-r1i1p1f1_gn_19601101-19691231.nc'"
      ]
     },
     "execution_count": 10,
     "metadata": {},
     "output_type": "execute_result"
    }
   ],
   "source": [
    "first_file"
   ]
  },
  {
   "cell_type": "code",
   "execution_count": 11,
   "id": "d218574b",
   "metadata": {
    "execution": {
     "iopub.execute_input": "2023-03-03T01:35:42.248905Z",
     "iopub.status.busy": "2023-03-03T01:35:42.248220Z",
     "iopub.status.idle": "2023-03-03T01:35:42.449024Z",
     "shell.execute_reply": "2023-03-03T01:35:42.447451Z"
    },
    "papermill": {
     "duration": 0.218831,
     "end_time": "2023-03-03T01:35:42.452790",
     "exception": false,
     "start_time": "2023-03-03T01:35:42.233959",
     "status": "completed"
    },
    "tags": []
   },
   "outputs": [],
   "source": [
    "shapes = gp.read_file(shape_file)"
   ]
  },
  {
   "cell_type": "code",
   "execution_count": 12,
   "id": "6b9e6200",
   "metadata": {
    "execution": {
     "iopub.execute_input": "2023-03-03T01:35:42.491877Z",
     "iopub.status.busy": "2023-03-03T01:35:42.491169Z",
     "iopub.status.idle": "2023-03-03T01:35:42.498954Z",
     "shell.execute_reply": "2023-03-03T01:35:42.497443Z"
    },
    "papermill": {
     "duration": 0.024566,
     "end_time": "2023-03-03T01:35:42.501131",
     "exception": false,
     "start_time": "2023-03-03T01:35:42.476565",
     "status": "completed"
    },
    "tags": []
   },
   "outputs": [],
   "source": [
    "isel_dict = {'time': 0}\n",
    "if model_name == 'CAFE':\n",
    "    isel_dict['ensemble'] = 0\n",
    "    metadata_file = '/home/599/dbi599/unseen/config/dataset_cafe_daily.yml'\n",
    "else:\n",
    "    metadata_file = None"
   ]
  },
  {
   "cell_type": "code",
   "execution_count": 13,
   "id": "3c232f49",
   "metadata": {
    "execution": {
     "iopub.execute_input": "2023-03-03T01:35:42.532608Z",
     "iopub.status.busy": "2023-03-03T01:35:42.531922Z",
     "iopub.status.idle": "2023-03-03T01:35:51.137758Z",
     "shell.execute_reply": "2023-03-03T01:35:51.135979Z"
    },
    "papermill": {
     "duration": 8.623507,
     "end_time": "2023-03-03T01:35:51.141413",
     "exception": false,
     "start_time": "2023-03-03T01:35:42.517906",
     "status": "completed"
    },
    "tags": []
   },
   "outputs": [],
   "source": [
    "region_ds = fileio.open_dataset(\n",
    "    first_file,\n",
    "    metadata_file=metadata_file,\n",
    "    variables=['pr'],\n",
    "    lat_bnds=[-40, -20],\n",
    "    lon_bnds=[140, 160],\n",
    "    shapefile=shape_file,\n",
    "    shape_overlap=0.1,\n",
    "    units={'pr': 'mm day-1'},\n",
    "    isel=isel_dict,\n",
    ")"
   ]
  },
  {
   "cell_type": "markdown",
   "id": "3b5a7e07",
   "metadata": {
    "tags": [
     "papermill-error-cell-tag"
    ]
   },
   "source": [
    "<span id=\"papermill-error-cell\" style=\"color:red; font-family:Helvetica Neue, Helvetica, Arial, sans-serif; font-size:2em;\">Execution using papermill encountered an exception here and stopped:</span>"
   ]
  },
  {
   "cell_type": "code",
   "execution_count": 14,
   "id": "0eba243a",
   "metadata": {
    "execution": {
     "iopub.execute_input": "2023-03-03T01:35:51.189723Z",
     "iopub.status.busy": "2023-03-03T01:35:51.189125Z",
     "iopub.status.idle": "2023-03-03T01:35:54.812129Z",
     "shell.execute_reply": "2023-03-03T01:35:54.810341Z"
    },
    "papermill": {
     "duration": 3.646461,
     "end_time": "2023-03-03T01:35:54.815627",
     "exception": true,
     "start_time": "2023-03-03T01:35:51.169166",
     "status": "failed"
    },
    "tags": []
   },
   "outputs": [
    {
     "ename": "AttributeError",
     "evalue": "'GeoAxes' object has no attribute '_autoscaleXon'",
     "output_type": "error",
     "traceback": [
      "\u001b[0;31m---------------------------------------------------------------------------\u001b[0m",
      "\u001b[0;31mAttributeError\u001b[0m                            Traceback (most recent call last)",
      "Cell \u001b[0;32mIn[14], line 3\u001b[0m\n\u001b[1;32m      1\u001b[0m fig \u001b[38;5;241m=\u001b[39m plt\u001b[38;5;241m.\u001b[39mfigure(figsize\u001b[38;5;241m=\u001b[39m[\u001b[38;5;241m12\u001b[39m,\u001b[38;5;241m8\u001b[39m])\n\u001b[1;32m      2\u001b[0m ax \u001b[38;5;241m=\u001b[39m fig\u001b[38;5;241m.\u001b[39madd_subplot(\u001b[38;5;241m111\u001b[39m, projection\u001b[38;5;241m=\u001b[39mccrs\u001b[38;5;241m.\u001b[39mPlateCarree())\n\u001b[0;32m----> 3\u001b[0m \u001b[43mregion_ds\u001b[49m\u001b[43m[\u001b[49m\u001b[38;5;124;43m'\u001b[39;49m\u001b[38;5;124;43mpr\u001b[39;49m\u001b[38;5;124;43m'\u001b[39;49m\u001b[43m]\u001b[49m\u001b[38;5;241;43m.\u001b[39;49m\u001b[43mplot\u001b[49m\u001b[43m(\u001b[49m\n\u001b[1;32m      4\u001b[0m \u001b[43m    \u001b[49m\u001b[43max\u001b[49m\u001b[38;5;241;43m=\u001b[39;49m\u001b[43max\u001b[49m\u001b[43m,\u001b[49m\n\u001b[1;32m      5\u001b[0m \u001b[43m    \u001b[49m\u001b[43mtransform\u001b[49m\u001b[38;5;241;43m=\u001b[39;49m\u001b[43mccrs\u001b[49m\u001b[38;5;241;43m.\u001b[39;49m\u001b[43mPlateCarree\u001b[49m\u001b[43m(\u001b[49m\u001b[43m)\u001b[49m\u001b[43m,\u001b[49m\n\u001b[1;32m      6\u001b[0m \u001b[43m    \u001b[49m\u001b[43mcmap\u001b[49m\u001b[38;5;241;43m=\u001b[39;49m\u001b[38;5;124;43m'\u001b[39;49m\u001b[38;5;124;43mviridis_r\u001b[39;49m\u001b[38;5;124;43m'\u001b[39;49m\u001b[43m,\u001b[49m\n\u001b[1;32m      7\u001b[0m \u001b[43m)\u001b[49m\n\u001b[1;32m      8\u001b[0m ax\u001b[38;5;241m.\u001b[39mcoastlines()\n\u001b[1;32m      9\u001b[0m ax\u001b[38;5;241m.\u001b[39madd_feature(cartopy\u001b[38;5;241m.\u001b[39mfeature\u001b[38;5;241m.\u001b[39mSTATES)\n",
      "File \u001b[0;32m/g/data/xv83/dbi599/miniconda3/envs/unseen/lib/python3.9/site-packages/xarray/plot/plot.py:869\u001b[0m, in \u001b[0;36m_PlotMethods.__call__\u001b[0;34m(self, **kwargs)\u001b[0m\n\u001b[1;32m    868\u001b[0m \u001b[38;5;28;01mdef\u001b[39;00m \u001b[38;5;21m__call__\u001b[39m(\u001b[38;5;28mself\u001b[39m, \u001b[38;5;241m*\u001b[39m\u001b[38;5;241m*\u001b[39mkwargs):\n\u001b[0;32m--> 869\u001b[0m     \u001b[38;5;28;01mreturn\u001b[39;00m \u001b[43mplot\u001b[49m\u001b[43m(\u001b[49m\u001b[38;5;28;43mself\u001b[39;49m\u001b[38;5;241;43m.\u001b[39;49m\u001b[43m_da\u001b[49m\u001b[43m,\u001b[49m\u001b[43m \u001b[49m\u001b[38;5;241;43m*\u001b[39;49m\u001b[38;5;241;43m*\u001b[39;49m\u001b[43mkwargs\u001b[49m\u001b[43m)\u001b[49m\n",
      "File \u001b[0;32m/g/data/xv83/dbi599/miniconda3/envs/unseen/lib/python3.9/site-packages/xarray/plot/plot.py:335\u001b[0m, in \u001b[0;36mplot\u001b[0;34m(darray, row, col, col_wrap, ax, hue, rtol, subplot_kws, **kwargs)\u001b[0m\n\u001b[1;32m    331\u001b[0m     plotfunc \u001b[38;5;241m=\u001b[39m hist\n\u001b[1;32m    333\u001b[0m kwargs[\u001b[38;5;124m\"\u001b[39m\u001b[38;5;124max\u001b[39m\u001b[38;5;124m\"\u001b[39m] \u001b[38;5;241m=\u001b[39m ax\n\u001b[0;32m--> 335\u001b[0m \u001b[38;5;28;01mreturn\u001b[39;00m \u001b[43mplotfunc\u001b[49m\u001b[43m(\u001b[49m\u001b[43mdarray\u001b[49m\u001b[43m,\u001b[49m\u001b[43m \u001b[49m\u001b[38;5;241;43m*\u001b[39;49m\u001b[38;5;241;43m*\u001b[39;49m\u001b[43mkwargs\u001b[49m\u001b[43m)\u001b[49m\n",
      "File \u001b[0;32m/g/data/xv83/dbi599/miniconda3/envs/unseen/lib/python3.9/site-packages/xarray/plot/plot.py:1213\u001b[0m, in \u001b[0;36m_plot2d.<locals>.newplotfunc\u001b[0;34m(darray, x, y, figsize, size, aspect, ax, row, col, col_wrap, xincrease, yincrease, add_colorbar, add_labels, vmin, vmax, cmap, center, robust, extend, levels, infer_intervals, colors, subplot_kws, cbar_ax, cbar_kwargs, xscale, yscale, xticks, yticks, xlim, ylim, norm, **kwargs)\u001b[0m\n\u001b[1;32m   1209\u001b[0m     \u001b[38;5;28;01mraise\u001b[39;00m \u001b[38;5;167;01mValueError\u001b[39;00m(\u001b[38;5;124m\"\u001b[39m\u001b[38;5;124mplt.imshow\u001b[39m\u001b[38;5;124m'\u001b[39m\u001b[38;5;124ms `aspect` kwarg is not available in xarray\u001b[39m\u001b[38;5;124m\"\u001b[39m)\n\u001b[1;32m   1211\u001b[0m ax \u001b[38;5;241m=\u001b[39m get_axis(figsize, size, aspect, ax, \u001b[38;5;241m*\u001b[39m\u001b[38;5;241m*\u001b[39msubplot_kws)\n\u001b[0;32m-> 1213\u001b[0m primitive \u001b[38;5;241m=\u001b[39m \u001b[43mplotfunc\u001b[49m\u001b[43m(\u001b[49m\n\u001b[1;32m   1214\u001b[0m \u001b[43m    \u001b[49m\u001b[43mxplt\u001b[49m\u001b[43m,\u001b[49m\n\u001b[1;32m   1215\u001b[0m \u001b[43m    \u001b[49m\u001b[43myplt\u001b[49m\u001b[43m,\u001b[49m\n\u001b[1;32m   1216\u001b[0m \u001b[43m    \u001b[49m\u001b[43mzval\u001b[49m\u001b[43m,\u001b[49m\n\u001b[1;32m   1217\u001b[0m \u001b[43m    \u001b[49m\u001b[43max\u001b[49m\u001b[38;5;241;43m=\u001b[39;49m\u001b[43max\u001b[49m\u001b[43m,\u001b[49m\n\u001b[1;32m   1218\u001b[0m \u001b[43m    \u001b[49m\u001b[43mcmap\u001b[49m\u001b[38;5;241;43m=\u001b[39;49m\u001b[43mcmap_params\u001b[49m\u001b[43m[\u001b[49m\u001b[38;5;124;43m\"\u001b[39;49m\u001b[38;5;124;43mcmap\u001b[39;49m\u001b[38;5;124;43m\"\u001b[39;49m\u001b[43m]\u001b[49m\u001b[43m,\u001b[49m\n\u001b[1;32m   1219\u001b[0m \u001b[43m    \u001b[49m\u001b[43mvmin\u001b[49m\u001b[38;5;241;43m=\u001b[39;49m\u001b[43mcmap_params\u001b[49m\u001b[43m[\u001b[49m\u001b[38;5;124;43m\"\u001b[39;49m\u001b[38;5;124;43mvmin\u001b[39;49m\u001b[38;5;124;43m\"\u001b[39;49m\u001b[43m]\u001b[49m\u001b[43m,\u001b[49m\n\u001b[1;32m   1220\u001b[0m \u001b[43m    \u001b[49m\u001b[43mvmax\u001b[49m\u001b[38;5;241;43m=\u001b[39;49m\u001b[43mcmap_params\u001b[49m\u001b[43m[\u001b[49m\u001b[38;5;124;43m\"\u001b[39;49m\u001b[38;5;124;43mvmax\u001b[39;49m\u001b[38;5;124;43m\"\u001b[39;49m\u001b[43m]\u001b[49m\u001b[43m,\u001b[49m\n\u001b[1;32m   1221\u001b[0m \u001b[43m    \u001b[49m\u001b[43mnorm\u001b[49m\u001b[38;5;241;43m=\u001b[39;49m\u001b[43mcmap_params\u001b[49m\u001b[43m[\u001b[49m\u001b[38;5;124;43m\"\u001b[39;49m\u001b[38;5;124;43mnorm\u001b[39;49m\u001b[38;5;124;43m\"\u001b[39;49m\u001b[43m]\u001b[49m\u001b[43m,\u001b[49m\n\u001b[1;32m   1222\u001b[0m \u001b[43m    \u001b[49m\u001b[38;5;241;43m*\u001b[39;49m\u001b[38;5;241;43m*\u001b[39;49m\u001b[43mkwargs\u001b[49m\u001b[43m,\u001b[49m\n\u001b[1;32m   1223\u001b[0m \u001b[43m\u001b[49m\u001b[43m)\u001b[49m\n\u001b[1;32m   1225\u001b[0m \u001b[38;5;66;03m# Label the plot with metadata\u001b[39;00m\n\u001b[1;32m   1226\u001b[0m \u001b[38;5;28;01mif\u001b[39;00m add_labels:\n",
      "File \u001b[0;32m/g/data/xv83/dbi599/miniconda3/envs/unseen/lib/python3.9/site-packages/xarray/plot/plot.py:1479\u001b[0m, in \u001b[0;36mpcolormesh\u001b[0;34m(x, y, z, ax, xscale, yscale, infer_intervals, **kwargs)\u001b[0m\n\u001b[1;32m   1476\u001b[0m         y \u001b[38;5;241m=\u001b[39m _infer_interval_breaks(y, axis\u001b[38;5;241m=\u001b[39m\u001b[38;5;241m1\u001b[39m, scale\u001b[38;5;241m=\u001b[39myscale)\n\u001b[1;32m   1477\u001b[0m         y \u001b[38;5;241m=\u001b[39m _infer_interval_breaks(y, axis\u001b[38;5;241m=\u001b[39m\u001b[38;5;241m0\u001b[39m, scale\u001b[38;5;241m=\u001b[39myscale)\n\u001b[0;32m-> 1479\u001b[0m primitive \u001b[38;5;241m=\u001b[39m \u001b[43max\u001b[49m\u001b[38;5;241;43m.\u001b[39;49m\u001b[43mpcolormesh\u001b[49m\u001b[43m(\u001b[49m\u001b[43mx\u001b[49m\u001b[43m,\u001b[49m\u001b[43m \u001b[49m\u001b[43my\u001b[49m\u001b[43m,\u001b[49m\u001b[43m \u001b[49m\u001b[43mz\u001b[49m\u001b[43m,\u001b[49m\u001b[43m \u001b[49m\u001b[38;5;241;43m*\u001b[39;49m\u001b[38;5;241;43m*\u001b[39;49m\u001b[43mkwargs\u001b[49m\u001b[43m)\u001b[49m\n\u001b[1;32m   1481\u001b[0m \u001b[38;5;66;03m# by default, pcolormesh picks \"round\" values for bounds\u001b[39;00m\n\u001b[1;32m   1482\u001b[0m \u001b[38;5;66;03m# this results in ugly looking plots with lots of surrounding whitespace\u001b[39;00m\n\u001b[1;32m   1483\u001b[0m \u001b[38;5;28;01mif\u001b[39;00m \u001b[38;5;129;01mnot\u001b[39;00m \u001b[38;5;28mhasattr\u001b[39m(ax, \u001b[38;5;124m\"\u001b[39m\u001b[38;5;124mprojection\u001b[39m\u001b[38;5;124m\"\u001b[39m) \u001b[38;5;129;01mand\u001b[39;00m x\u001b[38;5;241m.\u001b[39mndim \u001b[38;5;241m==\u001b[39m \u001b[38;5;241m1\u001b[39m \u001b[38;5;129;01mand\u001b[39;00m y\u001b[38;5;241m.\u001b[39mndim \u001b[38;5;241m==\u001b[39m \u001b[38;5;241m1\u001b[39m:\n\u001b[1;32m   1484\u001b[0m     \u001b[38;5;66;03m# not a cartopy geoaxis\u001b[39;00m\n",
      "File \u001b[0;32m/g/data/xv83/dbi599/miniconda3/envs/unseen/lib/python3.9/site-packages/cartopy/mpl/geoaxes.py:318\u001b[0m, in \u001b[0;36m_add_transform.<locals>.wrapper\u001b[0;34m(self, *args, **kwargs)\u001b[0m\n\u001b[1;32m    313\u001b[0m     \u001b[38;5;28;01mraise\u001b[39;00m \u001b[38;5;167;01mValueError\u001b[39;00m(\u001b[38;5;124mf\u001b[39m\u001b[38;5;124m'\u001b[39m\u001b[38;5;124mInvalid transform: Spherical \u001b[39m\u001b[38;5;132;01m{\u001b[39;00mfunc\u001b[38;5;241m.\u001b[39m\u001b[38;5;18m__name__\u001b[39m\u001b[38;5;132;01m}\u001b[39;00m\u001b[38;5;124m \u001b[39m\u001b[38;5;124m'\u001b[39m\n\u001b[1;32m    314\u001b[0m                      \u001b[38;5;124m'\u001b[39m\u001b[38;5;124mis not supported - consider using \u001b[39m\u001b[38;5;124m'\u001b[39m\n\u001b[1;32m    315\u001b[0m                      \u001b[38;5;124m'\u001b[39m\u001b[38;5;124mPlateCarree/RotatedPole.\u001b[39m\u001b[38;5;124m'\u001b[39m)\n\u001b[1;32m    317\u001b[0m kwargs[\u001b[38;5;124m'\u001b[39m\u001b[38;5;124mtransform\u001b[39m\u001b[38;5;124m'\u001b[39m] \u001b[38;5;241m=\u001b[39m transform\n\u001b[0;32m--> 318\u001b[0m \u001b[38;5;28;01mreturn\u001b[39;00m \u001b[43mfunc\u001b[49m\u001b[43m(\u001b[49m\u001b[38;5;28;43mself\u001b[39;49m\u001b[43m,\u001b[49m\u001b[43m \u001b[49m\u001b[38;5;241;43m*\u001b[39;49m\u001b[43margs\u001b[49m\u001b[43m,\u001b[49m\u001b[43m \u001b[49m\u001b[38;5;241;43m*\u001b[39;49m\u001b[38;5;241;43m*\u001b[39;49m\u001b[43mkwargs\u001b[49m\u001b[43m)\u001b[49m\n",
      "File \u001b[0;32m/g/data/xv83/dbi599/miniconda3/envs/unseen/lib/python3.9/site-packages/cartopy/mpl/geoaxes.py:1804\u001b[0m, in \u001b[0;36mGeoAxes.pcolormesh\u001b[0;34m(self, *args, **kwargs)\u001b[0m\n\u001b[1;32m   1800\u001b[0m \u001b[38;5;66;03m# Re-cast the QuadMesh as a GeoQuadMesh to enable future wrapping\u001b[39;00m\n\u001b[1;32m   1801\u001b[0m \u001b[38;5;66;03m# updates to the collection as well.\u001b[39;00m\n\u001b[1;32m   1802\u001b[0m result\u001b[38;5;241m.\u001b[39m\u001b[38;5;18m__class__\u001b[39m \u001b[38;5;241m=\u001b[39m cartopy\u001b[38;5;241m.\u001b[39mmpl\u001b[38;5;241m.\u001b[39mgeocollection\u001b[38;5;241m.\u001b[39mGeoQuadMesh\n\u001b[0;32m-> 1804\u001b[0m \u001b[38;5;28;43mself\u001b[39;49m\u001b[38;5;241;43m.\u001b[39;49m\u001b[43mautoscale_view\u001b[49m\u001b[43m(\u001b[49m\u001b[43m)\u001b[49m\n\u001b[1;32m   1805\u001b[0m \u001b[38;5;28;01mreturn\u001b[39;00m result\n",
      "File \u001b[0;32m/g/data/xv83/dbi599/miniconda3/envs/unseen/lib/python3.9/site-packages/cartopy/mpl/geoaxes.py:943\u001b[0m, in \u001b[0;36mGeoAxes.autoscale_view\u001b[0;34m(self, tight, scalex, scaley)\u001b[0m\n\u001b[1;32m    936\u001b[0m \u001b[38;5;28;01mdef\u001b[39;00m \u001b[38;5;21mautoscale_view\u001b[39m(\u001b[38;5;28mself\u001b[39m, tight\u001b[38;5;241m=\u001b[39m\u001b[38;5;28;01mNone\u001b[39;00m, scalex\u001b[38;5;241m=\u001b[39m\u001b[38;5;28;01mTrue\u001b[39;00m, scaley\u001b[38;5;241m=\u001b[39m\u001b[38;5;28;01mTrue\u001b[39;00m):\n\u001b[1;32m    937\u001b[0m \u001b[38;5;250m    \u001b[39m\u001b[38;5;124;03m\"\"\"\u001b[39;00m\n\u001b[1;32m    938\u001b[0m \u001b[38;5;124;03m    Autoscale the view limits using the data limits, taking into\u001b[39;00m\n\u001b[1;32m    939\u001b[0m \u001b[38;5;124;03m    account the projection of the geoaxes.\u001b[39;00m\n\u001b[1;32m    940\u001b[0m \n\u001b[1;32m    941\u001b[0m \u001b[38;5;124;03m    See :meth:`~matplotlib.axes.Axes.imshow()` for more details.\u001b[39;00m\n\u001b[1;32m    942\u001b[0m \u001b[38;5;124;03m    \"\"\"\u001b[39;00m\n\u001b[0;32m--> 943\u001b[0m     \u001b[43mmatplotlib\u001b[49m\u001b[38;5;241;43m.\u001b[39;49m\u001b[43maxes\u001b[49m\u001b[38;5;241;43m.\u001b[39;49m\u001b[43mAxes\u001b[49m\u001b[38;5;241;43m.\u001b[39;49m\u001b[43mautoscale_view\u001b[49m\u001b[43m(\u001b[49m\u001b[38;5;28;43mself\u001b[39;49m\u001b[43m,\u001b[49m\u001b[43m \u001b[49m\u001b[43mtight\u001b[49m\u001b[38;5;241;43m=\u001b[39;49m\u001b[43mtight\u001b[49m\u001b[43m,\u001b[49m\n\u001b[1;32m    944\u001b[0m \u001b[43m                                        \u001b[49m\u001b[43mscalex\u001b[49m\u001b[38;5;241;43m=\u001b[39;49m\u001b[43mscalex\u001b[49m\u001b[43m,\u001b[49m\u001b[43m \u001b[49m\u001b[43mscaley\u001b[49m\u001b[38;5;241;43m=\u001b[39;49m\u001b[43mscaley\u001b[49m\u001b[43m)\u001b[49m\n\u001b[1;32m    945\u001b[0m     \u001b[38;5;66;03m# Limit the resulting bounds to valid area.\u001b[39;00m\n\u001b[1;32m    946\u001b[0m     \u001b[38;5;28;01mif\u001b[39;00m scalex \u001b[38;5;129;01mand\u001b[39;00m \u001b[38;5;28mself\u001b[39m\u001b[38;5;241m.\u001b[39m_autoscaleXon:\n",
      "File \u001b[0;32m/g/data/xv83/dbi599/miniconda3/envs/unseen/lib/python3.9/site-packages/matplotlib/axes/_base.py:2932\u001b[0m, in \u001b[0;36m_AxesBase.autoscale_view\u001b[0;34m(self, tight, scalex, scaley)\u001b[0m\n\u001b[1;32m   2929\u001b[0m     set_bound(x0, x1)\n\u001b[1;32m   2930\u001b[0m     \u001b[38;5;66;03m# End of definition of internal function 'handle_single_axis'.\u001b[39;00m\n\u001b[0;32m-> 2932\u001b[0m \u001b[43mhandle_single_axis\u001b[49m\u001b[43m(\u001b[49m\n\u001b[1;32m   2933\u001b[0m \u001b[43m    \u001b[49m\u001b[43mscalex\u001b[49m\u001b[43m,\u001b[49m\u001b[43m \u001b[49m\u001b[38;5;28;43mself\u001b[39;49m\u001b[38;5;241;43m.\u001b[39;49m\u001b[43m_shared_axes\u001b[49m\u001b[43m[\u001b[49m\u001b[38;5;124;43m\"\u001b[39;49m\u001b[38;5;124;43mx\u001b[39;49m\u001b[38;5;124;43m\"\u001b[39;49m\u001b[43m]\u001b[49m\u001b[43m,\u001b[49m\u001b[43m \u001b[49m\u001b[38;5;124;43m'\u001b[39;49m\u001b[38;5;124;43mx\u001b[39;49m\u001b[38;5;124;43m'\u001b[39;49m\u001b[43m,\u001b[49m\u001b[43m \u001b[49m\u001b[38;5;28;43mself\u001b[39;49m\u001b[38;5;241;43m.\u001b[39;49m\u001b[43mxaxis\u001b[49m\u001b[43m,\u001b[49m\u001b[43m \u001b[49m\u001b[38;5;28;43mself\u001b[39;49m\u001b[38;5;241;43m.\u001b[39;49m\u001b[43m_xmargin\u001b[49m\u001b[43m,\u001b[49m\n\u001b[1;32m   2934\u001b[0m \u001b[43m    \u001b[49m\u001b[43mx_stickies\u001b[49m\u001b[43m,\u001b[49m\u001b[43m \u001b[49m\u001b[38;5;28;43mself\u001b[39;49m\u001b[38;5;241;43m.\u001b[39;49m\u001b[43mset_xbound\u001b[49m\u001b[43m)\u001b[49m\n\u001b[1;32m   2935\u001b[0m handle_single_axis(\n\u001b[1;32m   2936\u001b[0m     scaley, \u001b[38;5;28mself\u001b[39m\u001b[38;5;241m.\u001b[39m_shared_axes[\u001b[38;5;124m\"\u001b[39m\u001b[38;5;124my\u001b[39m\u001b[38;5;124m\"\u001b[39m], \u001b[38;5;124m'\u001b[39m\u001b[38;5;124my\u001b[39m\u001b[38;5;124m'\u001b[39m, \u001b[38;5;28mself\u001b[39m\u001b[38;5;241m.\u001b[39myaxis, \u001b[38;5;28mself\u001b[39m\u001b[38;5;241m.\u001b[39m_ymargin,\n\u001b[1;32m   2937\u001b[0m     y_stickies, \u001b[38;5;28mself\u001b[39m\u001b[38;5;241m.\u001b[39mset_ybound)\n",
      "File \u001b[0;32m/g/data/xv83/dbi599/miniconda3/envs/unseen/lib/python3.9/site-packages/matplotlib/axes/_base.py:2929\u001b[0m, in \u001b[0;36m_AxesBase.autoscale_view.<locals>.handle_single_axis\u001b[0;34m(scale, shared_axes, name, axis, margin, stickies, set_bound)\u001b[0m\n\u001b[1;32m   2927\u001b[0m \u001b[38;5;28;01mif\u001b[39;00m \u001b[38;5;129;01mnot\u001b[39;00m \u001b[38;5;28mself\u001b[39m\u001b[38;5;241m.\u001b[39m_tight:\n\u001b[1;32m   2928\u001b[0m     x0, x1 \u001b[38;5;241m=\u001b[39m locator\u001b[38;5;241m.\u001b[39mview_limits(x0, x1)\n\u001b[0;32m-> 2929\u001b[0m \u001b[43mset_bound\u001b[49m\u001b[43m(\u001b[49m\u001b[43mx0\u001b[49m\u001b[43m,\u001b[49m\u001b[43m \u001b[49m\u001b[43mx1\u001b[49m\u001b[43m)\u001b[49m\n",
      "File \u001b[0;32m/g/data/xv83/dbi599/miniconda3/envs/unseen/lib/python3.9/site-packages/matplotlib/axes/_base.py:3526\u001b[0m, in \u001b[0;36m_AxesBase.set_xbound\u001b[0;34m(self, lower, upper)\u001b[0m\n\u001b[1;32m   3523\u001b[0m \u001b[38;5;28;01mif\u001b[39;00m upper \u001b[38;5;129;01mis\u001b[39;00m \u001b[38;5;28;01mNone\u001b[39;00m \u001b[38;5;129;01mand\u001b[39;00m np\u001b[38;5;241m.\u001b[39miterable(lower):\n\u001b[1;32m   3524\u001b[0m     lower, upper \u001b[38;5;241m=\u001b[39m lower\n\u001b[0;32m-> 3526\u001b[0m old_lower, old_upper \u001b[38;5;241m=\u001b[39m \u001b[38;5;28;43mself\u001b[39;49m\u001b[38;5;241;43m.\u001b[39;49m\u001b[43mget_xbound\u001b[49m\u001b[43m(\u001b[49m\u001b[43m)\u001b[49m\n\u001b[1;32m   3527\u001b[0m \u001b[38;5;28;01mif\u001b[39;00m lower \u001b[38;5;129;01mis\u001b[39;00m \u001b[38;5;28;01mNone\u001b[39;00m:\n\u001b[1;32m   3528\u001b[0m     lower \u001b[38;5;241m=\u001b[39m old_lower\n",
      "File \u001b[0;32m/g/data/xv83/dbi599/miniconda3/envs/unseen/lib/python3.9/site-packages/matplotlib/axes/_base.py:3498\u001b[0m, in \u001b[0;36m_AxesBase.get_xbound\u001b[0;34m(self)\u001b[0m\n\u001b[1;32m   3488\u001b[0m \u001b[38;5;28;01mdef\u001b[39;00m \u001b[38;5;21mget_xbound\u001b[39m(\u001b[38;5;28mself\u001b[39m):\n\u001b[1;32m   3489\u001b[0m \u001b[38;5;250m    \u001b[39m\u001b[38;5;124;03m\"\"\"\u001b[39;00m\n\u001b[1;32m   3490\u001b[0m \u001b[38;5;124;03m    Return the lower and upper x-axis bounds, in increasing order.\u001b[39;00m\n\u001b[1;32m   3491\u001b[0m \n\u001b[0;32m   (...)\u001b[0m\n\u001b[1;32m   3496\u001b[0m \u001b[38;5;124;03m    invert_xaxis, xaxis_inverted\u001b[39;00m\n\u001b[1;32m   3497\u001b[0m \u001b[38;5;124;03m    \"\"\"\u001b[39;00m\n\u001b[0;32m-> 3498\u001b[0m     left, right \u001b[38;5;241m=\u001b[39m \u001b[38;5;28;43mself\u001b[39;49m\u001b[38;5;241;43m.\u001b[39;49m\u001b[43mget_xlim\u001b[49m\u001b[43m(\u001b[49m\u001b[43m)\u001b[49m\n\u001b[1;32m   3499\u001b[0m     \u001b[38;5;28;01mif\u001b[39;00m left \u001b[38;5;241m<\u001b[39m right:\n\u001b[1;32m   3500\u001b[0m         \u001b[38;5;28;01mreturn\u001b[39;00m left, right\n",
      "File \u001b[0;32m/g/data/xv83/dbi599/miniconda3/envs/unseen/lib/python3.9/site-packages/matplotlib/axes/_base.py:3556\u001b[0m, in \u001b[0;36m_AxesBase.get_xlim\u001b[0;34m(self)\u001b[0m\n\u001b[1;32m   3536\u001b[0m \u001b[38;5;28;01mdef\u001b[39;00m \u001b[38;5;21mget_xlim\u001b[39m(\u001b[38;5;28mself\u001b[39m):\n\u001b[1;32m   3537\u001b[0m \u001b[38;5;250m    \u001b[39m\u001b[38;5;124;03m\"\"\"\u001b[39;00m\n\u001b[1;32m   3538\u001b[0m \u001b[38;5;124;03m    Return the x-axis view limits.\u001b[39;00m\n\u001b[1;32m   3539\u001b[0m \n\u001b[0;32m   (...)\u001b[0m\n\u001b[1;32m   3554\u001b[0m \u001b[38;5;124;03m    be greater than the *right* value.\u001b[39;00m\n\u001b[1;32m   3555\u001b[0m \u001b[38;5;124;03m    \"\"\"\u001b[39;00m\n\u001b[0;32m-> 3556\u001b[0m     \u001b[38;5;28;01mreturn\u001b[39;00m \u001b[38;5;28mtuple\u001b[39m(\u001b[38;5;28;43mself\u001b[39;49m\u001b[38;5;241;43m.\u001b[39;49m\u001b[43mviewLim\u001b[49m\u001b[38;5;241m.\u001b[39mintervalx)\n",
      "File \u001b[0;32m/g/data/xv83/dbi599/miniconda3/envs/unseen/lib/python3.9/site-packages/matplotlib/axes/_base.py:857\u001b[0m, in \u001b[0;36m_AxesBase.viewLim\u001b[0;34m(self)\u001b[0m\n\u001b[1;32m    855\u001b[0m \u001b[38;5;129m@property\u001b[39m\n\u001b[1;32m    856\u001b[0m \u001b[38;5;28;01mdef\u001b[39;00m \u001b[38;5;21mviewLim\u001b[39m(\u001b[38;5;28mself\u001b[39m):\n\u001b[0;32m--> 857\u001b[0m     \u001b[38;5;28;43mself\u001b[39;49m\u001b[38;5;241;43m.\u001b[39;49m\u001b[43m_unstale_viewLim\u001b[49m\u001b[43m(\u001b[49m\u001b[43m)\u001b[49m\n\u001b[1;32m    858\u001b[0m     \u001b[38;5;28;01mreturn\u001b[39;00m \u001b[38;5;28mself\u001b[39m\u001b[38;5;241m.\u001b[39m_viewLim\n",
      "File \u001b[0;32m/g/data/xv83/dbi599/miniconda3/envs/unseen/lib/python3.9/site-packages/matplotlib/axes/_base.py:852\u001b[0m, in \u001b[0;36m_AxesBase._unstale_viewLim\u001b[0;34m(self)\u001b[0m\n\u001b[1;32m    850\u001b[0m     \u001b[38;5;28;01mfor\u001b[39;00m ax \u001b[38;5;129;01min\u001b[39;00m \u001b[38;5;28mself\u001b[39m\u001b[38;5;241m.\u001b[39m_shared_axes[name]\u001b[38;5;241m.\u001b[39mget_siblings(\u001b[38;5;28mself\u001b[39m):\n\u001b[1;32m    851\u001b[0m         ax\u001b[38;5;241m.\u001b[39m_stale_viewlims[name] \u001b[38;5;241m=\u001b[39m \u001b[38;5;28;01mFalse\u001b[39;00m\n\u001b[0;32m--> 852\u001b[0m \u001b[38;5;28;43mself\u001b[39;49m\u001b[38;5;241;43m.\u001b[39;49m\u001b[43mautoscale_view\u001b[49m\u001b[43m(\u001b[49m\u001b[38;5;241;43m*\u001b[39;49m\u001b[38;5;241;43m*\u001b[39;49m\u001b[43m{\u001b[49m\u001b[38;5;124;43mf\u001b[39;49m\u001b[38;5;124;43m\"\u001b[39;49m\u001b[38;5;124;43mscale\u001b[39;49m\u001b[38;5;132;43;01m{\u001b[39;49;00m\u001b[43mname\u001b[49m\u001b[38;5;132;43;01m}\u001b[39;49;00m\u001b[38;5;124;43m\"\u001b[39;49m\u001b[43m:\u001b[49m\u001b[43m \u001b[49m\u001b[43mscale\u001b[49m\n\u001b[1;32m    853\u001b[0m \u001b[43m                       \u001b[49m\u001b[38;5;28;43;01mfor\u001b[39;49;00m\u001b[43m \u001b[49m\u001b[43mname\u001b[49m\u001b[43m,\u001b[49m\u001b[43m \u001b[49m\u001b[43mscale\u001b[49m\u001b[43m \u001b[49m\u001b[38;5;129;43;01min\u001b[39;49;00m\u001b[43m \u001b[49m\u001b[43mneed_scale\u001b[49m\u001b[38;5;241;43m.\u001b[39;49m\u001b[43mitems\u001b[49m\u001b[43m(\u001b[49m\u001b[43m)\u001b[49m\u001b[43m}\u001b[49m\u001b[43m)\u001b[49m\n",
      "File \u001b[0;32m/g/data/xv83/dbi599/miniconda3/envs/unseen/lib/python3.9/site-packages/cartopy/mpl/geoaxes.py:946\u001b[0m, in \u001b[0;36mGeoAxes.autoscale_view\u001b[0;34m(self, tight, scalex, scaley)\u001b[0m\n\u001b[1;32m    943\u001b[0m matplotlib\u001b[38;5;241m.\u001b[39maxes\u001b[38;5;241m.\u001b[39mAxes\u001b[38;5;241m.\u001b[39mautoscale_view(\u001b[38;5;28mself\u001b[39m, tight\u001b[38;5;241m=\u001b[39mtight,\n\u001b[1;32m    944\u001b[0m                                     scalex\u001b[38;5;241m=\u001b[39mscalex, scaley\u001b[38;5;241m=\u001b[39mscaley)\n\u001b[1;32m    945\u001b[0m \u001b[38;5;66;03m# Limit the resulting bounds to valid area.\u001b[39;00m\n\u001b[0;32m--> 946\u001b[0m \u001b[38;5;28;01mif\u001b[39;00m scalex \u001b[38;5;129;01mand\u001b[39;00m \u001b[38;5;28;43mself\u001b[39;49m\u001b[38;5;241;43m.\u001b[39;49m\u001b[43m_autoscaleXon\u001b[49m:\n\u001b[1;32m    947\u001b[0m     bounds \u001b[38;5;241m=\u001b[39m \u001b[38;5;28mself\u001b[39m\u001b[38;5;241m.\u001b[39mget_xbound()\n\u001b[1;32m    948\u001b[0m     \u001b[38;5;28mself\u001b[39m\u001b[38;5;241m.\u001b[39mset_xbound(\u001b[38;5;28mmax\u001b[39m(bounds[\u001b[38;5;241m0\u001b[39m], \u001b[38;5;28mself\u001b[39m\u001b[38;5;241m.\u001b[39mprojection\u001b[38;5;241m.\u001b[39mx_limits[\u001b[38;5;241m0\u001b[39m]),\n\u001b[1;32m    949\u001b[0m                     \u001b[38;5;28mmin\u001b[39m(bounds[\u001b[38;5;241m1\u001b[39m], \u001b[38;5;28mself\u001b[39m\u001b[38;5;241m.\u001b[39mprojection\u001b[38;5;241m.\u001b[39mx_limits[\u001b[38;5;241m1\u001b[39m]))\n",
      "\u001b[0;31mAttributeError\u001b[0m: 'GeoAxes' object has no attribute '_autoscaleXon'"
     ]
    },
    {
     "data": {
      "image/png": "[encoded data removed]",
      "text/plain": [
       "<Figure size 1200x800 with 1 Axes>"
      ]
     },
     "metadata": {},
     "output_type": "display_data"
    }
   ],
   "source": [
    "fig = plt.figure(figsize=[12,8])\n",
    "ax = fig.add_subplot(111, projection=ccrs.PlateCarree())\n",
    "region_ds['pr'].plot(\n",
    "    ax=ax,\n",
    "    transform=ccrs.PlateCarree(),\n",
    "    cmap='viridis_r',\n",
    ")\n",
    "ax.coastlines()\n",
    "ax.add_feature(cartopy.feature.STATES)\n",
    "ax.add_geometries(shapes.geometry, ccrs.PlateCarree(), facecolor='none', edgecolor='orange')\n",
    "plt.show()"
   ]
  },
  {
   "cell_type": "markdown",
   "id": "146854fe",
   "metadata": {
    "papermill": {
     "duration": null,
     "end_time": null,
     "exception": null,
     "start_time": null,
     "status": "pending"
    },
    "tags": []
   },
   "source": [
    "### Model data"
   ]
  },
  {
   "cell_type": "code",
   "execution_count": 14,
   "id": "1620b927",
   "metadata": {
    "execution": {
     "iopub.execute_input": "2023-01-30T08:12:15.817162Z",
     "iopub.status.busy": "2023-01-30T08:12:15.816844Z",
     "iopub.status.idle": "2023-01-30T08:12:15.843104Z",
     "shell.execute_reply": "2023-01-30T08:12:15.842738Z"
    },
    "papermill": {
     "duration": null,
     "end_time": null,
     "exception": null,
     "start_time": null,
     "status": "pending"
    },
    "tags": []
   },
   "outputs": [],
   "source": [
    "model_ds = fileio.open_dataset(model_file)\n",
    "model_bc_ds = fileio.open_dataset(model_bc_file)"
   ]
  },
  {
   "cell_type": "code",
   "execution_count": 15,
   "id": "b3d4100a",
   "metadata": {
    "execution": {
     "iopub.execute_input": "2023-01-30T08:12:15.910263Z",
     "iopub.status.busy": "2023-01-30T08:12:15.908749Z",
     "iopub.status.idle": "2023-01-30T08:12:15.913791Z",
     "shell.execute_reply": "2023-01-30T08:12:15.913441Z"
    },
    "papermill": {
     "duration": null,
     "end_time": null,
     "exception": null,
     "start_time": null,
     "status": "pending"
    },
    "tags": []
   },
   "outputs": [
    {
     "data": {
      "text/html": [
       "<div><svg style=\"position: absolute; width: 0; height: 0; overflow: hidden\">\n",
       "<defs>\n",
       "<symbol id=\"icon-database\" viewBox=\"0 0 32 32\">\n",
       "<path d=\"M16 0c-8.837 0-16 2.239-16 5v4c0 2.761 7.163 5 16 5s16-2.239 16-5v-4c0-2.761-7.163-5-16-5z\"></path>\n",
       "<path d=\"M16 17c-8.837 0-16-2.239-16-5v6c0 2.761 7.163 5 16 5s16-2.239 16-5v-6c0 2.761-7.163 5-16 5z\"></path>\n",
       "<path d=\"M16 26c-8.837 0-16-2.239-16-5v6c0 2.761 7.163 5 16 5s16-2.239 16-5v-6c0 2.761-7.163 5-16 5z\"></path>\n",
       "</symbol>\n",
       "<symbol id=\"icon-file-text2\" viewBox=\"0 0 32 32\">\n",
       "<path d=\"M28.681 7.159c-0.694-0.947-1.662-2.053-2.724-3.116s-2.169-2.030-3.116-2.724c-1.612-1.182-2.393-1.319-2.841-1.319h-15.5c-1.378 0-2.5 1.121-2.5 2.5v27c0 1.378 1.122 2.5 2.5 2.5h23c1.378 0 2.5-1.122 2.5-2.5v-19.5c0-0.448-0.137-1.23-1.319-2.841zM24.543 5.457c0.959 0.959 1.712 1.825 2.268 2.543h-4.811v-4.811c0.718 0.556 1.584 1.309 2.543 2.268zM28 29.5c0 0.271-0.229 0.5-0.5 0.5h-23c-0.271 0-0.5-0.229-0.5-0.5v-27c0-0.271 0.229-0.5 0.5-0.5 0 0 15.499-0 15.5 0v7c0 0.552 0.448 1 1 1h7v19.5z\"></path>\n",
       "<path d=\"M23 26h-14c-0.552 0-1-0.448-1-1s0.448-1 1-1h14c0.552 0 1 0.448 1 1s-0.448 1-1 1z\"></path>\n",
       "<path d=\"M23 22h-14c-0.552 0-1-0.448-1-1s0.448-1 1-1h14c0.552 0 1 0.448 1 1s-0.448 1-1 1z\"></path>\n",
       "<path d=\"M23 18h-14c-0.552 0-1-0.448-1-1s0.448-1 1-1h14c0.552 0 1 0.448 1 1s-0.448 1-1 1z\"></path>\n",
       "</symbol>\n",
       "</defs>\n",
       "</svg>\n",
       "<style>/* CSS stylesheet for displaying xarray objects in jupyterlab.\n",
       " *\n",
       " */\n",
       "\n",
       ":root {\n",
       "  --xr-font-color0: var(--jp-content-font-color0, rgba(0, 0, 0, 1));\n",
       "  --xr-font-color2: var(--jp-content-font-color2, rgba(0, 0, 0, 0.54));\n",
       "  --xr-font-color3: var(--jp-content-font-color3, rgba(0, 0, 0, 0.38));\n",
       "  --xr-border-color: var(--jp-border-color2, #e0e0e0);\n",
       "  --xr-disabled-color: var(--jp-layout-color3, #bdbdbd);\n",
       "  --xr-background-color: var(--jp-layout-color0, white);\n",
       "  --xr-background-color-row-even: var(--jp-layout-color1, white);\n",
       "  --xr-background-color-row-odd: var(--jp-layout-color2, #eeeeee);\n",
       "}\n",
       "\n",
       "html[theme=dark],\n",
       "body[data-theme=dark],\n",
       "body.vscode-dark {\n",
       "  --xr-font-color0: rgba(255, 255, 255, 1);\n",
       "  --xr-font-color2: rgba(255, 255, 255, 0.54);\n",
       "  --xr-font-color3: rgba(255, 255, 255, 0.38);\n",
       "  --xr-border-color: #1F1F1F;\n",
       "  --xr-disabled-color: #515151;\n",
       "  --xr-background-color: #111111;\n",
       "  --xr-background-color-row-even: #111111;\n",
       "  --xr-background-color-row-odd: #313131;\n",
       "}\n",
       "\n",
       ".xr-wrap {\n",
       "  display: block !important;\n",
       "  min-width: 300px;\n",
       "  max-width: 700px;\n",
       "}\n",
       "\n",
       ".xr-text-repr-fallback {\n",
       "  /* fallback to plain text repr when CSS is not injected (untrusted notebook) */\n",
       "  display: none;\n",
       "}\n",
       "\n",
       ".xr-header {\n",
       "  padding-top: 6px;\n",
       "  padding-bottom: 6px;\n",
       "  margin-bottom: 4px;\n",
       "  border-bottom: solid 1px var(--xr-border-color);\n",
       "}\n",
       "\n",
       ".xr-header > div,\n",
       ".xr-header > ul {\n",
       "  display: inline;\n",
       "  margin-top: 0;\n",
       "  margin-bottom: 0;\n",
       "}\n",
       "\n",
       ".xr-obj-type,\n",
       ".xr-array-name {\n",
       "  margin-left: 2px;\n",
       "  margin-right: 10px;\n",
       "}\n",
       "\n",
       ".xr-obj-type {\n",
       "  color: var(--xr-font-color2);\n",
       "}\n",
       "\n",
       ".xr-sections {\n",
       "  padding-left: 0 !important;\n",
       "  display: grid;\n",
       "  grid-template-columns: 150px auto auto 1fr 20px 20px;\n",
       "}\n",
       "\n",
       ".xr-section-item {\n",
       "  display: contents;\n",
       "}\n",
       "\n",
       ".xr-section-item input {\n",
       "  display: none;\n",
       "}\n",
       "\n",
       ".xr-section-item input + label {\n",
       "  color: var(--xr-disabled-color);\n",
       "}\n",
       "\n",
       ".xr-section-item input:enabled + label {\n",
       "  cursor: pointer;\n",
       "  color: var(--xr-font-color2);\n",
       "}\n",
       "\n",
       ".xr-section-item input:enabled + label:hover {\n",
       "  color: var(--xr-font-color0);\n",
       "}\n",
       "\n",
       ".xr-section-summary {\n",
       "  grid-column: 1;\n",
       "  color: var(--xr-font-color2);\n",
       "  font-weight: 500;\n",
       "}\n",
       "\n",
       ".xr-section-summary > span {\n",
       "  display: inline-block;\n",
       "  padding-left: 0.5em;\n",
       "}\n",
       "\n",
       ".xr-section-summary-in:disabled + label {\n",
       "  color: var(--xr-font-color2);\n",
       "}\n",
       "\n",
       ".xr-section-summary-in + label:before {\n",
       "  display: inline-block;\n",
       "  content: '►';\n",
       "  font-size: 11px;\n",
       "  width: 15px;\n",
       "  text-align: center;\n",
       "}\n",
       "\n",
       ".xr-section-summary-in:disabled + label:before {\n",
       "  color: var(--xr-disabled-color);\n",
       "}\n",
       "\n",
       ".xr-section-summary-in:checked + label:before {\n",
       "  content: '▼';\n",
       "}\n",
       "\n",
       ".xr-section-summary-in:checked + label > span {\n",
       "  display: none;\n",
       "}\n",
       "\n",
       ".xr-section-summary,\n",
       ".xr-section-inline-details {\n",
       "  padding-top: 4px;\n",
       "  padding-bottom: 4px;\n",
       "}\n",
       "\n",
       ".xr-section-inline-details {\n",
       "  grid-column: 2 / -1;\n",
       "}\n",
       "\n",
       ".xr-section-details {\n",
       "  display: none;\n",
       "  grid-column: 1 / -1;\n",
       "  margin-bottom: 5px;\n",
       "}\n",
       "\n",
       ".xr-section-summary-in:checked ~ .xr-section-details {\n",
       "  display: contents;\n",
       "}\n",
       "\n",
       ".xr-array-wrap {\n",
       "  grid-column: 1 / -1;\n",
       "  display: grid;\n",
       "  grid-template-columns: 20px auto;\n",
       "}\n",
       "\n",
       ".xr-array-wrap > label {\n",
       "  grid-column: 1;\n",
       "  vertical-align: top;\n",
       "}\n",
       "\n",
       ".xr-preview {\n",
       "  color: var(--xr-font-color3);\n",
       "}\n",
       "\n",
       ".xr-array-preview,\n",
       ".xr-array-data {\n",
       "  padding: 0 5px !important;\n",
       "  grid-column: 2;\n",
       "}\n",
       "\n",
       ".xr-array-data,\n",
       ".xr-array-in:checked ~ .xr-array-preview {\n",
       "  display: none;\n",
       "}\n",
       "\n",
       ".xr-array-in:checked ~ .xr-array-data,\n",
       ".xr-array-preview {\n",
       "  display: inline-block;\n",
       "}\n",
       "\n",
       ".xr-dim-list {\n",
       "  display: inline-block !important;\n",
       "  list-style: none;\n",
       "  padding: 0 !important;\n",
       "  margin: 0;\n",
       "}\n",
       "\n",
       ".xr-dim-list li {\n",
       "  display: inline-block;\n",
       "  padding: 0;\n",
       "  margin: 0;\n",
       "}\n",
       "\n",
       ".xr-dim-list:before {\n",
       "  content: '(';\n",
       "}\n",
       "\n",
       ".xr-dim-list:after {\n",
       "  content: ')';\n",
       "}\n",
       "\n",
       ".xr-dim-list li:not(:last-child):after {\n",
       "  content: ',';\n",
       "  padding-right: 5px;\n",
       "}\n",
       "\n",
       ".xr-has-index {\n",
       "  font-weight: bold;\n",
       "}\n",
       "\n",
       ".xr-var-list,\n",
       ".xr-var-item {\n",
       "  display: contents;\n",
       "}\n",
       "\n",
       ".xr-var-item > div,\n",
       ".xr-var-item label,\n",
       ".xr-var-item > .xr-var-name span {\n",
       "  background-color: var(--xr-background-color-row-even);\n",
       "  margin-bottom: 0;\n",
       "}\n",
       "\n",
       ".xr-var-item > .xr-var-name:hover span {\n",
       "  padding-right: 5px;\n",
       "}\n",
       "\n",
       ".xr-var-list > li:nth-child(odd) > div,\n",
       ".xr-var-list > li:nth-child(odd) > label,\n",
       ".xr-var-list > li:nth-child(odd) > .xr-var-name span {\n",
       "  background-color: var(--xr-background-color-row-odd);\n",
       "}\n",
       "\n",
       ".xr-var-name {\n",
       "  grid-column: 1;\n",
       "}\n",
       "\n",
       ".xr-var-dims {\n",
       "  grid-column: 2;\n",
       "}\n",
       "\n",
       ".xr-var-dtype {\n",
       "  grid-column: 3;\n",
       "  text-align: right;\n",
       "  color: var(--xr-font-color2);\n",
       "}\n",
       "\n",
       ".xr-var-preview {\n",
       "  grid-column: 4;\n",
       "}\n",
       "\n",
       ".xr-var-name,\n",
       ".xr-var-dims,\n",
       ".xr-var-dtype,\n",
       ".xr-preview,\n",
       ".xr-attrs dt {\n",
       "  white-space: nowrap;\n",
       "  overflow: hidden;\n",
       "  text-overflow: ellipsis;\n",
       "  padding-right: 10px;\n",
       "}\n",
       "\n",
       ".xr-var-name:hover,\n",
       ".xr-var-dims:hover,\n",
       ".xr-var-dtype:hover,\n",
       ".xr-attrs dt:hover {\n",
       "  overflow: visible;\n",
       "  width: auto;\n",
       "  z-index: 1;\n",
       "}\n",
       "\n",
       ".xr-var-attrs,\n",
       ".xr-var-data {\n",
       "  display: none;\n",
       "  background-color: var(--xr-background-color) !important;\n",
       "  padding-bottom: 5px !important;\n",
       "}\n",
       "\n",
       ".xr-var-attrs-in:checked ~ .xr-var-attrs,\n",
       ".xr-var-data-in:checked ~ .xr-var-data {\n",
       "  display: block;\n",
       "}\n",
       "\n",
       ".xr-var-data > table {\n",
       "  float: right;\n",
       "}\n",
       "\n",
       ".xr-var-name span,\n",
       ".xr-var-data,\n",
       ".xr-attrs {\n",
       "  padding-left: 25px !important;\n",
       "}\n",
       "\n",
       ".xr-attrs,\n",
       ".xr-var-attrs,\n",
       ".xr-var-data {\n",
       "  grid-column: 1 / -1;\n",
       "}\n",
       "\n",
       "dl.xr-attrs {\n",
       "  padding: 0;\n",
       "  margin: 0;\n",
       "  display: grid;\n",
       "  grid-template-columns: 125px auto;\n",
       "}\n",
       "\n",
       ".xr-attrs dt,\n",
       ".xr-attrs dd {\n",
       "  padding: 0;\n",
       "  margin: 0;\n",
       "  float: left;\n",
       "  padding-right: 10px;\n",
       "  width: auto;\n",
       "}\n",
       "\n",
       ".xr-attrs dt {\n",
       "  font-weight: normal;\n",
       "  grid-column: 1;\n",
       "}\n",
       "\n",
       ".xr-attrs dt:hover span {\n",
       "  display: inline-block;\n",
       "  background: var(--xr-background-color);\n",
       "  padding-right: 10px;\n",
       "}\n",
       "\n",
       ".xr-attrs dd {\n",
       "  grid-column: 2;\n",
       "  white-space: pre-wrap;\n",
       "  word-break: break-all;\n",
       "}\n",
       "\n",
       ".xr-icon-database,\n",
       ".xr-icon-file-text2 {\n",
       "  display: inline-block;\n",
       "  vertical-align: middle;\n",
       "  width: 1em;\n",
       "  height: 1.5em !important;\n",
       "  stroke-width: 0;\n",
       "  stroke: currentColor;\n",
       "  fill: currentColor;\n",
       "}\n",
       "</style><pre class='xr-text-repr-fallback'>&lt;xarray.Dataset&gt;\n",
       "Dimensions:     (ensemble: 10, init_date: 59, lead_time: 11)\n",
       "Coordinates:\n",
       "  * ensemble    (ensemble) int64 0 1 2 3 4 5 6 7 8 9\n",
       "    event_time  (init_date, ensemble, lead_time) &lt;U28 dask.array&lt;chunksize=(59, 10, 11), meta=np.ndarray&gt;\n",
       "  * init_date   (init_date) object 1960-11-01 00:00:00 ... 2018-11-01 00:00:00\n",
       "  * lead_time   (lead_time) int64 0 1 2 3 4 5 6 7 8 9 10\n",
       "    time        (lead_time, init_date) object dask.array&lt;chunksize=(11, 59), meta=np.ndarray&gt;\n",
       "Data variables:\n",
       "    pr          (init_date, ensemble, lead_time) float64 dask.array&lt;chunksize=(1, 1, 11), meta=np.ndarray&gt;\n",
       "Attributes: (12/45)\n",
       "    Conventions:            CF-1.7 CMIP-6.2\n",
       "    activity_id:            DCPP\n",
       "    branch_method:          Branching from dcppA-assim, but atmospheric initi...\n",
       "    branch_time_in_child:   0.0\n",
       "    branch_time_in_parent:  3957.0\n",
       "    cmor_version:           3.4.0\n",
       "    ...                     ...\n",
       "    table_id:               day\n",
       "    table_info:             Creation Date:(22 July 2019) MD5:b4cefb4b6dbb146f...\n",
       "    title:                  MIROC6 output prepared for CMIP6\n",
       "    tracking_id:            hdl:21.14100/95da9468-c246-4aba-a9e3-9be21aa5772f\n",
       "    variable_id:            pr\n",
       "    variant_label:          r1i1p1f1</pre><div class='xr-wrap' style='display:none'><div class='xr-header'><div class='xr-obj-type'>xarray.Dataset</div></div><ul class='xr-sections'><li class='xr-section-item'><input id='section-57afdbb3-56d0-4ccb-9a55-544d42d2e5d5' class='xr-section-summary-in' type='checkbox' disabled ><label for='section-57afdbb3-56d0-4ccb-9a55-544d42d2e5d5' class='xr-section-summary'  title='Expand/collapse section'>Dimensions:</label><div class='xr-section-inline-details'><ul class='xr-dim-list'><li><span class='xr-has-index'>ensemble</span>: 10</li><li><span class='xr-has-index'>init_date</span>: 59</li><li><span class='xr-has-index'>lead_time</span>: 11</li></ul></div><div class='xr-section-details'></div></li><li class='xr-section-item'><input id='section-aba0ca79-e233-4147-bf35-123acfa873f6' class='xr-section-summary-in' type='checkbox'  checked><label for='section-aba0ca79-e233-4147-bf35-123acfa873f6' class='xr-section-summary' >Coordinates: <span>(5)</span></label><div class='xr-section-inline-details'></div><div class='xr-section-details'><ul class='xr-var-list'><li class='xr-var-item'><div class='xr-var-name'><span class='xr-has-index'>ensemble</span></div><div class='xr-var-dims'>(ensemble)</div><div class='xr-var-dtype'>int64</div><div class='xr-var-preview xr-preview'>0 1 2 3 4 5 6 7 8 9</div><input id='attrs-9f5d552f-124f-49bb-b5a9-e28f90730fc2' class='xr-var-attrs-in' type='checkbox' disabled><label for='attrs-9f5d552f-124f-49bb-b5a9-e28f90730fc2' title='Show/Hide attributes'><svg class='icon xr-icon-file-text2'><use xlink:href='#icon-file-text2'></use></svg></label><input id='data-d137345f-69ef-463f-b29c-60225a35c431' class='xr-var-data-in' type='checkbox'><label for='data-d137345f-69ef-463f-b29c-60225a35c431' title='Show/Hide data repr'><svg class='icon xr-icon-database'><use xlink:href='#icon-database'></use></svg></label><div class='xr-var-attrs'><dl class='xr-attrs'></dl></div><div class='xr-var-data'><pre>array([0, 1, 2, 3, 4, 5, 6, 7, 8, 9])</pre></div></li><li class='xr-var-item'><div class='xr-var-name'><span>event_time</span></div><div class='xr-var-dims'>(init_date, ensemble, lead_time)</div><div class='xr-var-dtype'>&lt;U28</div><div class='xr-var-preview xr-preview'>dask.array&lt;chunksize=(59, 10, 11), meta=np.ndarray&gt;</div><input id='attrs-3a2e2557-bd49-47ab-a693-ff532ea9176e' class='xr-var-attrs-in' type='checkbox' disabled><label for='attrs-3a2e2557-bd49-47ab-a693-ff532ea9176e' title='Show/Hide attributes'><svg class='icon xr-icon-file-text2'><use xlink:href='#icon-file-text2'></use></svg></label><input id='data-abc2b147-97e1-4e3d-8539-7ef5e654377a' class='xr-var-data-in' type='checkbox'><label for='data-abc2b147-97e1-4e3d-8539-7ef5e654377a' title='Show/Hide data repr'><svg class='icon xr-icon-database'><use xlink:href='#icon-database'></use></svg></label><div class='xr-var-attrs'><dl class='xr-attrs'></dl></div><div class='xr-var-data'><table>\n",
       "    <tr>\n",
       "        <td>\n",
       "            <table style=\"border-collapse: collapse;\">\n",
       "                <thead>\n",
       "                    <tr>\n",
       "                        <td> </td>\n",
       "                        <th> Array </th>\n",
       "                        <th> Chunk </th>\n",
       "                    </tr>\n",
       "                </thead>\n",
       "                <tbody>\n",
       "                    \n",
       "                    <tr>\n",
       "                        <th> Bytes </th>\n",
       "                        <td> 709.84 kiB </td>\n",
       "                        <td> 709.84 kiB </td>\n",
       "                    </tr>\n",
       "                    \n",
       "                    <tr>\n",
       "                        <th> Shape </th>\n",
       "                        <td> (59, 10, 11) </td>\n",
       "                        <td> (59, 10, 11) </td>\n",
       "                    </tr>\n",
       "                    <tr>\n",
       "                        <th> Dask graph </th>\n",
       "                        <td colspan=\"2\"> 1 chunks in 2 graph layers </td>\n",
       "                    </tr>\n",
       "                    <tr>\n",
       "                        <th> Data type </th>\n",
       "                        <td colspan=\"2\"> <U28 numpy.ndarray </td>\n",
       "                    </tr>\n",
       "                </tbody>\n",
       "            </table>\n",
       "        </td>\n",
       "        <td>\n",
       "        <svg width=\"172\" height=\"161\" style=\"stroke:rgb(0,0,0);stroke-width:1\" >\n",
       "\n",
       "  <!-- Horizontal lines -->\n",
       "  <line x1=\"10\" y1=\"0\" x2=\"80\" y2=\"70\" style=\"stroke-width:2\" />\n",
       "  <line x1=\"10\" y1=\"41\" x2=\"80\" y2=\"111\" style=\"stroke-width:2\" />\n",
       "\n",
       "  <!-- Vertical lines -->\n",
       "  <line x1=\"10\" y1=\"0\" x2=\"10\" y2=\"41\" style=\"stroke-width:2\" />\n",
       "  <line x1=\"80\" y1=\"70\" x2=\"80\" y2=\"111\" style=\"stroke-width:2\" />\n",
       "\n",
       "  <!-- Colored Rectangle -->\n",
       "  <polygon points=\"10.0,0.0 80.58823529411765,70.58823529411765 80.58823529411765,111.86931006392784 10.0,41.28107476981019\" style=\"fill:#ECB172A0;stroke-width:0\"/>\n",
       "\n",
       "  <!-- Horizontal lines -->\n",
       "  <line x1=\"10\" y1=\"0\" x2=\"51\" y2=\"0\" style=\"stroke-width:2\" />\n",
       "  <line x1=\"80\" y1=\"70\" x2=\"122\" y2=\"70\" style=\"stroke-width:2\" />\n",
       "\n",
       "  <!-- Vertical lines -->\n",
       "  <line x1=\"10\" y1=\"0\" x2=\"80\" y2=\"70\" style=\"stroke-width:2\" />\n",
       "  <line x1=\"51\" y1=\"0\" x2=\"122\" y2=\"70\" style=\"stroke-width:2\" />\n",
       "\n",
       "  <!-- Colored Rectangle -->\n",
       "  <polygon points=\"10.0,0.0 51.70788989335183,0.0 122.29612518746949,70.58823529411765 80.58823529411765,70.58823529411765\" style=\"fill:#ECB172A0;stroke-width:0\"/>\n",
       "\n",
       "  <!-- Horizontal lines -->\n",
       "  <line x1=\"80\" y1=\"70\" x2=\"122\" y2=\"70\" style=\"stroke-width:2\" />\n",
       "  <line x1=\"80\" y1=\"111\" x2=\"122\" y2=\"111\" style=\"stroke-width:2\" />\n",
       "\n",
       "  <!-- Vertical lines -->\n",
       "  <line x1=\"80\" y1=\"70\" x2=\"80\" y2=\"111\" style=\"stroke-width:2\" />\n",
       "  <line x1=\"122\" y1=\"70\" x2=\"122\" y2=\"111\" style=\"stroke-width:2\" />\n",
       "\n",
       "  <!-- Colored Rectangle -->\n",
       "  <polygon points=\"80.58823529411765,70.58823529411765 122.29612518746949,70.58823529411765 122.29612518746949,111.86931006392784 80.58823529411765,111.86931006392784\" style=\"fill:#ECB172A0;stroke-width:0\"/>\n",
       "\n",
       "  <!-- Text -->\n",
       "  <text x=\"101.442180\" y=\"131.869310\" font-size=\"1.0rem\" font-weight=\"100\" text-anchor=\"middle\" >11</text>\n",
       "  <text x=\"142.296125\" y=\"91.228773\" font-size=\"1.0rem\" font-weight=\"100\" text-anchor=\"middle\" transform=\"rotate(0,142.296125,91.228773)\">10</text>\n",
       "  <text x=\"35.294118\" y=\"96.575192\" font-size=\"1.0rem\" font-weight=\"100\" text-anchor=\"middle\" transform=\"rotate(45,35.294118,96.575192)\">59</text>\n",
       "</svg>\n",
       "        </td>\n",
       "    </tr>\n",
       "</table></div></li><li class='xr-var-item'><div class='xr-var-name'><span class='xr-has-index'>init_date</span></div><div class='xr-var-dims'>(init_date)</div><div class='xr-var-dtype'>object</div><div class='xr-var-preview xr-preview'>1960-11-01 00:00:00 ... 2018-11-...</div><input id='attrs-83d16c35-8547-4645-8257-1cacaed4830b' class='xr-var-attrs-in' type='checkbox' disabled><label for='attrs-83d16c35-8547-4645-8257-1cacaed4830b' title='Show/Hide attributes'><svg class='icon xr-icon-file-text2'><use xlink:href='#icon-file-text2'></use></svg></label><input id='data-0ca15690-d2dc-4d8e-8b13-b8a283f17c14' class='xr-var-data-in' type='checkbox'><label for='data-0ca15690-d2dc-4d8e-8b13-b8a283f17c14' title='Show/Hide data repr'><svg class='icon xr-icon-database'><use xlink:href='#icon-database'></use></svg></label><div class='xr-var-attrs'><dl class='xr-attrs'></dl></div><div class='xr-var-data'><pre>array([cftime.DatetimeJulian(1960, 11, 1, 0, 0, 0, 0, has_year_zero=False),\n",
       "       cftime.DatetimeJulian(1961, 11, 1, 0, 0, 0, 0, has_year_zero=False),\n",
       "       cftime.DatetimeJulian(1962, 11, 1, 0, 0, 0, 0, has_year_zero=False),\n",
       "       cftime.DatetimeJulian(1963, 11, 1, 0, 0, 0, 0, has_year_zero=False),\n",
       "       cftime.DatetimeJulian(1964, 11, 1, 0, 0, 0, 0, has_year_zero=False),\n",
       "       cftime.DatetimeJulian(1965, 11, 1, 0, 0, 0, 0, has_year_zero=False),\n",
       "       cftime.DatetimeJulian(1966, 11, 1, 0, 0, 0, 0, has_year_zero=False),\n",
       "       cftime.DatetimeJulian(1967, 11, 1, 0, 0, 0, 0, has_year_zero=False),\n",
       "       cftime.DatetimeJulian(1968, 11, 1, 0, 0, 0, 0, has_year_zero=False),\n",
       "       cftime.DatetimeJulian(1969, 11, 1, 0, 0, 0, 0, has_year_zero=False),\n",
       "       cftime.DatetimeJulian(1970, 11, 1, 0, 0, 0, 0, has_year_zero=False),\n",
       "       cftime.DatetimeJulian(1971, 11, 1, 0, 0, 0, 0, has_year_zero=False),\n",
       "       cftime.DatetimeJulian(1972, 11, 1, 0, 0, 0, 0, has_year_zero=False),\n",
       "       cftime.DatetimeJulian(1973, 11, 1, 0, 0, 0, 0, has_year_zero=False),\n",
       "       cftime.DatetimeJulian(1974, 11, 1, 0, 0, 0, 0, has_year_zero=False),\n",
       "       cftime.DatetimeJulian(1975, 11, 1, 0, 0, 0, 0, has_year_zero=False),\n",
       "       cftime.DatetimeJulian(1976, 11, 1, 0, 0, 0, 0, has_year_zero=False),\n",
       "       cftime.DatetimeJulian(1977, 11, 1, 0, 0, 0, 0, has_year_zero=False),\n",
       "       cftime.DatetimeJulian(1978, 11, 1, 0, 0, 0, 0, has_year_zero=False),\n",
       "       cftime.DatetimeJulian(1979, 11, 1, 0, 0, 0, 0, has_year_zero=False),\n",
       "       cftime.DatetimeJulian(1980, 11, 1, 0, 0, 0, 0, has_year_zero=False),\n",
       "       cftime.DatetimeJulian(1981, 11, 1, 0, 0, 0, 0, has_year_zero=False),\n",
       "       cftime.DatetimeJulian(1982, 11, 1, 0, 0, 0, 0, has_year_zero=False),\n",
       "       cftime.DatetimeJulian(1983, 11, 1, 0, 0, 0, 0, has_year_zero=False),\n",
       "       cftime.DatetimeJulian(1984, 11, 1, 0, 0, 0, 0, has_year_zero=False),\n",
       "       cftime.DatetimeJulian(1985, 11, 1, 0, 0, 0, 0, has_year_zero=False),\n",
       "       cftime.DatetimeJulian(1986, 11, 1, 0, 0, 0, 0, has_year_zero=False),\n",
       "       cftime.DatetimeJulian(1987, 11, 1, 0, 0, 0, 0, has_year_zero=False),\n",
       "       cftime.DatetimeJulian(1988, 11, 1, 0, 0, 0, 0, has_year_zero=False),\n",
       "       cftime.DatetimeJulian(1989, 11, 1, 0, 0, 0, 0, has_year_zero=False),\n",
       "       cftime.DatetimeJulian(1990, 11, 1, 0, 0, 0, 0, has_year_zero=False),\n",
       "       cftime.DatetimeJulian(1991, 11, 1, 0, 0, 0, 0, has_year_zero=False),\n",
       "       cftime.DatetimeJulian(1992, 11, 1, 0, 0, 0, 0, has_year_zero=False),\n",
       "       cftime.DatetimeJulian(1993, 11, 1, 0, 0, 0, 0, has_year_zero=False),\n",
       "       cftime.DatetimeJulian(1994, 11, 1, 0, 0, 0, 0, has_year_zero=False),\n",
       "       cftime.DatetimeJulian(1995, 11, 1, 0, 0, 0, 0, has_year_zero=False),\n",
       "       cftime.DatetimeJulian(1996, 11, 1, 0, 0, 0, 0, has_year_zero=False),\n",
       "       cftime.DatetimeJulian(1997, 11, 1, 0, 0, 0, 0, has_year_zero=False),\n",
       "       cftime.DatetimeJulian(1998, 11, 1, 0, 0, 0, 0, has_year_zero=False),\n",
       "       cftime.DatetimeJulian(1999, 11, 1, 0, 0, 0, 0, has_year_zero=False),\n",
       "       cftime.DatetimeJulian(2000, 11, 1, 0, 0, 0, 0, has_year_zero=False),\n",
       "       cftime.DatetimeJulian(2001, 11, 1, 0, 0, 0, 0, has_year_zero=False),\n",
       "       cftime.DatetimeJulian(2002, 11, 1, 0, 0, 0, 0, has_year_zero=False),\n",
       "       cftime.DatetimeJulian(2003, 11, 1, 0, 0, 0, 0, has_year_zero=False),\n",
       "       cftime.DatetimeJulian(2004, 11, 1, 0, 0, 0, 0, has_year_zero=False),\n",
       "       cftime.DatetimeJulian(2005, 11, 1, 0, 0, 0, 0, has_year_zero=False),\n",
       "       cftime.DatetimeJulian(2006, 11, 1, 0, 0, 0, 0, has_year_zero=False),\n",
       "       cftime.DatetimeJulian(2007, 11, 1, 0, 0, 0, 0, has_year_zero=False),\n",
       "       cftime.DatetimeJulian(2008, 11, 1, 0, 0, 0, 0, has_year_zero=False),\n",
       "       cftime.DatetimeJulian(2009, 11, 1, 0, 0, 0, 0, has_year_zero=False),\n",
       "       cftime.DatetimeJulian(2010, 11, 1, 0, 0, 0, 0, has_year_zero=False),\n",
       "       cftime.DatetimeJulian(2011, 11, 1, 0, 0, 0, 0, has_year_zero=False),\n",
       "       cftime.DatetimeJulian(2012, 11, 1, 0, 0, 0, 0, has_year_zero=False),\n",
       "       cftime.DatetimeJulian(2013, 11, 1, 0, 0, 0, 0, has_year_zero=False),\n",
       "       cftime.DatetimeJulian(2014, 11, 1, 0, 0, 0, 0, has_year_zero=False),\n",
       "       cftime.DatetimeJulian(2015, 11, 1, 0, 0, 0, 0, has_year_zero=False),\n",
       "       cftime.DatetimeJulian(2016, 11, 1, 0, 0, 0, 0, has_year_zero=False),\n",
       "       cftime.DatetimeJulian(2017, 11, 1, 0, 0, 0, 0, has_year_zero=False),\n",
       "       cftime.DatetimeJulian(2018, 11, 1, 0, 0, 0, 0, has_year_zero=False)],\n",
       "      dtype=object)</pre></div></li><li class='xr-var-item'><div class='xr-var-name'><span class='xr-has-index'>lead_time</span></div><div class='xr-var-dims'>(lead_time)</div><div class='xr-var-dtype'>int64</div><div class='xr-var-preview xr-preview'>0 1 2 3 4 5 6 7 8 9 10</div><input id='attrs-9754a876-b2ef-45d9-ab3a-477f5d557cc6' class='xr-var-attrs-in' type='checkbox' ><label for='attrs-9754a876-b2ef-45d9-ab3a-477f5d557cc6' title='Show/Hide attributes'><svg class='icon xr-icon-file-text2'><use xlink:href='#icon-file-text2'></use></svg></label><input id='data-33eae731-6b2c-4782-9b77-646ed3d4edd1' class='xr-var-data-in' type='checkbox'><label for='data-33eae731-6b2c-4782-9b77-646ed3d4edd1' title='Show/Hide data repr'><svg class='icon xr-icon-database'><use xlink:href='#icon-database'></use></svg></label><div class='xr-var-attrs'><dl class='xr-attrs'><dt><span>units :</span></dt><dd>A</dd></dl></div><div class='xr-var-data'><pre>array([ 0,  1,  2,  3,  4,  5,  6,  7,  8,  9, 10])</pre></div></li><li class='xr-var-item'><div class='xr-var-name'><span>time</span></div><div class='xr-var-dims'>(lead_time, init_date)</div><div class='xr-var-dtype'>object</div><div class='xr-var-preview xr-preview'>dask.array&lt;chunksize=(11, 59), meta=np.ndarray&gt;</div><input id='attrs-ae789448-da66-434d-9d26-da7be6664df2' class='xr-var-attrs-in' type='checkbox' ><label for='attrs-ae789448-da66-434d-9d26-da7be6664df2' title='Show/Hide attributes'><svg class='icon xr-icon-file-text2'><use xlink:href='#icon-file-text2'></use></svg></label><input id='data-3c23925b-d4fc-4ded-88d6-397caeb54f81' class='xr-var-data-in' type='checkbox'><label for='data-3c23925b-d4fc-4ded-88d6-397caeb54f81' title='Show/Hide data repr'><svg class='icon xr-icon-database'><use xlink:href='#icon-database'></use></svg></label><div class='xr-var-attrs'><dl class='xr-attrs'><dt><span>frequency :</span></dt><dd>A</dd></dl></div><div class='xr-var-data'><table>\n",
       "    <tr>\n",
       "        <td>\n",
       "            <table style=\"border-collapse: collapse;\">\n",
       "                <thead>\n",
       "                    <tr>\n",
       "                        <td> </td>\n",
       "                        <th> Array </th>\n",
       "                        <th> Chunk </th>\n",
       "                    </tr>\n",
       "                </thead>\n",
       "                <tbody>\n",
       "                    \n",
       "                    <tr>\n",
       "                        <th> Bytes </th>\n",
       "                        <td> 5.07 kiB </td>\n",
       "                        <td> 5.07 kiB </td>\n",
       "                    </tr>\n",
       "                    \n",
       "                    <tr>\n",
       "                        <th> Shape </th>\n",
       "                        <td> (11, 59) </td>\n",
       "                        <td> (11, 59) </td>\n",
       "                    </tr>\n",
       "                    <tr>\n",
       "                        <th> Dask graph </th>\n",
       "                        <td colspan=\"2\"> 1 chunks in 2 graph layers </td>\n",
       "                    </tr>\n",
       "                    <tr>\n",
       "                        <th> Data type </th>\n",
       "                        <td colspan=\"2\"> object numpy.ndarray </td>\n",
       "                    </tr>\n",
       "                </tbody>\n",
       "            </table>\n",
       "        </td>\n",
       "        <td>\n",
       "        <svg width=\"170\" height=\"91\" style=\"stroke:rgb(0,0,0);stroke-width:1\" >\n",
       "\n",
       "  <!-- Horizontal lines -->\n",
       "  <line x1=\"0\" y1=\"0\" x2=\"120\" y2=\"0\" style=\"stroke-width:2\" />\n",
       "  <line x1=\"0\" y1=\"41\" x2=\"120\" y2=\"41\" style=\"stroke-width:2\" />\n",
       "\n",
       "  <!-- Vertical lines -->\n",
       "  <line x1=\"0\" y1=\"0\" x2=\"0\" y2=\"41\" style=\"stroke-width:2\" />\n",
       "  <line x1=\"120\" y1=\"0\" x2=\"120\" y2=\"41\" style=\"stroke-width:2\" />\n",
       "\n",
       "  <!-- Colored Rectangle -->\n",
       "  <polygon points=\"0.0,0.0 120.0,0.0 120.0,41.70788989335183 0.0,41.70788989335183\" style=\"fill:#ECB172A0;stroke-width:0\"/>\n",
       "\n",
       "  <!-- Text -->\n",
       "  <text x=\"60.000000\" y=\"61.707890\" font-size=\"1.0rem\" font-weight=\"100\" text-anchor=\"middle\" >59</text>\n",
       "  <text x=\"140.000000\" y=\"20.853945\" font-size=\"1.0rem\" font-weight=\"100\" text-anchor=\"middle\" transform=\"rotate(0,140.000000,20.853945)\">11</text>\n",
       "</svg>\n",
       "        </td>\n",
       "    </tr>\n",
       "</table></div></li></ul></div></li><li class='xr-section-item'><input id='section-99bc67e9-3ab1-4891-ae8e-b3c10b21976c' class='xr-section-summary-in' type='checkbox'  checked><label for='section-99bc67e9-3ab1-4891-ae8e-b3c10b21976c' class='xr-section-summary' >Data variables: <span>(1)</span></label><div class='xr-section-inline-details'></div><div class='xr-section-details'><ul class='xr-var-list'><li class='xr-var-item'><div class='xr-var-name'><span>pr</span></div><div class='xr-var-dims'>(init_date, ensemble, lead_time)</div><div class='xr-var-dtype'>float64</div><div class='xr-var-preview xr-preview'>dask.array&lt;chunksize=(1, 1, 11), meta=np.ndarray&gt;</div><input id='attrs-74843b91-6b48-439c-91c9-082d4f1c204f' class='xr-var-attrs-in' type='checkbox' ><label for='attrs-74843b91-6b48-439c-91c9-082d4f1c204f' title='Show/Hide attributes'><svg class='icon xr-icon-file-text2'><use xlink:href='#icon-file-text2'></use></svg></label><input id='data-dfb70f2f-498f-43fe-9a12-e82e963755f4' class='xr-var-data-in' type='checkbox'><label for='data-dfb70f2f-498f-43fe-9a12-e82e963755f4' title='Show/Hide data repr'><svg class='icon xr-icon-database'><use xlink:href='#icon-database'></use></svg></label><div class='xr-var-attrs'><dl class='xr-attrs'><dt><span>cell_measures :</span></dt><dd>area: areacella</dd><dt><span>cell_methods :</span></dt><dd>area: time: mean</dd><dt><span>comment :</span></dt><dd>includes both liquid and solid phases</dd><dt><span>history :</span></dt><dd>2019-11-18T02:35:23Z altered by CMOR: Converted units from &#x27;kg/m**2/s&#x27; to &#x27;kg m-2 s-1&#x27;. 2019-11-18T02:35:23Z altered by CMOR: replaced missing value flag (-999) with standard missing value (1e+20). 2019-11-18T02:35:23Z altered by CMOR: Inverted axis: lat.</dd><dt><span>long_name :</span></dt><dd>Precipitation</dd><dt><span>original_name :</span></dt><dd>PRCP</dd><dt><span>original_units :</span></dt><dd>kg/m**2/s</dd><dt><span>standard_name :</span></dt><dd>precipitation_flux</dd><dt><span>units :</span></dt><dd>mm d-1</dd></dl></div><div class='xr-var-data'><table>\n",
       "    <tr>\n",
       "        <td>\n",
       "            <table style=\"border-collapse: collapse;\">\n",
       "                <thead>\n",
       "                    <tr>\n",
       "                        <td> </td>\n",
       "                        <th> Array </th>\n",
       "                        <th> Chunk </th>\n",
       "                    </tr>\n",
       "                </thead>\n",
       "                <tbody>\n",
       "                    \n",
       "                    <tr>\n",
       "                        <th> Bytes </th>\n",
       "                        <td> 50.70 kiB </td>\n",
       "                        <td> 88 B </td>\n",
       "                    </tr>\n",
       "                    \n",
       "                    <tr>\n",
       "                        <th> Shape </th>\n",
       "                        <td> (59, 10, 11) </td>\n",
       "                        <td> (1, 1, 11) </td>\n",
       "                    </tr>\n",
       "                    <tr>\n",
       "                        <th> Dask graph </th>\n",
       "                        <td colspan=\"2\"> 590 chunks in 2 graph layers </td>\n",
       "                    </tr>\n",
       "                    <tr>\n",
       "                        <th> Data type </th>\n",
       "                        <td colspan=\"2\"> float64 numpy.ndarray </td>\n",
       "                    </tr>\n",
       "                </tbody>\n",
       "            </table>\n",
       "        </td>\n",
       "        <td>\n",
       "        <svg width=\"172\" height=\"161\" style=\"stroke:rgb(0,0,0);stroke-width:1\" >\n",
       "\n",
       "  <!-- Horizontal lines -->\n",
       "  <line x1=\"10\" y1=\"0\" x2=\"80\" y2=\"70\" style=\"stroke-width:2\" />\n",
       "  <line x1=\"10\" y1=\"4\" x2=\"80\" y2=\"74\" />\n",
       "  <line x1=\"10\" y1=\"8\" x2=\"80\" y2=\"78\" />\n",
       "  <line x1=\"10\" y1=\"12\" x2=\"80\" y2=\"82\" />\n",
       "  <line x1=\"10\" y1=\"16\" x2=\"80\" y2=\"87\" />\n",
       "  <line x1=\"10\" y1=\"20\" x2=\"80\" y2=\"91\" />\n",
       "  <line x1=\"10\" y1=\"24\" x2=\"80\" y2=\"95\" />\n",
       "  <line x1=\"10\" y1=\"28\" x2=\"80\" y2=\"99\" />\n",
       "  <line x1=\"10\" y1=\"33\" x2=\"80\" y2=\"103\" />\n",
       "  <line x1=\"10\" y1=\"37\" x2=\"80\" y2=\"107\" />\n",
       "  <line x1=\"10\" y1=\"41\" x2=\"80\" y2=\"111\" style=\"stroke-width:2\" />\n",
       "\n",
       "  <!-- Vertical lines -->\n",
       "  <line x1=\"10\" y1=\"0\" x2=\"10\" y2=\"41\" style=\"stroke-width:2\" />\n",
       "  <line x1=\"13\" y1=\"3\" x2=\"13\" y2=\"44\" />\n",
       "  <line x1=\"17\" y1=\"7\" x2=\"17\" y2=\"48\" />\n",
       "  <line x1=\"20\" y1=\"10\" x2=\"20\" y2=\"52\" />\n",
       "  <line x1=\"24\" y1=\"14\" x2=\"24\" y2=\"55\" />\n",
       "  <line x1=\"27\" y1=\"17\" x2=\"27\" y2=\"59\" />\n",
       "  <line x1=\"31\" y1=\"21\" x2=\"31\" y2=\"62\" />\n",
       "  <line x1=\"35\" y1=\"25\" x2=\"35\" y2=\"66\" />\n",
       "  <line x1=\"38\" y1=\"28\" x2=\"38\" y2=\"69\" />\n",
       "  <line x1=\"42\" y1=\"32\" x2=\"42\" y2=\"73\" />\n",
       "  <line x1=\"47\" y1=\"37\" x2=\"47\" y2=\"78\" />\n",
       "  <line x1=\"50\" y1=\"40\" x2=\"50\" y2=\"81\" />\n",
       "  <line x1=\"54\" y1=\"44\" x2=\"54\" y2=\"85\" />\n",
       "  <line x1=\"57\" y1=\"47\" x2=\"57\" y2=\"89\" />\n",
       "  <line x1=\"61\" y1=\"51\" x2=\"61\" y2=\"92\" />\n",
       "  <line x1=\"65\" y1=\"55\" x2=\"65\" y2=\"96\" />\n",
       "  <line x1=\"68\" y1=\"58\" x2=\"68\" y2=\"99\" />\n",
       "  <line x1=\"72\" y1=\"62\" x2=\"72\" y2=\"103\" />\n",
       "  <line x1=\"75\" y1=\"65\" x2=\"75\" y2=\"107\" />\n",
       "  <line x1=\"80\" y1=\"70\" x2=\"80\" y2=\"111\" style=\"stroke-width:2\" />\n",
       "\n",
       "  <!-- Colored Rectangle -->\n",
       "  <polygon points=\"10.0,0.0 80.58823529411765,70.58823529411765 80.58823529411765,111.86931006392784 10.0,41.28107476981019\" style=\"fill:#8B4903A0;stroke-width:0\"/>\n",
       "\n",
       "  <!-- Horizontal lines -->\n",
       "  <line x1=\"10\" y1=\"0\" x2=\"51\" y2=\"0\" style=\"stroke-width:2\" />\n",
       "  <line x1=\"13\" y1=\"3\" x2=\"55\" y2=\"3\" />\n",
       "  <line x1=\"17\" y1=\"7\" x2=\"58\" y2=\"7\" />\n",
       "  <line x1=\"20\" y1=\"10\" x2=\"62\" y2=\"10\" />\n",
       "  <line x1=\"24\" y1=\"14\" x2=\"66\" y2=\"14\" />\n",
       "  <line x1=\"27\" y1=\"17\" x2=\"69\" y2=\"17\" />\n",
       "  <line x1=\"31\" y1=\"21\" x2=\"73\" y2=\"21\" />\n",
       "  <line x1=\"35\" y1=\"25\" x2=\"76\" y2=\"25\" />\n",
       "  <line x1=\"38\" y1=\"28\" x2=\"80\" y2=\"28\" />\n",
       "  <line x1=\"42\" y1=\"32\" x2=\"84\" y2=\"32\" />\n",
       "  <line x1=\"47\" y1=\"37\" x2=\"88\" y2=\"37\" />\n",
       "  <line x1=\"50\" y1=\"40\" x2=\"92\" y2=\"40\" />\n",
       "  <line x1=\"54\" y1=\"44\" x2=\"95\" y2=\"44\" />\n",
       "  <line x1=\"57\" y1=\"47\" x2=\"99\" y2=\"47\" />\n",
       "  <line x1=\"61\" y1=\"51\" x2=\"103\" y2=\"51\" />\n",
       "  <line x1=\"65\" y1=\"55\" x2=\"106\" y2=\"55\" />\n",
       "  <line x1=\"68\" y1=\"58\" x2=\"110\" y2=\"58\" />\n",
       "  <line x1=\"72\" y1=\"62\" x2=\"113\" y2=\"62\" />\n",
       "  <line x1=\"75\" y1=\"65\" x2=\"117\" y2=\"65\" />\n",
       "  <line x1=\"80\" y1=\"70\" x2=\"122\" y2=\"70\" style=\"stroke-width:2\" />\n",
       "\n",
       "  <!-- Vertical lines -->\n",
       "  <line x1=\"10\" y1=\"0\" x2=\"80\" y2=\"70\" style=\"stroke-width:2\" />\n",
       "  <line x1=\"51\" y1=\"0\" x2=\"122\" y2=\"70\" style=\"stroke-width:2\" />\n",
       "\n",
       "  <!-- Colored Rectangle -->\n",
       "  <polygon points=\"10.0,0.0 51.70788989335183,0.0 122.29612518746949,70.58823529411765 80.58823529411765,70.58823529411765\" style=\"fill:#8B4903A0;stroke-width:0\"/>\n",
       "\n",
       "  <!-- Horizontal lines -->\n",
       "  <line x1=\"80\" y1=\"70\" x2=\"122\" y2=\"70\" style=\"stroke-width:2\" />\n",
       "  <line x1=\"80\" y1=\"74\" x2=\"122\" y2=\"74\" />\n",
       "  <line x1=\"80\" y1=\"78\" x2=\"122\" y2=\"78\" />\n",
       "  <line x1=\"80\" y1=\"82\" x2=\"122\" y2=\"82\" />\n",
       "  <line x1=\"80\" y1=\"87\" x2=\"122\" y2=\"87\" />\n",
       "  <line x1=\"80\" y1=\"91\" x2=\"122\" y2=\"91\" />\n",
       "  <line x1=\"80\" y1=\"95\" x2=\"122\" y2=\"95\" />\n",
       "  <line x1=\"80\" y1=\"99\" x2=\"122\" y2=\"99\" />\n",
       "  <line x1=\"80\" y1=\"103\" x2=\"122\" y2=\"103\" />\n",
       "  <line x1=\"80\" y1=\"107\" x2=\"122\" y2=\"107\" />\n",
       "  <line x1=\"80\" y1=\"111\" x2=\"122\" y2=\"111\" style=\"stroke-width:2\" />\n",
       "\n",
       "  <!-- Vertical lines -->\n",
       "  <line x1=\"80\" y1=\"70\" x2=\"80\" y2=\"111\" style=\"stroke-width:2\" />\n",
       "  <line x1=\"122\" y1=\"70\" x2=\"122\" y2=\"111\" style=\"stroke-width:2\" />\n",
       "\n",
       "  <!-- Colored Rectangle -->\n",
       "  <polygon points=\"80.58823529411765,70.58823529411765 122.29612518746949,70.58823529411765 122.29612518746949,111.86931006392784 80.58823529411765,111.86931006392784\" style=\"fill:#ECB172A0;stroke-width:0\"/>\n",
       "\n",
       "  <!-- Text -->\n",
       "  <text x=\"101.442180\" y=\"131.869310\" font-size=\"1.0rem\" font-weight=\"100\" text-anchor=\"middle\" >11</text>\n",
       "  <text x=\"142.296125\" y=\"91.228773\" font-size=\"1.0rem\" font-weight=\"100\" text-anchor=\"middle\" transform=\"rotate(0,142.296125,91.228773)\">10</text>\n",
       "  <text x=\"35.294118\" y=\"96.575192\" font-size=\"1.0rem\" font-weight=\"100\" text-anchor=\"middle\" transform=\"rotate(45,35.294118,96.575192)\">59</text>\n",
       "</svg>\n",
       "        </td>\n",
       "    </tr>\n",
       "</table></div></li></ul></div></li><li class='xr-section-item'><input id='section-339df1e8-6bcc-4dfa-a743-83ec55015ff8' class='xr-section-summary-in' type='checkbox'  ><label for='section-339df1e8-6bcc-4dfa-a743-83ec55015ff8' class='xr-section-summary' >Attributes: <span>(45)</span></label><div class='xr-section-inline-details'></div><div class='xr-section-details'><dl class='xr-attrs'><dt><span>Conventions :</span></dt><dd>CF-1.7 CMIP-6.2</dd><dt><span>activity_id :</span></dt><dd>DCPP</dd><dt><span>branch_method :</span></dt><dd>Branching from dcppA-assim, but atmospheric initial conditions for zonal and meridional wind velocity, temperature, and specific humidity are replaced by those of the observation-based JRA55 reanalysis dataset. Ocean and land initial conditions are taken from dcppA-assim as it is.</dd><dt><span>branch_time_in_child :</span></dt><dd>0.0</dd><dt><span>branch_time_in_parent :</span></dt><dd>3957.0</dd><dt><span>cmor_version :</span></dt><dd>3.4.0</dd><dt><span>comment :</span></dt><dd>Anomalous ocean temperature, salinity, and full-field sea ice concentration of MIROC6 are initialized by assimilating ocean objective analysis of Ishii and Kimoto (2009) and satellite-based observation of sea-ice concentration (SSM/I) with a simplified incremental analysis update method described in Tatebe et al. (2012). No data assimilation is done for atmospheric variables. The assimilation run is started from Jan. 1950 to the present as dcppA-assim. The oceanic and land initial conditions for dcppA-hindcast are taken from dcppA-assim, but the atmospheric initial conditions of ua, va, ta, hus are partly replaced by those of the observation-based JRA55 reanalysis dataset.</dd><dt><span>creation_date :</span></dt><dd>2019-11-18T02:35:23Z</dd><dt><span>data_specs_version :</span></dt><dd>01.00.31</dd><dt><span>experiment :</span></dt><dd>hindcast initialized based on observations and using historical forcing</dd><dt><span>experiment_id :</span></dt><dd>dcppA-hindcast</dd><dt><span>external_variables :</span></dt><dd>areacella</dd><dt><span>forcing_index :</span></dt><dd>1</dd><dt><span>frequency :</span></dt><dd>day</dd><dt><span>further_info_url :</span></dt><dd>https://furtherinfo.es-doc.org/CMIP6.MIROC.MIROC6.dcppA-hindcast.s1960.r1i1p1f1</dd><dt><span>grid :</span></dt><dd>native atmosphere T85 Gaussian grid</dd><dt><span>grid_label :</span></dt><dd>gn</dd><dt><span>history :</span></dt><dd>Mon Jan 30 18:54:29 2023: /g/data/xv83/dbi599/miniconda3/envs/unseen/bin/python3.9 /g/data/xv83/dbi599/miniconda3/envs/unseen/bin/fileio file_lists/MIROC6_dcppA-hindcast_files.txt /g/data/xv83/dbi599/east-coast-rain/data/Rx15day_MIROC6-dcppA-hindcast_196011-201811_annual-aug-to-sep_east-coast-flood-region.zarr.zip --forecast --variables pr --spatial_agg weighted_mean --rolling_sum_window 15 --shapefile /g/data/xv83/dbi599/east-coast-rain/shapefiles/east-coast-flood.shp --time_freq A-AUG --time_agg max --input_freq D --units_timing middle --reset_times --complete_time_agg_periods --dask_config dask_local.yml --verbose --time_agg_dates --units pr=mm day-1 --lat_bnds -40 -20 --lon_bnds 140 160 --shp_overlap 0.1 --output_chunks lead_time=50 --n_ensemble_files 10 --n_time_files 2 (git@github.com:AusClimateService/east-coast-rain)</dd><dt><span>initialization_index :</span></dt><dd>1</dd><dt><span>institution :</span></dt><dd>JAMSTEC (Japan Agency for Marine-Earth Science and Technology, Kanagawa 236-0001, Japan), AORI (Atmosphere and Ocean Research Institute, The University of Tokyo, Chiba 277-8564, Japan), NIES (National Institute for Environmental Studies, Ibaraki 305-8506, Japan), and R-CCS (RIKEN Center for Computational Science, Hyogo 650-0047, Japan)</dd><dt><span>institution_id :</span></dt><dd>MIROC</dd><dt><span>license :</span></dt><dd>CMIP6 model data produced by MIROC is licensed under a Creative Commons Attribution ShareAlike 4.0 International License (https://creativecommons.org/licenses/). Consult https://pcmdi.llnl.gov/CMIP6/TermsOfUse for terms of use governing CMIP6 output, including citation requirements and proper acknowledgment. Further information about this data, including some limitations, can be found via the further_info_url (recorded as a global attribute in this file). The data producers and data providers make no warranty, either express or implied, including, but not limited to, warranties of merchantability and fitness for a particular purpose. All liabilities arising from the supply of the information (including any liability arising in negligence) are excluded to the fullest extent permitted by law.</dd><dt><span>mip_era :</span></dt><dd>CMIP6</dd><dt><span>nominal_resolution :</span></dt><dd>250 km</dd><dt><span>parent_activity_id :</span></dt><dd>DCPP</dd><dt><span>parent_experiment_id :</span></dt><dd>dcppA-assim</dd><dt><span>parent_mip_era :</span></dt><dd>CMIP6</dd><dt><span>parent_source_id :</span></dt><dd>MIROC6</dd><dt><span>parent_time_units :</span></dt><dd>days since 1950-1-1</dd><dt><span>parent_variant_label :</span></dt><dd>r1i1p1f1</dd><dt><span>physics_index :</span></dt><dd>1</dd><dt><span>product :</span></dt><dd>model-output</dd><dt><span>realization_index :</span></dt><dd>1</dd><dt><span>realm :</span></dt><dd>atmos</dd><dt><span>source :</span></dt><dd>MIROC6 (2017): \n",
       "aerosol: SPRINTARS6.0\n",
       "atmos: CCSR AGCM (T85; 256 x 128 longitude/latitude; 81 levels; top level 0.004 hPa)\n",
       "atmosChem: none\n",
       "land: MATSIRO6.0\n",
       "landIce: none\n",
       "ocean: COCO4.9 (tripolar primarily 1deg; 360 x 256 longitude/latitude; 63 levels; top grid cell 0-2 m)\n",
       "ocnBgchem: none\n",
       "seaIce: COCO4.9</dd><dt><span>source_id :</span></dt><dd>MIROC6</dd><dt><span>source_type :</span></dt><dd>AOGCM AER</dd><dt><span>sub_experiment :</span></dt><dd>initialized near end of year 1960</dd><dt><span>sub_experiment_id :</span></dt><dd>s1960</dd><dt><span>table_id :</span></dt><dd>day</dd><dt><span>table_info :</span></dt><dd>Creation Date:(22 July 2019) MD5:b4cefb4b6dbb146fea9677a552a00934</dd><dt><span>title :</span></dt><dd>MIROC6 output prepared for CMIP6</dd><dt><span>tracking_id :</span></dt><dd>hdl:21.14100/95da9468-c246-4aba-a9e3-9be21aa5772f</dd><dt><span>variable_id :</span></dt><dd>pr</dd><dt><span>variant_label :</span></dt><dd>r1i1p1f1</dd></dl></div></li></ul></div></div>"
      ],
      "text/plain": [
       "<xarray.Dataset>\n",
       "Dimensions:     (ensemble: 10, init_date: 59, lead_time: 11)\n",
       "Coordinates:\n",
       "  * ensemble    (ensemble) int64 0 1 2 3 4 5 6 7 8 9\n",
       "    event_time  (init_date, ensemble, lead_time) <U28 dask.array<chunksize=(59, 10, 11), meta=np.ndarray>\n",
       "  * init_date   (init_date) object 1960-11-01 00:00:00 ... 2018-11-01 00:00:00\n",
       "  * lead_time   (lead_time) int64 0 1 2 3 4 5 6 7 8 9 10\n",
       "    time        (lead_time, init_date) object dask.array<chunksize=(11, 59), meta=np.ndarray>\n",
       "Data variables:\n",
       "    pr          (init_date, ensemble, lead_time) float64 dask.array<chunksize=(1, 1, 11), meta=np.ndarray>\n",
       "Attributes: (12/45)\n",
       "    Conventions:            CF-1.7 CMIP-6.2\n",
       "    activity_id:            DCPP\n",
       "    branch_method:          Branching from dcppA-assim, but atmospheric initi...\n",
       "    branch_time_in_child:   0.0\n",
       "    branch_time_in_parent:  3957.0\n",
       "    cmor_version:           3.4.0\n",
       "    ...                     ...\n",
       "    table_id:               day\n",
       "    table_info:             Creation Date:(22 July 2019) MD5:b4cefb4b6dbb146f...\n",
       "    title:                  MIROC6 output prepared for CMIP6\n",
       "    tracking_id:            hdl:21.14100/95da9468-c246-4aba-a9e3-9be21aa5772f\n",
       "    variable_id:            pr\n",
       "    variant_label:          r1i1p1f1"
      ]
     },
     "execution_count": 15,
     "metadata": {},
     "output_type": "execute_result"
    }
   ],
   "source": [
    "model_ds"
   ]
  },
  {
   "cell_type": "markdown",
   "id": "b25bd815",
   "metadata": {
    "papermill": {
     "duration": null,
     "end_time": null,
     "exception": null,
     "start_time": null,
     "status": "pending"
    },
    "tags": []
   },
   "source": [
    "### Independence testing"
   ]
  },
  {
   "cell_type": "code",
   "execution_count": 16,
   "id": "b819d698",
   "metadata": {
    "execution": {
     "iopub.execute_input": "2023-01-30T08:12:16.014877Z",
     "iopub.status.busy": "2023-01-30T08:12:16.014555Z",
     "iopub.status.idle": "2023-01-30T08:12:16.019781Z",
     "shell.execute_reply": "2023-01-30T08:12:16.019372Z"
    },
    "papermill": {
     "duration": null,
     "end_time": null,
     "exception": null,
     "start_time": null,
     "status": "pending"
    },
    "tags": []
   },
   "outputs": [
    {
     "data": {
      "image/png": "[encoded data removed]",
      "text/plain": [
       "<IPython.core.display.Image object>"
      ]
     },
     "execution_count": 16,
     "metadata": {},
     "output_type": "execute_result"
    }
   ],
   "source": [
    "Image(filename=independence_plot)"
   ]
  },
  {
   "cell_type": "code",
   "execution_count": 17,
   "id": "a5ccabe2",
   "metadata": {
    "execution": {
     "iopub.execute_input": "2023-01-30T08:12:16.077473Z",
     "iopub.status.busy": "2023-01-30T08:12:16.076745Z",
     "iopub.status.idle": "2023-01-30T08:12:16.081570Z",
     "shell.execute_reply": "2023-01-30T08:12:16.080765Z"
    },
    "papermill": {
     "duration": null,
     "end_time": null,
     "exception": null,
     "start_time": null,
     "status": "pending"
    },
    "tags": []
   },
   "outputs": [
    {
     "name": "stdout",
     "output_type": "stream",
     "text": [
      "1\n"
     ]
    }
   ],
   "source": [
    "print(min_lead)"
   ]
  },
  {
   "cell_type": "code",
   "execution_count": 18,
   "id": "e055048c",
   "metadata": {
    "execution": {
     "iopub.execute_input": "2023-01-30T08:12:16.157699Z",
     "iopub.status.busy": "2023-01-30T08:12:16.157311Z",
     "iopub.status.idle": "2023-01-30T08:12:16.160703Z",
     "shell.execute_reply": "2023-01-30T08:12:16.160388Z"
    },
    "papermill": {
     "duration": null,
     "end_time": null,
     "exception": null,
     "start_time": null,
     "status": "pending"
    },
    "tags": []
   },
   "outputs": [],
   "source": [
    "model_da = model_ds['pr'].where(model_ds['lead_time'] >= min_lead)"
   ]
  },
  {
   "cell_type": "code",
   "execution_count": 19,
   "id": "6b40107c",
   "metadata": {
    "execution": {
     "iopub.execute_input": "2023-01-30T08:12:32.646156Z",
     "iopub.status.busy": "2023-01-30T08:12:32.634818Z",
     "iopub.status.idle": "2023-01-30T08:12:33.582474Z",
     "shell.execute_reply": "2023-01-30T08:12:33.581493Z"
    },
    "papermill": {
     "duration": null,
     "end_time": null,
     "exception": null,
     "start_time": null,
     "status": "pending"
    },
    "tags": []
   },
   "outputs": [],
   "source": [
    "model_da_stacked = model_da.dropna('lead_time').stack({'sample': ['ensemble', 'init_date', 'lead_time']})"
   ]
  },
  {
   "cell_type": "code",
   "execution_count": 20,
   "id": "10aaf4a0",
   "metadata": {
    "execution": {
     "iopub.execute_input": "2023-01-30T08:12:33.671940Z",
     "iopub.status.busy": "2023-01-30T08:12:33.671602Z",
     "iopub.status.idle": "2023-01-30T08:12:33.675786Z",
     "shell.execute_reply": "2023-01-30T08:12:33.676110Z"
    },
    "papermill": {
     "duration": null,
     "end_time": null,
     "exception": null,
     "start_time": null,
     "status": "pending"
    },
    "tags": []
   },
   "outputs": [
    {
     "data": {
      "text/plain": [
       "(5310,)"
      ]
     },
     "execution_count": 20,
     "metadata": {},
     "output_type": "execute_result"
    }
   ],
   "source": [
    "model_da_stacked.shape"
   ]
  },
  {
   "cell_type": "code",
   "execution_count": 21,
   "id": "f0b0019b",
   "metadata": {
    "execution": {
     "iopub.execute_input": "2023-01-30T08:12:19.759157Z",
     "iopub.status.busy": "2023-01-30T08:12:19.753525Z",
     "iopub.status.idle": "2023-01-30T08:12:20.776601Z",
     "shell.execute_reply": "2023-01-30T08:12:20.775673Z"
    },
    "papermill": {
     "duration": null,
     "end_time": null,
     "exception": null,
     "start_time": null,
     "status": "pending"
    },
    "tags": []
   },
   "outputs": [],
   "source": [
    "model_bc_da_stacked = model_bc_ds.dropna('lead_time')['pr'].stack({'sample': ['ensemble', 'init_date', 'lead_time']})"
   ]
  },
  {
   "cell_type": "code",
   "execution_count": 22,
   "id": "7d4fdc9e",
   "metadata": {
    "execution": {
     "iopub.execute_input": "2023-01-30T08:12:20.852605Z",
     "iopub.status.busy": "2023-01-30T08:12:20.851921Z",
     "iopub.status.idle": "2023-01-30T08:12:20.856843Z",
     "shell.execute_reply": "2023-01-30T08:12:20.857674Z"
    },
    "papermill": {
     "duration": null,
     "end_time": null,
     "exception": null,
     "start_time": null,
     "status": "pending"
    },
    "tags": []
   },
   "outputs": [
    {
     "data": {
      "text/plain": [
       "(5310,)"
      ]
     },
     "execution_count": 22,
     "metadata": {},
     "output_type": "execute_result"
    }
   ],
   "source": [
    "model_bc_da_stacked.shape"
   ]
  },
  {
   "cell_type": "markdown",
   "id": "1e039e61",
   "metadata": {
    "papermill": {
     "duration": null,
     "end_time": null,
     "exception": null,
     "start_time": null,
     "status": "pending"
    },
    "tags": []
   },
   "source": [
    "### Bias correction and similarity testing"
   ]
  },
  {
   "cell_type": "code",
   "execution_count": 23,
   "id": "110c554e",
   "metadata": {
    "execution": {
     "iopub.execute_input": "2023-01-30T08:12:16.331948Z",
     "iopub.status.busy": "2023-01-30T08:12:16.273545Z",
     "iopub.status.idle": "2023-01-30T08:12:18.806283Z",
     "shell.execute_reply": "2023-01-30T08:12:18.807158Z"
    },
    "papermill": {
     "duration": null,
     "end_time": null,
     "exception": null,
     "start_time": null,
     "status": "pending"
    },
    "tags": []
   },
   "outputs": [
    {
     "data": {
      "image/png": "[encoded data removed]",
      "text/plain": [
       "<Figure size 1000x600 with 1 Axes>"
      ]
     },
     "metadata": {},
     "output_type": "display_data"
    }
   ],
   "source": [
    "fig = plt.figure(figsize=[10, 6])\n",
    "gev_xvals = np.arange(0, 700)\n",
    "\n",
    "model_da.plot.hist(\n",
    "    bins=50, density=True, label=model_name, alpha=0.7, facecolor='tab:blue',\n",
    ")\n",
    "model_gev_shape, model_gev_loc, model_gev_scale = indices.fit_gev(model_da_stacked.values)\n",
    "model_gev_pdf = gev.pdf(gev_xvals, model_gev_shape, model_gev_loc, model_gev_scale)\n",
    "plt.plot(gev_xvals, model_gev_pdf, color='tab:blue', linewidth=4.0)\n",
    "\n",
    "model_bc_ds['pr'].plot.hist(\n",
    "    bins=50, density=True, label=f'{model_name} bias corrected', facecolor='darkblue', alpha=0.7\n",
    ")\n",
    "model_bc_gev_shape, model_bc_gev_loc, model_bc_gev_scale = indices.fit_gev(model_bc_da_stacked.values)\n",
    "model_bc_gev_pdf = gev.pdf(gev_xvals, model_bc_gev_shape, model_bc_gev_loc, model_bc_gev_scale)\n",
    "plt.plot(gev_xvals, model_bc_gev_pdf, color='darkblue', linewidth=4.0)\n",
    "\n",
    "agcd_ds['pr'].plot.hist(\n",
    "    bins=50, density=True, label='AGCD', facecolor='tab:green', alpha=0.7\n",
    ")\n",
    "agcd_gev_shape, agcd_gev_loc, agcd_gev_scale = indices.fit_gev(agcd_ds['pr'].values)\n",
    "agcd_gev_pdf = gev.pdf(gev_xvals, agcd_gev_shape, agcd_gev_loc, agcd_gev_scale)\n",
    "plt.plot(gev_xvals, agcd_gev_pdf, color='tab:green', linewidth=4.0)\n",
    "\n",
    "plt.xlabel('precipitation (mm)')\n",
    "plt.ylabel('probability')\n",
    "plt.title(f'Annual (Sep-Aug) Rx15day for {region_name} ({model_name})')\n",
    "plt.legend()\n",
    "plt.savefig(f'/g/data/xv83/dbi599/east-coast-rain/figures/Rx15day_histogram_{model_name}_{region_name}.png',\n",
    "            bbox_inches='tight', facecolor='white', dpi=dpi)\n",
    "plt.show()"
   ]
  },
  {
   "cell_type": "markdown",
   "id": "1a8210c0",
   "metadata": {
    "papermill": {
     "duration": null,
     "end_time": null,
     "exception": null,
     "start_time": null,
     "status": "pending"
    },
    "tags": []
   },
   "source": [
    "We can look at p-values for the KS-test and Anderson-Darling test for each lead time.\n",
    "\n",
    "p > 0.05 means the null hypothesis (that the two samples are from the same population) can't be rejected."
   ]
  },
  {
   "cell_type": "code",
   "execution_count": null,
   "id": "a21af1f7",
   "metadata": {
    "execution": {
     "iopub.execute_input": "2023-01-30T08:12:18.930013Z",
     "iopub.status.busy": "2023-01-30T08:12:18.929690Z",
     "iopub.status.idle": "2023-01-30T08:12:18.936929Z",
     "shell.execute_reply": "2023-01-30T08:12:18.936588Z"
    },
    "papermill": {
     "duration": null,
     "end_time": null,
     "exception": null,
     "start_time": null,
     "status": "pending"
    },
    "tags": []
   },
   "outputs": [],
   "source": [
    "similarity_raw_ds = fileio.open_dataset(similarity_raw_file)"
   ]
  },
  {
   "cell_type": "code",
   "execution_count": null,
   "id": "3a599ddf",
   "metadata": {
    "execution": {
     "iopub.execute_input": "2023-01-30T08:12:19.004732Z",
     "iopub.status.busy": "2023-01-30T08:12:19.003155Z",
     "iopub.status.idle": "2023-01-30T08:12:19.013316Z",
     "shell.execute_reply": "2023-01-30T08:12:19.013627Z"
    },
    "papermill": {
     "duration": null,
     "end_time": null,
     "exception": null,
     "start_time": null,
     "status": "pending"
    },
    "tags": []
   },
   "outputs": [],
   "source": [
    "similarity_raw_ds['ks_pval'].values"
   ]
  },
  {
   "cell_type": "code",
   "execution_count": null,
   "id": "05eb014d",
   "metadata": {
    "execution": {
     "iopub.execute_input": "2023-01-30T08:12:19.084808Z",
     "iopub.status.busy": "2023-01-30T08:12:19.081526Z",
     "iopub.status.idle": "2023-01-30T08:12:19.092768Z",
     "shell.execute_reply": "2023-01-30T08:12:19.093166Z"
    },
    "papermill": {
     "duration": null,
     "end_time": null,
     "exception": null,
     "start_time": null,
     "status": "pending"
    },
    "tags": []
   },
   "outputs": [],
   "source": [
    "similarity_raw_ds['ad_pval'].values"
   ]
  },
  {
   "cell_type": "code",
   "execution_count": null,
   "id": "8b3f7de0",
   "metadata": {
    "execution": {
     "iopub.execute_input": "2023-01-30T08:12:19.161986Z",
     "iopub.status.busy": "2023-01-30T08:12:19.161132Z",
     "iopub.status.idle": "2023-01-30T08:12:19.175431Z",
     "shell.execute_reply": "2023-01-30T08:12:19.174426Z"
    },
    "papermill": {
     "duration": null,
     "end_time": null,
     "exception": null,
     "start_time": null,
     "status": "pending"
    },
    "tags": []
   },
   "outputs": [],
   "source": [
    "similarity_bias_ds = fileio.open_dataset(similarity_bc_file)"
   ]
  },
  {
   "cell_type": "code",
   "execution_count": null,
   "id": "d388e95d",
   "metadata": {
    "execution": {
     "iopub.execute_input": "2023-01-30T08:12:19.261398Z",
     "iopub.status.busy": "2023-01-30T08:12:19.260979Z",
     "iopub.status.idle": "2023-01-30T08:12:19.268786Z",
     "shell.execute_reply": "2023-01-30T08:12:19.268339Z"
    },
    "papermill": {
     "duration": null,
     "end_time": null,
     "exception": null,
     "start_time": null,
     "status": "pending"
    },
    "tags": []
   },
   "outputs": [],
   "source": [
    "similarity_bias_ds['ks_pval'].values"
   ]
  },
  {
   "cell_type": "code",
   "execution_count": null,
   "id": "c7cee743",
   "metadata": {
    "execution": {
     "iopub.execute_input": "2023-01-30T08:12:19.343398Z",
     "iopub.status.busy": "2023-01-30T08:12:19.341249Z",
     "iopub.status.idle": "2023-01-30T08:12:19.347354Z",
     "shell.execute_reply": "2023-01-30T08:12:19.347663Z"
    },
    "papermill": {
     "duration": null,
     "end_time": null,
     "exception": null,
     "start_time": null,
     "status": "pending"
    },
    "tags": []
   },
   "outputs": [],
   "source": [
    "similarity_bias_ds['ad_pval'].values"
   ]
  },
  {
   "cell_type": "markdown",
   "id": "692c7b58",
   "metadata": {
    "papermill": {
     "duration": null,
     "end_time": null,
     "exception": null,
     "start_time": null,
     "status": "pending"
    },
    "tags": []
   },
   "source": [
    "### Exceedance curves"
   ]
  },
  {
   "cell_type": "code",
   "execution_count": null,
   "id": "76186045",
   "metadata": {
    "execution": {
     "iopub.execute_input": "2023-01-30T08:12:19.509773Z",
     "iopub.status.busy": "2023-01-30T08:12:19.509441Z",
     "iopub.status.idle": "2023-01-30T08:12:19.512135Z",
     "shell.execute_reply": "2023-01-30T08:12:19.512448Z"
    },
    "papermill": {
     "duration": null,
     "end_time": null,
     "exception": null,
     "start_time": null,
     "status": "pending"
    },
    "tags": []
   },
   "outputs": [],
   "source": [
    "def plot_exceedance(sample_ds, model_name, outfile=None):\n",
    "    \"\"\"Plot single exceedance curve\"\"\"\n",
    "    \n",
    "    sorted_data, exceedance_data = general_utils.exceedance_curve(sample_ds)\n",
    "    \n",
    "    fig = plt.figure(figsize=[8, 6])\n",
    "    ax = fig.add_subplot()\n",
    "    ax.plot(sorted_data, exceedance_data)\n",
    "    ax.set_title(f'Annual (Sep-Aug) Rx15day for {region_name} ({model_name})')\n",
    "    ax.set_ylabel('likelihood of exceedance (%)')\n",
    "    ax.set_xlabel('Rx15day precipitation (mm)')\n",
    "    ax.axvline(pr2022, color='0.5', linestyle='--')\n",
    "    if outfile:\n",
    "        plt.savefig(outfile, bbox_inches='tight', facecolor='white', dpi=dpi)\n",
    "        print(outfile)\n",
    "    else:\n",
    "        plt.show()"
   ]
  },
  {
   "cell_type": "code",
   "execution_count": null,
   "id": "ff0f8f73",
   "metadata": {
    "papermill": {
     "duration": null,
     "end_time": null,
     "exception": null,
     "start_time": null,
     "status": "pending"
    },
    "tags": []
   },
   "outputs": [],
   "source": [
    "def gev_event_likelihood(event, shape, loc, scale):\n",
    "    \"\"\"Get likelihood stats for an event from a GEV fit\"\"\"\n",
    "\n",
    "    probability = gev.sf(event, shape, loc=loc, scale=scale)\n",
    "    return_period = 1. / probability\n",
    "    percentile = (1 - probability) * 100\n",
    "    print(f'{percentile:.2f}% percentile')\n",
    "    print(f'{return_period:.0f} year return period\\n')"
   ]
  },
  {
   "cell_type": "code",
   "execution_count": null,
   "id": "116edf55",
   "metadata": {
    "execution": {
     "iopub.execute_input": "2023-01-30T08:12:19.584792Z",
     "iopub.status.busy": "2023-01-30T08:12:19.584386Z",
     "iopub.status.idle": "2023-01-30T08:12:19.587418Z",
     "shell.execute_reply": "2023-01-30T08:12:19.586997Z"
    },
    "papermill": {
     "duration": null,
     "end_time": null,
     "exception": null,
     "start_time": null,
     "status": "pending"
    },
    "tags": []
   },
   "outputs": [],
   "source": [
    "def plot_exceedance_by_decade(sample_ds, model_name):\n",
    "    \"\"\"Plot exceedance curve by decade\"\"\"\n",
    "\n",
    "    fig = plt.figure(figsize=[8, 6])\n",
    "    ax = fig.add_subplot()\n",
    "    if model_name == 'CAFE':\n",
    "        start_years = [1995, 2000, 2005, 2010, 2015]\n",
    "        step = 4\n",
    "    else:\n",
    "        start_years = [1960, 1970, 1980, 1990, 2000, 2010]\n",
    "        step = 9\n",
    "    colors = iter(plt.cm.hot_r(np.linspace(0.3, 1, len(start_years))))\n",
    "\n",
    "    for start_year in start_years:\n",
    "        end_year = start_year + step\n",
    "        start_date = f'{start_year}-01-01'\n",
    "        end_date = f'{end_year}-12-25'\n",
    "        ds_selection = time_utils.select_time_period(sample_ds, [start_date, end_date])\n",
    "        ds_selection = ds_selection.dropna('sample')\n",
    "        sorted_data, exceedance_data = general_utils.exceedance_curve(ds_selection)\n",
    "        n_years = len(sorted_data)\n",
    "        label = f'{start_year}-{end_year} ({n_years} samples)'\n",
    "        color = next(colors)\n",
    "        ax.plot(sorted_data, exceedance_data, label=label, color=color)\n",
    "    \n",
    "        print(f'{start_year}-{end_year}')\n",
    "        n_events, n_population, return_period, percentile = general_utils.event_in_context(ds_selection.values, pr2022, 'above')\n",
    "        print(f'{n_events} events in {n_population} samples')\n",
    "        print(f'{percentile:.2f}% percentile')\n",
    "        print(f'{return_period:.0f} year return period')\n",
    "        print('GEV:')\n",
    "        gev_shape, gev_loc, gev_scale = indices.fit_gev(ds_selection.values)\n",
    "        gev_event_likelihood(pr2022, gev_shape, gev_loc, gev_scale)\n",
    "\n",
    "    ax.set_title(f'Annual (Sep-Aug) Rx15day for {region_name} ({model_name})')\n",
    "    ax.set_ylabel('likelihood of exceedance (%)')\n",
    "    ax.set_xlabel('Rx15day precipitation (mm)')\n",
    "    ax.legend()\n",
    "    ax.axvline(pr2022, color='0.5', linestyle='--')\n",
    "    outfile = f'/g/data/xv83/dbi599/east-coast-rain/figures/Rx15day_precip_exceedence_{region_name}_{model_name}_by-decade.png'\n",
    "    plt.savefig(outfile, bbox_inches='tight', facecolor='white', dpi=dpi)\n",
    "    print(outfile)"
   ]
  },
  {
   "cell_type": "markdown",
   "id": "d6a40828",
   "metadata": {
    "papermill": {
     "duration": null,
     "end_time": null,
     "exception": null,
     "start_time": null,
     "status": "pending"
    },
    "tags": []
   },
   "source": [
    "#### Bias corrected data"
   ]
  },
  {
   "cell_type": "code",
   "execution_count": null,
   "id": "59075ebb",
   "metadata": {
    "execution": {
     "iopub.execute_input": "2023-01-30T08:12:21.006002Z",
     "iopub.status.busy": "2023-01-30T08:12:20.971920Z",
     "iopub.status.idle": "2023-01-30T08:12:22.456037Z",
     "shell.execute_reply": "2023-01-30T08:12:22.456918Z"
    },
    "papermill": {
     "duration": null,
     "end_time": null,
     "exception": null,
     "start_time": null,
     "status": "pending"
    },
    "tags": []
   },
   "outputs": [],
   "source": [
    "outfile = f'/g/data/xv83/dbi599/east-coast-rain/figures/Rx15day_precip_exceedence_{region_name}_{model_name}.png'\n",
    "plot_exceedance(model_bc_da_stacked, model_name, outfile=outfile)"
   ]
  },
  {
   "cell_type": "code",
   "execution_count": null,
   "id": "39e4acf0",
   "metadata": {
    "execution": {
     "iopub.execute_input": "2023-01-30T08:12:22.709091Z",
     "iopub.status.busy": "2023-01-30T08:12:22.571393Z",
     "iopub.status.idle": "2023-01-30T08:12:23.774118Z",
     "shell.execute_reply": "2023-01-30T08:12:23.773151Z"
    },
    "papermill": {
     "duration": null,
     "end_time": null,
     "exception": null,
     "start_time": null,
     "status": "pending"
    },
    "tags": []
   },
   "outputs": [],
   "source": [
    "n_events_bc, n_population_bc, return_period_bc, percentile_bc = general_utils.event_in_context(model_bc_da_stacked.values, pr2022, 'above')\n",
    "print('BIAS CORRECTED DATA')\n",
    "print(f'{n_events_bc} events in {n_population_bc} samples')\n",
    "print(f'{percentile_bc:.2f}% percentile')\n",
    "print(f'{return_period_bc:.0f} year return period')"
   ]
  },
  {
   "cell_type": "code",
   "execution_count": null,
   "id": "2e0a064d",
   "metadata": {
    "papermill": {
     "duration": null,
     "end_time": null,
     "exception": null,
     "start_time": null,
     "status": "pending"
    },
    "tags": []
   },
   "outputs": [],
   "source": [
    "print('BIAS CORRECTED GEV')\n",
    "gev_event_likelihood(pr2022, model_bc_gev_shape, model_bc_gev_loc, model_bc_gev_scale)"
   ]
  },
  {
   "cell_type": "code",
   "execution_count": null,
   "id": "7789699c",
   "metadata": {
    "execution": {
     "iopub.execute_input": "2023-01-30T08:12:23.883902Z",
     "iopub.status.busy": "2023-01-30T08:12:23.881097Z",
     "iopub.status.idle": "2023-01-30T08:12:32.451302Z",
     "shell.execute_reply": "2023-01-30T08:12:32.450080Z"
    },
    "papermill": {
     "duration": null,
     "end_time": null,
     "exception": null,
     "start_time": null,
     "status": "pending"
    },
    "tags": []
   },
   "outputs": [],
   "source": [
    "plot_exceedance_by_decade(model_bc_da_stacked, model_name)"
   ]
  },
  {
   "cell_type": "markdown",
   "id": "c6a2c14c",
   "metadata": {
    "papermill": {
     "duration": null,
     "end_time": null,
     "exception": null,
     "start_time": null,
     "status": "pending"
    },
    "tags": []
   },
   "source": [
    "#### Raw data"
   ]
  },
  {
   "cell_type": "code",
   "execution_count": null,
   "id": "cb75fa43",
   "metadata": {
    "execution": {
     "iopub.execute_input": "2023-01-30T08:12:33.813723Z",
     "iopub.status.busy": "2023-01-30T08:12:33.785748Z",
     "iopub.status.idle": "2023-01-30T08:12:34.767077Z",
     "shell.execute_reply": "2023-01-30T08:12:34.767961Z"
    },
    "papermill": {
     "duration": null,
     "end_time": null,
     "exception": null,
     "start_time": null,
     "status": "pending"
    },
    "tags": []
   },
   "outputs": [],
   "source": [
    "plot_exceedance(model_da_stacked, model_name)"
   ]
  },
  {
   "cell_type": "code",
   "execution_count": null,
   "id": "89138fa6",
   "metadata": {
    "execution": {
     "iopub.execute_input": "2023-01-30T08:12:34.902086Z",
     "iopub.status.busy": "2023-01-30T08:12:34.887920Z",
     "iopub.status.idle": "2023-01-30T08:12:35.807317Z",
     "shell.execute_reply": "2023-01-30T08:12:35.806620Z"
    },
    "papermill": {
     "duration": null,
     "end_time": null,
     "exception": null,
     "start_time": null,
     "status": "pending"
    },
    "tags": []
   },
   "outputs": [],
   "source": [
    "n_events, n_population, return_period, percentile = general_utils.event_in_context(model_da_stacked.values, pr2022, 'above')\n",
    "print('RAW DATA')\n",
    "print(f'{n_events} events in {n_population} samples')\n",
    "print(f'{percentile:.2f}% percentile')\n",
    "print(f'{return_period:.0f} year return period')"
   ]
  },
  {
   "cell_type": "code",
   "execution_count": null,
   "id": "55ca0308",
   "metadata": {
    "papermill": {
     "duration": null,
     "end_time": null,
     "exception": null,
     "start_time": null,
     "status": "pending"
    },
    "tags": []
   },
   "outputs": [],
   "source": [
    "print('RAW GEV')\n",
    "gev_event_likelihood(pr2022, model_gev_shape, model_gev_loc, model_gev_scale)"
   ]
  },
  {
   "cell_type": "markdown",
   "id": "8bcb7462",
   "metadata": {
    "papermill": {
     "duration": null,
     "end_time": null,
     "exception": null,
     "start_time": null,
     "status": "pending"
    },
    "tags": []
   },
   "source": [
    "### Seasonality"
   ]
  },
  {
   "cell_type": "code",
   "execution_count": null,
   "id": "8e28f48c",
   "metadata": {
    "execution": {
     "iopub.execute_input": "2023-01-30T08:12:35.964310Z",
     "iopub.status.busy": "2023-01-30T08:12:35.963905Z",
     "iopub.status.idle": "2023-01-30T08:12:36.946502Z",
     "shell.execute_reply": "2023-01-30T08:12:36.945680Z"
    },
    "papermill": {
     "duration": null,
     "end_time": null,
     "exception": null,
     "start_time": null,
     "status": "pending"
    },
    "tags": []
   },
   "outputs": [],
   "source": [
    "model_df = model_da_stacked.to_dataframe()\n",
    "model_df = model_df.dropna()\n",
    "#model_df = model_df.reset_index()\n",
    "model_df"
   ]
  },
  {
   "cell_type": "code",
   "execution_count": null,
   "id": "c1a16c7e",
   "metadata": {
    "execution": {
     "iopub.execute_input": "2023-01-30T08:12:37.045756Z",
     "iopub.status.busy": "2023-01-30T08:12:37.045332Z",
     "iopub.status.idle": "2023-01-30T08:12:37.047955Z",
     "shell.execute_reply": "2023-01-30T08:12:37.048277Z"
    },
    "papermill": {
     "duration": null,
     "end_time": null,
     "exception": null,
     "start_time": null,
     "status": "pending"
    },
    "tags": []
   },
   "outputs": [],
   "source": [
    "event_months = [int(date[5:7]) for date in model_df['event_time'].values]\n",
    "event_years = [int(date[0:4]) for date in model_df['event_time'].values]"
   ]
  },
  {
   "cell_type": "code",
   "execution_count": null,
   "id": "a8d46fba",
   "metadata": {
    "execution": {
     "iopub.execute_input": "2023-01-30T08:12:37.151009Z",
     "iopub.status.busy": "2023-01-30T08:12:37.146891Z",
     "iopub.status.idle": "2023-01-30T08:12:37.222393Z",
     "shell.execute_reply": "2023-01-30T08:12:37.221917Z"
    },
    "papermill": {
     "duration": null,
     "end_time": null,
     "exception": null,
     "start_time": null,
     "status": "pending"
    },
    "tags": []
   },
   "outputs": [],
   "source": [
    "month_counts = Counter(event_months)\n",
    "months = np.arange(1, 13)\n",
    "counts = [month_counts[month] for month in months]\n",
    "\n",
    "plt.bar(months, counts)\n",
    "plt.title(f'Rx15day timing for {region_name} ({model_name})')\n",
    "plt.ylabel('number of events')\n",
    "plt.xlabel('month')\n",
    "xlabels = [calendar.month_abbr[i] for i in months]\n",
    "plt.xticks(months, xlabels)\n",
    "#plt.savefig(\n",
    "#    f'/g/data/xv83/dbi599/east-coast-rain/figures/Rx15day_timing_AGCD_{region_name}.png',\n",
    "#    bbox_inches='tight',\n",
    "#    facecolor='white',\n",
    "#    dpi=dpi\n",
    "#)\n",
    "plt.show()"
   ]
  },
  {
   "cell_type": "markdown",
   "id": "c23fb2ae",
   "metadata": {
    "papermill": {
     "duration": null,
     "end_time": null,
     "exception": null,
     "start_time": null,
     "status": "pending"
    },
    "tags": []
   },
   "source": [
    "### Relationship with ENSO"
   ]
  },
  {
   "cell_type": "code",
   "execution_count": null,
   "id": "79e46142",
   "metadata": {
    "execution": {
     "iopub.execute_input": "2023-01-30T08:12:37.372929Z",
     "iopub.status.busy": "2023-01-30T08:12:37.371834Z",
     "iopub.status.idle": "2023-01-30T08:12:37.407324Z",
     "shell.execute_reply": "2023-01-30T08:12:37.408216Z"
    },
    "papermill": {
     "duration": null,
     "end_time": null,
     "exception": null,
     "start_time": null,
     "status": "pending"
    },
    "tags": []
   },
   "outputs": [],
   "source": [
    "nino_ds = fileio.open_dataset(nino_file)\n",
    "nino_ds = nino_ds.assign_coords({'init_date': [date.strftime('%Y%m') for date in nino_ds['init_date'].values]})\n",
    "nino_ds"
   ]
  },
  {
   "cell_type": "code",
   "execution_count": null,
   "id": "4255f5c0",
   "metadata": {
    "execution": {
     "iopub.execute_input": "2023-01-30T08:12:37.500164Z",
     "iopub.status.busy": "2023-01-30T08:12:37.499841Z",
     "iopub.status.idle": "2023-01-30T08:12:38.728816Z",
     "shell.execute_reply": "2023-01-30T08:12:38.727691Z"
    },
    "papermill": {
     "duration": null,
     "end_time": null,
     "exception": null,
     "start_time": null,
     "status": "pending"
    },
    "tags": []
   },
   "outputs": [],
   "source": [
    "nino_values = []\n",
    "for index, row in model_df.iterrows():\n",
    "    event_init_date = row['init_date'].strftime('%Y%m')\n",
    "    event_ensemble = row['ensemble']\n",
    "    event_year_month = row['time'].strftime('%Y-%m')\n",
    "    nino_selection = nino_ds.sel({'init_date': event_init_date, 'ensemble': event_ensemble})\n",
    "    nino_selection = nino_selection.swap_dims({'lead_time': 'time'})\n",
    "    nino_year_month = [date.strftime('%Y-%m') for date in nino_selection['time'].values]\n",
    "    nino_selection = nino_selection.assign_coords({'time': nino_year_month})\n",
    "    nino_value = float(nino_selection['tos'].sel({'time': event_year_month}).values)\n",
    "    nino_values.append(nino_value)"
   ]
  },
  {
   "cell_type": "code",
   "execution_count": null,
   "id": "917c0dfb",
   "metadata": {
    "papermill": {
     "duration": null,
     "end_time": null,
     "exception": null,
     "start_time": null,
     "status": "pending"
    },
    "tags": []
   },
   "outputs": [],
   "source": [
    "model_df['nino34'] = nino_values"
   ]
  },
  {
   "cell_type": "code",
   "execution_count": null,
   "id": "734a17b8",
   "metadata": {
    "papermill": {
     "duration": null,
     "end_time": null,
     "exception": null,
     "start_time": null,
     "status": "pending"
    },
    "tags": []
   },
   "outputs": [],
   "source": [
    "fig = plt.figure(figsize=[8, 6])\n",
    "ax = fig.add_subplot(111)\n",
    "\n",
    "sns.scatterplot(ax=ax, data=model_df, x='nino34', y='pr')\n",
    "sns.kdeplot(ax=ax, data=model_df, x='nino34', y='pr', color='0.9', linewidth=1)\n",
    "\n",
    "ax.set_ylabel('Rx15day (mm)')\n",
    "ax.set_xlabel('Nino 3.4 SST anomaly (C)')\n",
    "ax.axvline(0.65)\n",
    "ax.axvline(-0.65)\n",
    "plt.show()"
   ]
  },
  {
   "cell_type": "markdown",
   "id": "d9405e65",
   "metadata": {
    "papermill": {
     "duration": null,
     "end_time": null,
     "exception": null,
     "start_time": null,
     "status": "pending"
    },
    "tags": []
   },
   "source": [
    "### Meteorology"
   ]
  },
  {
   "cell_type": "code",
   "execution_count": null,
   "id": "9ed38598",
   "metadata": {
    "papermill": {
     "duration": null,
     "end_time": null,
     "exception": null,
     "start_time": null,
     "status": "pending"
    },
    "tags": []
   },
   "outputs": [],
   "source": [
    "def plot_average(start_date, end_date, color_da=None, color_var=None, contour_da=None, contour_var=None):\n",
    "    \"\"\"Plot average\"\"\"\n",
    "    \n",
    "    fig = plt.figure(figsize=[10, 5])\n",
    "    map_proj=ccrs.PlateCarree(central_longitude=180)\n",
    "    ax1 = fig.add_subplot(1, 1, 1, projection=map_proj)       \n",
    "    \n",
    "    if color_var:\n",
    "        if color_var == 'pr':\n",
    "            levels = [0, 100, 200, 300, 400, 500, 600, 700, 800]\n",
    "            label = 'total precipitation (mm)'\n",
    "            cmap = cmocean.cm.rain\n",
    "            extend = 'max'\n",
    "        elif color_var == 'ua300':\n",
    "            levels = [-30, -25, -20, -15, -10, -5, 0, 5, 10, 15, 20, 25, 30]\n",
    "            label = '300hPa zonal wind'\n",
    "            cmap='RdBu_r'\n",
    "            extend = 'both'\n",
    "        else:\n",
    "            raise ValueError('Invalid color variable')\n",
    "        color_da.plot(\n",
    "            ax=ax1,\n",
    "            transform=ccrs.PlateCarree(),\n",
    "            cmap=cmap,\n",
    "            levels=levels,\n",
    "            extend=extend,\n",
    "            cbar_kwargs={'label': label},\n",
    "        )\n",
    "    \n",
    "    if contour_var:\n",
    "        if contour_var == 'z500':\n",
    "            levels = np.arange(5000, 6300, 50)\n",
    "        elif contour_var == 'psl':\n",
    "            levels = np.arange(900, 1100, 2.5)\n",
    "        elif contour_var == 'ua300':\n",
    "            levels = np.arange(15, 60, 5)\n",
    "        else:\n",
    "            raise ValueError('Invalid contour variable')\n",
    "        lines = contour_da.plot.contour(\n",
    "            ax=ax1,\n",
    "            transform=ccrs.PlateCarree(),\n",
    "            levels=levels,\n",
    "            colors=['0.1']\n",
    "        )\n",
    "        ax1.clabel(lines, colors=['0.1'], manual=False, inline=True)\n",
    "    \n",
    "    ax1.coastlines()\n",
    "    ax1.set_extent([90, 205, -55, 10], crs=ccrs.PlateCarree())\n",
    "    ax1.gridlines(linestyle='--', draw_labels=True)\n",
    "    if contour_var:\n",
    "        ax1.set_title(f'Average {contour_var} ({contour_da.units}), {start_date} to {end_date}')\n",
    "    else:\n",
    "        ax1.set_title(f'{start_date} to {end_date}')\n",
    "#    plt.savefig(\n",
    "#        f'/home/599/dbi599/east-coast-rain/{color_var}-{contour_var}_mean_BARRA2_{start_date}_{end_date}.png',\n",
    "#        bbox_inches='tight',\n",
    "#        facecolor='white',\n",
    "#        dpi=300\n",
    "#    )\n",
    "    plt.show()"
   ]
  },
  {
   "cell_type": "code",
   "execution_count": null,
   "id": "ac05f6f2",
   "metadata": {
    "papermill": {
     "duration": null,
     "end_time": null,
     "exception": null,
     "start_time": null,
     "status": "pending"
    },
    "tags": []
   },
   "outputs": [],
   "source": [
    "ranked_events = model_df.sort_values(by=['pr'], ascending=False)\n",
    "ranked_events.head(n=10)"
   ]
  },
  {
   "cell_type": "code",
   "execution_count": null,
   "id": "aaa93741",
   "metadata": {
    "papermill": {
     "duration": null,
     "end_time": null,
     "exception": null,
     "start_time": null,
     "status": "pending"
    },
    "tags": []
   },
   "outputs": [],
   "source": [
    "model_bc_df = model_bc_ds['pr'].to_dataframe()\n",
    "model_bc_df = model_bc_df.dropna()\n",
    "model_bc_df = model_bc_df.reset_index()\n",
    "ranked_bc_events = model_bc_df.sort_values(by=['pr'], ascending=False)\n",
    "ranked_bc_events.head(n=10)"
   ]
  },
  {
   "cell_type": "code",
   "execution_count": null,
   "id": "29d990f5",
   "metadata": {
    "papermill": {
     "duration": null,
     "end_time": null,
     "exception": null,
     "start_time": null,
     "status": "pending"
    },
    "tags": []
   },
   "outputs": [],
   "source": [
    "for index, row in ranked_events.head(n=4).iterrows():\n",
    "    init_date = int(row['init_date'].strftime('%Y'))\n",
    "    ensemble = int(row['ensemble']) + 1\n",
    "    end_date = row['event_time']\n",
    "    rx_value = row['pr']\n",
    "    print(f'{init_date} ({end_date}), ensemble: r{ensemble}, {rx_value}mm')\n",
    "    \n",
    "    start_datetime = datetime.datetime.strptime(end_date, \"%Y-%m-%d\") - datetime.timedelta(days=14)\n",
    "    start_date = start_datetime.strftime(\"%Y-%m-%d\")\n",
    "    \n",
    "    pr_files = glob.glob(f'/g/data/oi10/replicas/CMIP6/DCPP/*/{model_name}/dcppA-hindcast/s{init_date}-r{ensemble}i1p1f1/day/pr/*/*/*.nc')\n",
    "    pr_files.sort()\n",
    "    ds_pr = fileio.open_dataset(pr_files, variables=['pr'],)\n",
    "    \n",
    "    psl_files = glob.glob(f'/g/data/oi10/replicas/CMIP6/DCPP/*/{model_name}/dcppA-hindcast/s{init_date}-r{ensemble}i1p1f1/day/psl/*/*/*.nc')\n",
    "    psl_files.sort()\n",
    "    ds_psl = fileio.open_dataset(psl_files, variables=['psl'],)\n",
    "    \n",
    "#    zg_files = glob.glob(f'/g/data/oi10/replicas/CMIP6/DCPP/*/{model_name}/dcppA-hindcast/s{init_date}-r{ensemble}i1p1f1/day/zg/*/*/*.nc')\n",
    "#    zg_files.sort()\n",
    "#    ds_zg = fileio.open_dataset(zg_files, variables=['zg'],)\n",
    "    \n",
    "#    ua_files = glob.glob(f'/g/data/oi10/replicas/CMIP6/DCPP/*/{model_name}/dcppA-hindcast/s{init_date}-r{ensemble}i1p1f1/day/ua/*/*/*.nc')\n",
    "#    ua_files.sort()\n",
    "#    ds_ua = fileio.open_dataset(ua_files, variables=['ua'],)\n",
    "\n",
    "    pr_da = ds_pr.sel({'time': slice(start_date, end_date)})['pr']\n",
    "    pr_da = xc.units.convert_units_to(pr_da, 'mm d-1')\n",
    "    psl_da = ds_psl.sel({'time': slice(start_date, end_date)})['psl']\n",
    "    psl_da = xc.units.convert_units_to(psl_da, 'hPa')\n",
    "#    zg_da = ds_zg.sel({'time': slice(start_date, end_date)})['zg']\n",
    "#    z500_da = zg_da.sel({'plev': 50000}, method='nearest')\n",
    "#    ua_da = ds_ua.sel({'time': slice(start_date, end_date)})['ua']\n",
    "#    ua300_da = ua_da.sel({'plev': 30000}, method='nearest')\n",
    "\n",
    "    pr_da_sum = pr_da.sum('time', keep_attrs=True)\n",
    "    psl_da_mean = psl_da.mean('time', keep_attrs=True)\n",
    "#    z500_da_mean = z500_da.mean('time', keep_attrs=True)\n",
    "#    ua300_da_mean = ua300_da.mean('time', keep_attrs=True) \n",
    "\n",
    "    plot_average(start_date, end_date, pr_da_sum, 'pr', psl_da_mean, 'psl')\n",
    "#    plot_average(start_date, end_date, pr_da_sum, 'pr', z500_da_mean, 'z500')\n",
    "#    plot_average(start_date, end_date, ua300_da_mean, 'ua300', z500_da_mean, 'z500')"
   ]
  },
  {
   "cell_type": "code",
   "execution_count": null,
   "id": "be026602",
   "metadata": {
    "papermill": {
     "duration": null,
     "end_time": null,
     "exception": null,
     "start_time": null,
     "status": "pending"
    },
    "tags": []
   },
   "outputs": [],
   "source": []
  }
 ],
 "metadata": {
  "celltoolbar": "Tags",
  "kernelspec": {
   "display_name": "Python 3 (ipykernel)",
   "language": "python",
   "name": "python3"
  },
  "language_info": {
   "codemirror_mode": {
    "name": "ipython",
    "version": 3
   },
   "file_extension": ".py",
   "mimetype": "text/x-python",
   "name": "python",
   "nbconvert_exporter": "python",
   "pygments_lexer": "ipython3",
   "version": "3.9.4"
  },
  "papermill": {
   "default_parameters": {},
   "duration": 32.654704,
   "end_time": "2023-03-03T01:35:55.665516",
   "environment_variables": {},
   "exception": true,
   "input_path": "analysis.ipynb",
   "output_path": "analysis_MIROC6_additive.ipynb",
   "parameters": {
    "agcd_file": "/g/data/xv83/dbi599/east-coast-rain/data/Rx15day_AGCD-CSIRO_r005_1900-2022_annual-aug-to-sep_east-coast-flood-region.zarr.zip",
    "file_list": "file_lists/MIROC6_dcppA-hindcast_pr_files.txt",
    "independence_plot": "/g/data/xv83/dbi599/east-coast-rain/figures/independence-test_Rx15day_MIROC6-dcppA-hindcast_196011-201811_annual-aug-to-sep_east-coast-flood-region.png",
    "min_lead": 1,
    "model_bc_file": "/g/data/xv83/dbi599/east-coast-rain/data/Rx15day_MIROC6-dcppA-hindcast_196011-201811_annual-aug-to-sep_east-coast-flood-region_bias-corrected-AGCD-CSIRO-additive.zarr.zip",
    "model_file": "/g/data/xv83/dbi599/east-coast-rain/data/Rx15day_MIROC6-dcppA-hindcast_196011-201811_annual-aug-to-sep_east-coast-flood-region.zarr.zip",
    "model_name": "MIROC6",
    "nino_file": "/g/data/xv83/dbi599/east-coast-rain/data/nino34-anomaly_MIROC6-dcppA-hindcast_196011-201811_base-196011-201811.nc",
    "region_name": "east-coast-flood-region",
    "shape_file": "/g/data/xv83/dbi599/east-coast-rain/shapefiles/east-coast-flood.shp",
    "similarity_bc_file": "/g/data/xv83/dbi599/east-coast-rain/data/similarity-test_Rx15day_MIROC6-dcppA-hindcast_196011-201811_annual-aug-to-sep_east-coast-flood-region_bias-corrected-AGCD-CSIRO-additive.zarr.zip",
    "similarity_raw_file": "/g/data/xv83/dbi599/east-coast-rain/data/similarity-test_Rx15day_MIROC6-dcppA-hindcast_196011-201811_annual-aug-to-sep_east-coast-flood-region_AGCD-CSIRO.zarr.zip"
   },
   "start_time": "2023-03-03T01:35:23.010812",
   "version": "2.3.3"
  }
 },
 "nbformat": 4,
 "nbformat_minor": 5
}
