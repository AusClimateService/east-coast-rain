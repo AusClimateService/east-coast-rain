{
 "cells": [
  {
   "cell_type": "code",
   "execution_count": null,
   "id": "a2eae9cd",
   "metadata": {
    "scrolled": true
   },
   "outputs": [],
   "source": [
    "import os\n",
    "import glob\n",
    "import datetime\n",
    "\n",
    "import matplotlib.pyplot as plt\n",
    "import numpy as np\n",
    "import pandas as pd\n",
    "import xarray as xr\n",
    "from scipy.stats import genextreme as gev\n",
    "\n",
    "from unseen import fileio\n",
    "from unseen import time_utils\n",
    "from unseen import indices\n",
    "from unseen import general_utils"
   ]
  },
  {
   "cell_type": "code",
   "execution_count": null,
   "id": "302d1804",
   "metadata": {
    "tags": [
     "parameters"
    ]
   },
   "outputs": [],
   "source": [
    "# Parameters\n",
    "dpi = 300"
   ]
  },
  {
   "cell_type": "code",
   "execution_count": null,
   "id": "27c43066",
   "metadata": {},
   "outputs": [],
   "source": [
    "assert os.path.isfile(metadata_file), \"Must provide a metadata file (papermill option -p metadata_file [filepath])\"\n",
    "assert os.path.isfile(shapefile), \"Must provide a shapefile (papermill option -p shapefile [filepath])\"\n",
    "assert 'rx15day_file' in locals(), \"Must provide an rx15day output file (papermill option -p rx15day_file [filepath])\"\n",
    "assert 'region_name' in locals(), \"Must provide a region name (papermill option -p region_name [name])\""
   ]
  },
  {
   "cell_type": "markdown",
   "id": "ba8de1e7",
   "metadata": {},
   "source": [
    "## Generate Rx15day data"
   ]
  },
  {
   "cell_type": "code",
   "execution_count": null,
   "id": "3aba6ad7",
   "metadata": {},
   "outputs": [],
   "source": [
    "agcd_files = glob.glob('/g/data/xv83/agcd-csiro/precip/precip-total_AGCD-CSIRO_r005_*_daily.nc')\n",
    "agcd_files.sort()"
   ]
  },
  {
   "cell_type": "code",
   "execution_count": null,
   "id": "8ea03c79",
   "metadata": {},
   "outputs": [],
   "source": [
    "#test = fileio.open_dataset(\n",
    "#    agcd_files,\n",
    "#    chunks={'time': 8000, 'lat': 40, 'lon': 40},\n",
    "#    metadata_file=metadata_file,\n",
    "#    shapefile=shapefile,\n",
    "#    variables=['pr'],\n",
    "#    spatial_agg='mean',\n",
    "#    input_freq='D',\n",
    "#    rolling_sum_window=15,\n",
    "#    time_freq='A-AUG',    \n",
    "#    time_agg='max',\n",
    "#)"
   ]
  },
  {
   "cell_type": "code",
   "execution_count": null,
   "id": "73ba61b9",
   "metadata": {},
   "outputs": [],
   "source": [
    "ds_list = []\n",
    "for infile in agcd_files:\n",
    "    print(infile)\n",
    "    ds = fileio.open_dataset(\n",
    "        infile,\n",
    "        metadata_file=metadata_file,\n",
    "        shapefile=shapefile,\n",
    "        variables=['pr'],\n",
    "        spatial_agg='mean', \n",
    "    )\n",
    "    ds = ds.compute()\n",
    "    ds_list.append(ds)"
   ]
  },
  {
   "cell_type": "code",
   "execution_count": null,
   "id": "7213812f",
   "metadata": {},
   "outputs": [],
   "source": [
    "ds = xr.concat(ds_list, dim='time')"
   ]
  },
  {
   "cell_type": "code",
   "execution_count": null,
   "id": "77e7f0b3",
   "metadata": {},
   "outputs": [],
   "source": [
    "ds"
   ]
  },
  {
   "cell_type": "code",
   "execution_count": null,
   "id": "a95d4d0d",
   "metadata": {},
   "outputs": [],
   "source": [
    "ds = ds.compute()"
   ]
  },
  {
   "cell_type": "code",
   "execution_count": null,
   "id": "9341a802",
   "metadata": {},
   "outputs": [],
   "source": [
    "clim = ds.groupby('time.month').mean()\n",
    "clim"
   ]
  },
  {
   "cell_type": "code",
   "execution_count": null,
   "id": "dc58181d",
   "metadata": {},
   "outputs": [],
   "source": [
    "clim['pr'].plot()"
   ]
  },
  {
   "cell_type": "code",
   "execution_count": null,
   "id": "b58b26a5",
   "metadata": {},
   "outputs": [],
   "source": [
    "ds_15day = ds.rolling({'time': 15}).sum()\n",
    "ds_rx15day = time_utils.temporal_aggregation(ds_15day, 'A-AUG', 'D', 'max', ['pr'])"
   ]
  },
  {
   "cell_type": "code",
   "execution_count": null,
   "id": "fb8ed0be",
   "metadata": {},
   "outputs": [],
   "source": [
    "ds_rx15day"
   ]
  },
  {
   "cell_type": "code",
   "execution_count": null,
   "id": "46ee93c6",
   "metadata": {},
   "outputs": [],
   "source": [
    "time_stamp = datetime.datetime.now().strftime(\"%a %b %d %H:%M:%S %Y\")\n",
    "ds_rx15day.attrs['history'] = f'{time_stamp}: /home/599/dbi599/east-coast-rain/AGCD_{region_name}.ipynb (git@github.com:AusClimateService/east-coast-rain)'\n",
    "fileio.to_zarr(ds_rx15day, rx15day_file)"
   ]
  },
  {
   "cell_type": "markdown",
   "id": "acf59549",
   "metadata": {},
   "source": [
    "## Analyse and plot Rx15day data"
   ]
  },
  {
   "cell_type": "code",
   "execution_count": null,
   "id": "0d2cc2da",
   "metadata": {},
   "outputs": [],
   "source": [
    "ds_rx15day['pr'].plot()\n",
    "plt.title(f'Annual (Sep-Aug) Rx15day for {region_name} (AGCD)')\n",
    "plt.ylabel('precipitation (mm)')\n",
    "plt.xlabel('year')\n",
    "plt.savefig(\n",
    "    f'/g/data/xv83/dbi599/east-coast-rain/figures/Rx15day_timeseries_AGCD_{region_name}.png',\n",
    "    bbox_inches='tight',\n",
    "    facecolor='white',\n",
    "    dpi=dpi\n",
    ")\n",
    "plt.show()"
   ]
  },
  {
   "cell_type": "code",
   "execution_count": null,
   "id": "da74470a",
   "metadata": {},
   "outputs": [],
   "source": [
    "years = ds_rx15day['time'].dt.year.values\n",
    "df_rx15day = pd.DataFrame(index=years)\n",
    "df_rx15day['pr'] = ds_rx15day['pr'].values"
   ]
  },
  {
   "cell_type": "code",
   "execution_count": null,
   "id": "39050e49",
   "metadata": {},
   "outputs": [],
   "source": [
    "df_rx15day['pr'].sort_values(ascending=False).head(n=10)"
   ]
  },
  {
   "cell_type": "code",
   "execution_count": null,
   "id": "8eba155b",
   "metadata": {},
   "outputs": [],
   "source": [
    "rx15day_max = df_rx15day['pr'].values.max()\n",
    "print(rx15day_max)"
   ]
  },
  {
   "cell_type": "code",
   "execution_count": null,
   "id": "79f51c83",
   "metadata": {},
   "outputs": [],
   "source": [
    "def gev_analysis(ds, event, region, savefig=False):\n",
    "    \"\"\"Perform GEV analysis\n",
    "    \n",
    "    Args:\n",
    "      ds (Pandas Series): Data sample\n",
    "      event (float) : Event of interest\n",
    "      region (str) : Name of spatial region\n",
    "    \"\"\"\n",
    "\n",
    "    gev_shape, gev_loc, gev_scale = indices.fit_gev(ds.values)\n",
    "    print(f'Shape parameter: {gev_shape:.2f}')\n",
    "    print(f'Location parameter: {gev_loc:.2f}')\n",
    "    print(f'Scale parameter: {gev_scale:.2f}')\n",
    "\n",
    "    fig, ax = plt.subplots(figsize=[10, 8])\n",
    "    gev_xvals = np.arange(0, 700)\n",
    "    ds.plot.hist(bins=40, density=True, color='tab:green', alpha=0.5)\n",
    "    gev_pdf = gev.pdf(gev_xvals, gev_shape, gev_loc, gev_scale)\n",
    "    plt.plot(gev_xvals, gev_pdf, color='tab:green', linewidth=4.0)\n",
    "    plt.xlabel('precipitation (mm)')\n",
    "    plt.ylabel('probability')\n",
    "    plt.title(f'Annual (Sep-Aug) Rx15day for {region} (AGCD)')\n",
    "    if savefig:\n",
    "        plt.savefig(\n",
    "            f'/g/data/xv83/dbi599/east-coast-rain/figures/Rx15day_histogram_AGCD_{region}.png',\n",
    "            bbox_inches='tight',\n",
    "            facecolor='white',\n",
    "            dpi=dpi\n",
    "        )\n",
    "    plt.show()\n",
    "    \n",
    "    gev_data = gev.rvs(gev_shape, gev_loc, gev_scale, size=5000000)\n",
    "    n_events, n_population, return_period, percentile = general_utils.event_in_context(gev_data, event, 'above')\n",
    "    print(f'{n_events} events in {n_population} samples')\n",
    "    print(f'{percentile:.2f}% percentile')\n",
    "    print(f'{return_period:.0f} year return period\\n')"
   ]
  },
  {
   "cell_type": "code",
   "execution_count": null,
   "id": "ef2629df",
   "metadata": {},
   "outputs": [],
   "source": [
    "gev_analysis(df_rx15day['pr'], rx15day_max, region_name, savefig=True)"
   ]
  },
  {
   "cell_type": "code",
   "execution_count": null,
   "id": "4845448d",
   "metadata": {},
   "outputs": [],
   "source": [
    "gev_analysis(df_rx15day['pr'][:-1], rx15day_max, region_name)"
   ]
  },
  {
   "cell_type": "code",
   "execution_count": null,
   "id": "196cb1ae",
   "metadata": {},
   "outputs": [],
   "source": []
  }
 ],
 "metadata": {
  "kernelspec": {
   "display_name": "Python 3",
   "language": "python",
   "name": "python3"
  },
  "language_info": {
   "codemirror_mode": {
    "name": "ipython",
    "version": 3
   },
   "file_extension": ".py",
   "mimetype": "text/x-python",
   "name": "python",
   "nbconvert_exporter": "python",
   "pygments_lexer": "ipython3",
   "version": "3.9.4"
  }
 },
 "nbformat": 4,
 "nbformat_minor": 5
}
