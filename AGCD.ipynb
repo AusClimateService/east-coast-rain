{
 "cells": [
  {
   "cell_type": "code",
   "execution_count": null,
   "id": "a2eae9cd",
   "metadata": {
    "execution": {
     "iopub.execute_input": "2022-04-20T04:17:26.939655Z",
     "iopub.status.busy": "2022-04-20T04:17:26.934499Z",
     "iopub.status.idle": "2022-04-20T04:18:29.243927Z",
     "shell.execute_reply": "2022-04-20T04:18:29.245220Z"
    },
    "papermill": {
     "duration": 62.3618,
     "end_time": "2022-04-20T04:18:29.245788",
     "exception": false,
     "start_time": "2022-04-20T04:17:26.883988",
     "status": "completed"
    },
    "scrolled": true,
    "tags": []
   },
   "outputs": [],
   "source": [
    "import os\n",
    "import glob\n",
    "import datetime\n",
    "import cftime\n",
    "from collections import Counter\n",
    "import calendar\n",
    "\n",
    "import matplotlib.pyplot as plt\n",
    "import numpy as np\n",
    "import pandas as pd\n",
    "import xarray as xr\n",
    "from scipy.stats import genextreme as gev\n",
    "\n",
    "from unseen import fileio\n",
    "from unseen import time_utils\n",
    "from unseen import indices\n",
    "from unseen import general_utils"
   ]
  },
  {
   "cell_type": "code",
   "execution_count": null,
   "id": "302d1804",
   "metadata": {
    "execution": {
     "iopub.execute_input": "2022-04-20T04:18:29.352199Z",
     "iopub.status.busy": "2022-04-20T04:18:29.351288Z",
     "iopub.status.idle": "2022-04-20T04:18:29.357845Z",
     "shell.execute_reply": "2022-04-20T04:18:29.356384Z"
    },
    "papermill": {
     "duration": 0.063855,
     "end_time": "2022-04-20T04:18:29.358261",
     "exception": false,
     "start_time": "2022-04-20T04:18:29.294406",
     "status": "completed"
    },
    "tags": [
     "parameters"
    ]
   },
   "outputs": [],
   "source": [
    "# Parameters\n",
    "dpi = 300"
   ]
  },
  {
   "cell_type": "code",
   "execution_count": null,
   "id": "27c43066",
   "metadata": {
    "execution": {
     "iopub.execute_input": "2022-04-20T04:18:29.549482Z",
     "iopub.status.busy": "2022-04-20T04:18:29.547968Z",
     "iopub.status.idle": "2022-04-20T04:18:29.552397Z",
     "shell.execute_reply": "2022-04-20T04:18:29.553272Z"
    },
    "papermill": {
     "duration": 0.057223,
     "end_time": "2022-04-20T04:18:29.553822",
     "exception": false,
     "start_time": "2022-04-20T04:18:29.496599",
     "status": "completed"
    },
    "tags": []
   },
   "outputs": [],
   "source": [
    "assert os.path.isfile(metadata_file), \"Must provide a metadata file (papermill option -p metadata_file [filepath])\"\n",
    "assert os.path.isfile(shapefile), \"Must provide a shapefile (papermill option -p shapefile [filepath])\"\n",
    "assert os.path.isfile(nino_file), \"Must provide a Nino 3.4 file (papermill option -p nino_file [filepath])\"\n",
    "assert 'rx15day_file' in locals(), \"Must provide an rx15day output file (papermill option -p rx15day_file [filepath])\"\n",
    "assert 'region_name' in locals(), \"Must provide a region name (papermill option -p region_name [name])\""
   ]
  },
  {
   "cell_type": "markdown",
   "id": "ba8de1e7",
   "metadata": {
    "papermill": {
     "duration": 0.037739,
     "end_time": "2022-04-20T04:18:29.632704",
     "exception": false,
     "start_time": "2022-04-20T04:18:29.594965",
     "status": "completed"
    },
    "tags": []
   },
   "source": [
    "## Spatially aggregated data"
   ]
  },
  {
   "cell_type": "code",
   "execution_count": null,
   "id": "3aba6ad7",
   "metadata": {
    "execution": {
     "iopub.execute_input": "2022-04-20T04:18:29.729352Z",
     "iopub.status.busy": "2022-04-20T04:18:29.728030Z",
     "iopub.status.idle": "2022-04-20T04:18:29.814958Z",
     "shell.execute_reply": "2022-04-20T04:18:29.814228Z"
    },
    "papermill": {
     "duration": 0.141771,
     "end_time": "2022-04-20T04:18:29.815201",
     "exception": false,
     "start_time": "2022-04-20T04:18:29.673430",
     "status": "completed"
    },
    "tags": []
   },
   "outputs": [],
   "source": [
    "agcd_files = glob.glob('/g/data/xv83/agcd-csiro/precip/daily/precip-total_AGCD-CSIRO_r005_*_daily.nc')\n",
    "agcd_files.sort()"
   ]
  },
  {
   "cell_type": "code",
   "execution_count": null,
   "id": "73ba61b9",
   "metadata": {
    "execution": {
     "iopub.execute_input": "2022-04-20T04:18:29.992762Z",
     "iopub.status.busy": "2022-04-20T04:18:29.991850Z",
     "iopub.status.idle": "2022-04-20T04:33:55.229404Z",
     "shell.execute_reply": "2022-04-20T04:33:55.228411Z"
    },
    "papermill": {
     "duration": 925.288582,
     "end_time": "2022-04-20T04:33:55.229882",
     "exception": false,
     "start_time": "2022-04-20T04:18:29.941300",
     "status": "completed"
    },
    "tags": []
   },
   "outputs": [],
   "source": [
    "ds_list = []\n",
    "for infile in agcd_files:\n",
    "    print(infile)\n",
    "    ds = fileio.open_dataset(\n",
    "        infile,\n",
    "        metadata_file=metadata_file,\n",
    "        shapefile=shapefile,\n",
    "        variables=['pr'],\n",
    "        spatial_agg='mean', \n",
    "    )\n",
    "    ds = ds.compute()\n",
    "    ds_list.append(ds)"
   ]
  },
  {
   "cell_type": "code",
   "execution_count": null,
   "id": "7213812f",
   "metadata": {
    "execution": {
     "iopub.execute_input": "2022-04-20T04:33:55.479331Z",
     "iopub.status.busy": "2022-04-20T04:33:55.454735Z",
     "iopub.status.idle": "2022-04-20T04:33:55.529998Z",
     "shell.execute_reply": "2022-04-20T04:33:55.529257Z"
    },
    "papermill": {
     "duration": 0.219329,
     "end_time": "2022-04-20T04:33:55.530271",
     "exception": false,
     "start_time": "2022-04-20T04:33:55.310942",
     "status": "completed"
    },
    "tags": []
   },
   "outputs": [],
   "source": [
    "ds = xr.concat(ds_list, dim='time')"
   ]
  },
  {
   "cell_type": "code",
   "execution_count": null,
   "id": "77e7f0b3",
   "metadata": {
    "execution": {
     "iopub.execute_input": "2022-04-20T04:33:55.710038Z",
     "iopub.status.busy": "2022-04-20T04:33:55.708276Z",
     "iopub.status.idle": "2022-04-20T04:33:55.886595Z",
     "shell.execute_reply": "2022-04-20T04:33:55.884913Z"
    },
    "papermill": {
     "duration": 0.277289,
     "end_time": "2022-04-20T04:33:55.887162",
     "exception": false,
     "start_time": "2022-04-20T04:33:55.609873",
     "status": "completed"
    },
    "tags": []
   },
   "outputs": [],
   "source": [
    "ds"
   ]
  },
  {
   "cell_type": "code",
   "execution_count": null,
   "id": "a95d4d0d",
   "metadata": {
    "execution": {
     "iopub.execute_input": "2022-04-20T04:33:56.091351Z",
     "iopub.status.busy": "2022-04-20T04:33:56.089229Z",
     "iopub.status.idle": "2022-04-20T04:33:56.094560Z",
     "shell.execute_reply": "2022-04-20T04:33:56.092563Z"
    },
    "papermill": {
     "duration": 0.117685,
     "end_time": "2022-04-20T04:33:56.095352",
     "exception": false,
     "start_time": "2022-04-20T04:33:55.977667",
     "status": "completed"
    },
    "tags": []
   },
   "outputs": [],
   "source": [
    "ds = ds.compute()"
   ]
  },
  {
   "cell_type": "code",
   "execution_count": null,
   "id": "4d1a5619",
   "metadata": {},
   "outputs": [],
   "source": [
    "ds_monthly_totals = ds.resample({'time': 'M'}).sum('time', keep_attrs=True)\n",
    "ds_monthly_totals"
   ]
  },
  {
   "cell_type": "code",
   "execution_count": null,
   "id": "6b05a2cc",
   "metadata": {},
   "outputs": [],
   "source": [
    "ds_monthly_clim = ds_monthly_totals.groupby('time.month').mean('time', keep_attrs=True)\n",
    "ds_monthly_clim"
   ]
  },
  {
   "cell_type": "code",
   "execution_count": null,
   "id": "dc58181d",
   "metadata": {
    "execution": {
     "iopub.execute_input": "2022-04-20T04:33:56.761599Z",
     "iopub.status.busy": "2022-04-20T04:33:56.760703Z",
     "iopub.status.idle": "2022-04-20T04:33:57.170796Z",
     "shell.execute_reply": "2022-04-20T04:33:57.169922Z"
    },
    "papermill": {
     "duration": 0.536134,
     "end_time": "2022-04-20T04:33:57.171034",
     "exception": false,
     "start_time": "2022-04-20T04:33:56.634900",
     "status": "completed"
    },
    "tags": []
   },
   "outputs": [],
   "source": [
    "ds_monthly_clim['pr'].plot()\n",
    "plt.ylabel('Monthly average precipitation (mm)')\n",
    "plt.title(f'Rainfall climatology for {region_name}')\n",
    "xticks = np.arange(1,13)\n",
    "xlabels = [calendar.month_abbr[i] for i in xticks]\n",
    "plt.xticks(xticks, xlabels)\n",
    "plt.show()"
   ]
  },
  {
   "cell_type": "markdown",
   "id": "8d5a98cd",
   "metadata": {},
   "source": [
    "## Calculate rx15day"
   ]
  },
  {
   "cell_type": "code",
   "execution_count": null,
   "id": "f942a3b8",
   "metadata": {},
   "outputs": [],
   "source": [
    "def str_to_cftime(datestring, cftime_type):\n",
    "    \"\"\"Convert a date string to cftime object\"\"\"\n",
    "\n",
    "    dt = datetime.datetime.strptime(datestring, \"%Y-%m-%d\")\n",
    "    cfdt = cftime_type(dt.year, dt.month, dt.day)\n",
    "\n",
    "    return cfdt\n",
    "\n",
    "\n",
    "def calc_rx15day(ds):\n",
    "    \"\"\"Calculate rx15day values and event dates\"\"\"\n",
    "    \n",
    "    ds_15day = ds.rolling({'time': 15}).sum(keep_attrs=True)\n",
    "\n",
    "    ds_rx15day = time_utils.temporal_aggregation(ds_15day, 'A-AUG', 'D', 'max', ['pr'])\n",
    "    cftime_type = type(ds_rx15day['time'].values[0])\n",
    "\n",
    "    ds_rx15day_argmax = ds_15day.resample(time='A-AUG', label='left', loffset=datetime.timedelta(days=1)).reduce(np.nanargmax, dim='time')\n",
    "    time_diffs = ds_rx15day_argmax['pr'].values.astype('timedelta64[D]')\n",
    "    str_times = [time.strftime(\"%Y-%m-%d\") for time in ds_rx15day_argmax['time'].values]\n",
    "    event_datetimes_np = np.array(str_times, dtype='datetime64') + time_diffs\n",
    "    event_datetimes_str = np.datetime_as_string(event_datetimes_np)\n",
    "    event_datetimes_cftime = [str_to_cftime(time, cftime_type) for time in event_datetimes_str]\n",
    "    ds_rx15day = ds_rx15day.assign(event_time=event_datetimes_cftime)\n",
    "    \n",
    "    return ds_rx15day"
   ]
  },
  {
   "cell_type": "code",
   "execution_count": null,
   "id": "7e2bbb1c",
   "metadata": {},
   "outputs": [],
   "source": [
    "ds_rx15day = calc_rx15day(ds)"
   ]
  },
  {
   "cell_type": "code",
   "execution_count": null,
   "id": "46ee93c6",
   "metadata": {
    "execution": {
     "iopub.execute_input": "2022-04-20T04:33:58.441860Z",
     "iopub.status.busy": "2022-04-20T04:33:58.440924Z",
     "iopub.status.idle": "2022-04-20T04:33:58.791322Z",
     "shell.execute_reply": "2022-04-20T04:33:58.790322Z"
    },
    "papermill": {
     "duration": 0.473986,
     "end_time": "2022-04-20T04:33:58.791675",
     "exception": false,
     "start_time": "2022-04-20T04:33:58.317689",
     "status": "completed"
    },
    "tags": []
   },
   "outputs": [],
   "source": [
    "#time_stamp = datetime.datetime.now().strftime(\"%a %b %d %H:%M:%S %Y\")\n",
    "#ds_rx15day.attrs['history'] = f'{time_stamp}: /home/599/dbi599/east-coast-rain/AGCD_{region_name}.ipynb (git@github.com:AusClimateService/east-coast-rain)'\n",
    "#fileio.to_zarr(ds_rx15day, rx15day_file)"
   ]
  },
  {
   "cell_type": "markdown",
   "id": "acf59549",
   "metadata": {
    "papermill": {
     "duration": 0.096054,
     "end_time": "2022-04-20T04:33:58.989871",
     "exception": false,
     "start_time": "2022-04-20T04:33:58.893817",
     "status": "completed"
    },
    "tags": []
   },
   "source": [
    "## Analyse and plot Rx15day data"
   ]
  },
  {
   "cell_type": "code",
   "execution_count": null,
   "id": "0d2cc2da",
   "metadata": {
    "execution": {
     "iopub.execute_input": "2022-04-20T04:33:59.195302Z",
     "iopub.status.busy": "2022-04-20T04:33:59.170707Z",
     "iopub.status.idle": "2022-04-20T04:33:59.777806Z",
     "shell.execute_reply": "2022-04-20T04:33:59.778737Z"
    },
    "papermill": {
     "duration": 0.701738,
     "end_time": "2022-04-20T04:33:59.779098",
     "exception": false,
     "start_time": "2022-04-20T04:33:59.077360",
     "status": "completed"
    },
    "tags": []
   },
   "outputs": [],
   "source": [
    "ds_rx15day['pr'].plot()\n",
    "plt.title(f'Annual (Sep-Aug) Rx15day for {region_name} (AGCD)')\n",
    "plt.ylabel('precipitation (mm)')\n",
    "plt.xlabel('year')\n",
    "plt.savefig(\n",
    "    f'/g/data/xv83/dbi599/east-coast-rain/figures/Rx15day_timeseries_AGCD_{region_name}.png',\n",
    "    bbox_inches='tight',\n",
    "    facecolor='white',\n",
    "    dpi=dpi\n",
    ")\n",
    "plt.show()"
   ]
  },
  {
   "cell_type": "code",
   "execution_count": null,
   "id": "da74470a",
   "metadata": {
    "execution": {
     "iopub.execute_input": "2022-04-20T04:34:00.007406Z",
     "iopub.status.busy": "2022-04-20T04:34:00.006124Z",
     "iopub.status.idle": "2022-04-20T04:34:00.011279Z",
     "shell.execute_reply": "2022-04-20T04:34:00.010298Z"
    },
    "papermill": {
     "duration": 0.125134,
     "end_time": "2022-04-20T04:34:00.011573",
     "exception": false,
     "start_time": "2022-04-20T04:33:59.886439",
     "status": "completed"
    },
    "tags": []
   },
   "outputs": [],
   "source": [
    "years = ds_rx15day['time'].dt.year.values\n",
    "df_rx15day = pd.DataFrame(index=years)\n",
    "df_rx15day['pr'] = ds_rx15day['pr'].values"
   ]
  },
  {
   "cell_type": "code",
   "execution_count": null,
   "id": "39050e49",
   "metadata": {
    "execution": {
     "iopub.execute_input": "2022-04-20T04:34:00.231099Z",
     "iopub.status.busy": "2022-04-20T04:34:00.230227Z",
     "iopub.status.idle": "2022-04-20T04:34:00.235361Z",
     "shell.execute_reply": "2022-04-20T04:34:00.236197Z"
    },
    "papermill": {
     "duration": 0.119087,
     "end_time": "2022-04-20T04:34:00.236472",
     "exception": false,
     "start_time": "2022-04-20T04:34:00.117385",
     "status": "completed"
    },
    "tags": []
   },
   "outputs": [],
   "source": [
    "df_rx15day['pr'].sort_values(ascending=False).head(n=10)"
   ]
  },
  {
   "cell_type": "code",
   "execution_count": null,
   "id": "8eba155b",
   "metadata": {
    "execution": {
     "iopub.execute_input": "2022-04-20T04:34:00.435932Z",
     "iopub.status.busy": "2022-04-20T04:34:00.435063Z",
     "iopub.status.idle": "2022-04-20T04:34:00.440399Z",
     "shell.execute_reply": "2022-04-20T04:34:00.439767Z"
    },
    "papermill": {
     "duration": 0.115864,
     "end_time": "2022-04-20T04:34:00.440660",
     "exception": false,
     "start_time": "2022-04-20T04:34:00.324796",
     "status": "completed"
    },
    "tags": []
   },
   "outputs": [],
   "source": [
    "rx15day_max = df_rx15day['pr'].values.max()\n",
    "print(rx15day_max)"
   ]
  },
  {
   "cell_type": "code",
   "execution_count": null,
   "id": "ae45f47f",
   "metadata": {},
   "outputs": [],
   "source": [
    "event_months = ds_rx15day['event_time'].dt.month.values\n",
    "month_counts = Counter(event_months)\n",
    "months = np.arange(1, 13)\n",
    "counts = [month_counts[month] for month in months]\n",
    "\n",
    "plt.bar(months, counts)\n",
    "plt.title(f'Rx15day timing for {region_name} (AGCD)')\n",
    "plt.ylabel('number of events')\n",
    "plt.xlabel('month')\n",
    "xlabels = [calendar.month_abbr[i] for i in months]\n",
    "plt.xticks(xticks, xlabels)\n",
    "plt.savefig(\n",
    "    f'/g/data/xv83/dbi599/east-coast-rain/figures/Rx15day_timing_AGCD_{region_name}.png',\n",
    "    bbox_inches='tight',\n",
    "    facecolor='white',\n",
    "    dpi=dpi\n",
    ")\n",
    "plt.show()"
   ]
  },
  {
   "cell_type": "markdown",
   "id": "67ef1963",
   "metadata": {},
   "source": [
    "Nino3.4 anomaly downloaded from: https://psl.noaa.gov/gcos_wgsp/Timeseries/Nino34/"
   ]
  },
  {
   "cell_type": "code",
   "execution_count": null,
   "id": "f753b456",
   "metadata": {
    "scrolled": true
   },
   "outputs": [],
   "source": [
    "nino34_df = pd.read_csv(\n",
    "    nino_file,\n",
    "    header=None,\n",
    "    skipfooter=7,\n",
    "    skiprows=1,\n",
    "    delim_whitespace=True,\n",
    "    index_col=0,\n",
    "    names=['year', 1, 2, 3, 4, 5, 6, 7, 8, 9, 10, 11, 12],\n",
    ")\n",
    "nino34_df"
   ]
  },
  {
   "cell_type": "code",
   "execution_count": null,
   "id": "db6a208b",
   "metadata": {},
   "outputs": [],
   "source": [
    "event_months = ds_rx15day['event_time'].dt.month.values\n",
    "event_years = ds_rx15day['event_time'].dt.year.values\n",
    "event_nino34 = []\n",
    "for month, year in zip(event_months, event_years):\n",
    "     event_nino34.append(nino34_df.loc[nino34_df.index == year][month].values[0])\n",
    "event_nino34 = np.array(event_nino34)\n",
    "event_nino34"
   ]
  },
  {
   "cell_type": "code",
   "execution_count": null,
   "id": "92b3afa1",
   "metadata": {},
   "outputs": [],
   "source": [
    "plt.scatter(event_nino34, ds_rx15day['pr'].values)\n",
    "plt.title(f'Rx15day vs Nino 3.4 (AGCD)')\n",
    "plt.ylabel('Rx15day (mm)')\n",
    "plt.xlabel('Nino 3.4 SST anomaly (C)')\n",
    "plt.axvline(0.65)\n",
    "plt.axvline(-0.65)\n",
    "plt.savefig(\n",
    "    f'/g/data/xv83/dbi599/east-coast-rain/figures/Rx15day_ENSO_AGCD_{region_name}.png',\n",
    "    bbox_inches='tight',\n",
    "    facecolor='white',\n",
    "    dpi=dpi\n",
    ")\n",
    "plt.show()"
   ]
  },
  {
   "cell_type": "code",
   "execution_count": null,
   "id": "79f51c83",
   "metadata": {
    "execution": {
     "iopub.execute_input": "2022-04-20T04:34:00.641421Z",
     "iopub.status.busy": "2022-04-20T04:34:00.640549Z",
     "iopub.status.idle": "2022-04-20T04:34:00.647762Z",
     "shell.execute_reply": "2022-04-20T04:34:00.646212Z"
    },
    "papermill": {
     "duration": 0.111696,
     "end_time": "2022-04-20T04:34:00.648116",
     "exception": false,
     "start_time": "2022-04-20T04:34:00.536420",
     "status": "completed"
    },
    "tags": []
   },
   "outputs": [],
   "source": [
    "def gev_analysis(ds, event, region, savefig=False):\n",
    "    \"\"\"Perform GEV analysis\n",
    "    \n",
    "    Args:\n",
    "      ds (Pandas Series): Data sample\n",
    "      event (float) : Event of interest\n",
    "      region (str) : Name of spatial region\n",
    "    \"\"\"\n",
    "\n",
    "    gev_shape, gev_loc, gev_scale = indices.fit_gev(ds.values)\n",
    "    print(f'Shape parameter: {gev_shape:.2f}')\n",
    "    print(f'Location parameter: {gev_loc:.2f}')\n",
    "    print(f'Scale parameter: {gev_scale:.2f}')\n",
    "\n",
    "    fig, ax = plt.subplots(figsize=[10, 8])\n",
    "    gev_xvals = np.arange(0, 700)\n",
    "    ds.plot.hist(bins=40, density=True, color='tab:green', alpha=0.5)\n",
    "    gev_pdf = gev.pdf(gev_xvals, gev_shape, gev_loc, gev_scale)\n",
    "    plt.plot(gev_xvals, gev_pdf, color='tab:green', linewidth=4.0)\n",
    "    plt.xlabel('precipitation (mm)')\n",
    "    plt.ylabel('probability')\n",
    "    plt.title(f'Annual (Sep-Aug) Rx15day for {region} (AGCD)')\n",
    "    if savefig:\n",
    "        plt.savefig(\n",
    "            f'/g/data/xv83/dbi599/east-coast-rain/figures/Rx15day_histogram_AGCD_{region}.png',\n",
    "            bbox_inches='tight',\n",
    "            facecolor='white',\n",
    "            dpi=dpi\n",
    "        )\n",
    "    plt.show()\n",
    "    \n",
    "    event_probability = gev.sf(event, gev_shape, loc=gev_loc, scale=gev_scale)\n",
    "    event_return_period = 1. / event_probability\n",
    "    event_percentile = (1 - event_probability) * 100\n",
    "    print(f'{event_return_period:.0f} year return period\\n')\n",
    "    print(f'{event_percentile:.2f}% percentile')"
   ]
  },
  {
   "cell_type": "code",
   "execution_count": null,
   "id": "ef2629df",
   "metadata": {
    "execution": {
     "iopub.execute_input": "2022-04-20T04:34:00.890083Z",
     "iopub.status.busy": "2022-04-20T04:34:00.889123Z",
     "iopub.status.idle": "2022-04-20T04:34:03.317692Z",
     "shell.execute_reply": "2022-04-20T04:34:03.316461Z"
    },
    "papermill": {
     "duration": 2.559246,
     "end_time": "2022-04-20T04:34:03.318014",
     "exception": false,
     "start_time": "2022-04-20T04:34:00.758768",
     "status": "completed"
    },
    "tags": []
   },
   "outputs": [],
   "source": [
    "gev_analysis(df_rx15day['pr'], rx15day_max, region_name, savefig=True)"
   ]
  },
  {
   "cell_type": "code",
   "execution_count": null,
   "id": "4845448d",
   "metadata": {
    "execution": {
     "iopub.execute_input": "2022-04-20T04:34:03.536977Z",
     "iopub.status.busy": "2022-04-20T04:34:03.535864Z",
     "iopub.status.idle": "2022-04-20T04:34:04.794025Z",
     "shell.execute_reply": "2022-04-20T04:34:04.793110Z"
    },
    "papermill": {
     "duration": 1.3799,
     "end_time": "2022-04-20T04:34:04.794296",
     "exception": false,
     "start_time": "2022-04-20T04:34:03.414396",
     "status": "completed"
    },
    "tags": []
   },
   "outputs": [],
   "source": [
    "gev_analysis(df_rx15day['pr'][:-1], rx15day_max, region_name)"
   ]
  },
  {
   "cell_type": "code",
   "execution_count": null,
   "id": "196cb1ae",
   "metadata": {
    "papermill": {
     "duration": 0.15776,
     "end_time": "2022-04-20T04:34:05.089719",
     "exception": false,
     "start_time": "2022-04-20T04:34:04.931959",
     "status": "completed"
    },
    "tags": []
   },
   "outputs": [],
   "source": []
  }
 ],
 "metadata": {
  "kernelspec": {
   "display_name": "Python 3",
   "language": "python",
   "name": "python3"
  },
  "language_info": {
   "codemirror_mode": {
    "name": "ipython",
    "version": 3
   },
   "file_extension": ".py",
   "mimetype": "text/x-python",
   "name": "python",
   "nbconvert_exporter": "python",
   "pygments_lexer": "ipython3",
   "version": "3.9.4"
  },
  "papermill": {
   "default_parameters": {},
   "duration": 1002.609358,
   "end_time": "2022-04-20T04:34:07.000198",
   "environment_variables": {},
   "exception": null,
   "input_path": "AGCD.ipynb",
   "output_path": "AGCD_east-coast-flood-region.ipynb",
   "parameters": {
    "metadata_file": "/home/599/dbi599/forks/unseen/config/dataset_agcd_daily.yml",
    "region_name": "east-coast-flood-region",
    "rx15day_file": "/g/data/xv83/dbi599/east-coast-rain/data/Rx15day_AGCD-CSIRO_r005_1900-2022_annual-aug-to-sep_east-coast-flood-region.zarr.zip",
    "shapefile": "/g/data/xv83/dbi599/east-coast-rain/shapefiles/east-coast-flood.shp"
   },
   "start_time": "2022-04-20T04:17:24.390840",
   "version": "2.3.3"
  }
 },
 "nbformat": 4,
 "nbformat_minor": 5
}
