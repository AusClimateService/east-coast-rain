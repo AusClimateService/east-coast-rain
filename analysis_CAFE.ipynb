{
 "cells": [
  {
   "cell_type": "markdown",
   "id": "4d047299",
   "metadata": {
    "papermill": {
     "duration": 0.050471,
     "end_time": "2022-04-14T09:34:34.822248",
     "exception": false,
     "start_time": "2022-04-14T09:34:34.771777",
     "status": "completed"
    },
    "tags": []
   },
   "source": [
    "# East coast floods\n"
   ]
  },
  {
   "cell_type": "code",
   "execution_count": 1,
   "id": "95569a41",
   "metadata": {
    "execution": {
     "iopub.execute_input": "2022-04-14T09:34:34.920079Z",
     "iopub.status.busy": "2022-04-14T09:34:34.911765Z",
     "iopub.status.idle": "2022-04-14T09:34:43.273951Z",
     "shell.execute_reply": "2022-04-14T09:34:43.272705Z"
    },
    "papermill": {
     "duration": 8.412701,
     "end_time": "2022-04-14T09:34:43.274369",
     "exception": false,
     "start_time": "2022-04-14T09:34:34.861668",
     "status": "completed"
    },
    "tags": []
   },
   "outputs": [],
   "source": [
    "import os\n",
    "\n",
    "import matplotlib.pyplot as plt\n",
    "import pandas as pd\n",
    "import numpy as np\n",
    "import cartopy\n",
    "import cartopy.crs as ccrs\n",
    "import geopandas as gp\n",
    "from IPython.display import Image\n",
    "from scipy.stats import genextreme as gev\n",
    "\n",
    "from unseen import fileio\n",
    "from unseen import general_utils\n",
    "from unseen import indices\n",
    "from unseen import time_utils\n",
    "from unseen import spatial_selection"
   ]
  },
  {
   "cell_type": "code",
   "execution_count": 2,
   "id": "56e9e0ab",
   "metadata": {
    "execution": {
     "iopub.execute_input": "2022-04-14T09:34:43.372299Z",
     "iopub.status.busy": "2022-04-14T09:34:43.370878Z",
     "iopub.status.idle": "2022-04-14T09:34:43.378081Z",
     "shell.execute_reply": "2022-04-14T09:34:43.376642Z"
    },
    "papermill": {
     "duration": 0.059574,
     "end_time": "2022-04-14T09:34:43.378416",
     "exception": false,
     "start_time": "2022-04-14T09:34:43.318842",
     "status": "completed"
    },
    "tags": [
     "parameters"
    ]
   },
   "outputs": [],
   "source": [
    "# Optional parameters \n",
    "# (This cell is tagged \"parameters\")\n",
    "dpi = 300"
   ]
  },
  {
   "cell_type": "code",
   "execution_count": 3,
   "id": "faf3d078",
   "metadata": {
    "execution": {
     "iopub.execute_input": "2022-04-14T09:34:43.463990Z",
     "iopub.status.busy": "2022-04-14T09:34:43.462769Z",
     "iopub.status.idle": "2022-04-14T09:34:43.468859Z",
     "shell.execute_reply": "2022-04-14T09:34:43.467753Z"
    },
    "papermill": {
     "duration": 0.052763,
     "end_time": "2022-04-14T09:34:43.469214",
     "exception": false,
     "start_time": "2022-04-14T09:34:43.416451",
     "status": "completed"
    },
    "tags": [
     "injected-parameters"
    ]
   },
   "outputs": [],
   "source": [
    "# Parameters\n",
    "file_list = \"/home/599/dbi599/east-coast-rain/file_lists/CAFE_c5-d60-pX-f6_files.txt\"\n",
    "metadata_file = \"/home/599/dbi599/forks/unseen/config/dataset_cafe_daily.yml\"\n",
    "shape_file = \"/g/data/xv83/dbi599/east-coast-rain/shapefiles/east-coast-flood.shp\"\n",
    "agcd_file = \"/g/data/xv83/dbi599/east-coast-rain/data/Rx15day_AGCD-CSIRO_r005_1900-2022_annual-aug-to-sep_east-coast-flood-region.zarr.zip\"\n",
    "model_file = \"/g/data/xv83/dbi599/east-coast-rain/data/Rx15day_CAFE-c5-d60-pX-f6_19950501-20201101_annual-aug-to-sep_east-coast-flood-region.zarr.zip\"\n",
    "model_bc_file = \"/g/data/xv83/dbi599/east-coast-rain/data/Rx15day_CAFE-c5-d60-pX-f6_19950501-20201101_annual-aug-to-sep_east-coast-flood-region_bias-corrected-AGCD-CSIRO-multiplicative.zarr.zip\"\n",
    "similarity_bc_file = \"/g/data/xv83/dbi599/east-coast-rain/data/ks-test_Rx15day_CAFE-c5-d60-pX-f6_1995-2020_annual-aug-to-sep_east-coast-flood-region_bias-corrected-AGCD-CSIRO-multiplicative.zarr.zip\"\n",
    "similarity_raw_file = \"/g/data/xv83/dbi599/east-coast-rain/data/ks-test_Rx15day_CAFE-c5-d60-pX-f6_1995-2020_annual-aug-to-sep_east-coast-flood-region_AGCD-CSIRO.zarr.zip\"\n",
    "independence_plot = \"/g/data/xv83/dbi599/east-coast-rain/figures/independence-test_Rx15day_CAFE-c5-d60-pX-f6_19950501-20201101_annual-aug-to-sep_east-coast-flood-region.png\"\n",
    "model_name = \"CAFE\"\n",
    "min_lead = 1\n",
    "region_name = \"east-coast-flood-region\""
   ]
  },
  {
   "cell_type": "code",
   "execution_count": 4,
   "id": "b9787631",
   "metadata": {
    "execution": {
     "iopub.execute_input": "2022-04-14T09:34:43.562237Z",
     "iopub.status.busy": "2022-04-14T09:34:43.560969Z",
     "iopub.status.idle": "2022-04-14T09:34:43.574441Z",
     "shell.execute_reply": "2022-04-14T09:34:43.572924Z"
    },
    "papermill": {
     "duration": 0.066825,
     "end_time": "2022-04-14T09:34:43.574967",
     "exception": false,
     "start_time": "2022-04-14T09:34:43.508142",
     "status": "completed"
    },
    "tags": []
   },
   "outputs": [],
   "source": [
    "# Required parameters\n",
    "assert 'model_name' in locals(), \"Must provide a model name\"\n",
    "assert 'region_name' in locals(), \"Must provide a region name\"\n",
    "assert 'min_lead' in locals(), \"Must provide a minimum lead time\"\n",
    "assert os.path.isfile(file_list), \"Must provide the input model files list (papermill option -p file_list [filepath])\"\n",
    "assert os.path.isfile(metadata_file), \"Must provide the model metadata file (papermill option -p metadata_file [filepath])\"\n",
    "assert os.path.isfile(shape_file), \"Must provide the shapefile (papermill option -p shape_file [filepath])\"\n",
    "assert os.path.isfile(agcd_file), \"Must provide an AGCD data file (papermill option -p agcd_file [filepath])\"\n",
    "assert os.path.isfile(model_file), \"Must provide an model data file (papermill option -p cafe_file [filepath])\"\n",
    "assert os.path.isfile(model_bc_file), \"Must provide a model bias corrected data file (papermill option -p cafe_bc_file [filepath])\"\n",
    "assert os.path.isfile(similarity_bc_file), \"Must provide an bias corrected similarity test file (papermill option -p similarity_bias_file [filepath])\"\n",
    "assert os.path.isfile(similarity_raw_file), \"Must provide an raw data similarity test file (papermill option -p similarity_raw_file [filepath])\"\n",
    "assert os.path.isfile(independence_plot), \"Must provide an independence test plot (papermill option -p independence_plot [filepath])\""
   ]
  },
  {
   "cell_type": "markdown",
   "id": "5c8da4f2",
   "metadata": {
    "papermill": {
     "duration": 0.040251,
     "end_time": "2022-04-14T09:34:43.659739",
     "exception": false,
     "start_time": "2022-04-14T09:34:43.619488",
     "status": "completed"
    },
    "tags": []
   },
   "source": [
    "## Observations"
   ]
  },
  {
   "cell_type": "code",
   "execution_count": 5,
   "id": "f40952f6",
   "metadata": {
    "execution": {
     "iopub.execute_input": "2022-04-14T09:34:43.748995Z",
     "iopub.status.busy": "2022-04-14T09:34:43.747859Z",
     "iopub.status.idle": "2022-04-14T09:34:43.905283Z",
     "shell.execute_reply": "2022-04-14T09:34:43.903884Z"
    },
    "papermill": {
     "duration": 0.206819,
     "end_time": "2022-04-14T09:34:43.905625",
     "exception": false,
     "start_time": "2022-04-14T09:34:43.698806",
     "status": "completed"
    },
    "tags": []
   },
   "outputs": [],
   "source": [
    "agcd_ds = fileio.open_dataset(agcd_file)"
   ]
  },
  {
   "cell_type": "code",
   "execution_count": 6,
   "id": "1493ff0f",
   "metadata": {
    "execution": {
     "iopub.execute_input": "2022-04-14T09:34:44.014110Z",
     "iopub.status.busy": "2022-04-14T09:34:44.007365Z",
     "iopub.status.idle": "2022-04-14T09:34:44.047491Z",
     "shell.execute_reply": "2022-04-14T09:34:44.048696Z"
    },
    "papermill": {
     "duration": 0.10007,
     "end_time": "2022-04-14T09:34:44.049153",
     "exception": false,
     "start_time": "2022-04-14T09:34:43.949083",
     "status": "completed"
    },
    "tags": []
   },
   "outputs": [
    {
     "data": {
      "text/html": [
       "<div><svg style=\"position: absolute; width: 0; height: 0; overflow: hidden\">\n",
       "<defs>\n",
       "<symbol id=\"icon-database\" viewBox=\"0 0 32 32\">\n",
       "<path d=\"M16 0c-8.837 0-16 2.239-16 5v4c0 2.761 7.163 5 16 5s16-2.239 16-5v-4c0-2.761-7.163-5-16-5z\"></path>\n",
       "<path d=\"M16 17c-8.837 0-16-2.239-16-5v6c0 2.761 7.163 5 16 5s16-2.239 16-5v-6c0 2.761-7.163 5-16 5z\"></path>\n",
       "<path d=\"M16 26c-8.837 0-16-2.239-16-5v6c0 2.761 7.163 5 16 5s16-2.239 16-5v-6c0 2.761-7.163 5-16 5z\"></path>\n",
       "</symbol>\n",
       "<symbol id=\"icon-file-text2\" viewBox=\"0 0 32 32\">\n",
       "<path d=\"M28.681 7.159c-0.694-0.947-1.662-2.053-2.724-3.116s-2.169-2.030-3.116-2.724c-1.612-1.182-2.393-1.319-2.841-1.319h-15.5c-1.378 0-2.5 1.121-2.5 2.5v27c0 1.378 1.122 2.5 2.5 2.5h23c1.378 0 2.5-1.122 2.5-2.5v-19.5c0-0.448-0.137-1.23-1.319-2.841zM24.543 5.457c0.959 0.959 1.712 1.825 2.268 2.543h-4.811v-4.811c0.718 0.556 1.584 1.309 2.543 2.268zM28 29.5c0 0.271-0.229 0.5-0.5 0.5h-23c-0.271 0-0.5-0.229-0.5-0.5v-27c0-0.271 0.229-0.5 0.5-0.5 0 0 15.499-0 15.5 0v7c0 0.552 0.448 1 1 1h7v19.5z\"></path>\n",
       "<path d=\"M23 26h-14c-0.552 0-1-0.448-1-1s0.448-1 1-1h14c0.552 0 1 0.448 1 1s-0.448 1-1 1z\"></path>\n",
       "<path d=\"M23 22h-14c-0.552 0-1-0.448-1-1s0.448-1 1-1h14c0.552 0 1 0.448 1 1s-0.448 1-1 1z\"></path>\n",
       "<path d=\"M23 18h-14c-0.552 0-1-0.448-1-1s0.448-1 1-1h14c0.552 0 1 0.448 1 1s-0.448 1-1 1z\"></path>\n",
       "</symbol>\n",
       "</defs>\n",
       "</svg>\n",
       "<style>/* CSS stylesheet for displaying xarray objects in jupyterlab.\n",
       " *\n",
       " */\n",
       "\n",
       ":root {\n",
       "  --xr-font-color0: var(--jp-content-font-color0, rgba(0, 0, 0, 1));\n",
       "  --xr-font-color2: var(--jp-content-font-color2, rgba(0, 0, 0, 0.54));\n",
       "  --xr-font-color3: var(--jp-content-font-color3, rgba(0, 0, 0, 0.38));\n",
       "  --xr-border-color: var(--jp-border-color2, #e0e0e0);\n",
       "  --xr-disabled-color: var(--jp-layout-color3, #bdbdbd);\n",
       "  --xr-background-color: var(--jp-layout-color0, white);\n",
       "  --xr-background-color-row-even: var(--jp-layout-color1, white);\n",
       "  --xr-background-color-row-odd: var(--jp-layout-color2, #eeeeee);\n",
       "}\n",
       "\n",
       "html[theme=dark],\n",
       "body.vscode-dark {\n",
       "  --xr-font-color0: rgba(255, 255, 255, 1);\n",
       "  --xr-font-color2: rgba(255, 255, 255, 0.54);\n",
       "  --xr-font-color3: rgba(255, 255, 255, 0.38);\n",
       "  --xr-border-color: #1F1F1F;\n",
       "  --xr-disabled-color: #515151;\n",
       "  --xr-background-color: #111111;\n",
       "  --xr-background-color-row-even: #111111;\n",
       "  --xr-background-color-row-odd: #313131;\n",
       "}\n",
       "\n",
       ".xr-wrap {\n",
       "  display: block !important;\n",
       "  min-width: 300px;\n",
       "  max-width: 700px;\n",
       "}\n",
       "\n",
       ".xr-text-repr-fallback {\n",
       "  /* fallback to plain text repr when CSS is not injected (untrusted notebook) */\n",
       "  display: none;\n",
       "}\n",
       "\n",
       ".xr-header {\n",
       "  padding-top: 6px;\n",
       "  padding-bottom: 6px;\n",
       "  margin-bottom: 4px;\n",
       "  border-bottom: solid 1px var(--xr-border-color);\n",
       "}\n",
       "\n",
       ".xr-header > div,\n",
       ".xr-header > ul {\n",
       "  display: inline;\n",
       "  margin-top: 0;\n",
       "  margin-bottom: 0;\n",
       "}\n",
       "\n",
       ".xr-obj-type,\n",
       ".xr-array-name {\n",
       "  margin-left: 2px;\n",
       "  margin-right: 10px;\n",
       "}\n",
       "\n",
       ".xr-obj-type {\n",
       "  color: var(--xr-font-color2);\n",
       "}\n",
       "\n",
       ".xr-sections {\n",
       "  padding-left: 0 !important;\n",
       "  display: grid;\n",
       "  grid-template-columns: 150px auto auto 1fr 20px 20px;\n",
       "}\n",
       "\n",
       ".xr-section-item {\n",
       "  display: contents;\n",
       "}\n",
       "\n",
       ".xr-section-item input {\n",
       "  display: none;\n",
       "}\n",
       "\n",
       ".xr-section-item input + label {\n",
       "  color: var(--xr-disabled-color);\n",
       "}\n",
       "\n",
       ".xr-section-item input:enabled + label {\n",
       "  cursor: pointer;\n",
       "  color: var(--xr-font-color2);\n",
       "}\n",
       "\n",
       ".xr-section-item input:enabled + label:hover {\n",
       "  color: var(--xr-font-color0);\n",
       "}\n",
       "\n",
       ".xr-section-summary {\n",
       "  grid-column: 1;\n",
       "  color: var(--xr-font-color2);\n",
       "  font-weight: 500;\n",
       "}\n",
       "\n",
       ".xr-section-summary > span {\n",
       "  display: inline-block;\n",
       "  padding-left: 0.5em;\n",
       "}\n",
       "\n",
       ".xr-section-summary-in:disabled + label {\n",
       "  color: var(--xr-font-color2);\n",
       "}\n",
       "\n",
       ".xr-section-summary-in + label:before {\n",
       "  display: inline-block;\n",
       "  content: '►';\n",
       "  font-size: 11px;\n",
       "  width: 15px;\n",
       "  text-align: center;\n",
       "}\n",
       "\n",
       ".xr-section-summary-in:disabled + label:before {\n",
       "  color: var(--xr-disabled-color);\n",
       "}\n",
       "\n",
       ".xr-section-summary-in:checked + label:before {\n",
       "  content: '▼';\n",
       "}\n",
       "\n",
       ".xr-section-summary-in:checked + label > span {\n",
       "  display: none;\n",
       "}\n",
       "\n",
       ".xr-section-summary,\n",
       ".xr-section-inline-details {\n",
       "  padding-top: 4px;\n",
       "  padding-bottom: 4px;\n",
       "}\n",
       "\n",
       ".xr-section-inline-details {\n",
       "  grid-column: 2 / -1;\n",
       "}\n",
       "\n",
       ".xr-section-details {\n",
       "  display: none;\n",
       "  grid-column: 1 / -1;\n",
       "  margin-bottom: 5px;\n",
       "}\n",
       "\n",
       ".xr-section-summary-in:checked ~ .xr-section-details {\n",
       "  display: contents;\n",
       "}\n",
       "\n",
       ".xr-array-wrap {\n",
       "  grid-column: 1 / -1;\n",
       "  display: grid;\n",
       "  grid-template-columns: 20px auto;\n",
       "}\n",
       "\n",
       ".xr-array-wrap > label {\n",
       "  grid-column: 1;\n",
       "  vertical-align: top;\n",
       "}\n",
       "\n",
       ".xr-preview {\n",
       "  color: var(--xr-font-color3);\n",
       "}\n",
       "\n",
       ".xr-array-preview,\n",
       ".xr-array-data {\n",
       "  padding: 0 5px !important;\n",
       "  grid-column: 2;\n",
       "}\n",
       "\n",
       ".xr-array-data,\n",
       ".xr-array-in:checked ~ .xr-array-preview {\n",
       "  display: none;\n",
       "}\n",
       "\n",
       ".xr-array-in:checked ~ .xr-array-data,\n",
       ".xr-array-preview {\n",
       "  display: inline-block;\n",
       "}\n",
       "\n",
       ".xr-dim-list {\n",
       "  display: inline-block !important;\n",
       "  list-style: none;\n",
       "  padding: 0 !important;\n",
       "  margin: 0;\n",
       "}\n",
       "\n",
       ".xr-dim-list li {\n",
       "  display: inline-block;\n",
       "  padding: 0;\n",
       "  margin: 0;\n",
       "}\n",
       "\n",
       ".xr-dim-list:before {\n",
       "  content: '(';\n",
       "}\n",
       "\n",
       ".xr-dim-list:after {\n",
       "  content: ')';\n",
       "}\n",
       "\n",
       ".xr-dim-list li:not(:last-child):after {\n",
       "  content: ',';\n",
       "  padding-right: 5px;\n",
       "}\n",
       "\n",
       ".xr-has-index {\n",
       "  font-weight: bold;\n",
       "}\n",
       "\n",
       ".xr-var-list,\n",
       ".xr-var-item {\n",
       "  display: contents;\n",
       "}\n",
       "\n",
       ".xr-var-item > div,\n",
       ".xr-var-item label,\n",
       ".xr-var-item > .xr-var-name span {\n",
       "  background-color: var(--xr-background-color-row-even);\n",
       "  margin-bottom: 0;\n",
       "}\n",
       "\n",
       ".xr-var-item > .xr-var-name:hover span {\n",
       "  padding-right: 5px;\n",
       "}\n",
       "\n",
       ".xr-var-list > li:nth-child(odd) > div,\n",
       ".xr-var-list > li:nth-child(odd) > label,\n",
       ".xr-var-list > li:nth-child(odd) > .xr-var-name span {\n",
       "  background-color: var(--xr-background-color-row-odd);\n",
       "}\n",
       "\n",
       ".xr-var-name {\n",
       "  grid-column: 1;\n",
       "}\n",
       "\n",
       ".xr-var-dims {\n",
       "  grid-column: 2;\n",
       "}\n",
       "\n",
       ".xr-var-dtype {\n",
       "  grid-column: 3;\n",
       "  text-align: right;\n",
       "  color: var(--xr-font-color2);\n",
       "}\n",
       "\n",
       ".xr-var-preview {\n",
       "  grid-column: 4;\n",
       "}\n",
       "\n",
       ".xr-var-name,\n",
       ".xr-var-dims,\n",
       ".xr-var-dtype,\n",
       ".xr-preview,\n",
       ".xr-attrs dt {\n",
       "  white-space: nowrap;\n",
       "  overflow: hidden;\n",
       "  text-overflow: ellipsis;\n",
       "  padding-right: 10px;\n",
       "}\n",
       "\n",
       ".xr-var-name:hover,\n",
       ".xr-var-dims:hover,\n",
       ".xr-var-dtype:hover,\n",
       ".xr-attrs dt:hover {\n",
       "  overflow: visible;\n",
       "  width: auto;\n",
       "  z-index: 1;\n",
       "}\n",
       "\n",
       ".xr-var-attrs,\n",
       ".xr-var-data {\n",
       "  display: none;\n",
       "  background-color: var(--xr-background-color) !important;\n",
       "  padding-bottom: 5px !important;\n",
       "}\n",
       "\n",
       ".xr-var-attrs-in:checked ~ .xr-var-attrs,\n",
       ".xr-var-data-in:checked ~ .xr-var-data {\n",
       "  display: block;\n",
       "}\n",
       "\n",
       ".xr-var-data > table {\n",
       "  float: right;\n",
       "}\n",
       "\n",
       ".xr-var-name span,\n",
       ".xr-var-data,\n",
       ".xr-attrs {\n",
       "  padding-left: 25px !important;\n",
       "}\n",
       "\n",
       ".xr-attrs,\n",
       ".xr-var-attrs,\n",
       ".xr-var-data {\n",
       "  grid-column: 1 / -1;\n",
       "}\n",
       "\n",
       "dl.xr-attrs {\n",
       "  padding: 0;\n",
       "  margin: 0;\n",
       "  display: grid;\n",
       "  grid-template-columns: 125px auto;\n",
       "}\n",
       "\n",
       ".xr-attrs dt,\n",
       ".xr-attrs dd {\n",
       "  padding: 0;\n",
       "  margin: 0;\n",
       "  float: left;\n",
       "  padding-right: 10px;\n",
       "  width: auto;\n",
       "}\n",
       "\n",
       ".xr-attrs dt {\n",
       "  font-weight: normal;\n",
       "  grid-column: 1;\n",
       "}\n",
       "\n",
       ".xr-attrs dt:hover span {\n",
       "  display: inline-block;\n",
       "  background: var(--xr-background-color);\n",
       "  padding-right: 10px;\n",
       "}\n",
       "\n",
       ".xr-attrs dd {\n",
       "  grid-column: 2;\n",
       "  white-space: pre-wrap;\n",
       "  word-break: break-all;\n",
       "}\n",
       "\n",
       ".xr-icon-database,\n",
       ".xr-icon-file-text2 {\n",
       "  display: inline-block;\n",
       "  vertical-align: middle;\n",
       "  width: 1em;\n",
       "  height: 1.5em !important;\n",
       "  stroke-width: 0;\n",
       "  stroke: currentColor;\n",
       "  fill: currentColor;\n",
       "}\n",
       "</style><pre class='xr-text-repr-fallback'>&lt;xarray.Dataset&gt;\n",
       "Dimensions:  (time: 123)\n",
       "Coordinates:\n",
       "  * time     (time) object 1900-08-31 00:00:00 ... 2022-08-31 00:00:00\n",
       "Data variables:\n",
       "    pr       (time) float64 dask.array&lt;chunksize=(123,), meta=np.ndarray&gt;\n",
       "Attributes: (12/33)\n",
       "    CDI:                           Climate Data Interface version ?? (http://...\n",
       "    CDO:                           Climate Data Operators version 1.7.0 (http...\n",
       "    Conventions:                   CF-1.6\n",
       "    acknowledgment:                The Australian Government, Bureau of Meteo...\n",
       "    analysis_components:           total: the gridded accumulation of rainfall.\n",
       "    bom-cmp-awap_version:          bom-cmp-awap-1.00-89.0.x86_64\n",
       "    ...                            ...\n",
       "    summary:                       The daily and monthly rainfall data repres...\n",
       "    time_coverage_end:             1900-01-01T09:00:00\n",
       "    time_coverage_start:           1899-12-31T09:00:00\n",
       "    title:                         Interpolated Rain Gauge Precipitation\n",
       "    url:                           http://www.bom.gov.au/climate/\n",
       "    uuid:                          14333ae2-28fe-4cb6-9f00-677adc94f25e</pre><div class='xr-wrap' style='display:none'><div class='xr-header'><div class='xr-obj-type'>xarray.Dataset</div></div><ul class='xr-sections'><li class='xr-section-item'><input id='section-67ad9029-6d3f-4f31-8593-e3fbfed2839f' class='xr-section-summary-in' type='checkbox' disabled ><label for='section-67ad9029-6d3f-4f31-8593-e3fbfed2839f' class='xr-section-summary'  title='Expand/collapse section'>Dimensions:</label><div class='xr-section-inline-details'><ul class='xr-dim-list'><li><span class='xr-has-index'>time</span>: 123</li></ul></div><div class='xr-section-details'></div></li><li class='xr-section-item'><input id='section-5557b5c2-8da0-4ef0-ba71-46d7f8264525' class='xr-section-summary-in' type='checkbox'  checked><label for='section-5557b5c2-8da0-4ef0-ba71-46d7f8264525' class='xr-section-summary' >Coordinates: <span>(1)</span></label><div class='xr-section-inline-details'></div><div class='xr-section-details'><ul class='xr-var-list'><li class='xr-var-item'><div class='xr-var-name'><span class='xr-has-index'>time</span></div><div class='xr-var-dims'>(time)</div><div class='xr-var-dtype'>object</div><div class='xr-var-preview xr-preview'>1900-08-31 00:00:00 ... 2022-08-...</div><input id='attrs-794118a8-7ee4-46e0-a840-624c75529071' class='xr-var-attrs-in' type='checkbox' disabled><label for='attrs-794118a8-7ee4-46e0-a840-624c75529071' title='Show/Hide attributes'><svg class='icon xr-icon-file-text2'><use xlink:href='#icon-file-text2'></use></svg></label><input id='data-1fff2a90-b5ae-43e1-9cb9-3d3e8fbc4b20' class='xr-var-data-in' type='checkbox'><label for='data-1fff2a90-b5ae-43e1-9cb9-3d3e8fbc4b20' title='Show/Hide data repr'><svg class='icon xr-icon-database'><use xlink:href='#icon-database'></use></svg></label><div class='xr-var-attrs'><dl class='xr-attrs'></dl></div><div class='xr-var-data'><pre>array([cftime.DatetimeGregorian(1900, 8, 31, 0, 0, 0, 0, has_year_zero=False),\n",
       "       cftime.DatetimeGregorian(1901, 8, 31, 0, 0, 0, 0, has_year_zero=False),\n",
       "       cftime.DatetimeGregorian(1902, 8, 31, 0, 0, 0, 0, has_year_zero=False),\n",
       "       cftime.DatetimeGregorian(1903, 8, 31, 0, 0, 0, 0, has_year_zero=False),\n",
       "       cftime.DatetimeGregorian(1904, 8, 31, 0, 0, 0, 0, has_year_zero=False),\n",
       "       cftime.DatetimeGregorian(1905, 8, 31, 0, 0, 0, 0, has_year_zero=False),\n",
       "       cftime.DatetimeGregorian(1906, 8, 31, 0, 0, 0, 0, has_year_zero=False),\n",
       "       cftime.DatetimeGregorian(1907, 8, 31, 0, 0, 0, 0, has_year_zero=False),\n",
       "       cftime.DatetimeGregorian(1908, 8, 31, 0, 0, 0, 0, has_year_zero=False),\n",
       "       cftime.DatetimeGregorian(1909, 8, 31, 0, 0, 0, 0, has_year_zero=False),\n",
       "       cftime.DatetimeGregorian(1910, 8, 31, 0, 0, 0, 0, has_year_zero=False),\n",
       "       cftime.DatetimeGregorian(1911, 8, 31, 0, 0, 0, 0, has_year_zero=False),\n",
       "       cftime.DatetimeGregorian(1912, 8, 31, 0, 0, 0, 0, has_year_zero=False),\n",
       "       cftime.DatetimeGregorian(1913, 8, 31, 0, 0, 0, 0, has_year_zero=False),\n",
       "       cftime.DatetimeGregorian(1914, 8, 31, 0, 0, 0, 0, has_year_zero=False),\n",
       "       cftime.DatetimeGregorian(1915, 8, 31, 0, 0, 0, 0, has_year_zero=False),\n",
       "       cftime.DatetimeGregorian(1916, 8, 31, 0, 0, 0, 0, has_year_zero=False),\n",
       "       cftime.DatetimeGregorian(1917, 8, 31, 0, 0, 0, 0, has_year_zero=False),\n",
       "       cftime.DatetimeGregorian(1918, 8, 31, 0, 0, 0, 0, has_year_zero=False),\n",
       "       cftime.DatetimeGregorian(1919, 8, 31, 0, 0, 0, 0, has_year_zero=False),\n",
       "       cftime.DatetimeGregorian(1920, 8, 31, 0, 0, 0, 0, has_year_zero=False),\n",
       "       cftime.DatetimeGregorian(1921, 8, 31, 0, 0, 0, 0, has_year_zero=False),\n",
       "       cftime.DatetimeGregorian(1922, 8, 31, 0, 0, 0, 0, has_year_zero=False),\n",
       "       cftime.DatetimeGregorian(1923, 8, 31, 0, 0, 0, 0, has_year_zero=False),\n",
       "       cftime.DatetimeGregorian(1924, 8, 31, 0, 0, 0, 0, has_year_zero=False),\n",
       "       cftime.DatetimeGregorian(1925, 8, 31, 0, 0, 0, 0, has_year_zero=False),\n",
       "       cftime.DatetimeGregorian(1926, 8, 31, 0, 0, 0, 0, has_year_zero=False),\n",
       "       cftime.DatetimeGregorian(1927, 8, 31, 0, 0, 0, 0, has_year_zero=False),\n",
       "       cftime.DatetimeGregorian(1928, 8, 31, 0, 0, 0, 0, has_year_zero=False),\n",
       "       cftime.DatetimeGregorian(1929, 8, 31, 0, 0, 0, 0, has_year_zero=False),\n",
       "       cftime.DatetimeGregorian(1930, 8, 31, 0, 0, 0, 0, has_year_zero=False),\n",
       "       cftime.DatetimeGregorian(1931, 8, 31, 0, 0, 0, 0, has_year_zero=False),\n",
       "       cftime.DatetimeGregorian(1932, 8, 31, 0, 0, 0, 0, has_year_zero=False),\n",
       "       cftime.DatetimeGregorian(1933, 8, 31, 0, 0, 0, 0, has_year_zero=False),\n",
       "       cftime.DatetimeGregorian(1934, 8, 31, 0, 0, 0, 0, has_year_zero=False),\n",
       "       cftime.DatetimeGregorian(1935, 8, 31, 0, 0, 0, 0, has_year_zero=False),\n",
       "       cftime.DatetimeGregorian(1936, 8, 31, 0, 0, 0, 0, has_year_zero=False),\n",
       "       cftime.DatetimeGregorian(1937, 8, 31, 0, 0, 0, 0, has_year_zero=False),\n",
       "       cftime.DatetimeGregorian(1938, 8, 31, 0, 0, 0, 0, has_year_zero=False),\n",
       "       cftime.DatetimeGregorian(1939, 8, 31, 0, 0, 0, 0, has_year_zero=False),\n",
       "       cftime.DatetimeGregorian(1940, 8, 31, 0, 0, 0, 0, has_year_zero=False),\n",
       "       cftime.DatetimeGregorian(1941, 8, 31, 0, 0, 0, 0, has_year_zero=False),\n",
       "       cftime.DatetimeGregorian(1942, 8, 31, 0, 0, 0, 0, has_year_zero=False),\n",
       "       cftime.DatetimeGregorian(1943, 8, 31, 0, 0, 0, 0, has_year_zero=False),\n",
       "       cftime.DatetimeGregorian(1944, 8, 31, 0, 0, 0, 0, has_year_zero=False),\n",
       "       cftime.DatetimeGregorian(1945, 8, 31, 0, 0, 0, 0, has_year_zero=False),\n",
       "       cftime.DatetimeGregorian(1946, 8, 31, 0, 0, 0, 0, has_year_zero=False),\n",
       "       cftime.DatetimeGregorian(1947, 8, 31, 0, 0, 0, 0, has_year_zero=False),\n",
       "       cftime.DatetimeGregorian(1948, 8, 31, 0, 0, 0, 0, has_year_zero=False),\n",
       "       cftime.DatetimeGregorian(1949, 8, 31, 0, 0, 0, 0, has_year_zero=False),\n",
       "       cftime.DatetimeGregorian(1950, 8, 31, 0, 0, 0, 0, has_year_zero=False),\n",
       "       cftime.DatetimeGregorian(1951, 8, 31, 0, 0, 0, 0, has_year_zero=False),\n",
       "       cftime.DatetimeGregorian(1952, 8, 31, 0, 0, 0, 0, has_year_zero=False),\n",
       "       cftime.DatetimeGregorian(1953, 8, 31, 0, 0, 0, 0, has_year_zero=False),\n",
       "       cftime.DatetimeGregorian(1954, 8, 31, 0, 0, 0, 0, has_year_zero=False),\n",
       "       cftime.DatetimeGregorian(1955, 8, 31, 0, 0, 0, 0, has_year_zero=False),\n",
       "       cftime.DatetimeGregorian(1956, 8, 31, 0, 0, 0, 0, has_year_zero=False),\n",
       "       cftime.DatetimeGregorian(1957, 8, 31, 0, 0, 0, 0, has_year_zero=False),\n",
       "       cftime.DatetimeGregorian(1958, 8, 31, 0, 0, 0, 0, has_year_zero=False),\n",
       "       cftime.DatetimeGregorian(1959, 8, 31, 0, 0, 0, 0, has_year_zero=False),\n",
       "       cftime.DatetimeGregorian(1960, 8, 31, 0, 0, 0, 0, has_year_zero=False),\n",
       "       cftime.DatetimeGregorian(1961, 8, 31, 0, 0, 0, 0, has_year_zero=False),\n",
       "       cftime.DatetimeGregorian(1962, 8, 31, 0, 0, 0, 0, has_year_zero=False),\n",
       "       cftime.DatetimeGregorian(1963, 8, 31, 0, 0, 0, 0, has_year_zero=False),\n",
       "       cftime.DatetimeGregorian(1964, 8, 31, 0, 0, 0, 0, has_year_zero=False),\n",
       "       cftime.DatetimeGregorian(1965, 8, 31, 0, 0, 0, 0, has_year_zero=False),\n",
       "       cftime.DatetimeGregorian(1966, 8, 31, 0, 0, 0, 0, has_year_zero=False),\n",
       "       cftime.DatetimeGregorian(1967, 8, 31, 0, 0, 0, 0, has_year_zero=False),\n",
       "       cftime.DatetimeGregorian(1968, 8, 31, 0, 0, 0, 0, has_year_zero=False),\n",
       "       cftime.DatetimeGregorian(1969, 8, 31, 0, 0, 0, 0, has_year_zero=False),\n",
       "       cftime.DatetimeGregorian(1970, 8, 31, 0, 0, 0, 0, has_year_zero=False),\n",
       "       cftime.DatetimeGregorian(1971, 8, 31, 0, 0, 0, 0, has_year_zero=False),\n",
       "       cftime.DatetimeGregorian(1972, 8, 31, 0, 0, 0, 0, has_year_zero=False),\n",
       "       cftime.DatetimeGregorian(1973, 8, 31, 0, 0, 0, 0, has_year_zero=False),\n",
       "       cftime.DatetimeGregorian(1974, 8, 31, 0, 0, 0, 0, has_year_zero=False),\n",
       "       cftime.DatetimeGregorian(1975, 8, 31, 0, 0, 0, 0, has_year_zero=False),\n",
       "       cftime.DatetimeGregorian(1976, 8, 31, 0, 0, 0, 0, has_year_zero=False),\n",
       "       cftime.DatetimeGregorian(1977, 8, 31, 0, 0, 0, 0, has_year_zero=False),\n",
       "       cftime.DatetimeGregorian(1978, 8, 31, 0, 0, 0, 0, has_year_zero=False),\n",
       "       cftime.DatetimeGregorian(1979, 8, 31, 0, 0, 0, 0, has_year_zero=False),\n",
       "       cftime.DatetimeGregorian(1980, 8, 31, 0, 0, 0, 0, has_year_zero=False),\n",
       "       cftime.DatetimeGregorian(1981, 8, 31, 0, 0, 0, 0, has_year_zero=False),\n",
       "       cftime.DatetimeGregorian(1982, 8, 31, 0, 0, 0, 0, has_year_zero=False),\n",
       "       cftime.DatetimeGregorian(1983, 8, 31, 0, 0, 0, 0, has_year_zero=False),\n",
       "       cftime.DatetimeGregorian(1984, 8, 31, 0, 0, 0, 0, has_year_zero=False),\n",
       "       cftime.DatetimeGregorian(1985, 8, 31, 0, 0, 0, 0, has_year_zero=False),\n",
       "       cftime.DatetimeGregorian(1986, 8, 31, 0, 0, 0, 0, has_year_zero=False),\n",
       "       cftime.DatetimeGregorian(1987, 8, 31, 0, 0, 0, 0, has_year_zero=False),\n",
       "       cftime.DatetimeGregorian(1988, 8, 31, 0, 0, 0, 0, has_year_zero=False),\n",
       "       cftime.DatetimeGregorian(1989, 8, 31, 0, 0, 0, 0, has_year_zero=False),\n",
       "       cftime.DatetimeGregorian(1990, 8, 31, 0, 0, 0, 0, has_year_zero=False),\n",
       "       cftime.DatetimeGregorian(1991, 8, 31, 0, 0, 0, 0, has_year_zero=False),\n",
       "       cftime.DatetimeGregorian(1992, 8, 31, 0, 0, 0, 0, has_year_zero=False),\n",
       "       cftime.DatetimeGregorian(1993, 8, 31, 0, 0, 0, 0, has_year_zero=False),\n",
       "       cftime.DatetimeGregorian(1994, 8, 31, 0, 0, 0, 0, has_year_zero=False),\n",
       "       cftime.DatetimeGregorian(1995, 8, 31, 0, 0, 0, 0, has_year_zero=False),\n",
       "       cftime.DatetimeGregorian(1996, 8, 31, 0, 0, 0, 0, has_year_zero=False),\n",
       "       cftime.DatetimeGregorian(1997, 8, 31, 0, 0, 0, 0, has_year_zero=False),\n",
       "       cftime.DatetimeGregorian(1998, 8, 31, 0, 0, 0, 0, has_year_zero=False),\n",
       "       cftime.DatetimeGregorian(1999, 8, 31, 0, 0, 0, 0, has_year_zero=False),\n",
       "       cftime.DatetimeGregorian(2000, 8, 31, 0, 0, 0, 0, has_year_zero=False),\n",
       "       cftime.DatetimeGregorian(2001, 8, 31, 0, 0, 0, 0, has_year_zero=False),\n",
       "       cftime.DatetimeGregorian(2002, 8, 31, 0, 0, 0, 0, has_year_zero=False),\n",
       "       cftime.DatetimeGregorian(2003, 8, 31, 0, 0, 0, 0, has_year_zero=False),\n",
       "       cftime.DatetimeGregorian(2004, 8, 31, 0, 0, 0, 0, has_year_zero=False),\n",
       "       cftime.DatetimeGregorian(2005, 8, 31, 0, 0, 0, 0, has_year_zero=False),\n",
       "       cftime.DatetimeGregorian(2006, 8, 31, 0, 0, 0, 0, has_year_zero=False),\n",
       "       cftime.DatetimeGregorian(2007, 8, 31, 0, 0, 0, 0, has_year_zero=False),\n",
       "       cftime.DatetimeGregorian(2008, 8, 31, 0, 0, 0, 0, has_year_zero=False),\n",
       "       cftime.DatetimeGregorian(2009, 8, 31, 0, 0, 0, 0, has_year_zero=False),\n",
       "       cftime.DatetimeGregorian(2010, 8, 31, 0, 0, 0, 0, has_year_zero=False),\n",
       "       cftime.DatetimeGregorian(2011, 8, 31, 0, 0, 0, 0, has_year_zero=False),\n",
       "       cftime.DatetimeGregorian(2012, 8, 31, 0, 0, 0, 0, has_year_zero=False),\n",
       "       cftime.DatetimeGregorian(2013, 8, 31, 0, 0, 0, 0, has_year_zero=False),\n",
       "       cftime.DatetimeGregorian(2014, 8, 31, 0, 0, 0, 0, has_year_zero=False),\n",
       "       cftime.DatetimeGregorian(2015, 8, 31, 0, 0, 0, 0, has_year_zero=False),\n",
       "       cftime.DatetimeGregorian(2016, 8, 31, 0, 0, 0, 0, has_year_zero=False),\n",
       "       cftime.DatetimeGregorian(2017, 8, 31, 0, 0, 0, 0, has_year_zero=False),\n",
       "       cftime.DatetimeGregorian(2018, 8, 31, 0, 0, 0, 0, has_year_zero=False),\n",
       "       cftime.DatetimeGregorian(2019, 8, 31, 0, 0, 0, 0, has_year_zero=False),\n",
       "       cftime.DatetimeGregorian(2020, 8, 31, 0, 0, 0, 0, has_year_zero=False),\n",
       "       cftime.DatetimeGregorian(2021, 8, 31, 0, 0, 0, 0, has_year_zero=False),\n",
       "       cftime.DatetimeGregorian(2022, 8, 31, 0, 0, 0, 0, has_year_zero=False)],\n",
       "      dtype=object)</pre></div></li></ul></div></li><li class='xr-section-item'><input id='section-db8a831b-63fe-467f-8d71-4b7ce183f504' class='xr-section-summary-in' type='checkbox'  checked><label for='section-db8a831b-63fe-467f-8d71-4b7ce183f504' class='xr-section-summary' >Data variables: <span>(1)</span></label><div class='xr-section-inline-details'></div><div class='xr-section-details'><ul class='xr-var-list'><li class='xr-var-item'><div class='xr-var-name'><span>pr</span></div><div class='xr-var-dims'>(time)</div><div class='xr-var-dtype'>float64</div><div class='xr-var-preview xr-preview'>dask.array&lt;chunksize=(123,), meta=np.ndarray&gt;</div><input id='attrs-d2fbb346-928a-4e36-8a72-a2bef06fad15' class='xr-var-attrs-in' type='checkbox' ><label for='attrs-d2fbb346-928a-4e36-8a72-a2bef06fad15' title='Show/Hide attributes'><svg class='icon xr-icon-file-text2'><use xlink:href='#icon-file-text2'></use></svg></label><input id='data-3daaf8f5-212f-4c6f-8aa1-5ebfdcb2ccfb' class='xr-var-data-in' type='checkbox'><label for='data-3daaf8f5-212f-4c6f-8aa1-5ebfdcb2ccfb' title='Show/Hide data repr'><svg class='icon xr-icon-database'><use xlink:href='#icon-database'></use></svg></label><div class='xr-var-attrs'><dl class='xr-attrs'><dt><span>analysis_time :</span></dt><dd>2010-10-23 14:49:46 UTC</dd><dt><span>analysis_version_number :</span></dt><dd>3.01</dd><dt><span>cell_methods :</span></dt><dd>time: sum</dd><dt><span>frequency :</span></dt><dd>daily</dd><dt><span>length_scale_for_analysis :</span></dt><dd>80.0</dd><dt><span>long_name :</span></dt><dd>Daily precipitation</dd><dt><span>number_of_stations_reporting :</span></dt><dd>2757</dd><dt><span>source :</span></dt><dd>Interpolated surface observations</dd><dt><span>standard_name :</span></dt><dd>lwe_thickness_of_precipitation_amount</dd><dt><span>units :</span></dt><dd>mm day-1</dd></dl></div><div class='xr-var-data'><table>\n",
       "<tr>\n",
       "<td>\n",
       "<table>\n",
       "  <thead>\n",
       "    <tr><td> </td><th> Array </th><th> Chunk </th></tr>\n",
       "  </thead>\n",
       "  <tbody>\n",
       "    <tr><th> Bytes </th><td> 0.96 kiB </td> <td> 0.96 kiB </td></tr>\n",
       "    <tr><th> Shape </th><td> (123,) </td> <td> (123,) </td></tr>\n",
       "    <tr><th> Count </th><td> 2 Tasks </td><td> 1 Chunks </td></tr>\n",
       "    <tr><th> Type </th><td> float64 </td><td> numpy.ndarray </td></tr>\n",
       "  </tbody>\n",
       "</table>\n",
       "</td>\n",
       "<td>\n",
       "<svg width=\"170\" height=\"75\" style=\"stroke:rgb(0,0,0);stroke-width:1\" >\n",
       "\n",
       "  <!-- Horizontal lines -->\n",
       "  <line x1=\"0\" y1=\"0\" x2=\"120\" y2=\"0\" style=\"stroke-width:2\" />\n",
       "  <line x1=\"0\" y1=\"25\" x2=\"120\" y2=\"25\" style=\"stroke-width:2\" />\n",
       "\n",
       "  <!-- Vertical lines -->\n",
       "  <line x1=\"0\" y1=\"0\" x2=\"0\" y2=\"25\" style=\"stroke-width:2\" />\n",
       "  <line x1=\"120\" y1=\"0\" x2=\"120\" y2=\"25\" style=\"stroke-width:2\" />\n",
       "\n",
       "  <!-- Colored Rectangle -->\n",
       "  <polygon points=\"0.0,0.0 120.0,0.0 120.0,25.412616514582485 0.0,25.412616514582485\" style=\"fill:#ECB172A0;stroke-width:0\"/>\n",
       "\n",
       "  <!-- Text -->\n",
       "  <text x=\"60.000000\" y=\"45.412617\" font-size=\"1.0rem\" font-weight=\"100\" text-anchor=\"middle\" >123</text>\n",
       "  <text x=\"140.000000\" y=\"12.706308\" font-size=\"1.0rem\" font-weight=\"100\" text-anchor=\"middle\" transform=\"rotate(0,140.000000,12.706308)\">1</text>\n",
       "</svg>\n",
       "</td>\n",
       "</tr>\n",
       "</table></div></li></ul></div></li><li class='xr-section-item'><input id='section-7bd651eb-c659-471b-9a0f-b055f8522038' class='xr-section-summary-in' type='checkbox'  ><label for='section-7bd651eb-c659-471b-9a0f-b055f8522038' class='xr-section-summary' >Attributes: <span>(33)</span></label><div class='xr-section-inline-details'></div><div class='xr-section-details'><dl class='xr-attrs'><dt><span>CDI :</span></dt><dd>Climate Data Interface version ?? (http://mpimet.mpg.de/cdi)</dd><dt><span>CDO :</span></dt><dd>Climate Data Operators version 1.7.0 (http://mpimet.mpg.de/cdo)</dd><dt><span>Conventions :</span></dt><dd>CF-1.6</dd><dt><span>acknowledgment :</span></dt><dd>The Australian Government, Bureau of Meteorology; The Australian Water Availability Project; The AusCover facility of the Terrestrial Ecosystem Research Network (TERN)</dd><dt><span>analysis_components :</span></dt><dd>total: the gridded accumulation of rainfall.</dd><dt><span>bom-cmp-awap_version :</span></dt><dd>bom-cmp-awap-1.00-89.0.x86_64</dd><dt><span>bom-cmp-util_aifs2nc_version :</span></dt><dd>bom-cmp-util_aifs2nc-v1.1.0-2.x86_64</dd><dt><span>cdm_data_type :</span></dt><dd>Grid</dd><dt><span>copyright :</span></dt><dd>(C) Copyright Commonwealth of Australia 2017, Bureau of Meteorology (ABN 92637 533532), see http://www.bom.gov.au/other/copyright.shtml for terms and conditions of reuse.</dd><dt><span>data_format :</span></dt><dd>netCDF4 with zlib compression</dd><dt><span>date_created :</span></dt><dd>2017-01-17T22:13:51.976225</dd><dt><span>geospatial_lat_max :</span></dt><dd>-9.975000381469727</dd><dt><span>geospatial_lat_min :</span></dt><dd>-44.525001525878906</dd><dt><span>geospatial_lon_max :</span></dt><dd>156.27499389648438</dd><dt><span>geospatial_lon_min :</span></dt><dd>111.9749984741211</dd><dt><span>history :</span></dt><dd>Fri Apr 01 10:15:15 2022: /home/599/dbi599/east-coast-rain/AGCD_east-coast-flood-region.ipynb (git@github.com:AusClimateService/east-coast-rain)</dd><dt><span>id :</span></dt><dd>Australian Gridded Climate Data (AGCD)</dd><dt><span>institution :</span></dt><dd>Australian Bureau of Meteorology, GPO Box 1289, Melbourne VIC 3001, Australia</dd><dt><span>keywords :</span></dt><dd>Earth Science, Atmosphere, Precipitation, Precipitation Amount, Liquid Water Equivalent</dd><dt><span>keywords_reference :</span></dt><dd>Global Change Master Directory (GCMD). 2015. GCMD Keywords, Version 8.1. Greenbelt, MD: Global Change Data Center, Science and Exploration Directorate, Goddard Space Flight Center (GSFC) National Aeronautics and Space Administration (NASA). URL:http://gcmd.nasa.gov/learn/keywords.html</dd><dt><span>keywords_vocabulary :</span></dt><dd>GCMD Science Keywords, Version 8.1</dd><dt><span>licence :</span></dt><dd>Copyright for any data supplied by the Bureau of Meteorology is held in the Commonwealth of Australia and the purchaser shall give acknowledgement of the source in reference to the data. Apart from dealings under the Copyright Act 1968, the purchaser shall not reproduce (electronically or otherwise), modify or supply (by sale or otherwise) these data without written permission from the supplier.</dd><dt><span>naming_authority :</span></dt><dd>au.gov.bom</dd><dt><span>netcdf_version :</span></dt><dd>4.3.0 of Jul 16 2013 05:46:56 $</dd><dt><span>original_AIFS_header :</span></dt><dd>SOUTHWEST_LATITUDE: 44.5, SOUTHWEST_LONGITUDE: 112.0, NUMBER_OF_LONGITUDES_IN_GRID: 886, RAINFALL_ANALYSIS: 1900010119000101, LENGTH_SCALE_FOR_ANALYSIS: 80.0, BUREAU_OF_METEOROLOGY, NUMBER_OF_LATITUDES_IN_GRID: 691, GRID_INCREMENT_OF_LONGITUDE: 0.05, GRID_INCREMENT_OF_LATITUDE: 0.05, ROW_CHANGES_WITH_LONGITUDE, NUMBER_OF_STATIONS_REPORTING: 2757, ANALYSIS_TIME: 2010-10-23 14:49:46 UTC, COLUMN_NUMBER_AT_SOUTHWEST_CORNER: 1, ROW_NUMBER_AT_SOUTHWEST_CORNER: 1, ANALYSIS_VERSION_NUMBER: 3.01, LATITUDE_-_LONGITUDE_GRID</dd><dt><span>references :</span></dt><dd>http://www.bom.gov.au/amm/docs/2009/jones_hres.pdf; http://www.csiro.au/awap; http://www.cawcr.gov.au/technical-reports/CTR_013.pdf</dd><dt><span>standard_name_vocabulary :</span></dt><dd>CF Standard Names, v28</dd><dt><span>summary :</span></dt><dd>The daily and monthly rainfall data represents the amount of precipitation of any type (including the liquid equivalent of frozen hydrometeors such as hail and snow) observed by means of rain gauges stationed across Australia. These gauges measure millimetres of liquid water depth over a 24-hour period running from 9am local clock time the previous day to 9am on the observed day. Rainfall data from up to 6500 sites across the country are analysed, with limited quality control, onto 0.05x0.05 degree grids using the technique described in Jones et al. (2009). Monthly rainfall totals are calculated from the accumulation of the contributing daily rainfall totals, and may incorporate multi-day rainfall totals if observations were missing on any one day. Weekly rainfall totals are calculated from the sum of the daily grids. Multi-month rainfall totals are calculated from the sum of monthly grids. Month-to-date and Year-to-date rainfall grids are calculated from the sum of the contributing monthly and daily grids. </dd><dt><span>time_coverage_end :</span></dt><dd>1900-01-01T09:00:00</dd><dt><span>time_coverage_start :</span></dt><dd>1899-12-31T09:00:00</dd><dt><span>title :</span></dt><dd>Interpolated Rain Gauge Precipitation</dd><dt><span>url :</span></dt><dd>http://www.bom.gov.au/climate/</dd><dt><span>uuid :</span></dt><dd>14333ae2-28fe-4cb6-9f00-677adc94f25e</dd></dl></div></li></ul></div></div>"
      ],
      "text/plain": [
       "<xarray.Dataset>\n",
       "Dimensions:  (time: 123)\n",
       "Coordinates:\n",
       "  * time     (time) object 1900-08-31 00:00:00 ... 2022-08-31 00:00:00\n",
       "Data variables:\n",
       "    pr       (time) float64 dask.array<chunksize=(123,), meta=np.ndarray>\n",
       "Attributes: (12/33)\n",
       "    CDI:                           Climate Data Interface version ?? (http://...\n",
       "    CDO:                           Climate Data Operators version 1.7.0 (http...\n",
       "    Conventions:                   CF-1.6\n",
       "    acknowledgment:                The Australian Government, Bureau of Meteo...\n",
       "    analysis_components:           total: the gridded accumulation of rainfall.\n",
       "    bom-cmp-awap_version:          bom-cmp-awap-1.00-89.0.x86_64\n",
       "    ...                            ...\n",
       "    summary:                       The daily and monthly rainfall data repres...\n",
       "    time_coverage_end:             1900-01-01T09:00:00\n",
       "    time_coverage_start:           1899-12-31T09:00:00\n",
       "    title:                         Interpolated Rain Gauge Precipitation\n",
       "    url:                           http://www.bom.gov.au/climate/\n",
       "    uuid:                          14333ae2-28fe-4cb6-9f00-677adc94f25e"
      ]
     },
     "execution_count": 6,
     "metadata": {},
     "output_type": "execute_result"
    }
   ],
   "source": [
    "agcd_ds"
   ]
  },
  {
   "cell_type": "code",
   "execution_count": 7,
   "id": "9c701895",
   "metadata": {
    "execution": {
     "iopub.execute_input": "2022-04-14T09:34:44.149098Z",
     "iopub.status.busy": "2022-04-14T09:34:44.145688Z",
     "iopub.status.idle": "2022-04-14T09:34:44.159428Z",
     "shell.execute_reply": "2022-04-14T09:34:44.157985Z"
    },
    "papermill": {
     "duration": 0.068676,
     "end_time": "2022-04-14T09:34:44.159845",
     "exception": false,
     "start_time": "2022-04-14T09:34:44.091169",
     "status": "completed"
    },
    "tags": []
   },
   "outputs": [],
   "source": [
    "years = agcd_ds['time'].dt.year.values\n",
    "agcd_df = pd.DataFrame(index=years)\n",
    "agcd_df['pr'] = agcd_ds['pr'].values"
   ]
  },
  {
   "cell_type": "code",
   "execution_count": 8,
   "id": "c8bfcbcf",
   "metadata": {
    "execution": {
     "iopub.execute_input": "2022-04-14T09:34:44.261625Z",
     "iopub.status.busy": "2022-04-14T09:34:44.259634Z",
     "iopub.status.idle": "2022-04-14T09:34:44.266914Z",
     "shell.execute_reply": "2022-04-14T09:34:44.265782Z"
    },
    "papermill": {
     "duration": 0.062858,
     "end_time": "2022-04-14T09:34:44.267198",
     "exception": false,
     "start_time": "2022-04-14T09:34:44.204340",
     "status": "completed"
    },
    "tags": []
   },
   "outputs": [
    {
     "name": "stdout",
     "output_type": "stream",
     "text": [
      "410.447265625\n"
     ]
    }
   ],
   "source": [
    "pr2022 = agcd_ds['pr'].values.max()\n",
    "print(pr2022)"
   ]
  },
  {
   "cell_type": "markdown",
   "id": "c392f94d",
   "metadata": {},
   "source": [
    "## Region selection"
   ]
  },
  {
   "cell_type": "code",
   "execution_count": 9,
   "id": "1100c9b4",
   "metadata": {},
   "outputs": [],
   "source": [
    "with open(file_list) as f:\n",
    "    all_files = f.read()\n",
    "    first_file = all_files.split('\\n', 1)[0]"
   ]
  },
  {
   "cell_type": "code",
   "execution_count": 10,
   "id": "5440417d",
   "metadata": {},
   "outputs": [
    {
     "data": {
      "text/plain": [
       "'/g/data/xv83/dcfp/CAFE-f6/c5-d60-pX-f6-19950501/atmos_isobaric_daily.zarr.zip'"
      ]
     },
     "execution_count": 10,
     "metadata": {},
     "output_type": "execute_result"
    }
   ],
   "source": [
    "first_file"
   ]
  },
  {
   "cell_type": "code",
   "execution_count": 11,
   "id": "b7e92b44",
   "metadata": {},
   "outputs": [],
   "source": [
    "shapes = gp.read_file(shape_file)"
   ]
  },
  {
   "cell_type": "code",
   "execution_count": 12,
   "id": "1c245da4",
   "metadata": {},
   "outputs": [],
   "source": [
    "isel_dict = {'time': 0}\n",
    "if model_name == 'CAFE':\n",
    "    isel_dict['ensemble'] = 0"
   ]
  },
  {
   "cell_type": "code",
   "execution_count": 13,
   "id": "9aeb8237",
   "metadata": {},
   "outputs": [],
   "source": [
    "region_ds = fileio.open_dataset(\n",
    "    first_file,\n",
    "    metadata_file=metadata_file,\n",
    "    variables=['pr'],\n",
    "    spatial_coords=[-40, -20, 140, 160],\n",
    "    shapefile=shape_file,\n",
    "    shape_overlap=0.1,\n",
    "    units={'pr': 'mm day-1'},\n",
    "    isel=isel_dict,\n",
    ")"
   ]
  },
  {
   "cell_type": "code",
   "execution_count": 14,
   "id": "85148c74",
   "metadata": {},
   "outputs": [
    {
     "data": {
      "image/png": "[encoded data removed]",
      "text/plain": [
       "<Figure size 864x576 with 2 Axes>"
      ]
     },
     "metadata": {
      "needs_background": "light"
     },
     "output_type": "display_data"
    }
   ],
   "source": [
    "fig = plt.figure(figsize=[12,8])\n",
    "ax = fig.add_subplot(111, projection=ccrs.PlateCarree())\n",
    "region_ds['pr'].plot(\n",
    "    ax=ax,\n",
    "    transform=ccrs.PlateCarree(),\n",
    "    cmap='viridis_r',\n",
    ")\n",
    "ax.coastlines()\n",
    "ax.add_feature(cartopy.feature.STATES)\n",
    "ax.add_geometries(shapes.geometry, ccrs.PlateCarree(), facecolor='none', edgecolor='orange')\n",
    "plt.show()"
   ]
  },
  {
   "cell_type": "markdown",
   "id": "d082e6af",
   "metadata": {
    "papermill": {
     "duration": 0.042058,
     "end_time": "2022-04-14T09:34:44.351184",
     "exception": false,
     "start_time": "2022-04-14T09:34:44.309126",
     "status": "completed"
    },
    "tags": []
   },
   "source": [
    "## Model ensemble"
   ]
  },
  {
   "cell_type": "code",
   "execution_count": 15,
   "id": "1620b927",
   "metadata": {
    "execution": {
     "iopub.execute_input": "2022-04-14T09:34:44.443607Z",
     "iopub.status.busy": "2022-04-14T09:34:44.441835Z",
     "iopub.status.idle": "2022-04-14T09:34:44.479379Z",
     "shell.execute_reply": "2022-04-14T09:34:44.478160Z"
    },
    "papermill": {
     "duration": 0.087989,
     "end_time": "2022-04-14T09:34:44.479768",
     "exception": false,
     "start_time": "2022-04-14T09:34:44.391779",
     "status": "completed"
    },
    "tags": []
   },
   "outputs": [],
   "source": [
    "model_ds = fileio.open_dataset(model_file)\n",
    "model_bc_ds = fileio.open_dataset(model_bc_file)"
   ]
  },
  {
   "cell_type": "code",
   "execution_count": 16,
   "id": "b3d4100a",
   "metadata": {
    "execution": {
     "iopub.execute_input": "2022-04-14T09:34:44.598741Z",
     "iopub.status.busy": "2022-04-14T09:34:44.591001Z",
     "iopub.status.idle": "2022-04-14T09:34:44.607053Z",
     "shell.execute_reply": "2022-04-14T09:34:44.605609Z"
    },
    "papermill": {
     "duration": 0.083326,
     "end_time": "2022-04-14T09:34:44.607387",
     "exception": false,
     "start_time": "2022-04-14T09:34:44.524061",
     "status": "completed"
    },
    "tags": []
   },
   "outputs": [
    {
     "data": {
      "text/html": [
       "<div><svg style=\"position: absolute; width: 0; height: 0; overflow: hidden\">\n",
       "<defs>\n",
       "<symbol id=\"icon-database\" viewBox=\"0 0 32 32\">\n",
       "<path d=\"M16 0c-8.837 0-16 2.239-16 5v4c0 2.761 7.163 5 16 5s16-2.239 16-5v-4c0-2.761-7.163-5-16-5z\"></path>\n",
       "<path d=\"M16 17c-8.837 0-16-2.239-16-5v6c0 2.761 7.163 5 16 5s16-2.239 16-5v-6c0 2.761-7.163 5-16 5z\"></path>\n",
       "<path d=\"M16 26c-8.837 0-16-2.239-16-5v6c0 2.761 7.163 5 16 5s16-2.239 16-5v-6c0 2.761-7.163 5-16 5z\"></path>\n",
       "</symbol>\n",
       "<symbol id=\"icon-file-text2\" viewBox=\"0 0 32 32\">\n",
       "<path d=\"M28.681 7.159c-0.694-0.947-1.662-2.053-2.724-3.116s-2.169-2.030-3.116-2.724c-1.612-1.182-2.393-1.319-2.841-1.319h-15.5c-1.378 0-2.5 1.121-2.5 2.5v27c0 1.378 1.122 2.5 2.5 2.5h23c1.378 0 2.5-1.122 2.5-2.5v-19.5c0-0.448-0.137-1.23-1.319-2.841zM24.543 5.457c0.959 0.959 1.712 1.825 2.268 2.543h-4.811v-4.811c0.718 0.556 1.584 1.309 2.543 2.268zM28 29.5c0 0.271-0.229 0.5-0.5 0.5h-23c-0.271 0-0.5-0.229-0.5-0.5v-27c0-0.271 0.229-0.5 0.5-0.5 0 0 15.499-0 15.5 0v7c0 0.552 0.448 1 1 1h7v19.5z\"></path>\n",
       "<path d=\"M23 26h-14c-0.552 0-1-0.448-1-1s0.448-1 1-1h14c0.552 0 1 0.448 1 1s-0.448 1-1 1z\"></path>\n",
       "<path d=\"M23 22h-14c-0.552 0-1-0.448-1-1s0.448-1 1-1h14c0.552 0 1 0.448 1 1s-0.448 1-1 1z\"></path>\n",
       "<path d=\"M23 18h-14c-0.552 0-1-0.448-1-1s0.448-1 1-1h14c0.552 0 1 0.448 1 1s-0.448 1-1 1z\"></path>\n",
       "</symbol>\n",
       "</defs>\n",
       "</svg>\n",
       "<style>/* CSS stylesheet for displaying xarray objects in jupyterlab.\n",
       " *\n",
       " */\n",
       "\n",
       ":root {\n",
       "  --xr-font-color0: var(--jp-content-font-color0, rgba(0, 0, 0, 1));\n",
       "  --xr-font-color2: var(--jp-content-font-color2, rgba(0, 0, 0, 0.54));\n",
       "  --xr-font-color3: var(--jp-content-font-color3, rgba(0, 0, 0, 0.38));\n",
       "  --xr-border-color: var(--jp-border-color2, #e0e0e0);\n",
       "  --xr-disabled-color: var(--jp-layout-color3, #bdbdbd);\n",
       "  --xr-background-color: var(--jp-layout-color0, white);\n",
       "  --xr-background-color-row-even: var(--jp-layout-color1, white);\n",
       "  --xr-background-color-row-odd: var(--jp-layout-color2, #eeeeee);\n",
       "}\n",
       "\n",
       "html[theme=dark],\n",
       "body.vscode-dark {\n",
       "  --xr-font-color0: rgba(255, 255, 255, 1);\n",
       "  --xr-font-color2: rgba(255, 255, 255, 0.54);\n",
       "  --xr-font-color3: rgba(255, 255, 255, 0.38);\n",
       "  --xr-border-color: #1F1F1F;\n",
       "  --xr-disabled-color: #515151;\n",
       "  --xr-background-color: #111111;\n",
       "  --xr-background-color-row-even: #111111;\n",
       "  --xr-background-color-row-odd: #313131;\n",
       "}\n",
       "\n",
       ".xr-wrap {\n",
       "  display: block !important;\n",
       "  min-width: 300px;\n",
       "  max-width: 700px;\n",
       "}\n",
       "\n",
       ".xr-text-repr-fallback {\n",
       "  /* fallback to plain text repr when CSS is not injected (untrusted notebook) */\n",
       "  display: none;\n",
       "}\n",
       "\n",
       ".xr-header {\n",
       "  padding-top: 6px;\n",
       "  padding-bottom: 6px;\n",
       "  margin-bottom: 4px;\n",
       "  border-bottom: solid 1px var(--xr-border-color);\n",
       "}\n",
       "\n",
       ".xr-header > div,\n",
       ".xr-header > ul {\n",
       "  display: inline;\n",
       "  margin-top: 0;\n",
       "  margin-bottom: 0;\n",
       "}\n",
       "\n",
       ".xr-obj-type,\n",
       ".xr-array-name {\n",
       "  margin-left: 2px;\n",
       "  margin-right: 10px;\n",
       "}\n",
       "\n",
       ".xr-obj-type {\n",
       "  color: var(--xr-font-color2);\n",
       "}\n",
       "\n",
       ".xr-sections {\n",
       "  padding-left: 0 !important;\n",
       "  display: grid;\n",
       "  grid-template-columns: 150px auto auto 1fr 20px 20px;\n",
       "}\n",
       "\n",
       ".xr-section-item {\n",
       "  display: contents;\n",
       "}\n",
       "\n",
       ".xr-section-item input {\n",
       "  display: none;\n",
       "}\n",
       "\n",
       ".xr-section-item input + label {\n",
       "  color: var(--xr-disabled-color);\n",
       "}\n",
       "\n",
       ".xr-section-item input:enabled + label {\n",
       "  cursor: pointer;\n",
       "  color: var(--xr-font-color2);\n",
       "}\n",
       "\n",
       ".xr-section-item input:enabled + label:hover {\n",
       "  color: var(--xr-font-color0);\n",
       "}\n",
       "\n",
       ".xr-section-summary {\n",
       "  grid-column: 1;\n",
       "  color: var(--xr-font-color2);\n",
       "  font-weight: 500;\n",
       "}\n",
       "\n",
       ".xr-section-summary > span {\n",
       "  display: inline-block;\n",
       "  padding-left: 0.5em;\n",
       "}\n",
       "\n",
       ".xr-section-summary-in:disabled + label {\n",
       "  color: var(--xr-font-color2);\n",
       "}\n",
       "\n",
       ".xr-section-summary-in + label:before {\n",
       "  display: inline-block;\n",
       "  content: '►';\n",
       "  font-size: 11px;\n",
       "  width: 15px;\n",
       "  text-align: center;\n",
       "}\n",
       "\n",
       ".xr-section-summary-in:disabled + label:before {\n",
       "  color: var(--xr-disabled-color);\n",
       "}\n",
       "\n",
       ".xr-section-summary-in:checked + label:before {\n",
       "  content: '▼';\n",
       "}\n",
       "\n",
       ".xr-section-summary-in:checked + label > span {\n",
       "  display: none;\n",
       "}\n",
       "\n",
       ".xr-section-summary,\n",
       ".xr-section-inline-details {\n",
       "  padding-top: 4px;\n",
       "  padding-bottom: 4px;\n",
       "}\n",
       "\n",
       ".xr-section-inline-details {\n",
       "  grid-column: 2 / -1;\n",
       "}\n",
       "\n",
       ".xr-section-details {\n",
       "  display: none;\n",
       "  grid-column: 1 / -1;\n",
       "  margin-bottom: 5px;\n",
       "}\n",
       "\n",
       ".xr-section-summary-in:checked ~ .xr-section-details {\n",
       "  display: contents;\n",
       "}\n",
       "\n",
       ".xr-array-wrap {\n",
       "  grid-column: 1 / -1;\n",
       "  display: grid;\n",
       "  grid-template-columns: 20px auto;\n",
       "}\n",
       "\n",
       ".xr-array-wrap > label {\n",
       "  grid-column: 1;\n",
       "  vertical-align: top;\n",
       "}\n",
       "\n",
       ".xr-preview {\n",
       "  color: var(--xr-font-color3);\n",
       "}\n",
       "\n",
       ".xr-array-preview,\n",
       ".xr-array-data {\n",
       "  padding: 0 5px !important;\n",
       "  grid-column: 2;\n",
       "}\n",
       "\n",
       ".xr-array-data,\n",
       ".xr-array-in:checked ~ .xr-array-preview {\n",
       "  display: none;\n",
       "}\n",
       "\n",
       ".xr-array-in:checked ~ .xr-array-data,\n",
       ".xr-array-preview {\n",
       "  display: inline-block;\n",
       "}\n",
       "\n",
       ".xr-dim-list {\n",
       "  display: inline-block !important;\n",
       "  list-style: none;\n",
       "  padding: 0 !important;\n",
       "  margin: 0;\n",
       "}\n",
       "\n",
       ".xr-dim-list li {\n",
       "  display: inline-block;\n",
       "  padding: 0;\n",
       "  margin: 0;\n",
       "}\n",
       "\n",
       ".xr-dim-list:before {\n",
       "  content: '(';\n",
       "}\n",
       "\n",
       ".xr-dim-list:after {\n",
       "  content: ')';\n",
       "}\n",
       "\n",
       ".xr-dim-list li:not(:last-child):after {\n",
       "  content: ',';\n",
       "  padding-right: 5px;\n",
       "}\n",
       "\n",
       ".xr-has-index {\n",
       "  font-weight: bold;\n",
       "}\n",
       "\n",
       ".xr-var-list,\n",
       ".xr-var-item {\n",
       "  display: contents;\n",
       "}\n",
       "\n",
       ".xr-var-item > div,\n",
       ".xr-var-item label,\n",
       ".xr-var-item > .xr-var-name span {\n",
       "  background-color: var(--xr-background-color-row-even);\n",
       "  margin-bottom: 0;\n",
       "}\n",
       "\n",
       ".xr-var-item > .xr-var-name:hover span {\n",
       "  padding-right: 5px;\n",
       "}\n",
       "\n",
       ".xr-var-list > li:nth-child(odd) > div,\n",
       ".xr-var-list > li:nth-child(odd) > label,\n",
       ".xr-var-list > li:nth-child(odd) > .xr-var-name span {\n",
       "  background-color: var(--xr-background-color-row-odd);\n",
       "}\n",
       "\n",
       ".xr-var-name {\n",
       "  grid-column: 1;\n",
       "}\n",
       "\n",
       ".xr-var-dims {\n",
       "  grid-column: 2;\n",
       "}\n",
       "\n",
       ".xr-var-dtype {\n",
       "  grid-column: 3;\n",
       "  text-align: right;\n",
       "  color: var(--xr-font-color2);\n",
       "}\n",
       "\n",
       ".xr-var-preview {\n",
       "  grid-column: 4;\n",
       "}\n",
       "\n",
       ".xr-var-name,\n",
       ".xr-var-dims,\n",
       ".xr-var-dtype,\n",
       ".xr-preview,\n",
       ".xr-attrs dt {\n",
       "  white-space: nowrap;\n",
       "  overflow: hidden;\n",
       "  text-overflow: ellipsis;\n",
       "  padding-right: 10px;\n",
       "}\n",
       "\n",
       ".xr-var-name:hover,\n",
       ".xr-var-dims:hover,\n",
       ".xr-var-dtype:hover,\n",
       ".xr-attrs dt:hover {\n",
       "  overflow: visible;\n",
       "  width: auto;\n",
       "  z-index: 1;\n",
       "}\n",
       "\n",
       ".xr-var-attrs,\n",
       ".xr-var-data {\n",
       "  display: none;\n",
       "  background-color: var(--xr-background-color) !important;\n",
       "  padding-bottom: 5px !important;\n",
       "}\n",
       "\n",
       ".xr-var-attrs-in:checked ~ .xr-var-attrs,\n",
       ".xr-var-data-in:checked ~ .xr-var-data {\n",
       "  display: block;\n",
       "}\n",
       "\n",
       ".xr-var-data > table {\n",
       "  float: right;\n",
       "}\n",
       "\n",
       ".xr-var-name span,\n",
       ".xr-var-data,\n",
       ".xr-attrs {\n",
       "  padding-left: 25px !important;\n",
       "}\n",
       "\n",
       ".xr-attrs,\n",
       ".xr-var-attrs,\n",
       ".xr-var-data {\n",
       "  grid-column: 1 / -1;\n",
       "}\n",
       "\n",
       "dl.xr-attrs {\n",
       "  padding: 0;\n",
       "  margin: 0;\n",
       "  display: grid;\n",
       "  grid-template-columns: 125px auto;\n",
       "}\n",
       "\n",
       ".xr-attrs dt,\n",
       ".xr-attrs dd {\n",
       "  padding: 0;\n",
       "  margin: 0;\n",
       "  float: left;\n",
       "  padding-right: 10px;\n",
       "  width: auto;\n",
       "}\n",
       "\n",
       ".xr-attrs dt {\n",
       "  font-weight: normal;\n",
       "  grid-column: 1;\n",
       "}\n",
       "\n",
       ".xr-attrs dt:hover span {\n",
       "  display: inline-block;\n",
       "  background: var(--xr-background-color);\n",
       "  padding-right: 10px;\n",
       "}\n",
       "\n",
       ".xr-attrs dd {\n",
       "  grid-column: 2;\n",
       "  white-space: pre-wrap;\n",
       "  word-break: break-all;\n",
       "}\n",
       "\n",
       ".xr-icon-database,\n",
       ".xr-icon-file-text2 {\n",
       "  display: inline-block;\n",
       "  vertical-align: middle;\n",
       "  width: 1em;\n",
       "  height: 1.5em !important;\n",
       "  stroke-width: 0;\n",
       "  stroke: currentColor;\n",
       "  fill: currentColor;\n",
       "}\n",
       "</style><pre class='xr-text-repr-fallback'>&lt;xarray.Dataset&gt;\n",
       "Dimensions:    (ensemble: 96, init_date: 52, lead_time: 11)\n",
       "Coordinates:\n",
       "  * ensemble   (ensemble) int64 1 2 3 4 5 6 7 8 9 ... 88 89 90 91 92 93 94 95 96\n",
       "  * init_date  (init_date) object 1995-05-01 00:00:00 ... 2020-11-01 00:00:00\n",
       "  * lead_time  (lead_time) int64 0 1 2 3 4 5 6 7 8 9 10\n",
       "    time       (lead_time, init_date) object dask.array&lt;chunksize=(11, 52), meta=np.ndarray&gt;\n",
       "Data variables:\n",
       "    pr         (init_date, lead_time, ensemble) float64 dask.array&lt;chunksize=(1, 11, 96), meta=np.ndarray&gt;\n",
       "Attributes:\n",
       "    comment:    pressure level interpolator, version 3.0, precision=double\n",
       "    filename:   atmos_isobaric_daily.zarr\n",
       "    grid_tile:  N/A\n",
       "    grid_type:  regular\n",
       "    history:    Thu Apr 14 18:24:05 2022: /g/data/xv83/dbi599/miniconda3/envs...\n",
       "    title:      AccessOcean-AM2</pre><div class='xr-wrap' style='display:none'><div class='xr-header'><div class='xr-obj-type'>xarray.Dataset</div></div><ul class='xr-sections'><li class='xr-section-item'><input id='section-da547b67-c4ea-4a15-8394-677d90aeb7da' class='xr-section-summary-in' type='checkbox' disabled ><label for='section-da547b67-c4ea-4a15-8394-677d90aeb7da' class='xr-section-summary'  title='Expand/collapse section'>Dimensions:</label><div class='xr-section-inline-details'><ul class='xr-dim-list'><li><span class='xr-has-index'>ensemble</span>: 96</li><li><span class='xr-has-index'>init_date</span>: 52</li><li><span class='xr-has-index'>lead_time</span>: 11</li></ul></div><div class='xr-section-details'></div></li><li class='xr-section-item'><input id='section-80078ddb-efe7-4f0e-aea0-47930a55f35c' class='xr-section-summary-in' type='checkbox'  checked><label for='section-80078ddb-efe7-4f0e-aea0-47930a55f35c' class='xr-section-summary' >Coordinates: <span>(4)</span></label><div class='xr-section-inline-details'></div><div class='xr-section-details'><ul class='xr-var-list'><li class='xr-var-item'><div class='xr-var-name'><span class='xr-has-index'>ensemble</span></div><div class='xr-var-dims'>(ensemble)</div><div class='xr-var-dtype'>int64</div><div class='xr-var-preview xr-preview'>1 2 3 4 5 6 7 ... 91 92 93 94 95 96</div><input id='attrs-93472b68-0d20-423d-b915-67d0f12ca670' class='xr-var-attrs-in' type='checkbox' disabled><label for='attrs-93472b68-0d20-423d-b915-67d0f12ca670' title='Show/Hide attributes'><svg class='icon xr-icon-file-text2'><use xlink:href='#icon-file-text2'></use></svg></label><input id='data-22810738-6411-426c-8fe5-c7bc8631b242' class='xr-var-data-in' type='checkbox'><label for='data-22810738-6411-426c-8fe5-c7bc8631b242' title='Show/Hide data repr'><svg class='icon xr-icon-database'><use xlink:href='#icon-database'></use></svg></label><div class='xr-var-attrs'><dl class='xr-attrs'></dl></div><div class='xr-var-data'><pre>array([ 1,  2,  3,  4,  5,  6,  7,  8,  9, 10, 11, 12, 13, 14, 15, 16, 17, 18,\n",
       "       19, 20, 21, 22, 23, 24, 25, 26, 27, 28, 29, 30, 31, 32, 33, 34, 35, 36,\n",
       "       37, 38, 39, 40, 41, 42, 43, 44, 45, 46, 47, 48, 49, 50, 51, 52, 53, 54,\n",
       "       55, 56, 57, 58, 59, 60, 61, 62, 63, 64, 65, 66, 67, 68, 69, 70, 71, 72,\n",
       "       73, 74, 75, 76, 77, 78, 79, 80, 81, 82, 83, 84, 85, 86, 87, 88, 89, 90,\n",
       "       91, 92, 93, 94, 95, 96])</pre></div></li><li class='xr-var-item'><div class='xr-var-name'><span class='xr-has-index'>init_date</span></div><div class='xr-var-dims'>(init_date)</div><div class='xr-var-dtype'>object</div><div class='xr-var-preview xr-preview'>1995-05-01 00:00:00 ... 2020-11-...</div><input id='attrs-c1072fbd-dafc-4dba-a1b6-240c892afffa' class='xr-var-attrs-in' type='checkbox' disabled><label for='attrs-c1072fbd-dafc-4dba-a1b6-240c892afffa' title='Show/Hide attributes'><svg class='icon xr-icon-file-text2'><use xlink:href='#icon-file-text2'></use></svg></label><input id='data-65a8d8df-881a-41ed-870b-dbcca4f6307f' class='xr-var-data-in' type='checkbox'><label for='data-65a8d8df-881a-41ed-870b-dbcca4f6307f' title='Show/Hide data repr'><svg class='icon xr-icon-database'><use xlink:href='#icon-database'></use></svg></label><div class='xr-var-attrs'><dl class='xr-attrs'></dl></div><div class='xr-var-data'><pre>array([cftime.DatetimeJulian(1995, 5, 1, 0, 0, 0, 0, has_year_zero=False),\n",
       "       cftime.DatetimeJulian(1995, 11, 1, 0, 0, 0, 0, has_year_zero=False),\n",
       "       cftime.DatetimeJulian(1996, 5, 1, 0, 0, 0, 0, has_year_zero=False),\n",
       "       cftime.DatetimeJulian(1996, 11, 1, 0, 0, 0, 0, has_year_zero=False),\n",
       "       cftime.DatetimeJulian(1997, 5, 1, 0, 0, 0, 0, has_year_zero=False),\n",
       "       cftime.DatetimeJulian(1997, 11, 1, 0, 0, 0, 0, has_year_zero=False),\n",
       "       cftime.DatetimeJulian(1998, 5, 1, 0, 0, 0, 0, has_year_zero=False),\n",
       "       cftime.DatetimeJulian(1998, 11, 1, 0, 0, 0, 0, has_year_zero=False),\n",
       "       cftime.DatetimeJulian(1999, 5, 1, 0, 0, 0, 0, has_year_zero=False),\n",
       "       cftime.DatetimeJulian(1999, 11, 1, 0, 0, 0, 0, has_year_zero=False),\n",
       "       cftime.DatetimeJulian(2000, 5, 1, 0, 0, 0, 0, has_year_zero=False),\n",
       "       cftime.DatetimeJulian(2000, 11, 1, 0, 0, 0, 0, has_year_zero=False),\n",
       "       cftime.DatetimeJulian(2001, 5, 1, 0, 0, 0, 0, has_year_zero=False),\n",
       "       cftime.DatetimeJulian(2001, 11, 1, 0, 0, 0, 0, has_year_zero=False),\n",
       "       cftime.DatetimeJulian(2002, 5, 1, 0, 0, 0, 0, has_year_zero=False),\n",
       "       cftime.DatetimeJulian(2002, 11, 1, 0, 0, 0, 0, has_year_zero=False),\n",
       "       cftime.DatetimeJulian(2003, 5, 1, 0, 0, 0, 0, has_year_zero=False),\n",
       "       cftime.DatetimeJulian(2003, 11, 1, 0, 0, 0, 0, has_year_zero=False),\n",
       "       cftime.DatetimeJulian(2004, 5, 1, 0, 0, 0, 0, has_year_zero=False),\n",
       "       cftime.DatetimeJulian(2004, 11, 1, 0, 0, 0, 0, has_year_zero=False),\n",
       "       cftime.DatetimeJulian(2005, 5, 1, 0, 0, 0, 0, has_year_zero=False),\n",
       "       cftime.DatetimeJulian(2005, 11, 1, 0, 0, 0, 0, has_year_zero=False),\n",
       "       cftime.DatetimeJulian(2006, 5, 1, 0, 0, 0, 0, has_year_zero=False),\n",
       "       cftime.DatetimeJulian(2006, 11, 1, 0, 0, 0, 0, has_year_zero=False),\n",
       "       cftime.DatetimeJulian(2007, 5, 1, 0, 0, 0, 0, has_year_zero=False),\n",
       "       cftime.DatetimeJulian(2007, 11, 1, 0, 0, 0, 0, has_year_zero=False),\n",
       "       cftime.DatetimeJulian(2008, 5, 1, 0, 0, 0, 0, has_year_zero=False),\n",
       "       cftime.DatetimeJulian(2008, 11, 1, 0, 0, 0, 0, has_year_zero=False),\n",
       "       cftime.DatetimeJulian(2009, 5, 1, 0, 0, 0, 0, has_year_zero=False),\n",
       "       cftime.DatetimeJulian(2009, 11, 1, 0, 0, 0, 0, has_year_zero=False),\n",
       "       cftime.DatetimeJulian(2010, 5, 1, 0, 0, 0, 0, has_year_zero=False),\n",
       "       cftime.DatetimeJulian(2010, 11, 1, 0, 0, 0, 0, has_year_zero=False),\n",
       "       cftime.DatetimeJulian(2011, 5, 1, 0, 0, 0, 0, has_year_zero=False),\n",
       "       cftime.DatetimeJulian(2011, 11, 1, 0, 0, 0, 0, has_year_zero=False),\n",
       "       cftime.DatetimeJulian(2012, 5, 1, 0, 0, 0, 0, has_year_zero=False),\n",
       "       cftime.DatetimeJulian(2012, 11, 1, 0, 0, 0, 0, has_year_zero=False),\n",
       "       cftime.DatetimeJulian(2013, 5, 1, 0, 0, 0, 0, has_year_zero=False),\n",
       "       cftime.DatetimeJulian(2013, 11, 1, 0, 0, 0, 0, has_year_zero=False),\n",
       "       cftime.DatetimeJulian(2014, 5, 1, 0, 0, 0, 0, has_year_zero=False),\n",
       "       cftime.DatetimeJulian(2014, 11, 1, 0, 0, 0, 0, has_year_zero=False),\n",
       "       cftime.DatetimeJulian(2015, 5, 1, 0, 0, 0, 0, has_year_zero=False),\n",
       "       cftime.DatetimeJulian(2015, 11, 1, 0, 0, 0, 0, has_year_zero=False),\n",
       "       cftime.DatetimeJulian(2016, 5, 1, 0, 0, 0, 0, has_year_zero=False),\n",
       "       cftime.DatetimeJulian(2016, 11, 1, 0, 0, 0, 0, has_year_zero=False),\n",
       "       cftime.DatetimeJulian(2017, 5, 1, 0, 0, 0, 0, has_year_zero=False),\n",
       "       cftime.DatetimeJulian(2017, 11, 1, 0, 0, 0, 0, has_year_zero=False),\n",
       "       cftime.DatetimeJulian(2018, 5, 1, 0, 0, 0, 0, has_year_zero=False),\n",
       "       cftime.DatetimeJulian(2018, 11, 1, 0, 0, 0, 0, has_year_zero=False),\n",
       "       cftime.DatetimeJulian(2019, 5, 1, 0, 0, 0, 0, has_year_zero=False),\n",
       "       cftime.DatetimeJulian(2019, 11, 1, 0, 0, 0, 0, has_year_zero=False),\n",
       "       cftime.DatetimeJulian(2020, 5, 1, 0, 0, 0, 0, has_year_zero=False),\n",
       "       cftime.DatetimeJulian(2020, 11, 1, 0, 0, 0, 0, has_year_zero=False)],\n",
       "      dtype=object)</pre></div></li><li class='xr-var-item'><div class='xr-var-name'><span class='xr-has-index'>lead_time</span></div><div class='xr-var-dims'>(lead_time)</div><div class='xr-var-dtype'>int64</div><div class='xr-var-preview xr-preview'>0 1 2 3 4 5 6 7 8 9 10</div><input id='attrs-a8ae0520-3eb3-4824-9be6-1a71725a626d' class='xr-var-attrs-in' type='checkbox' ><label for='attrs-a8ae0520-3eb3-4824-9be6-1a71725a626d' title='Show/Hide attributes'><svg class='icon xr-icon-file-text2'><use xlink:href='#icon-file-text2'></use></svg></label><input id='data-fed7fd59-513c-45c4-b52f-823651d66a70' class='xr-var-data-in' type='checkbox'><label for='data-fed7fd59-513c-45c4-b52f-823651d66a70' title='Show/Hide data repr'><svg class='icon xr-icon-database'><use xlink:href='#icon-database'></use></svg></label><div class='xr-var-attrs'><dl class='xr-attrs'><dt><span>units :</span></dt><dd>A</dd></dl></div><div class='xr-var-data'><pre>array([ 0,  1,  2,  3,  4,  5,  6,  7,  8,  9, 10])</pre></div></li><li class='xr-var-item'><div class='xr-var-name'><span>time</span></div><div class='xr-var-dims'>(lead_time, init_date)</div><div class='xr-var-dtype'>object</div><div class='xr-var-preview xr-preview'>dask.array&lt;chunksize=(11, 52), meta=np.ndarray&gt;</div><input id='attrs-bea3f44a-e0a9-4071-9d2a-39b6e9424135' class='xr-var-attrs-in' type='checkbox' ><label for='attrs-bea3f44a-e0a9-4071-9d2a-39b6e9424135' title='Show/Hide attributes'><svg class='icon xr-icon-file-text2'><use xlink:href='#icon-file-text2'></use></svg></label><input id='data-14ed5735-7b91-486f-a9dd-db1c27fb4e71' class='xr-var-data-in' type='checkbox'><label for='data-14ed5735-7b91-486f-a9dd-db1c27fb4e71' title='Show/Hide data repr'><svg class='icon xr-icon-database'><use xlink:href='#icon-database'></use></svg></label><div class='xr-var-attrs'><dl class='xr-attrs'><dt><span>frequency :</span></dt><dd>A</dd></dl></div><div class='xr-var-data'><table>\n",
       "<tr>\n",
       "<td>\n",
       "<table>\n",
       "  <thead>\n",
       "    <tr><td> </td><th> Array </th><th> Chunk </th></tr>\n",
       "  </thead>\n",
       "  <tbody>\n",
       "    <tr><th> Bytes </th><td> 4.47 kiB </td> <td> 4.47 kiB </td></tr>\n",
       "    <tr><th> Shape </th><td> (11, 52) </td> <td> (11, 52) </td></tr>\n",
       "    <tr><th> Count </th><td> 2 Tasks </td><td> 1 Chunks </td></tr>\n",
       "    <tr><th> Type </th><td> object </td><td> numpy.ndarray </td></tr>\n",
       "  </tbody>\n",
       "</table>\n",
       "</td>\n",
       "<td>\n",
       "<svg width=\"170\" height=\"92\" style=\"stroke:rgb(0,0,0);stroke-width:1\" >\n",
       "\n",
       "  <!-- Horizontal lines -->\n",
       "  <line x1=\"0\" y1=\"0\" x2=\"120\" y2=\"0\" style=\"stroke-width:2\" />\n",
       "  <line x1=\"0\" y1=\"42\" x2=\"120\" y2=\"42\" style=\"stroke-width:2\" />\n",
       "\n",
       "  <!-- Vertical lines -->\n",
       "  <line x1=\"0\" y1=\"0\" x2=\"0\" y2=\"42\" style=\"stroke-width:2\" />\n",
       "  <line x1=\"120\" y1=\"0\" x2=\"120\" y2=\"42\" style=\"stroke-width:2\" />\n",
       "\n",
       "  <!-- Colored Rectangle -->\n",
       "  <polygon points=\"0.0,0.0 120.0,0.0 120.0,42.24352414703251 0.0,42.24352414703251\" style=\"fill:#ECB172A0;stroke-width:0\"/>\n",
       "\n",
       "  <!-- Text -->\n",
       "  <text x=\"60.000000\" y=\"62.243524\" font-size=\"1.0rem\" font-weight=\"100\" text-anchor=\"middle\" >52</text>\n",
       "  <text x=\"140.000000\" y=\"21.121762\" font-size=\"1.0rem\" font-weight=\"100\" text-anchor=\"middle\" transform=\"rotate(0,140.000000,21.121762)\">11</text>\n",
       "</svg>\n",
       "</td>\n",
       "</tr>\n",
       "</table></div></li></ul></div></li><li class='xr-section-item'><input id='section-066bc57b-b169-4a1b-b6da-ab0a8e8d53db' class='xr-section-summary-in' type='checkbox'  checked><label for='section-066bc57b-b169-4a1b-b6da-ab0a8e8d53db' class='xr-section-summary' >Data variables: <span>(1)</span></label><div class='xr-section-inline-details'></div><div class='xr-section-details'><ul class='xr-var-list'><li class='xr-var-item'><div class='xr-var-name'><span>pr</span></div><div class='xr-var-dims'>(init_date, lead_time, ensemble)</div><div class='xr-var-dtype'>float64</div><div class='xr-var-preview xr-preview'>dask.array&lt;chunksize=(1, 11, 96), meta=np.ndarray&gt;</div><input id='attrs-1fa4e872-9478-420a-b70c-0b943b10947e' class='xr-var-attrs-in' type='checkbox' ><label for='attrs-1fa4e872-9478-420a-b70c-0b943b10947e' title='Show/Hide attributes'><svg class='icon xr-icon-file-text2'><use xlink:href='#icon-file-text2'></use></svg></label><input id='data-25b3055b-2048-4e77-a777-3c124cf98bfd' class='xr-var-data-in' type='checkbox'><label for='data-25b3055b-2048-4e77-a777-3c124cf98bfd' title='Show/Hide data repr'><svg class='icon xr-icon-database'><use xlink:href='#icon-database'></use></svg></label><div class='xr-var-attrs'><dl class='xr-attrs'><dt><span>cell_methods :</span></dt><dd>time: mean</dd><dt><span>interp_method :</span></dt><dd>conserve_order1</dd><dt><span>long_name :</span></dt><dd>Total precipitation rate</dd><dt><span>time_avg_info :</span></dt><dd>average_T1,average_T2,average_DT</dd><dt><span>units :</span></dt><dd>mm d-1</dd></dl></div><div class='xr-var-data'><table>\n",
       "<tr>\n",
       "<td>\n",
       "<table>\n",
       "  <thead>\n",
       "    <tr><td> </td><th> Array </th><th> Chunk </th></tr>\n",
       "  </thead>\n",
       "  <tbody>\n",
       "    <tr><th> Bytes </th><td> 429.00 kiB </td> <td> 8.25 kiB </td></tr>\n",
       "    <tr><th> Shape </th><td> (52, 11, 96) </td> <td> (1, 11, 96) </td></tr>\n",
       "    <tr><th> Count </th><td> 53 Tasks </td><td> 52 Chunks </td></tr>\n",
       "    <tr><th> Type </th><td> float64 </td><td> numpy.ndarray </td></tr>\n",
       "  </tbody>\n",
       "</table>\n",
       "</td>\n",
       "<td>\n",
       "<svg width=\"218\" height=\"127\" style=\"stroke:rgb(0,0,0);stroke-width:1\" >\n",
       "\n",
       "  <!-- Horizontal lines -->\n",
       "  <line x1=\"10\" y1=\"0\" x2=\"48\" y2=\"38\" style=\"stroke-width:2\" />\n",
       "  <line x1=\"10\" y1=\"39\" x2=\"48\" y2=\"77\" style=\"stroke-width:2\" />\n",
       "\n",
       "  <!-- Vertical lines -->\n",
       "  <line x1=\"10\" y1=\"0\" x2=\"10\" y2=\"39\" style=\"stroke-width:2\" />\n",
       "  <line x1=\"11\" y1=\"1\" x2=\"11\" y2=\"40\" />\n",
       "  <line x1=\"13\" y1=\"3\" x2=\"13\" y2=\"43\" />\n",
       "  <line x1=\"15\" y1=\"5\" x2=\"15\" y2=\"45\" />\n",
       "  <line x1=\"17\" y1=\"7\" x2=\"17\" y2=\"46\" />\n",
       "  <line x1=\"19\" y1=\"9\" x2=\"19\" y2=\"48\" />\n",
       "  <line x1=\"21\" y1=\"11\" x2=\"21\" y2=\"51\" />\n",
       "  <line x1=\"23\" y1=\"13\" x2=\"23\" y2=\"53\" />\n",
       "  <line x1=\"25\" y1=\"15\" x2=\"25\" y2=\"54\" />\n",
       "  <line x1=\"27\" y1=\"17\" x2=\"27\" y2=\"56\" />\n",
       "  <line x1=\"29\" y1=\"19\" x2=\"29\" y2=\"59\" />\n",
       "  <line x1=\"32\" y1=\"22\" x2=\"32\" y2=\"61\" />\n",
       "  <line x1=\"33\" y1=\"23\" x2=\"33\" y2=\"62\" />\n",
       "  <line x1=\"35\" y1=\"25\" x2=\"35\" y2=\"65\" />\n",
       "  <line x1=\"37\" y1=\"27\" x2=\"37\" y2=\"67\" />\n",
       "  <line x1=\"40\" y1=\"30\" x2=\"40\" y2=\"69\" />\n",
       "  <line x1=\"41\" y1=\"31\" x2=\"41\" y2=\"70\" />\n",
       "  <line x1=\"43\" y1=\"33\" x2=\"43\" y2=\"73\" />\n",
       "  <line x1=\"46\" y1=\"36\" x2=\"46\" y2=\"75\" />\n",
       "  <line x1=\"48\" y1=\"38\" x2=\"48\" y2=\"77\" style=\"stroke-width:2\" />\n",
       "\n",
       "  <!-- Colored Rectangle -->\n",
       "  <polygon points=\"10.0,0.0 48.23529411764706,38.23529411764706 48.23529411764706,77.5722725949174 10.0,39.336978477270335\" style=\"fill:#8B4903A0;stroke-width:0\"/>\n",
       "\n",
       "  <!-- Horizontal lines -->\n",
       "  <line x1=\"10\" y1=\"0\" x2=\"130\" y2=\"0\" style=\"stroke-width:2\" />\n",
       "  <line x1=\"11\" y1=\"1\" x2=\"131\" y2=\"1\" />\n",
       "  <line x1=\"13\" y1=\"3\" x2=\"133\" y2=\"3\" />\n",
       "  <line x1=\"15\" y1=\"5\" x2=\"135\" y2=\"5\" />\n",
       "  <line x1=\"17\" y1=\"7\" x2=\"137\" y2=\"7\" />\n",
       "  <line x1=\"19\" y1=\"9\" x2=\"139\" y2=\"9\" />\n",
       "  <line x1=\"21\" y1=\"11\" x2=\"141\" y2=\"11\" />\n",
       "  <line x1=\"23\" y1=\"13\" x2=\"143\" y2=\"13\" />\n",
       "  <line x1=\"25\" y1=\"15\" x2=\"145\" y2=\"15\" />\n",
       "  <line x1=\"27\" y1=\"17\" x2=\"147\" y2=\"17\" />\n",
       "  <line x1=\"29\" y1=\"19\" x2=\"149\" y2=\"19\" />\n",
       "  <line x1=\"32\" y1=\"22\" x2=\"152\" y2=\"22\" />\n",
       "  <line x1=\"33\" y1=\"23\" x2=\"153\" y2=\"23\" />\n",
       "  <line x1=\"35\" y1=\"25\" x2=\"155\" y2=\"25\" />\n",
       "  <line x1=\"37\" y1=\"27\" x2=\"157\" y2=\"27\" />\n",
       "  <line x1=\"40\" y1=\"30\" x2=\"160\" y2=\"30\" />\n",
       "  <line x1=\"41\" y1=\"31\" x2=\"161\" y2=\"31\" />\n",
       "  <line x1=\"43\" y1=\"33\" x2=\"163\" y2=\"33\" />\n",
       "  <line x1=\"46\" y1=\"36\" x2=\"166\" y2=\"36\" />\n",
       "  <line x1=\"48\" y1=\"38\" x2=\"168\" y2=\"38\" style=\"stroke-width:2\" />\n",
       "\n",
       "  <!-- Vertical lines -->\n",
       "  <line x1=\"10\" y1=\"0\" x2=\"48\" y2=\"38\" style=\"stroke-width:2\" />\n",
       "  <line x1=\"130\" y1=\"0\" x2=\"168\" y2=\"38\" style=\"stroke-width:2\" />\n",
       "\n",
       "  <!-- Colored Rectangle -->\n",
       "  <polygon points=\"10.0,0.0 130.0,0.0 168.23529411764707,38.23529411764706 48.23529411764706,38.23529411764706\" style=\"fill:#8B4903A0;stroke-width:0\"/>\n",
       "\n",
       "  <!-- Horizontal lines -->\n",
       "  <line x1=\"48\" y1=\"38\" x2=\"168\" y2=\"38\" style=\"stroke-width:2\" />\n",
       "  <line x1=\"48\" y1=\"77\" x2=\"168\" y2=\"77\" style=\"stroke-width:2\" />\n",
       "\n",
       "  <!-- Vertical lines -->\n",
       "  <line x1=\"48\" y1=\"38\" x2=\"48\" y2=\"77\" style=\"stroke-width:2\" />\n",
       "  <line x1=\"168\" y1=\"38\" x2=\"168\" y2=\"77\" style=\"stroke-width:2\" />\n",
       "\n",
       "  <!-- Colored Rectangle -->\n",
       "  <polygon points=\"48.23529411764706,38.23529411764706 168.23529411764707,38.23529411764706 168.23529411764707,77.5722725949174 48.23529411764706,77.5722725949174\" style=\"fill:#ECB172A0;stroke-width:0\"/>\n",
       "\n",
       "  <!-- Text -->\n",
       "  <text x=\"108.235294\" y=\"97.572273\" font-size=\"1.0rem\" font-weight=\"100\" text-anchor=\"middle\" >96</text>\n",
       "  <text x=\"188.235294\" y=\"57.903783\" font-size=\"1.0rem\" font-weight=\"100\" text-anchor=\"middle\" transform=\"rotate(0,188.235294,57.903783)\">11</text>\n",
       "  <text x=\"19.117647\" y=\"78.454626\" font-size=\"1.0rem\" font-weight=\"100\" text-anchor=\"middle\" transform=\"rotate(45,19.117647,78.454626)\">52</text>\n",
       "</svg>\n",
       "</td>\n",
       "</tr>\n",
       "</table></div></li></ul></div></li><li class='xr-section-item'><input id='section-807b5049-c347-4545-a661-81fa8c9fc895' class='xr-section-summary-in' type='checkbox'  checked><label for='section-807b5049-c347-4545-a661-81fa8c9fc895' class='xr-section-summary' >Attributes: <span>(6)</span></label><div class='xr-section-inline-details'></div><div class='xr-section-details'><dl class='xr-attrs'><dt><span>comment :</span></dt><dd>pressure level interpolator, version 3.0, precision=double</dd><dt><span>filename :</span></dt><dd>atmos_isobaric_daily.zarr</dd><dt><span>grid_tile :</span></dt><dd>N/A</dd><dt><span>grid_type :</span></dt><dd>regular</dd><dt><span>history :</span></dt><dd>Thu Apr 14 18:24:05 2022: /g/data/xv83/dbi599/miniconda3/envs/unseen/bin/python3.9 /g/data/xv83/dbi599/miniconda3/envs/unseen/bin/fileio file_lists/CAFE_c5-d60-pX-f6_files.txt /g/data/xv83/dbi599/east-coast-rain/data/Rx15day_CAFE-c5-d60-pX-f6_19950501-20201101_annual-aug-to-sep_east-coast-flood-region.zarr.zip --forecast --variables pr --spatial_coords -40 -20 140 160 --shapefile /g/data/xv83/dbi599/east-coast-rain/shapefiles/east-coast-flood.shp --shp_overlap 0.1 --spatial_agg weighted_mean --rolling_sum_window 15 --time_freq A-AUG --time_agg max --input_freq D --metadata_file /home/599/dbi599/forks/unseen/config/dataset_cafe_daily.yml --units pr=mm day-1 --units_timing middle --reset_times --complete_time_agg_periods --output_chunks lead_time=50 --dask_config dask_local.yml --verbose (git@github.com:AusClimateService/east-coast-rain)</dd><dt><span>title :</span></dt><dd>AccessOcean-AM2</dd></dl></div></li></ul></div></div>"
      ],
      "text/plain": [
       "<xarray.Dataset>\n",
       "Dimensions:    (ensemble: 96, init_date: 52, lead_time: 11)\n",
       "Coordinates:\n",
       "  * ensemble   (ensemble) int64 1 2 3 4 5 6 7 8 9 ... 88 89 90 91 92 93 94 95 96\n",
       "  * init_date  (init_date) object 1995-05-01 00:00:00 ... 2020-11-01 00:00:00\n",
       "  * lead_time  (lead_time) int64 0 1 2 3 4 5 6 7 8 9 10\n",
       "    time       (lead_time, init_date) object dask.array<chunksize=(11, 52), meta=np.ndarray>\n",
       "Data variables:\n",
       "    pr         (init_date, lead_time, ensemble) float64 dask.array<chunksize=(1, 11, 96), meta=np.ndarray>\n",
       "Attributes:\n",
       "    comment:    pressure level interpolator, version 3.0, precision=double\n",
       "    filename:   atmos_isobaric_daily.zarr\n",
       "    grid_tile:  N/A\n",
       "    grid_type:  regular\n",
       "    history:    Thu Apr 14 18:24:05 2022: /g/data/xv83/dbi599/miniconda3/envs...\n",
       "    title:      AccessOcean-AM2"
      ]
     },
     "execution_count": 16,
     "metadata": {},
     "output_type": "execute_result"
    }
   ],
   "source": [
    "model_ds"
   ]
  },
  {
   "cell_type": "markdown",
   "id": "b25bd815",
   "metadata": {
    "papermill": {
     "duration": 0.043139,
     "end_time": "2022-04-14T09:34:44.694200",
     "exception": false,
     "start_time": "2022-04-14T09:34:44.651061",
     "status": "completed"
    },
    "tags": []
   },
   "source": [
    "### Independence testing"
   ]
  },
  {
   "cell_type": "code",
   "execution_count": 17,
   "id": "b819d698",
   "metadata": {
    "execution": {
     "iopub.execute_input": "2022-04-14T09:34:44.881391Z",
     "iopub.status.busy": "2022-04-14T09:34:44.878354Z",
     "iopub.status.idle": "2022-04-14T09:34:44.890840Z",
     "shell.execute_reply": "2022-04-14T09:34:44.889888Z"
    },
    "papermill": {
     "duration": 0.154465,
     "end_time": "2022-04-14T09:34:44.891070",
     "exception": false,
     "start_time": "2022-04-14T09:34:44.736605",
     "status": "completed"
    },
    "tags": []
   },
   "outputs": [
    {
     "data": {
      "image/png": "[encoded data removed]",
      "text/plain": [
       "<IPython.core.display.Image object>"
      ]
     },
     "execution_count": 17,
     "metadata": {},
     "output_type": "execute_result"
    }
   ],
   "source": [
    "Image(filename=independence_plot)"
   ]
  },
  {
   "cell_type": "code",
   "execution_count": 18,
   "id": "a5ccabe2",
   "metadata": {
    "execution": {
     "iopub.execute_input": "2022-04-14T09:34:44.991559Z",
     "iopub.status.busy": "2022-04-14T09:34:44.990373Z",
     "iopub.status.idle": "2022-04-14T09:34:44.997255Z",
     "shell.execute_reply": "2022-04-14T09:34:44.996425Z"
    },
    "papermill": {
     "duration": 0.060275,
     "end_time": "2022-04-14T09:34:44.997538",
     "exception": false,
     "start_time": "2022-04-14T09:34:44.937263",
     "status": "completed"
    },
    "tags": []
   },
   "outputs": [
    {
     "name": "stdout",
     "output_type": "stream",
     "text": [
      "1\n"
     ]
    }
   ],
   "source": [
    "print(min_lead)"
   ]
  },
  {
   "cell_type": "code",
   "execution_count": 19,
   "id": "e055048c",
   "metadata": {
    "execution": {
     "iopub.execute_input": "2022-04-14T09:34:45.110985Z",
     "iopub.status.busy": "2022-04-14T09:34:45.109221Z",
     "iopub.status.idle": "2022-04-14T09:34:45.113123Z",
     "shell.execute_reply": "2022-04-14T09:34:45.112106Z"
    },
    "papermill": {
     "duration": 0.069538,
     "end_time": "2022-04-14T09:34:45.113407",
     "exception": false,
     "start_time": "2022-04-14T09:34:45.043869",
     "status": "completed"
    },
    "tags": []
   },
   "outputs": [],
   "source": [
    "model_da = model_ds['pr'].where(model_ds['lead_time'] >= min_lead)"
   ]
  },
  {
   "cell_type": "markdown",
   "id": "1e039e61",
   "metadata": {
    "papermill": {
     "duration": 0.046141,
     "end_time": "2022-04-14T09:34:45.207182",
     "exception": false,
     "start_time": "2022-04-14T09:34:45.161041",
     "status": "completed"
    },
    "tags": []
   },
   "source": [
    "### Bias correction and similarity testing"
   ]
  },
  {
   "cell_type": "code",
   "execution_count": 20,
   "id": "110c554e",
   "metadata": {
    "execution": {
     "iopub.execute_input": "2022-04-14T09:34:45.357416Z",
     "iopub.status.busy": "2022-04-14T09:34:45.356507Z",
     "iopub.status.idle": "2022-04-14T09:34:47.839410Z",
     "shell.execute_reply": "2022-04-14T09:34:47.838033Z"
    },
    "papermill": {
     "duration": 2.58047,
     "end_time": "2022-04-14T09:34:47.839809",
     "exception": false,
     "start_time": "2022-04-14T09:34:45.259339",
     "status": "completed"
    },
    "tags": []
   },
   "outputs": [
    {
     "data": {
      "image/png": "[encoded data removed]",
      "text/plain": [
       "<Figure size 720x432 with 1 Axes>"
      ]
     },
     "metadata": {
      "needs_background": "light"
     },
     "output_type": "display_data"
    }
   ],
   "source": [
    "fig = plt.figure(figsize=[10, 6])\n",
    "model_da.plot.hist(bins=50, density=True, label=model_name, alpha=0.7)\n",
    "model_bc_ds['pr'].plot.hist(bins=50, density=True, label=f'{model_name} bias corrected', facecolor='darkblue', alpha=0.7)\n",
    "agcd_ds['pr'].plot.hist(bins=50, density=True, label='AGCD', facecolor='green', alpha=0.7)\n",
    "plt.xlabel('precipitation (mm)')\n",
    "plt.ylabel('probability')\n",
    "plt.title(f'Annual (Sep-Aug) Rx15day for {region_name} ({model_name})')\n",
    "plt.legend()\n",
    "plt.savefig(f'/g/data/xv83/dbi599/east-coast-rain/figures/Rx15day_histogram_{model_name}_{region_name}.png',\n",
    "            bbox_inches='tight', facecolor='white', dpi=dpi)\n",
    "plt.show()"
   ]
  },
  {
   "cell_type": "code",
   "execution_count": 21,
   "id": "8b3f7de0",
   "metadata": {
    "execution": {
     "iopub.execute_input": "2022-04-14T09:34:47.953902Z",
     "iopub.status.busy": "2022-04-14T09:34:47.952989Z",
     "iopub.status.idle": "2022-04-14T09:34:47.987537Z",
     "shell.execute_reply": "2022-04-14T09:34:47.985895Z"
    },
    "papermill": {
     "duration": 0.096626,
     "end_time": "2022-04-14T09:34:47.987985",
     "exception": false,
     "start_time": "2022-04-14T09:34:47.891359",
     "status": "completed"
    },
    "tags": []
   },
   "outputs": [
    {
     "data": {
      "text/plain": [
       "array([0.70153798, 0.81645152, 0.890162  , 0.706683  , 0.66357991,\n",
       "       0.65492381, 0.74901957, 0.51892617, 0.57577302])"
      ]
     },
     "execution_count": 21,
     "metadata": {},
     "output_type": "execute_result"
    }
   ],
   "source": [
    "similarity_bias_ds = fileio.open_dataset(similarity_bc_file)\n",
    "similarity_bias_ds['pval'].values"
   ]
  },
  {
   "cell_type": "code",
   "execution_count": 22,
   "id": "a21af1f7",
   "metadata": {
    "execution": {
     "iopub.execute_input": "2022-04-14T09:34:48.095048Z",
     "iopub.status.busy": "2022-04-14T09:34:48.094119Z",
     "iopub.status.idle": "2022-04-14T09:34:48.128809Z",
     "shell.execute_reply": "2022-04-14T09:34:48.127880Z"
    },
    "papermill": {
     "duration": 0.091924,
     "end_time": "2022-04-14T09:34:48.129042",
     "exception": false,
     "start_time": "2022-04-14T09:34:48.037118",
     "status": "completed"
    },
    "tags": []
   },
   "outputs": [
    {
     "data": {
      "text/plain": [
       "array([4.51003798e-06, 2.26082586e-09, 3.16940918e-10, 2.03194706e-09,\n",
       "       1.84491373e-08, 1.71870976e-08, 1.44886156e-08, 1.84491373e-08,\n",
       "       1.62378115e-08])"
      ]
     },
     "execution_count": 22,
     "metadata": {},
     "output_type": "execute_result"
    }
   ],
   "source": [
    "similarity_raw_ds = fileio.open_dataset(similarity_raw_file)\n",
    "similarity_raw_ds['pval'].values"
   ]
  },
  {
   "cell_type": "markdown",
   "id": "1a8210c0",
   "metadata": {
    "papermill": {
     "duration": 0.051566,
     "end_time": "2022-04-14T09:34:48.230958",
     "exception": false,
     "start_time": "2022-04-14T09:34:48.179392",
     "status": "completed"
    },
    "tags": []
   },
   "source": [
    "These are the p-values for each lead time.\n",
    "\n",
    "p > 0.05 means the null hypothesis (that the two samples are from the same population) can't be rejected."
   ]
  },
  {
   "cell_type": "markdown",
   "id": "692c7b58",
   "metadata": {
    "papermill": {
     "duration": 0.049035,
     "end_time": "2022-04-14T09:34:48.328719",
     "exception": false,
     "start_time": "2022-04-14T09:34:48.279684",
     "status": "completed"
    },
    "tags": []
   },
   "source": [
    "### Exceedance curves"
   ]
  },
  {
   "cell_type": "code",
   "execution_count": 23,
   "id": "76186045",
   "metadata": {
    "execution": {
     "iopub.execute_input": "2022-04-14T09:34:48.439114Z",
     "iopub.status.busy": "2022-04-14T09:34:48.437645Z",
     "iopub.status.idle": "2022-04-14T09:34:48.444361Z",
     "shell.execute_reply": "2022-04-14T09:34:48.443192Z"
    },
    "papermill": {
     "duration": 0.067936,
     "end_time": "2022-04-14T09:34:48.444718",
     "exception": false,
     "start_time": "2022-04-14T09:34:48.376782",
     "status": "completed"
    },
    "tags": []
   },
   "outputs": [],
   "source": [
    "def plot_exceedance(sample_ds, model_name, outfile=None):\n",
    "    \"\"\"Plot single exceedance curve\"\"\"\n",
    "    \n",
    "    sorted_data, exceedance_data = general_utils.exceedance_curve(sample_ds)\n",
    "    \n",
    "    fig = plt.figure(figsize=[8, 6])\n",
    "    ax = fig.add_subplot()\n",
    "    ax.plot(sorted_data, exceedance_data)\n",
    "    ax.set_title(f'Annual (Sep-Aug) Rx15day for {region_name} ({model_name})')\n",
    "    ax.set_ylabel('likelihood of exceedance (%)')\n",
    "    ax.set_xlabel('Rx15day precipitation (mm)')\n",
    "    ax.axvline(pr2022, color='0.5', linestyle='--')\n",
    "    if outfile:\n",
    "        plt.savefig(outfile, bbox_inches='tight', facecolor='white', dpi=dpi)\n",
    "        print(outfile)\n",
    "    else:\n",
    "        plt.show()"
   ]
  },
  {
   "cell_type": "code",
   "execution_count": 24,
   "id": "116edf55",
   "metadata": {
    "execution": {
     "iopub.execute_input": "2022-04-14T09:34:48.563108Z",
     "iopub.status.busy": "2022-04-14T09:34:48.561929Z",
     "iopub.status.idle": "2022-04-14T09:34:48.568489Z",
     "shell.execute_reply": "2022-04-14T09:34:48.566988Z"
    },
    "papermill": {
     "duration": 0.073858,
     "end_time": "2022-04-14T09:34:48.568951",
     "exception": false,
     "start_time": "2022-04-14T09:34:48.495093",
     "status": "completed"
    },
    "tags": []
   },
   "outputs": [],
   "source": [
    "def plot_exceedance_by_decade(sample_ds, model_name):\n",
    "    \"\"\"Plot exceedance curve by decade\"\"\"\n",
    "\n",
    "    fig = plt.figure(figsize=[8, 6])\n",
    "    ax = fig.add_subplot()\n",
    "    if model_name == 'CAFE':\n",
    "        start_years = [1995, 2000, 2005, 2010, 2015]\n",
    "        step = 4\n",
    "    else:\n",
    "        start_years = [1960, 1970, 1980, 1990, 2000, 2010]\n",
    "        step = 9\n",
    "    colors = iter(plt.cm.hot_r(np.linspace(0.3, 1, len(start_years))))\n",
    "\n",
    "    for start_year in start_years:\n",
    "        end_year = start_year + step\n",
    "        start_date = f'{start_year}-01-01'\n",
    "        end_date = f'{end_year}-12-25'\n",
    "        ds_selection = time_utils.select_time_period(sample_ds, [start_date, end_date])\n",
    "        ds_selection = ds_selection.dropna('sample')\n",
    "        sorted_data, exceedance_data = general_utils.exceedance_curve(ds_selection)\n",
    "        n_years = len(sorted_data)\n",
    "        label = f'{start_year}-{end_year} ({n_years} samples)'\n",
    "        color = next(colors)\n",
    "        ax.plot(sorted_data, exceedance_data, label=label, color=color)\n",
    "    \n",
    "        print(f'{start_year}-{end_year}')\n",
    "        n_events, n_population, return_period, percentile = general_utils.event_in_context(ds_selection.values, pr2022, 'above')\n",
    "        print(f'{n_events} events in {n_population} samples')\n",
    "        print(f'{percentile:.2f}% percentile')\n",
    "        print(f'{return_period:.0f} year return period\\n')\n",
    "\n",
    "    ax.set_title(f'Annual (Sep-Aug) Rx15day for {region_name} ({model_name})')\n",
    "    ax.set_ylabel('likelihood of exceedance (%)')\n",
    "    ax.set_xlabel('Rx15day precipitation (mm)')\n",
    "    ax.legend()\n",
    "    ax.axvline(pr2022, color='0.5', linestyle='--')\n",
    "    outfile = f'/g/data/xv83/dbi599/east-coast-rain/figures/Rx15day_precip_exceedence_{region_name}_{model_name}_by-decade.png'\n",
    "    plt.savefig(outfile, bbox_inches='tight', facecolor='white', dpi=dpi)\n",
    "    print(outfile)"
   ]
  },
  {
   "cell_type": "markdown",
   "id": "d6a40828",
   "metadata": {
    "papermill": {
     "duration": 0.050632,
     "end_time": "2022-04-14T09:34:48.669570",
     "exception": false,
     "start_time": "2022-04-14T09:34:48.618938",
     "status": "completed"
    },
    "tags": []
   },
   "source": [
    "#### Bias corrected data"
   ]
  },
  {
   "cell_type": "code",
   "execution_count": 25,
   "id": "f0b0019b",
   "metadata": {
    "execution": {
     "iopub.execute_input": "2022-04-14T09:34:48.795553Z",
     "iopub.status.busy": "2022-04-14T09:34:48.794033Z",
     "iopub.status.idle": "2022-04-14T09:34:48.988376Z",
     "shell.execute_reply": "2022-04-14T09:34:48.987665Z"
    },
    "papermill": {
     "duration": 0.270904,
     "end_time": "2022-04-14T09:34:48.988622",
     "exception": false,
     "start_time": "2022-04-14T09:34:48.717718",
     "status": "completed"
    },
    "tags": []
   },
   "outputs": [],
   "source": [
    "model_bc_da_stacked = model_bc_ds.dropna('lead_time')['pr'].stack({'sample': ['ensemble', 'init_date', 'lead_time']})"
   ]
  },
  {
   "cell_type": "code",
   "execution_count": 26,
   "id": "7d4fdc9e",
   "metadata": {
    "execution": {
     "iopub.execute_input": "2022-04-14T09:34:49.101463Z",
     "iopub.status.busy": "2022-04-14T09:34:49.100483Z",
     "iopub.status.idle": "2022-04-14T09:34:49.106461Z",
     "shell.execute_reply": "2022-04-14T09:34:49.107755Z"
    },
    "papermill": {
     "duration": 0.069313,
     "end_time": "2022-04-14T09:34:49.108122",
     "exception": false,
     "start_time": "2022-04-14T09:34:49.038809",
     "status": "completed"
    },
    "tags": []
   },
   "outputs": [
    {
     "data": {
      "text/plain": [
       "(44928,)"
      ]
     },
     "execution_count": 26,
     "metadata": {},
     "output_type": "execute_result"
    }
   ],
   "source": [
    "model_bc_da_stacked.shape"
   ]
  },
  {
   "cell_type": "code",
   "execution_count": 27,
   "id": "59075ebb",
   "metadata": {
    "execution": {
     "iopub.execute_input": "2022-04-14T09:34:49.243200Z",
     "iopub.status.busy": "2022-04-14T09:34:49.239084Z",
     "iopub.status.idle": "2022-04-14T09:34:50.189050Z",
     "shell.execute_reply": "2022-04-14T09:34:50.188329Z"
    },
    "papermill": {
     "duration": 1.02946,
     "end_time": "2022-04-14T09:34:50.189309",
     "exception": false,
     "start_time": "2022-04-14T09:34:49.159849",
     "status": "completed"
    },
    "tags": []
   },
   "outputs": [
    {
     "name": "stdout",
     "output_type": "stream",
     "text": [
      "/g/data/xv83/dbi599/east-coast-rain/figures/Rx15day_precip_exceedence_east-coast-flood-region_CAFE.png\n"
     ]
    },
    {
     "data": {
      "image/png": "[encoded data removed]",
      "text/plain": [
       "<Figure size 576x432 with 1 Axes>"
      ]
     },
     "metadata": {
      "needs_background": "light"
     },
     "output_type": "display_data"
    }
   ],
   "source": [
    "outfile = f'/g/data/xv83/dbi599/east-coast-rain/figures/Rx15day_precip_exceedence_{region_name}_{model_name}.png'\n",
    "plot_exceedance(model_bc_da_stacked, model_name, outfile=outfile)"
   ]
  },
  {
   "cell_type": "code",
   "execution_count": 28,
   "id": "39e4acf0",
   "metadata": {
    "execution": {
     "iopub.execute_input": "2022-04-14T09:34:50.323143Z",
     "iopub.status.busy": "2022-04-14T09:34:50.312738Z",
     "iopub.status.idle": "2022-04-14T09:34:50.520589Z",
     "shell.execute_reply": "2022-04-14T09:34:50.518905Z"
    },
    "papermill": {
     "duration": 0.276172,
     "end_time": "2022-04-14T09:34:50.521075",
     "exception": false,
     "start_time": "2022-04-14T09:34:50.244903",
     "status": "completed"
    },
    "tags": []
   },
   "outputs": [
    {
     "name": "stdout",
     "output_type": "stream",
     "text": [
      "BIAS CORRECTED DATA\n",
      "24 events in 44928 samples\n",
      "99.95% percentile\n",
      "1872 year return period\n"
     ]
    }
   ],
   "source": [
    "n_events_bc, n_population_bc, return_period_bc, percentile_bc = general_utils.event_in_context(model_bc_da_stacked.values, pr2022, 'above')\n",
    "print('BIAS CORRECTED DATA')\n",
    "print(f'{n_events_bc} events in {n_population_bc} samples')\n",
    "print(f'{percentile_bc:.2f}% percentile')\n",
    "print(f'{return_period_bc:.0f} year return period')"
   ]
  },
  {
   "cell_type": "code",
   "execution_count": 29,
   "id": "7789699c",
   "metadata": {
    "execution": {
     "iopub.execute_input": "2022-04-14T09:34:50.713768Z",
     "iopub.status.busy": "2022-04-14T09:34:50.698317Z",
     "iopub.status.idle": "2022-04-14T09:34:59.265686Z",
     "shell.execute_reply": "2022-04-14T09:34:59.264485Z"
    },
    "papermill": {
     "duration": 8.689742,
     "end_time": "2022-04-14T09:34:59.266050",
     "exception": false,
     "start_time": "2022-04-14T09:34:50.576308",
     "status": "completed"
    },
    "tags": []
   },
   "outputs": [
    {
     "name": "stdout",
     "output_type": "stream",
     "text": [
      "1995-1999\n",
      "1 events in 1920 samples\n",
      "99.95% percentile\n",
      "1920 year return period\n",
      "\n",
      "2000-2004\n",
      "2 events in 6720 samples\n",
      "99.97% percentile\n",
      "3360 year return period\n",
      "\n",
      "2005-2009\n",
      "5 events in 8640 samples\n",
      "99.94% percentile\n",
      "1728 year return period\n",
      "\n",
      "2010-2014\n",
      "6 events in 8640 samples\n",
      "99.93% percentile\n",
      "1440 year return period\n",
      "\n",
      "2015-2019\n",
      "4 events in 8640 samples\n",
      "99.95% percentile\n",
      "2160 year return period\n",
      "\n",
      "/g/data/xv83/dbi599/east-coast-rain/figures/Rx15day_precip_exceedence_east-coast-flood-region_CAFE_by-decade.png\n"
     ]
    },
    {
     "data": {
      "image/png": "[encoded data removed]",
      "text/plain": [
       "<Figure size 576x432 with 1 Axes>"
      ]
     },
     "metadata": {
      "needs_background": "light"
     },
     "output_type": "display_data"
    }
   ],
   "source": [
    "plot_exceedance_by_decade(model_bc_da_stacked, model_name)"
   ]
  },
  {
   "cell_type": "markdown",
   "id": "c6a2c14c",
   "metadata": {
    "papermill": {
     "duration": 0.063985,
     "end_time": "2022-04-14T09:34:59.394074",
     "exception": false,
     "start_time": "2022-04-14T09:34:59.330089",
     "status": "completed"
    },
    "tags": []
   },
   "source": [
    "#### Raw data"
   ]
  },
  {
   "cell_type": "code",
   "execution_count": 30,
   "id": "6b40107c",
   "metadata": {
    "execution": {
     "iopub.execute_input": "2022-04-14T09:34:59.543871Z",
     "iopub.status.busy": "2022-04-14T09:34:59.538797Z",
     "iopub.status.idle": "2022-04-14T09:34:59.741494Z",
     "shell.execute_reply": "2022-04-14T09:34:59.743037Z"
    },
    "papermill": {
     "duration": 0.290144,
     "end_time": "2022-04-14T09:34:59.743656",
     "exception": false,
     "start_time": "2022-04-14T09:34:59.453512",
     "status": "completed"
    },
    "tags": []
   },
   "outputs": [],
   "source": [
    "model_da_stacked = model_da.dropna('lead_time').stack({'sample': ['ensemble', 'init_date', 'lead_time']})"
   ]
  },
  {
   "cell_type": "code",
   "execution_count": 31,
   "id": "10aaf4a0",
   "metadata": {
    "execution": {
     "iopub.execute_input": "2022-04-14T09:34:59.879853Z",
     "iopub.status.busy": "2022-04-14T09:34:59.878774Z",
     "iopub.status.idle": "2022-04-14T09:34:59.886142Z",
     "shell.execute_reply": "2022-04-14T09:34:59.887214Z"
    },
    "papermill": {
     "duration": 0.076697,
     "end_time": "2022-04-14T09:34:59.887608",
     "exception": false,
     "start_time": "2022-04-14T09:34:59.810911",
     "status": "completed"
    },
    "tags": []
   },
   "outputs": [
    {
     "data": {
      "text/plain": [
       "(44928,)"
      ]
     },
     "execution_count": 31,
     "metadata": {},
     "output_type": "execute_result"
    }
   ],
   "source": [
    "model_da_stacked.shape"
   ]
  },
  {
   "cell_type": "code",
   "execution_count": 32,
   "id": "cb75fa43",
   "metadata": {
    "execution": {
     "iopub.execute_input": "2022-04-14T09:35:00.035020Z",
     "iopub.status.busy": "2022-04-14T09:35:00.029800Z",
     "iopub.status.idle": "2022-04-14T09:35:00.474250Z",
     "shell.execute_reply": "2022-04-14T09:35:00.472985Z"
    },
    "papermill": {
     "duration": 0.524375,
     "end_time": "2022-04-14T09:35:00.474626",
     "exception": false,
     "start_time": "2022-04-14T09:34:59.950251",
     "status": "completed"
    },
    "tags": []
   },
   "outputs": [
    {
     "data": {
      "image/png": "[encoded data removed]",
      "text/plain": [
       "<Figure size 576x432 with 1 Axes>"
      ]
     },
     "metadata": {
      "needs_background": "light"
     },
     "output_type": "display_data"
    }
   ],
   "source": [
    "plot_exceedance(model_da_stacked, model_name)"
   ]
  },
  {
   "cell_type": "code",
   "execution_count": 33,
   "id": "89138fa6",
   "metadata": {
    "execution": {
     "iopub.execute_input": "2022-04-14T09:35:00.631176Z",
     "iopub.status.busy": "2022-04-14T09:35:00.626368Z",
     "iopub.status.idle": "2022-04-14T09:35:00.829026Z",
     "shell.execute_reply": "2022-04-14T09:35:00.827064Z"
    },
    "papermill": {
     "duration": 0.289176,
     "end_time": "2022-04-14T09:35:00.829522",
     "exception": false,
     "start_time": "2022-04-14T09:35:00.540346",
     "status": "completed"
    },
    "tags": []
   },
   "outputs": [
    {
     "name": "stdout",
     "output_type": "stream",
     "text": [
      "RAW DATA\n",
      "0 events in 44928 samples\n",
      "100.00% percentile\n",
      "inf year return period\n"
     ]
    },
    {
     "name": "stderr",
     "output_type": "stream",
     "text": [
      "/home/599/dbi599/forks/unseen/unseen/general_utils.py:151: RuntimeWarning: divide by zero encountered in long_scalars\n",
      "  return_period = n_population / n_events\n"
     ]
    }
   ],
   "source": [
    "n_events, n_population, return_period, percentile = general_utils.event_in_context(model_da_stacked.values, pr2022, 'above')\n",
    "print('RAW DATA')\n",
    "print(f'{n_events} events in {n_population} samples')\n",
    "print(f'{percentile:.2f}% percentile')\n",
    "print(f'{return_period:.0f} year return period')"
   ]
  },
  {
   "cell_type": "code",
   "execution_count": null,
   "id": "cbfda751",
   "metadata": {
    "papermill": {
     "duration": 0.066201,
     "end_time": "2022-04-14T09:35:00.964312",
     "exception": false,
     "start_time": "2022-04-14T09:35:00.898111",
     "status": "completed"
    },
    "tags": []
   },
   "outputs": [],
   "source": []
  }
 ],
 "metadata": {
  "kernelspec": {
   "display_name": "Python 3",
   "language": "python",
   "name": "python3"
  },
  "language_info": {
   "codemirror_mode": {
    "name": "ipython",
    "version": 3
   },
   "file_extension": ".py",
   "mimetype": "text/x-python",
   "name": "python",
   "nbconvert_exporter": "python",
   "pygments_lexer": "ipython3",
   "version": "3.9.4"
  },
  "papermill": {
   "default_parameters": {},
   "duration": 30.938111,
   "end_time": "2022-04-14T09:35:02.952825",
   "environment_variables": {},
   "exception": null,
   "input_path": "analysis.ipynb",
   "output_path": "analysis_CAFE.ipynb",
   "parameters": {
    "agcd_file": "/g/data/xv83/dbi599/east-coast-rain/data/Rx15day_AGCD-CSIRO_r005_1900-2022_annual-aug-to-sep_east-coast-flood-region.zarr.zip",
    "independence_plot": "/g/data/xv83/dbi599/east-coast-rain/figures/independence-test_Rx15day_CAFE-c5-d60-pX-f6_19950501-20201101_annual-aug-to-sep_east-coast-flood-region.png",
    "min_lead": 1,
    "model_bc_file": "/g/data/xv83/dbi599/east-coast-rain/data/Rx15day_CAFE-c5-d60-pX-f6_19950501-20201101_annual-aug-to-sep_east-coast-flood-region_bias-corrected-AGCD-CSIRO-multiplicative.zarr.zip",
    "model_file": "/g/data/xv83/dbi599/east-coast-rain/data/Rx15day_CAFE-c5-d60-pX-f6_19950501-20201101_annual-aug-to-sep_east-coast-flood-region.zarr.zip",
    "model_name": "CAFE",
    "region_name": "east-coast-flood-region",
    "similarity_bc_file": "/g/data/xv83/dbi599/east-coast-rain/data/ks-test_Rx15day_CAFE-c5-d60-pX-f6_1995-2020_annual-aug-to-sep_east-coast-flood-region_bias-corrected-AGCD-CSIRO-multiplicative.zarr.zip",
    "similarity_raw_file": "/g/data/xv83/dbi599/east-coast-rain/data/ks-test_Rx15day_CAFE-c5-d60-pX-f6_1995-2020_annual-aug-to-sep_east-coast-flood-region_AGCD-CSIRO.zarr.zip"
   },
   "start_time": "2022-04-14T09:34:32.014714",
   "version": "2.3.3"
  }
 },
 "nbformat": 4,
 "nbformat_minor": 5
}
