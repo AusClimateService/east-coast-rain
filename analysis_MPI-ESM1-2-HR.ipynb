{
 "cells": [
  {
   "cell_type": "markdown",
   "id": "4d047299",
   "metadata": {
    "papermill": {
     "duration": 0.07681,
     "end_time": "2022-04-25T22:12:21.246825",
     "exception": false,
     "start_time": "2022-04-25T22:12:21.170015",
     "status": "completed"
    },
    "tags": []
   },
   "source": [
    "# East coast floods\n"
   ]
  },
  {
   "cell_type": "code",
   "execution_count": 1,
   "id": "95569a41",
   "metadata": {
    "execution": {
     "iopub.execute_input": "2022-04-25T22:12:21.360130Z",
     "iopub.status.busy": "2022-04-25T22:12:21.359055Z",
     "iopub.status.idle": "2022-04-25T22:12:31.383951Z",
     "shell.execute_reply": "2022-04-25T22:12:31.382177Z"
    },
    "papermill": {
     "duration": 10.090106,
     "end_time": "2022-04-25T22:12:31.384452",
     "exception": false,
     "start_time": "2022-04-25T22:12:21.294346",
     "status": "completed"
    },
    "tags": []
   },
   "outputs": [],
   "source": [
    "import os\n",
    "\n",
    "import matplotlib.pyplot as plt\n",
    "import pandas as pd\n",
    "import numpy as np\n",
    "import cartopy\n",
    "import cartopy.crs as ccrs\n",
    "import geopandas as gp\n",
    "from IPython.display import Image\n",
    "from scipy.stats import genextreme as gev\n",
    "\n",
    "from unseen import fileio\n",
    "from unseen import general_utils\n",
    "from unseen import indices\n",
    "from unseen import time_utils\n",
    "from unseen import spatial_selection"
   ]
  },
  {
   "cell_type": "code",
   "execution_count": 2,
   "id": "56e9e0ab",
   "metadata": {
    "execution": {
     "iopub.execute_input": "2022-04-25T22:12:31.492935Z",
     "iopub.status.busy": "2022-04-25T22:12:31.492000Z",
     "iopub.status.idle": "2022-04-25T22:12:31.497115Z",
     "shell.execute_reply": "2022-04-25T22:12:31.496239Z"
    },
    "papermill": {
     "duration": 0.065481,
     "end_time": "2022-04-25T22:12:31.497447",
     "exception": false,
     "start_time": "2022-04-25T22:12:31.431966",
     "status": "completed"
    },
    "tags": [
     "parameters"
    ]
   },
   "outputs": [],
   "source": [
    "# Optional parameters \n",
    "# (This cell is tagged \"parameters\")\n",
    "dpi = 300"
   ]
  },
  {
   "cell_type": "code",
   "execution_count": 3,
   "id": "c198225d",
   "metadata": {
    "execution": {
     "iopub.execute_input": "2022-04-25T22:12:31.596754Z",
     "iopub.status.busy": "2022-04-25T22:12:31.595654Z",
     "iopub.status.idle": "2022-04-25T22:12:31.600772Z",
     "shell.execute_reply": "2022-04-25T22:12:31.599473Z"
    },
    "papermill": {
     "duration": 0.0589,
     "end_time": "2022-04-25T22:12:31.601087",
     "exception": false,
     "start_time": "2022-04-25T22:12:31.542187",
     "status": "completed"
    },
    "tags": [
     "injected-parameters"
    ]
   },
   "outputs": [],
   "source": [
    "# Parameters\n",
    "agcd_file = \"/g/data/xv83/dbi599/east-coast-rain/data/Rx15day_AGCD-CSIRO_r005_1900-2022_annual-aug-to-sep_east-coast-flood-region.zarr.zip\"\n",
    "model_file = \"/g/data/xv83/dbi599/east-coast-rain/data/Rx15day_MPI-ESM1-2-HR-dcppA-hindcast_196011-201811_annual-aug-to-sep_east-coast-flood-region.zarr.zip\"\n",
    "model_bc_file = \"/g/data/xv83/dbi599/east-coast-rain/data/Rx15day_MPI-ESM1-2-HR-dcppA-hindcast_196011-201811_annual-aug-to-sep_east-coast-flood-region_bias-corrected-AGCD-CSIRO-multiplicative.zarr.zip\"\n",
    "similarity_bc_file = \"/g/data/xv83/dbi599/east-coast-rain/data/ks-test_Rx15day_MPI-ESM1-2-HR-dcppA-hindcast_196011-201811_annual-aug-to-sep_east-coast-flood-region_bias-corrected-AGCD-CSIRO-multiplicative.zarr.zip\"\n",
    "similarity_raw_file = \"/g/data/xv83/dbi599/east-coast-rain/data/ks-test_Rx15day_MPI-ESM1-2-HR-dcppA-hindcast_196011-201811_annual-aug-to-sep_east-coast-flood-region_AGCD-CSIRO.zarr.zip\"\n",
    "independence_plot = \"/g/data/xv83/dbi599/east-coast-rain/figures/independence-test_Rx15day_MPI-ESM1-2-HR-dcppA-hindcast_196011-201811_annual-aug-to-sep_east-coast-flood-region.png\"\n",
    "model_name = \"MPI-ESM1-2-HR\"\n",
    "min_lead = 0\n",
    "region_name = \"east-coast-flood-region\"\n",
    "shape_file = \"/g/data/xv83/dbi599/east-coast-rain/shapefiles/east-coast-flood.shp\"\n",
    "file_list = \"file_lists/MPI-ESM1-2-HR_dcppA-hindcast_files.txt\"\n"
   ]
  },
  {
   "cell_type": "code",
   "execution_count": 4,
   "id": "b9787631",
   "metadata": {
    "execution": {
     "iopub.execute_input": "2022-04-25T22:12:31.704613Z",
     "iopub.status.busy": "2022-04-25T22:12:31.703126Z",
     "iopub.status.idle": "2022-04-25T22:12:31.716561Z",
     "shell.execute_reply": "2022-04-25T22:12:31.715062Z"
    },
    "papermill": {
     "duration": 0.070274,
     "end_time": "2022-04-25T22:12:31.716916",
     "exception": false,
     "start_time": "2022-04-25T22:12:31.646642",
     "status": "completed"
    },
    "tags": []
   },
   "outputs": [],
   "source": [
    "# Required parameters\n",
    "assert 'model_name' in locals(), \"Must provide a model name\"\n",
    "assert 'region_name' in locals(), \"Must provide a region name\"\n",
    "assert 'min_lead' in locals(), \"Must provide a minimum lead time\"\n",
    "assert os.path.isfile(file_list), \"Must provide the input model files list (papermill option -p file_list [filepath])\"\n",
    "assert os.path.isfile(shape_file), \"Must provide the shapefile (papermill option -p shape_file [filepath])\"\n",
    "assert os.path.isfile(agcd_file), \"Must provide an AGCD data file (papermill option -p agcd_file [filepath])\"\n",
    "assert os.path.isfile(model_file), \"Must provide an model data file (papermill option -p cafe_file [filepath])\"\n",
    "assert os.path.isfile(model_bc_file), \"Must provide a model bias corrected data file (papermill option -p cafe_bc_file [filepath])\"\n",
    "assert os.path.isfile(similarity_bc_file), \"Must provide an bias corrected similarity test file (papermill option -p similarity_bias_file [filepath])\"\n",
    "assert os.path.isfile(similarity_raw_file), \"Must provide an raw data similarity test file (papermill option -p similarity_raw_file [filepath])\"\n",
    "assert os.path.isfile(independence_plot), \"Must provide an independence test plot (papermill option -p independence_plot [filepath])\""
   ]
  },
  {
   "cell_type": "markdown",
   "id": "5c8da4f2",
   "metadata": {
    "papermill": {
     "duration": 0.045489,
     "end_time": "2022-04-25T22:12:31.807344",
     "exception": false,
     "start_time": "2022-04-25T22:12:31.761855",
     "status": "completed"
    },
    "tags": []
   },
   "source": [
    "## Observations"
   ]
  },
  {
   "cell_type": "code",
   "execution_count": 5,
   "id": "f40952f6",
   "metadata": {
    "execution": {
     "iopub.execute_input": "2022-04-25T22:12:31.903137Z",
     "iopub.status.busy": "2022-04-25T22:12:31.901788Z",
     "iopub.status.idle": "2022-04-25T22:12:32.054796Z",
     "shell.execute_reply": "2022-04-25T22:12:32.053255Z"
    },
    "papermill": {
     "duration": 0.205048,
     "end_time": "2022-04-25T22:12:32.055155",
     "exception": false,
     "start_time": "2022-04-25T22:12:31.850107",
     "status": "completed"
    },
    "tags": []
   },
   "outputs": [],
   "source": [
    "agcd_ds = fileio.open_dataset(agcd_file)"
   ]
  },
  {
   "cell_type": "code",
   "execution_count": 6,
   "id": "1493ff0f",
   "metadata": {
    "execution": {
     "iopub.execute_input": "2022-04-25T22:12:32.267327Z",
     "iopub.status.busy": "2022-04-25T22:12:32.156317Z",
     "iopub.status.idle": "2022-04-25T22:12:32.514487Z",
     "shell.execute_reply": "2022-04-25T22:12:32.515370Z"
    },
    "papermill": {
     "duration": 0.413747,
     "end_time": "2022-04-25T22:12:32.515806",
     "exception": false,
     "start_time": "2022-04-25T22:12:32.102059",
     "status": "completed"
    },
    "tags": []
   },
   "outputs": [
    {
     "data": {
      "text/html": [
       "<div><svg style=\"position: absolute; width: 0; height: 0; overflow: hidden\">\n",
       "<defs>\n",
       "<symbol id=\"icon-database\" viewBox=\"0 0 32 32\">\n",
       "<path d=\"M16 0c-8.837 0-16 2.239-16 5v4c0 2.761 7.163 5 16 5s16-2.239 16-5v-4c0-2.761-7.163-5-16-5z\"></path>\n",
       "<path d=\"M16 17c-8.837 0-16-2.239-16-5v6c0 2.761 7.163 5 16 5s16-2.239 16-5v-6c0 2.761-7.163 5-16 5z\"></path>\n",
       "<path d=\"M16 26c-8.837 0-16-2.239-16-5v6c0 2.761 7.163 5 16 5s16-2.239 16-5v-6c0 2.761-7.163 5-16 5z\"></path>\n",
       "</symbol>\n",
       "<symbol id=\"icon-file-text2\" viewBox=\"0 0 32 32\">\n",
       "<path d=\"M28.681 7.159c-0.694-0.947-1.662-2.053-2.724-3.116s-2.169-2.030-3.116-2.724c-1.612-1.182-2.393-1.319-2.841-1.319h-15.5c-1.378 0-2.5 1.121-2.5 2.5v27c0 1.378 1.122 2.5 2.5 2.5h23c1.378 0 2.5-1.122 2.5-2.5v-19.5c0-0.448-0.137-1.23-1.319-2.841zM24.543 5.457c0.959 0.959 1.712 1.825 2.268 2.543h-4.811v-4.811c0.718 0.556 1.584 1.309 2.543 2.268zM28 29.5c0 0.271-0.229 0.5-0.5 0.5h-23c-0.271 0-0.5-0.229-0.5-0.5v-27c0-0.271 0.229-0.5 0.5-0.5 0 0 15.499-0 15.5 0v7c0 0.552 0.448 1 1 1h7v19.5z\"></path>\n",
       "<path d=\"M23 26h-14c-0.552 0-1-0.448-1-1s0.448-1 1-1h14c0.552 0 1 0.448 1 1s-0.448 1-1 1z\"></path>\n",
       "<path d=\"M23 22h-14c-0.552 0-1-0.448-1-1s0.448-1 1-1h14c0.552 0 1 0.448 1 1s-0.448 1-1 1z\"></path>\n",
       "<path d=\"M23 18h-14c-0.552 0-1-0.448-1-1s0.448-1 1-1h14c0.552 0 1 0.448 1 1s-0.448 1-1 1z\"></path>\n",
       "</symbol>\n",
       "</defs>\n",
       "</svg>\n",
       "<style>/* CSS stylesheet for displaying xarray objects in jupyterlab.\n",
       " *\n",
       " */\n",
       "\n",
       ":root {\n",
       "  --xr-font-color0: var(--jp-content-font-color0, rgba(0, 0, 0, 1));\n",
       "  --xr-font-color2: var(--jp-content-font-color2, rgba(0, 0, 0, 0.54));\n",
       "  --xr-font-color3: var(--jp-content-font-color3, rgba(0, 0, 0, 0.38));\n",
       "  --xr-border-color: var(--jp-border-color2, #e0e0e0);\n",
       "  --xr-disabled-color: var(--jp-layout-color3, #bdbdbd);\n",
       "  --xr-background-color: var(--jp-layout-color0, white);\n",
       "  --xr-background-color-row-even: var(--jp-layout-color1, white);\n",
       "  --xr-background-color-row-odd: var(--jp-layout-color2, #eeeeee);\n",
       "}\n",
       "\n",
       "html[theme=dark],\n",
       "body.vscode-dark {\n",
       "  --xr-font-color0: rgba(255, 255, 255, 1);\n",
       "  --xr-font-color2: rgba(255, 255, 255, 0.54);\n",
       "  --xr-font-color3: rgba(255, 255, 255, 0.38);\n",
       "  --xr-border-color: #1F1F1F;\n",
       "  --xr-disabled-color: #515151;\n",
       "  --xr-background-color: #111111;\n",
       "  --xr-background-color-row-even: #111111;\n",
       "  --xr-background-color-row-odd: #313131;\n",
       "}\n",
       "\n",
       ".xr-wrap {\n",
       "  display: block !important;\n",
       "  min-width: 300px;\n",
       "  max-width: 700px;\n",
       "}\n",
       "\n",
       ".xr-text-repr-fallback {\n",
       "  /* fallback to plain text repr when CSS is not injected (untrusted notebook) */\n",
       "  display: none;\n",
       "}\n",
       "\n",
       ".xr-header {\n",
       "  padding-top: 6px;\n",
       "  padding-bottom: 6px;\n",
       "  margin-bottom: 4px;\n",
       "  border-bottom: solid 1px var(--xr-border-color);\n",
       "}\n",
       "\n",
       ".xr-header > div,\n",
       ".xr-header > ul {\n",
       "  display: inline;\n",
       "  margin-top: 0;\n",
       "  margin-bottom: 0;\n",
       "}\n",
       "\n",
       ".xr-obj-type,\n",
       ".xr-array-name {\n",
       "  margin-left: 2px;\n",
       "  margin-right: 10px;\n",
       "}\n",
       "\n",
       ".xr-obj-type {\n",
       "  color: var(--xr-font-color2);\n",
       "}\n",
       "\n",
       ".xr-sections {\n",
       "  padding-left: 0 !important;\n",
       "  display: grid;\n",
       "  grid-template-columns: 150px auto auto 1fr 20px 20px;\n",
       "}\n",
       "\n",
       ".xr-section-item {\n",
       "  display: contents;\n",
       "}\n",
       "\n",
       ".xr-section-item input {\n",
       "  display: none;\n",
       "}\n",
       "\n",
       ".xr-section-item input + label {\n",
       "  color: var(--xr-disabled-color);\n",
       "}\n",
       "\n",
       ".xr-section-item input:enabled + label {\n",
       "  cursor: pointer;\n",
       "  color: var(--xr-font-color2);\n",
       "}\n",
       "\n",
       ".xr-section-item input:enabled + label:hover {\n",
       "  color: var(--xr-font-color0);\n",
       "}\n",
       "\n",
       ".xr-section-summary {\n",
       "  grid-column: 1;\n",
       "  color: var(--xr-font-color2);\n",
       "  font-weight: 500;\n",
       "}\n",
       "\n",
       ".xr-section-summary > span {\n",
       "  display: inline-block;\n",
       "  padding-left: 0.5em;\n",
       "}\n",
       "\n",
       ".xr-section-summary-in:disabled + label {\n",
       "  color: var(--xr-font-color2);\n",
       "}\n",
       "\n",
       ".xr-section-summary-in + label:before {\n",
       "  display: inline-block;\n",
       "  content: '►';\n",
       "  font-size: 11px;\n",
       "  width: 15px;\n",
       "  text-align: center;\n",
       "}\n",
       "\n",
       ".xr-section-summary-in:disabled + label:before {\n",
       "  color: var(--xr-disabled-color);\n",
       "}\n",
       "\n",
       ".xr-section-summary-in:checked + label:before {\n",
       "  content: '▼';\n",
       "}\n",
       "\n",
       ".xr-section-summary-in:checked + label > span {\n",
       "  display: none;\n",
       "}\n",
       "\n",
       ".xr-section-summary,\n",
       ".xr-section-inline-details {\n",
       "  padding-top: 4px;\n",
       "  padding-bottom: 4px;\n",
       "}\n",
       "\n",
       ".xr-section-inline-details {\n",
       "  grid-column: 2 / -1;\n",
       "}\n",
       "\n",
       ".xr-section-details {\n",
       "  display: none;\n",
       "  grid-column: 1 / -1;\n",
       "  margin-bottom: 5px;\n",
       "}\n",
       "\n",
       ".xr-section-summary-in:checked ~ .xr-section-details {\n",
       "  display: contents;\n",
       "}\n",
       "\n",
       ".xr-array-wrap {\n",
       "  grid-column: 1 / -1;\n",
       "  display: grid;\n",
       "  grid-template-columns: 20px auto;\n",
       "}\n",
       "\n",
       ".xr-array-wrap > label {\n",
       "  grid-column: 1;\n",
       "  vertical-align: top;\n",
       "}\n",
       "\n",
       ".xr-preview {\n",
       "  color: var(--xr-font-color3);\n",
       "}\n",
       "\n",
       ".xr-array-preview,\n",
       ".xr-array-data {\n",
       "  padding: 0 5px !important;\n",
       "  grid-column: 2;\n",
       "}\n",
       "\n",
       ".xr-array-data,\n",
       ".xr-array-in:checked ~ .xr-array-preview {\n",
       "  display: none;\n",
       "}\n",
       "\n",
       ".xr-array-in:checked ~ .xr-array-data,\n",
       ".xr-array-preview {\n",
       "  display: inline-block;\n",
       "}\n",
       "\n",
       ".xr-dim-list {\n",
       "  display: inline-block !important;\n",
       "  list-style: none;\n",
       "  padding: 0 !important;\n",
       "  margin: 0;\n",
       "}\n",
       "\n",
       ".xr-dim-list li {\n",
       "  display: inline-block;\n",
       "  padding: 0;\n",
       "  margin: 0;\n",
       "}\n",
       "\n",
       ".xr-dim-list:before {\n",
       "  content: '(';\n",
       "}\n",
       "\n",
       ".xr-dim-list:after {\n",
       "  content: ')';\n",
       "}\n",
       "\n",
       ".xr-dim-list li:not(:last-child):after {\n",
       "  content: ',';\n",
       "  padding-right: 5px;\n",
       "}\n",
       "\n",
       ".xr-has-index {\n",
       "  font-weight: bold;\n",
       "}\n",
       "\n",
       ".xr-var-list,\n",
       ".xr-var-item {\n",
       "  display: contents;\n",
       "}\n",
       "\n",
       ".xr-var-item > div,\n",
       ".xr-var-item label,\n",
       ".xr-var-item > .xr-var-name span {\n",
       "  background-color: var(--xr-background-color-row-even);\n",
       "  margin-bottom: 0;\n",
       "}\n",
       "\n",
       ".xr-var-item > .xr-var-name:hover span {\n",
       "  padding-right: 5px;\n",
       "}\n",
       "\n",
       ".xr-var-list > li:nth-child(odd) > div,\n",
       ".xr-var-list > li:nth-child(odd) > label,\n",
       ".xr-var-list > li:nth-child(odd) > .xr-var-name span {\n",
       "  background-color: var(--xr-background-color-row-odd);\n",
       "}\n",
       "\n",
       ".xr-var-name {\n",
       "  grid-column: 1;\n",
       "}\n",
       "\n",
       ".xr-var-dims {\n",
       "  grid-column: 2;\n",
       "}\n",
       "\n",
       ".xr-var-dtype {\n",
       "  grid-column: 3;\n",
       "  text-align: right;\n",
       "  color: var(--xr-font-color2);\n",
       "}\n",
       "\n",
       ".xr-var-preview {\n",
       "  grid-column: 4;\n",
       "}\n",
       "\n",
       ".xr-var-name,\n",
       ".xr-var-dims,\n",
       ".xr-var-dtype,\n",
       ".xr-preview,\n",
       ".xr-attrs dt {\n",
       "  white-space: nowrap;\n",
       "  overflow: hidden;\n",
       "  text-overflow: ellipsis;\n",
       "  padding-right: 10px;\n",
       "}\n",
       "\n",
       ".xr-var-name:hover,\n",
       ".xr-var-dims:hover,\n",
       ".xr-var-dtype:hover,\n",
       ".xr-attrs dt:hover {\n",
       "  overflow: visible;\n",
       "  width: auto;\n",
       "  z-index: 1;\n",
       "}\n",
       "\n",
       ".xr-var-attrs,\n",
       ".xr-var-data {\n",
       "  display: none;\n",
       "  background-color: var(--xr-background-color) !important;\n",
       "  padding-bottom: 5px !important;\n",
       "}\n",
       "\n",
       ".xr-var-attrs-in:checked ~ .xr-var-attrs,\n",
       ".xr-var-data-in:checked ~ .xr-var-data {\n",
       "  display: block;\n",
       "}\n",
       "\n",
       ".xr-var-data > table {\n",
       "  float: right;\n",
       "}\n",
       "\n",
       ".xr-var-name span,\n",
       ".xr-var-data,\n",
       ".xr-attrs {\n",
       "  padding-left: 25px !important;\n",
       "}\n",
       "\n",
       ".xr-attrs,\n",
       ".xr-var-attrs,\n",
       ".xr-var-data {\n",
       "  grid-column: 1 / -1;\n",
       "}\n",
       "\n",
       "dl.xr-attrs {\n",
       "  padding: 0;\n",
       "  margin: 0;\n",
       "  display: grid;\n",
       "  grid-template-columns: 125px auto;\n",
       "}\n",
       "\n",
       ".xr-attrs dt,\n",
       ".xr-attrs dd {\n",
       "  padding: 0;\n",
       "  margin: 0;\n",
       "  float: left;\n",
       "  padding-right: 10px;\n",
       "  width: auto;\n",
       "}\n",
       "\n",
       ".xr-attrs dt {\n",
       "  font-weight: normal;\n",
       "  grid-column: 1;\n",
       "}\n",
       "\n",
       ".xr-attrs dt:hover span {\n",
       "  display: inline-block;\n",
       "  background: var(--xr-background-color);\n",
       "  padding-right: 10px;\n",
       "}\n",
       "\n",
       ".xr-attrs dd {\n",
       "  grid-column: 2;\n",
       "  white-space: pre-wrap;\n",
       "  word-break: break-all;\n",
       "}\n",
       "\n",
       ".xr-icon-database,\n",
       ".xr-icon-file-text2 {\n",
       "  display: inline-block;\n",
       "  vertical-align: middle;\n",
       "  width: 1em;\n",
       "  height: 1.5em !important;\n",
       "  stroke-width: 0;\n",
       "  stroke: currentColor;\n",
       "  fill: currentColor;\n",
       "}\n",
       "</style><pre class='xr-text-repr-fallback'>&lt;xarray.Dataset&gt;\n",
       "Dimensions:  (time: 123)\n",
       "Coordinates:\n",
       "  * time     (time) object 1900-08-31 00:00:00 ... 2022-08-31 00:00:00\n",
       "Data variables:\n",
       "    pr       (time) float64 dask.array&lt;chunksize=(123,), meta=np.ndarray&gt;\n",
       "Attributes: (12/33)\n",
       "    CDI:                           Climate Data Interface version ?? (http://...\n",
       "    CDO:                           Climate Data Operators version 1.7.0 (http...\n",
       "    Conventions:                   CF-1.6\n",
       "    acknowledgment:                The Australian Government, Bureau of Meteo...\n",
       "    analysis_components:           total: the gridded accumulation of rainfall.\n",
       "    bom-cmp-awap_version:          bom-cmp-awap-1.00-89.0.x86_64\n",
       "    ...                            ...\n",
       "    summary:                       The daily and monthly rainfall data repres...\n",
       "    time_coverage_end:             1900-01-01T09:00:00\n",
       "    time_coverage_start:           1899-12-31T09:00:00\n",
       "    title:                         Interpolated Rain Gauge Precipitation\n",
       "    url:                           http://www.bom.gov.au/climate/\n",
       "    uuid:                          14333ae2-28fe-4cb6-9f00-677adc94f25e</pre><div class='xr-wrap' style='display:none'><div class='xr-header'><div class='xr-obj-type'>xarray.Dataset</div></div><ul class='xr-sections'><li class='xr-section-item'><input id='section-278ea82b-33d8-4634-a665-1e83d4ef8187' class='xr-section-summary-in' type='checkbox' disabled ><label for='section-278ea82b-33d8-4634-a665-1e83d4ef8187' class='xr-section-summary'  title='Expand/collapse section'>Dimensions:</label><div class='xr-section-inline-details'><ul class='xr-dim-list'><li><span class='xr-has-index'>time</span>: 123</li></ul></div><div class='xr-section-details'></div></li><li class='xr-section-item'><input id='section-d650caa8-b95a-46aa-b1af-3e118accf3e7' class='xr-section-summary-in' type='checkbox'  checked><label for='section-d650caa8-b95a-46aa-b1af-3e118accf3e7' class='xr-section-summary' >Coordinates: <span>(1)</span></label><div class='xr-section-inline-details'></div><div class='xr-section-details'><ul class='xr-var-list'><li class='xr-var-item'><div class='xr-var-name'><span class='xr-has-index'>time</span></div><div class='xr-var-dims'>(time)</div><div class='xr-var-dtype'>object</div><div class='xr-var-preview xr-preview'>1900-08-31 00:00:00 ... 2022-08-...</div><input id='attrs-07a91e0a-7638-404c-b11e-00059659e189' class='xr-var-attrs-in' type='checkbox' disabled><label for='attrs-07a91e0a-7638-404c-b11e-00059659e189' title='Show/Hide attributes'><svg class='icon xr-icon-file-text2'><use xlink:href='#icon-file-text2'></use></svg></label><input id='data-3d1b88aa-a8e4-475d-8f72-44d73ddd172a' class='xr-var-data-in' type='checkbox'><label for='data-3d1b88aa-a8e4-475d-8f72-44d73ddd172a' title='Show/Hide data repr'><svg class='icon xr-icon-database'><use xlink:href='#icon-database'></use></svg></label><div class='xr-var-attrs'><dl class='xr-attrs'></dl></div><div class='xr-var-data'><pre>array([cftime.DatetimeGregorian(1900, 8, 31, 0, 0, 0, 0, has_year_zero=False),\n",
       "       cftime.DatetimeGregorian(1901, 8, 31, 0, 0, 0, 0, has_year_zero=False),\n",
       "       cftime.DatetimeGregorian(1902, 8, 31, 0, 0, 0, 0, has_year_zero=False),\n",
       "       cftime.DatetimeGregorian(1903, 8, 31, 0, 0, 0, 0, has_year_zero=False),\n",
       "       cftime.DatetimeGregorian(1904, 8, 31, 0, 0, 0, 0, has_year_zero=False),\n",
       "       cftime.DatetimeGregorian(1905, 8, 31, 0, 0, 0, 0, has_year_zero=False),\n",
       "       cftime.DatetimeGregorian(1906, 8, 31, 0, 0, 0, 0, has_year_zero=False),\n",
       "       cftime.DatetimeGregorian(1907, 8, 31, 0, 0, 0, 0, has_year_zero=False),\n",
       "       cftime.DatetimeGregorian(1908, 8, 31, 0, 0, 0, 0, has_year_zero=False),\n",
       "       cftime.DatetimeGregorian(1909, 8, 31, 0, 0, 0, 0, has_year_zero=False),\n",
       "       cftime.DatetimeGregorian(1910, 8, 31, 0, 0, 0, 0, has_year_zero=False),\n",
       "       cftime.DatetimeGregorian(1911, 8, 31, 0, 0, 0, 0, has_year_zero=False),\n",
       "       cftime.DatetimeGregorian(1912, 8, 31, 0, 0, 0, 0, has_year_zero=False),\n",
       "       cftime.DatetimeGregorian(1913, 8, 31, 0, 0, 0, 0, has_year_zero=False),\n",
       "       cftime.DatetimeGregorian(1914, 8, 31, 0, 0, 0, 0, has_year_zero=False),\n",
       "       cftime.DatetimeGregorian(1915, 8, 31, 0, 0, 0, 0, has_year_zero=False),\n",
       "       cftime.DatetimeGregorian(1916, 8, 31, 0, 0, 0, 0, has_year_zero=False),\n",
       "       cftime.DatetimeGregorian(1917, 8, 31, 0, 0, 0, 0, has_year_zero=False),\n",
       "       cftime.DatetimeGregorian(1918, 8, 31, 0, 0, 0, 0, has_year_zero=False),\n",
       "       cftime.DatetimeGregorian(1919, 8, 31, 0, 0, 0, 0, has_year_zero=False),\n",
       "       cftime.DatetimeGregorian(1920, 8, 31, 0, 0, 0, 0, has_year_zero=False),\n",
       "       cftime.DatetimeGregorian(1921, 8, 31, 0, 0, 0, 0, has_year_zero=False),\n",
       "       cftime.DatetimeGregorian(1922, 8, 31, 0, 0, 0, 0, has_year_zero=False),\n",
       "       cftime.DatetimeGregorian(1923, 8, 31, 0, 0, 0, 0, has_year_zero=False),\n",
       "       cftime.DatetimeGregorian(1924, 8, 31, 0, 0, 0, 0, has_year_zero=False),\n",
       "       cftime.DatetimeGregorian(1925, 8, 31, 0, 0, 0, 0, has_year_zero=False),\n",
       "       cftime.DatetimeGregorian(1926, 8, 31, 0, 0, 0, 0, has_year_zero=False),\n",
       "       cftime.DatetimeGregorian(1927, 8, 31, 0, 0, 0, 0, has_year_zero=False),\n",
       "       cftime.DatetimeGregorian(1928, 8, 31, 0, 0, 0, 0, has_year_zero=False),\n",
       "       cftime.DatetimeGregorian(1929, 8, 31, 0, 0, 0, 0, has_year_zero=False),\n",
       "       cftime.DatetimeGregorian(1930, 8, 31, 0, 0, 0, 0, has_year_zero=False),\n",
       "       cftime.DatetimeGregorian(1931, 8, 31, 0, 0, 0, 0, has_year_zero=False),\n",
       "       cftime.DatetimeGregorian(1932, 8, 31, 0, 0, 0, 0, has_year_zero=False),\n",
       "       cftime.DatetimeGregorian(1933, 8, 31, 0, 0, 0, 0, has_year_zero=False),\n",
       "       cftime.DatetimeGregorian(1934, 8, 31, 0, 0, 0, 0, has_year_zero=False),\n",
       "       cftime.DatetimeGregorian(1935, 8, 31, 0, 0, 0, 0, has_year_zero=False),\n",
       "       cftime.DatetimeGregorian(1936, 8, 31, 0, 0, 0, 0, has_year_zero=False),\n",
       "       cftime.DatetimeGregorian(1937, 8, 31, 0, 0, 0, 0, has_year_zero=False),\n",
       "       cftime.DatetimeGregorian(1938, 8, 31, 0, 0, 0, 0, has_year_zero=False),\n",
       "       cftime.DatetimeGregorian(1939, 8, 31, 0, 0, 0, 0, has_year_zero=False),\n",
       "       cftime.DatetimeGregorian(1940, 8, 31, 0, 0, 0, 0, has_year_zero=False),\n",
       "       cftime.DatetimeGregorian(1941, 8, 31, 0, 0, 0, 0, has_year_zero=False),\n",
       "       cftime.DatetimeGregorian(1942, 8, 31, 0, 0, 0, 0, has_year_zero=False),\n",
       "       cftime.DatetimeGregorian(1943, 8, 31, 0, 0, 0, 0, has_year_zero=False),\n",
       "       cftime.DatetimeGregorian(1944, 8, 31, 0, 0, 0, 0, has_year_zero=False),\n",
       "       cftime.DatetimeGregorian(1945, 8, 31, 0, 0, 0, 0, has_year_zero=False),\n",
       "       cftime.DatetimeGregorian(1946, 8, 31, 0, 0, 0, 0, has_year_zero=False),\n",
       "       cftime.DatetimeGregorian(1947, 8, 31, 0, 0, 0, 0, has_year_zero=False),\n",
       "       cftime.DatetimeGregorian(1948, 8, 31, 0, 0, 0, 0, has_year_zero=False),\n",
       "       cftime.DatetimeGregorian(1949, 8, 31, 0, 0, 0, 0, has_year_zero=False),\n",
       "       cftime.DatetimeGregorian(1950, 8, 31, 0, 0, 0, 0, has_year_zero=False),\n",
       "       cftime.DatetimeGregorian(1951, 8, 31, 0, 0, 0, 0, has_year_zero=False),\n",
       "       cftime.DatetimeGregorian(1952, 8, 31, 0, 0, 0, 0, has_year_zero=False),\n",
       "       cftime.DatetimeGregorian(1953, 8, 31, 0, 0, 0, 0, has_year_zero=False),\n",
       "       cftime.DatetimeGregorian(1954, 8, 31, 0, 0, 0, 0, has_year_zero=False),\n",
       "       cftime.DatetimeGregorian(1955, 8, 31, 0, 0, 0, 0, has_year_zero=False),\n",
       "       cftime.DatetimeGregorian(1956, 8, 31, 0, 0, 0, 0, has_year_zero=False),\n",
       "       cftime.DatetimeGregorian(1957, 8, 31, 0, 0, 0, 0, has_year_zero=False),\n",
       "       cftime.DatetimeGregorian(1958, 8, 31, 0, 0, 0, 0, has_year_zero=False),\n",
       "       cftime.DatetimeGregorian(1959, 8, 31, 0, 0, 0, 0, has_year_zero=False),\n",
       "       cftime.DatetimeGregorian(1960, 8, 31, 0, 0, 0, 0, has_year_zero=False),\n",
       "       cftime.DatetimeGregorian(1961, 8, 31, 0, 0, 0, 0, has_year_zero=False),\n",
       "       cftime.DatetimeGregorian(1962, 8, 31, 0, 0, 0, 0, has_year_zero=False),\n",
       "       cftime.DatetimeGregorian(1963, 8, 31, 0, 0, 0, 0, has_year_zero=False),\n",
       "       cftime.DatetimeGregorian(1964, 8, 31, 0, 0, 0, 0, has_year_zero=False),\n",
       "       cftime.DatetimeGregorian(1965, 8, 31, 0, 0, 0, 0, has_year_zero=False),\n",
       "       cftime.DatetimeGregorian(1966, 8, 31, 0, 0, 0, 0, has_year_zero=False),\n",
       "       cftime.DatetimeGregorian(1967, 8, 31, 0, 0, 0, 0, has_year_zero=False),\n",
       "       cftime.DatetimeGregorian(1968, 8, 31, 0, 0, 0, 0, has_year_zero=False),\n",
       "       cftime.DatetimeGregorian(1969, 8, 31, 0, 0, 0, 0, has_year_zero=False),\n",
       "       cftime.DatetimeGregorian(1970, 8, 31, 0, 0, 0, 0, has_year_zero=False),\n",
       "       cftime.DatetimeGregorian(1971, 8, 31, 0, 0, 0, 0, has_year_zero=False),\n",
       "       cftime.DatetimeGregorian(1972, 8, 31, 0, 0, 0, 0, has_year_zero=False),\n",
       "       cftime.DatetimeGregorian(1973, 8, 31, 0, 0, 0, 0, has_year_zero=False),\n",
       "       cftime.DatetimeGregorian(1974, 8, 31, 0, 0, 0, 0, has_year_zero=False),\n",
       "       cftime.DatetimeGregorian(1975, 8, 31, 0, 0, 0, 0, has_year_zero=False),\n",
       "       cftime.DatetimeGregorian(1976, 8, 31, 0, 0, 0, 0, has_year_zero=False),\n",
       "       cftime.DatetimeGregorian(1977, 8, 31, 0, 0, 0, 0, has_year_zero=False),\n",
       "       cftime.DatetimeGregorian(1978, 8, 31, 0, 0, 0, 0, has_year_zero=False),\n",
       "       cftime.DatetimeGregorian(1979, 8, 31, 0, 0, 0, 0, has_year_zero=False),\n",
       "       cftime.DatetimeGregorian(1980, 8, 31, 0, 0, 0, 0, has_year_zero=False),\n",
       "       cftime.DatetimeGregorian(1981, 8, 31, 0, 0, 0, 0, has_year_zero=False),\n",
       "       cftime.DatetimeGregorian(1982, 8, 31, 0, 0, 0, 0, has_year_zero=False),\n",
       "       cftime.DatetimeGregorian(1983, 8, 31, 0, 0, 0, 0, has_year_zero=False),\n",
       "       cftime.DatetimeGregorian(1984, 8, 31, 0, 0, 0, 0, has_year_zero=False),\n",
       "       cftime.DatetimeGregorian(1985, 8, 31, 0, 0, 0, 0, has_year_zero=False),\n",
       "       cftime.DatetimeGregorian(1986, 8, 31, 0, 0, 0, 0, has_year_zero=False),\n",
       "       cftime.DatetimeGregorian(1987, 8, 31, 0, 0, 0, 0, has_year_zero=False),\n",
       "       cftime.DatetimeGregorian(1988, 8, 31, 0, 0, 0, 0, has_year_zero=False),\n",
       "       cftime.DatetimeGregorian(1989, 8, 31, 0, 0, 0, 0, has_year_zero=False),\n",
       "       cftime.DatetimeGregorian(1990, 8, 31, 0, 0, 0, 0, has_year_zero=False),\n",
       "       cftime.DatetimeGregorian(1991, 8, 31, 0, 0, 0, 0, has_year_zero=False),\n",
       "       cftime.DatetimeGregorian(1992, 8, 31, 0, 0, 0, 0, has_year_zero=False),\n",
       "       cftime.DatetimeGregorian(1993, 8, 31, 0, 0, 0, 0, has_year_zero=False),\n",
       "       cftime.DatetimeGregorian(1994, 8, 31, 0, 0, 0, 0, has_year_zero=False),\n",
       "       cftime.DatetimeGregorian(1995, 8, 31, 0, 0, 0, 0, has_year_zero=False),\n",
       "       cftime.DatetimeGregorian(1996, 8, 31, 0, 0, 0, 0, has_year_zero=False),\n",
       "       cftime.DatetimeGregorian(1997, 8, 31, 0, 0, 0, 0, has_year_zero=False),\n",
       "       cftime.DatetimeGregorian(1998, 8, 31, 0, 0, 0, 0, has_year_zero=False),\n",
       "       cftime.DatetimeGregorian(1999, 8, 31, 0, 0, 0, 0, has_year_zero=False),\n",
       "       cftime.DatetimeGregorian(2000, 8, 31, 0, 0, 0, 0, has_year_zero=False),\n",
       "       cftime.DatetimeGregorian(2001, 8, 31, 0, 0, 0, 0, has_year_zero=False),\n",
       "       cftime.DatetimeGregorian(2002, 8, 31, 0, 0, 0, 0, has_year_zero=False),\n",
       "       cftime.DatetimeGregorian(2003, 8, 31, 0, 0, 0, 0, has_year_zero=False),\n",
       "       cftime.DatetimeGregorian(2004, 8, 31, 0, 0, 0, 0, has_year_zero=False),\n",
       "       cftime.DatetimeGregorian(2005, 8, 31, 0, 0, 0, 0, has_year_zero=False),\n",
       "       cftime.DatetimeGregorian(2006, 8, 31, 0, 0, 0, 0, has_year_zero=False),\n",
       "       cftime.DatetimeGregorian(2007, 8, 31, 0, 0, 0, 0, has_year_zero=False),\n",
       "       cftime.DatetimeGregorian(2008, 8, 31, 0, 0, 0, 0, has_year_zero=False),\n",
       "       cftime.DatetimeGregorian(2009, 8, 31, 0, 0, 0, 0, has_year_zero=False),\n",
       "       cftime.DatetimeGregorian(2010, 8, 31, 0, 0, 0, 0, has_year_zero=False),\n",
       "       cftime.DatetimeGregorian(2011, 8, 31, 0, 0, 0, 0, has_year_zero=False),\n",
       "       cftime.DatetimeGregorian(2012, 8, 31, 0, 0, 0, 0, has_year_zero=False),\n",
       "       cftime.DatetimeGregorian(2013, 8, 31, 0, 0, 0, 0, has_year_zero=False),\n",
       "       cftime.DatetimeGregorian(2014, 8, 31, 0, 0, 0, 0, has_year_zero=False),\n",
       "       cftime.DatetimeGregorian(2015, 8, 31, 0, 0, 0, 0, has_year_zero=False),\n",
       "       cftime.DatetimeGregorian(2016, 8, 31, 0, 0, 0, 0, has_year_zero=False),\n",
       "       cftime.DatetimeGregorian(2017, 8, 31, 0, 0, 0, 0, has_year_zero=False),\n",
       "       cftime.DatetimeGregorian(2018, 8, 31, 0, 0, 0, 0, has_year_zero=False),\n",
       "       cftime.DatetimeGregorian(2019, 8, 31, 0, 0, 0, 0, has_year_zero=False),\n",
       "       cftime.DatetimeGregorian(2020, 8, 31, 0, 0, 0, 0, has_year_zero=False),\n",
       "       cftime.DatetimeGregorian(2021, 8, 31, 0, 0, 0, 0, has_year_zero=False),\n",
       "       cftime.DatetimeGregorian(2022, 8, 31, 0, 0, 0, 0, has_year_zero=False)],\n",
       "      dtype=object)</pre></div></li></ul></div></li><li class='xr-section-item'><input id='section-34f10b7a-9763-4279-9aaa-bfc6ec64fc32' class='xr-section-summary-in' type='checkbox'  checked><label for='section-34f10b7a-9763-4279-9aaa-bfc6ec64fc32' class='xr-section-summary' >Data variables: <span>(1)</span></label><div class='xr-section-inline-details'></div><div class='xr-section-details'><ul class='xr-var-list'><li class='xr-var-item'><div class='xr-var-name'><span>pr</span></div><div class='xr-var-dims'>(time)</div><div class='xr-var-dtype'>float64</div><div class='xr-var-preview xr-preview'>dask.array&lt;chunksize=(123,), meta=np.ndarray&gt;</div><input id='attrs-67c4ecbe-e990-4e21-9511-4cc321c3122e' class='xr-var-attrs-in' type='checkbox' ><label for='attrs-67c4ecbe-e990-4e21-9511-4cc321c3122e' title='Show/Hide attributes'><svg class='icon xr-icon-file-text2'><use xlink:href='#icon-file-text2'></use></svg></label><input id='data-d2f7fced-e573-4684-9884-e3d7e9995255' class='xr-var-data-in' type='checkbox'><label for='data-d2f7fced-e573-4684-9884-e3d7e9995255' title='Show/Hide data repr'><svg class='icon xr-icon-database'><use xlink:href='#icon-database'></use></svg></label><div class='xr-var-attrs'><dl class='xr-attrs'><dt><span>analysis_time :</span></dt><dd>2010-10-23 14:49:46 UTC</dd><dt><span>analysis_version_number :</span></dt><dd>3.01</dd><dt><span>cell_methods :</span></dt><dd>time: sum</dd><dt><span>frequency :</span></dt><dd>daily</dd><dt><span>length_scale_for_analysis :</span></dt><dd>80.0</dd><dt><span>long_name :</span></dt><dd>Daily precipitation</dd><dt><span>number_of_stations_reporting :</span></dt><dd>2757</dd><dt><span>source :</span></dt><dd>Interpolated surface observations</dd><dt><span>standard_name :</span></dt><dd>lwe_thickness_of_precipitation_amount</dd><dt><span>units :</span></dt><dd>mm day-1</dd></dl></div><div class='xr-var-data'><table>\n",
       "<tr>\n",
       "<td>\n",
       "<table>\n",
       "  <thead>\n",
       "    <tr><td> </td><th> Array </th><th> Chunk </th></tr>\n",
       "  </thead>\n",
       "  <tbody>\n",
       "    <tr><th> Bytes </th><td> 0.96 kiB </td> <td> 0.96 kiB </td></tr>\n",
       "    <tr><th> Shape </th><td> (123,) </td> <td> (123,) </td></tr>\n",
       "    <tr><th> Count </th><td> 2 Tasks </td><td> 1 Chunks </td></tr>\n",
       "    <tr><th> Type </th><td> float64 </td><td> numpy.ndarray </td></tr>\n",
       "  </tbody>\n",
       "</table>\n",
       "</td>\n",
       "<td>\n",
       "<svg width=\"170\" height=\"75\" style=\"stroke:rgb(0,0,0);stroke-width:1\" >\n",
       "\n",
       "  <!-- Horizontal lines -->\n",
       "  <line x1=\"0\" y1=\"0\" x2=\"120\" y2=\"0\" style=\"stroke-width:2\" />\n",
       "  <line x1=\"0\" y1=\"25\" x2=\"120\" y2=\"25\" style=\"stroke-width:2\" />\n",
       "\n",
       "  <!-- Vertical lines -->\n",
       "  <line x1=\"0\" y1=\"0\" x2=\"0\" y2=\"25\" style=\"stroke-width:2\" />\n",
       "  <line x1=\"120\" y1=\"0\" x2=\"120\" y2=\"25\" style=\"stroke-width:2\" />\n",
       "\n",
       "  <!-- Colored Rectangle -->\n",
       "  <polygon points=\"0.0,0.0 120.0,0.0 120.0,25.412616514582485 0.0,25.412616514582485\" style=\"fill:#ECB172A0;stroke-width:0\"/>\n",
       "\n",
       "  <!-- Text -->\n",
       "  <text x=\"60.000000\" y=\"45.412617\" font-size=\"1.0rem\" font-weight=\"100\" text-anchor=\"middle\" >123</text>\n",
       "  <text x=\"140.000000\" y=\"12.706308\" font-size=\"1.0rem\" font-weight=\"100\" text-anchor=\"middle\" transform=\"rotate(0,140.000000,12.706308)\">1</text>\n",
       "</svg>\n",
       "</td>\n",
       "</tr>\n",
       "</table></div></li></ul></div></li><li class='xr-section-item'><input id='section-8fa4eadc-c659-499b-8c4f-f806c422a074' class='xr-section-summary-in' type='checkbox'  ><label for='section-8fa4eadc-c659-499b-8c4f-f806c422a074' class='xr-section-summary' >Attributes: <span>(33)</span></label><div class='xr-section-inline-details'></div><div class='xr-section-details'><dl class='xr-attrs'><dt><span>CDI :</span></dt><dd>Climate Data Interface version ?? (http://mpimet.mpg.de/cdi)</dd><dt><span>CDO :</span></dt><dd>Climate Data Operators version 1.7.0 (http://mpimet.mpg.de/cdo)</dd><dt><span>Conventions :</span></dt><dd>CF-1.6</dd><dt><span>acknowledgment :</span></dt><dd>The Australian Government, Bureau of Meteorology; The Australian Water Availability Project; The AusCover facility of the Terrestrial Ecosystem Research Network (TERN)</dd><dt><span>analysis_components :</span></dt><dd>total: the gridded accumulation of rainfall.</dd><dt><span>bom-cmp-awap_version :</span></dt><dd>bom-cmp-awap-1.00-89.0.x86_64</dd><dt><span>bom-cmp-util_aifs2nc_version :</span></dt><dd>bom-cmp-util_aifs2nc-v1.1.0-2.x86_64</dd><dt><span>cdm_data_type :</span></dt><dd>Grid</dd><dt><span>copyright :</span></dt><dd>(C) Copyright Commonwealth of Australia 2017, Bureau of Meteorology (ABN 92637 533532), see http://www.bom.gov.au/other/copyright.shtml for terms and conditions of reuse.</dd><dt><span>data_format :</span></dt><dd>netCDF4 with zlib compression</dd><dt><span>date_created :</span></dt><dd>2017-01-17T22:13:51.976225</dd><dt><span>geospatial_lat_max :</span></dt><dd>-9.975000381469727</dd><dt><span>geospatial_lat_min :</span></dt><dd>-44.525001525878906</dd><dt><span>geospatial_lon_max :</span></dt><dd>156.27499389648438</dd><dt><span>geospatial_lon_min :</span></dt><dd>111.9749984741211</dd><dt><span>history :</span></dt><dd>Wed Apr 20 14:33:58 2022: /home/599/dbi599/east-coast-rain/AGCD_east-coast-flood-region.ipynb (git@github.com:AusClimateService/east-coast-rain)</dd><dt><span>id :</span></dt><dd>Australian Gridded Climate Data (AGCD)</dd><dt><span>institution :</span></dt><dd>Australian Bureau of Meteorology, GPO Box 1289, Melbourne VIC 3001, Australia</dd><dt><span>keywords :</span></dt><dd>Earth Science, Atmosphere, Precipitation, Precipitation Amount, Liquid Water Equivalent</dd><dt><span>keywords_reference :</span></dt><dd>Global Change Master Directory (GCMD). 2015. GCMD Keywords, Version 8.1. Greenbelt, MD: Global Change Data Center, Science and Exploration Directorate, Goddard Space Flight Center (GSFC) National Aeronautics and Space Administration (NASA). URL:http://gcmd.nasa.gov/learn/keywords.html</dd><dt><span>keywords_vocabulary :</span></dt><dd>GCMD Science Keywords, Version 8.1</dd><dt><span>licence :</span></dt><dd>Copyright for any data supplied by the Bureau of Meteorology is held in the Commonwealth of Australia and the purchaser shall give acknowledgement of the source in reference to the data. Apart from dealings under the Copyright Act 1968, the purchaser shall not reproduce (electronically or otherwise), modify or supply (by sale or otherwise) these data without written permission from the supplier.</dd><dt><span>naming_authority :</span></dt><dd>au.gov.bom</dd><dt><span>netcdf_version :</span></dt><dd>4.3.0 of Jul 16 2013 05:46:56 $</dd><dt><span>original_AIFS_header :</span></dt><dd>SOUTHWEST_LATITUDE: 44.5, SOUTHWEST_LONGITUDE: 112.0, NUMBER_OF_LONGITUDES_IN_GRID: 886, RAINFALL_ANALYSIS: 1900010119000101, LENGTH_SCALE_FOR_ANALYSIS: 80.0, BUREAU_OF_METEOROLOGY, NUMBER_OF_LATITUDES_IN_GRID: 691, GRID_INCREMENT_OF_LONGITUDE: 0.05, GRID_INCREMENT_OF_LATITUDE: 0.05, ROW_CHANGES_WITH_LONGITUDE, NUMBER_OF_STATIONS_REPORTING: 2757, ANALYSIS_TIME: 2010-10-23 14:49:46 UTC, COLUMN_NUMBER_AT_SOUTHWEST_CORNER: 1, ROW_NUMBER_AT_SOUTHWEST_CORNER: 1, ANALYSIS_VERSION_NUMBER: 3.01, LATITUDE_-_LONGITUDE_GRID</dd><dt><span>references :</span></dt><dd>http://www.bom.gov.au/amm/docs/2009/jones_hres.pdf; http://www.csiro.au/awap; http://www.cawcr.gov.au/technical-reports/CTR_013.pdf</dd><dt><span>standard_name_vocabulary :</span></dt><dd>CF Standard Names, v28</dd><dt><span>summary :</span></dt><dd>The daily and monthly rainfall data represents the amount of precipitation of any type (including the liquid equivalent of frozen hydrometeors such as hail and snow) observed by means of rain gauges stationed across Australia. These gauges measure millimetres of liquid water depth over a 24-hour period running from 9am local clock time the previous day to 9am on the observed day. Rainfall data from up to 6500 sites across the country are analysed, with limited quality control, onto 0.05x0.05 degree grids using the technique described in Jones et al. (2009). Monthly rainfall totals are calculated from the accumulation of the contributing daily rainfall totals, and may incorporate multi-day rainfall totals if observations were missing on any one day. Weekly rainfall totals are calculated from the sum of the daily grids. Multi-month rainfall totals are calculated from the sum of monthly grids. Month-to-date and Year-to-date rainfall grids are calculated from the sum of the contributing monthly and daily grids. </dd><dt><span>time_coverage_end :</span></dt><dd>1900-01-01T09:00:00</dd><dt><span>time_coverage_start :</span></dt><dd>1899-12-31T09:00:00</dd><dt><span>title :</span></dt><dd>Interpolated Rain Gauge Precipitation</dd><dt><span>url :</span></dt><dd>http://www.bom.gov.au/climate/</dd><dt><span>uuid :</span></dt><dd>14333ae2-28fe-4cb6-9f00-677adc94f25e</dd></dl></div></li></ul></div></div>"
      ],
      "text/plain": [
       "<xarray.Dataset>\n",
       "Dimensions:  (time: 123)\n",
       "Coordinates:\n",
       "  * time     (time) object 1900-08-31 00:00:00 ... 2022-08-31 00:00:00\n",
       "Data variables:\n",
       "    pr       (time) float64 dask.array<chunksize=(123,), meta=np.ndarray>\n",
       "Attributes: (12/33)\n",
       "    CDI:                           Climate Data Interface version ?? (http://...\n",
       "    CDO:                           Climate Data Operators version 1.7.0 (http...\n",
       "    Conventions:                   CF-1.6\n",
       "    acknowledgment:                The Australian Government, Bureau of Meteo...\n",
       "    analysis_components:           total: the gridded accumulation of rainfall.\n",
       "    bom-cmp-awap_version:          bom-cmp-awap-1.00-89.0.x86_64\n",
       "    ...                            ...\n",
       "    summary:                       The daily and monthly rainfall data repres...\n",
       "    time_coverage_end:             1900-01-01T09:00:00\n",
       "    time_coverage_start:           1899-12-31T09:00:00\n",
       "    title:                         Interpolated Rain Gauge Precipitation\n",
       "    url:                           http://www.bom.gov.au/climate/\n",
       "    uuid:                          14333ae2-28fe-4cb6-9f00-677adc94f25e"
      ]
     },
     "execution_count": 6,
     "metadata": {},
     "output_type": "execute_result"
    }
   ],
   "source": [
    "agcd_ds"
   ]
  },
  {
   "cell_type": "code",
   "execution_count": 7,
   "id": "9c701895",
   "metadata": {
    "execution": {
     "iopub.execute_input": "2022-04-25T22:12:32.643934Z",
     "iopub.status.busy": "2022-04-25T22:12:32.639030Z",
     "iopub.status.idle": "2022-04-25T22:12:32.649383Z",
     "shell.execute_reply": "2022-04-25T22:12:32.650830Z"
    },
    "papermill": {
     "duration": 0.085978,
     "end_time": "2022-04-25T22:12:32.651336",
     "exception": false,
     "start_time": "2022-04-25T22:12:32.565358",
     "status": "completed"
    },
    "tags": []
   },
   "outputs": [],
   "source": [
    "years = agcd_ds['time'].dt.year.values\n",
    "agcd_df = pd.DataFrame(index=years)\n",
    "agcd_df['pr'] = agcd_ds['pr'].values"
   ]
  },
  {
   "cell_type": "code",
   "execution_count": 8,
   "id": "c8bfcbcf",
   "metadata": {
    "execution": {
     "iopub.execute_input": "2022-04-25T22:12:32.762039Z",
     "iopub.status.busy": "2022-04-25T22:12:32.760015Z",
     "iopub.status.idle": "2022-04-25T22:12:32.768732Z",
     "shell.execute_reply": "2022-04-25T22:12:32.769562Z"
    },
    "papermill": {
     "duration": 0.070823,
     "end_time": "2022-04-25T22:12:32.769830",
     "exception": false,
     "start_time": "2022-04-25T22:12:32.699007",
     "status": "completed"
    },
    "tags": []
   },
   "outputs": [
    {
     "name": "stdout",
     "output_type": "stream",
     "text": [
      "410.74468994140625\n"
     ]
    }
   ],
   "source": [
    "pr2022 = agcd_ds['pr'].values.max()\n",
    "print(pr2022)"
   ]
  },
  {
   "cell_type": "markdown",
   "id": "f127f972",
   "metadata": {
    "papermill": {
     "duration": 0.050284,
     "end_time": "2022-04-25T22:12:32.866052",
     "exception": false,
     "start_time": "2022-04-25T22:12:32.815768",
     "status": "completed"
    },
    "tags": []
   },
   "source": [
    "## Region selection"
   ]
  },
  {
   "cell_type": "code",
   "execution_count": 9,
   "id": "0c5bfc47",
   "metadata": {
    "execution": {
     "iopub.execute_input": "2022-04-25T22:12:32.964325Z",
     "iopub.status.busy": "2022-04-25T22:12:32.963065Z",
     "iopub.status.idle": "2022-04-25T22:12:32.976141Z",
     "shell.execute_reply": "2022-04-25T22:12:32.974384Z"
    },
    "papermill": {
     "duration": 0.066103,
     "end_time": "2022-04-25T22:12:32.976638",
     "exception": false,
     "start_time": "2022-04-25T22:12:32.910535",
     "status": "completed"
    },
    "tags": []
   },
   "outputs": [],
   "source": [
    "with open(file_list) as f:\n",
    "    all_files = f.read()\n",
    "    first_file = all_files.split('\\n', 1)[0]"
   ]
  },
  {
   "cell_type": "code",
   "execution_count": 10,
   "id": "9de3847d",
   "metadata": {
    "execution": {
     "iopub.execute_input": "2022-04-25T22:12:33.087724Z",
     "iopub.status.busy": "2022-04-25T22:12:33.086433Z",
     "iopub.status.idle": "2022-04-25T22:12:33.095873Z",
     "shell.execute_reply": "2022-04-25T22:12:33.094885Z"
    },
    "papermill": {
     "duration": 0.069373,
     "end_time": "2022-04-25T22:12:33.096197",
     "exception": false,
     "start_time": "2022-04-25T22:12:33.026824",
     "status": "completed"
    },
    "tags": []
   },
   "outputs": [
    {
     "data": {
      "text/plain": [
       "'/g/data/oi10/replicas/CMIP6/DCPP/MPI-M/MPI-ESM1-2-HR/dcppA-hindcast/s1960-r1i1p1f1/day/pr/gn/v20190929/pr_day_MPI-ESM1-2-HR_dcppA-hindcast_s1960-r1i1p1f1_gn_19601101-19701231.nc'"
      ]
     },
     "execution_count": 10,
     "metadata": {},
     "output_type": "execute_result"
    }
   ],
   "source": [
    "first_file"
   ]
  },
  {
   "cell_type": "code",
   "execution_count": 11,
   "id": "d218574b",
   "metadata": {
    "execution": {
     "iopub.execute_input": "2022-04-25T22:12:33.502849Z",
     "iopub.status.busy": "2022-04-25T22:12:33.208329Z",
     "iopub.status.idle": "2022-04-25T22:12:33.549366Z",
     "shell.execute_reply": "2022-04-25T22:12:33.550504Z"
    },
    "papermill": {
     "duration": 0.408339,
     "end_time": "2022-04-25T22:12:33.550986",
     "exception": false,
     "start_time": "2022-04-25T22:12:33.142647",
     "status": "completed"
    },
    "tags": []
   },
   "outputs": [],
   "source": [
    "shapes = gp.read_file(shape_file)"
   ]
  },
  {
   "cell_type": "code",
   "execution_count": 12,
   "id": "6b9e6200",
   "metadata": {
    "execution": {
     "iopub.execute_input": "2022-04-25T22:12:33.661491Z",
     "iopub.status.busy": "2022-04-25T22:12:33.660197Z",
     "iopub.status.idle": "2022-04-25T22:12:33.666344Z",
     "shell.execute_reply": "2022-04-25T22:12:33.667207Z"
    },
    "papermill": {
     "duration": 0.065351,
     "end_time": "2022-04-25T22:12:33.667613",
     "exception": false,
     "start_time": "2022-04-25T22:12:33.602262",
     "status": "completed"
    },
    "tags": []
   },
   "outputs": [],
   "source": [
    "isel_dict = {'time': 0}\n",
    "if model_name == 'CAFE':\n",
    "    isel_dict['ensemble'] = 0\n",
    "    metadata_file = '/home/599/dbi599/forks/unseen/config/dataset_cafe_daily.yml'\n",
    "else:\n",
    "    metadata_file = None"
   ]
  },
  {
   "cell_type": "code",
   "execution_count": 13,
   "id": "3c232f49",
   "metadata": {
    "execution": {
     "iopub.execute_input": "2022-04-25T22:12:33.774858Z",
     "iopub.status.busy": "2022-04-25T22:12:33.773970Z",
     "iopub.status.idle": "2022-04-25T22:12:35.721925Z",
     "shell.execute_reply": "2022-04-25T22:12:35.720045Z"
    },
    "papermill": {
     "duration": 2.005275,
     "end_time": "2022-04-25T22:12:35.722385",
     "exception": false,
     "start_time": "2022-04-25T22:12:33.717110",
     "status": "completed"
    },
    "tags": []
   },
   "outputs": [],
   "source": [
    "region_ds = fileio.open_dataset(\n",
    "    first_file,\n",
    "    metadata_file=metadata_file,\n",
    "    variables=['pr'],\n",
    "    spatial_coords=[-40, -20, 140, 160],\n",
    "    shapefile=shape_file,\n",
    "    shape_overlap=0.1,\n",
    "    units={'pr': 'mm day-1'},\n",
    "    isel=isel_dict,\n",
    ")"
   ]
  },
  {
   "cell_type": "code",
   "execution_count": 14,
   "id": "0eba243a",
   "metadata": {
    "execution": {
     "iopub.execute_input": "2022-04-25T22:12:35.842116Z",
     "iopub.status.busy": "2022-04-25T22:12:35.840553Z",
     "iopub.status.idle": "2022-04-25T22:12:39.507150Z",
     "shell.execute_reply": "2022-04-25T22:12:39.505743Z"
    },
    "papermill": {
     "duration": 3.731965,
     "end_time": "2022-04-25T22:12:39.507556",
     "exception": false,
     "start_time": "2022-04-25T22:12:35.775591",
     "status": "completed"
    },
    "tags": []
   },
   "outputs": [
    {
     "data": {
      "image/png": "[encoded data removed]",
      "text/plain": [
       "<Figure size 864x576 with 2 Axes>"
      ]
     },
     "metadata": {
      "needs_background": "light"
     },
     "output_type": "display_data"
    }
   ],
   "source": [
    "fig = plt.figure(figsize=[12,8])\n",
    "ax = fig.add_subplot(111, projection=ccrs.PlateCarree())\n",
    "region_ds['pr'].plot(\n",
    "    ax=ax,\n",
    "    transform=ccrs.PlateCarree(),\n",
    "    cmap='viridis_r',\n",
    ")\n",
    "ax.coastlines()\n",
    "ax.add_feature(cartopy.feature.STATES)\n",
    "ax.add_geometries(shapes.geometry, ccrs.PlateCarree(), facecolor='none', edgecolor='orange')\n",
    "plt.show()"
   ]
  },
  {
   "cell_type": "markdown",
   "id": "d082e6af",
   "metadata": {
    "papermill": {
     "duration": 0.051962,
     "end_time": "2022-04-25T22:12:39.612655",
     "exception": false,
     "start_time": "2022-04-25T22:12:39.560693",
     "status": "completed"
    },
    "tags": []
   },
   "source": [
    "## Model ensemble"
   ]
  },
  {
   "cell_type": "code",
   "execution_count": 15,
   "id": "1620b927",
   "metadata": {
    "execution": {
     "iopub.execute_input": "2022-04-25T22:12:39.719956Z",
     "iopub.status.busy": "2022-04-25T22:12:39.718674Z",
     "iopub.status.idle": "2022-04-25T22:12:39.772817Z",
     "shell.execute_reply": "2022-04-25T22:12:39.771040Z"
    },
    "papermill": {
     "duration": 0.112416,
     "end_time": "2022-04-25T22:12:39.773269",
     "exception": false,
     "start_time": "2022-04-25T22:12:39.660853",
     "status": "completed"
    },
    "tags": []
   },
   "outputs": [],
   "source": [
    "model_ds = fileio.open_dataset(model_file)\n",
    "model_bc_ds = fileio.open_dataset(model_bc_file)"
   ]
  },
  {
   "cell_type": "code",
   "execution_count": 16,
   "id": "b3d4100a",
   "metadata": {
    "execution": {
     "iopub.execute_input": "2022-04-25T22:12:39.893032Z",
     "iopub.status.busy": "2022-04-25T22:12:39.891748Z",
     "iopub.status.idle": "2022-04-25T22:12:39.913546Z",
     "shell.execute_reply": "2022-04-25T22:12:39.912194Z"
    },
    "papermill": {
     "duration": 0.087064,
     "end_time": "2022-04-25T22:12:39.913785",
     "exception": false,
     "start_time": "2022-04-25T22:12:39.826721",
     "status": "completed"
    },
    "tags": []
   },
   "outputs": [
    {
     "data": {
      "text/html": [
       "<div><svg style=\"position: absolute; width: 0; height: 0; overflow: hidden\">\n",
       "<defs>\n",
       "<symbol id=\"icon-database\" viewBox=\"0 0 32 32\">\n",
       "<path d=\"M16 0c-8.837 0-16 2.239-16 5v4c0 2.761 7.163 5 16 5s16-2.239 16-5v-4c0-2.761-7.163-5-16-5z\"></path>\n",
       "<path d=\"M16 17c-8.837 0-16-2.239-16-5v6c0 2.761 7.163 5 16 5s16-2.239 16-5v-6c0 2.761-7.163 5-16 5z\"></path>\n",
       "<path d=\"M16 26c-8.837 0-16-2.239-16-5v6c0 2.761 7.163 5 16 5s16-2.239 16-5v-6c0 2.761-7.163 5-16 5z\"></path>\n",
       "</symbol>\n",
       "<symbol id=\"icon-file-text2\" viewBox=\"0 0 32 32\">\n",
       "<path d=\"M28.681 7.159c-0.694-0.947-1.662-2.053-2.724-3.116s-2.169-2.030-3.116-2.724c-1.612-1.182-2.393-1.319-2.841-1.319h-15.5c-1.378 0-2.5 1.121-2.5 2.5v27c0 1.378 1.122 2.5 2.5 2.5h23c1.378 0 2.5-1.122 2.5-2.5v-19.5c0-0.448-0.137-1.23-1.319-2.841zM24.543 5.457c0.959 0.959 1.712 1.825 2.268 2.543h-4.811v-4.811c0.718 0.556 1.584 1.309 2.543 2.268zM28 29.5c0 0.271-0.229 0.5-0.5 0.5h-23c-0.271 0-0.5-0.229-0.5-0.5v-27c0-0.271 0.229-0.5 0.5-0.5 0 0 15.499-0 15.5 0v7c0 0.552 0.448 1 1 1h7v19.5z\"></path>\n",
       "<path d=\"M23 26h-14c-0.552 0-1-0.448-1-1s0.448-1 1-1h14c0.552 0 1 0.448 1 1s-0.448 1-1 1z\"></path>\n",
       "<path d=\"M23 22h-14c-0.552 0-1-0.448-1-1s0.448-1 1-1h14c0.552 0 1 0.448 1 1s-0.448 1-1 1z\"></path>\n",
       "<path d=\"M23 18h-14c-0.552 0-1-0.448-1-1s0.448-1 1-1h14c0.552 0 1 0.448 1 1s-0.448 1-1 1z\"></path>\n",
       "</symbol>\n",
       "</defs>\n",
       "</svg>\n",
       "<style>/* CSS stylesheet for displaying xarray objects in jupyterlab.\n",
       " *\n",
       " */\n",
       "\n",
       ":root {\n",
       "  --xr-font-color0: var(--jp-content-font-color0, rgba(0, 0, 0, 1));\n",
       "  --xr-font-color2: var(--jp-content-font-color2, rgba(0, 0, 0, 0.54));\n",
       "  --xr-font-color3: var(--jp-content-font-color3, rgba(0, 0, 0, 0.38));\n",
       "  --xr-border-color: var(--jp-border-color2, #e0e0e0);\n",
       "  --xr-disabled-color: var(--jp-layout-color3, #bdbdbd);\n",
       "  --xr-background-color: var(--jp-layout-color0, white);\n",
       "  --xr-background-color-row-even: var(--jp-layout-color1, white);\n",
       "  --xr-background-color-row-odd: var(--jp-layout-color2, #eeeeee);\n",
       "}\n",
       "\n",
       "html[theme=dark],\n",
       "body.vscode-dark {\n",
       "  --xr-font-color0: rgba(255, 255, 255, 1);\n",
       "  --xr-font-color2: rgba(255, 255, 255, 0.54);\n",
       "  --xr-font-color3: rgba(255, 255, 255, 0.38);\n",
       "  --xr-border-color: #1F1F1F;\n",
       "  --xr-disabled-color: #515151;\n",
       "  --xr-background-color: #111111;\n",
       "  --xr-background-color-row-even: #111111;\n",
       "  --xr-background-color-row-odd: #313131;\n",
       "}\n",
       "\n",
       ".xr-wrap {\n",
       "  display: block !important;\n",
       "  min-width: 300px;\n",
       "  max-width: 700px;\n",
       "}\n",
       "\n",
       ".xr-text-repr-fallback {\n",
       "  /* fallback to plain text repr when CSS is not injected (untrusted notebook) */\n",
       "  display: none;\n",
       "}\n",
       "\n",
       ".xr-header {\n",
       "  padding-top: 6px;\n",
       "  padding-bottom: 6px;\n",
       "  margin-bottom: 4px;\n",
       "  border-bottom: solid 1px var(--xr-border-color);\n",
       "}\n",
       "\n",
       ".xr-header > div,\n",
       ".xr-header > ul {\n",
       "  display: inline;\n",
       "  margin-top: 0;\n",
       "  margin-bottom: 0;\n",
       "}\n",
       "\n",
       ".xr-obj-type,\n",
       ".xr-array-name {\n",
       "  margin-left: 2px;\n",
       "  margin-right: 10px;\n",
       "}\n",
       "\n",
       ".xr-obj-type {\n",
       "  color: var(--xr-font-color2);\n",
       "}\n",
       "\n",
       ".xr-sections {\n",
       "  padding-left: 0 !important;\n",
       "  display: grid;\n",
       "  grid-template-columns: 150px auto auto 1fr 20px 20px;\n",
       "}\n",
       "\n",
       ".xr-section-item {\n",
       "  display: contents;\n",
       "}\n",
       "\n",
       ".xr-section-item input {\n",
       "  display: none;\n",
       "}\n",
       "\n",
       ".xr-section-item input + label {\n",
       "  color: var(--xr-disabled-color);\n",
       "}\n",
       "\n",
       ".xr-section-item input:enabled + label {\n",
       "  cursor: pointer;\n",
       "  color: var(--xr-font-color2);\n",
       "}\n",
       "\n",
       ".xr-section-item input:enabled + label:hover {\n",
       "  color: var(--xr-font-color0);\n",
       "}\n",
       "\n",
       ".xr-section-summary {\n",
       "  grid-column: 1;\n",
       "  color: var(--xr-font-color2);\n",
       "  font-weight: 500;\n",
       "}\n",
       "\n",
       ".xr-section-summary > span {\n",
       "  display: inline-block;\n",
       "  padding-left: 0.5em;\n",
       "}\n",
       "\n",
       ".xr-section-summary-in:disabled + label {\n",
       "  color: var(--xr-font-color2);\n",
       "}\n",
       "\n",
       ".xr-section-summary-in + label:before {\n",
       "  display: inline-block;\n",
       "  content: '►';\n",
       "  font-size: 11px;\n",
       "  width: 15px;\n",
       "  text-align: center;\n",
       "}\n",
       "\n",
       ".xr-section-summary-in:disabled + label:before {\n",
       "  color: var(--xr-disabled-color);\n",
       "}\n",
       "\n",
       ".xr-section-summary-in:checked + label:before {\n",
       "  content: '▼';\n",
       "}\n",
       "\n",
       ".xr-section-summary-in:checked + label > span {\n",
       "  display: none;\n",
       "}\n",
       "\n",
       ".xr-section-summary,\n",
       ".xr-section-inline-details {\n",
       "  padding-top: 4px;\n",
       "  padding-bottom: 4px;\n",
       "}\n",
       "\n",
       ".xr-section-inline-details {\n",
       "  grid-column: 2 / -1;\n",
       "}\n",
       "\n",
       ".xr-section-details {\n",
       "  display: none;\n",
       "  grid-column: 1 / -1;\n",
       "  margin-bottom: 5px;\n",
       "}\n",
       "\n",
       ".xr-section-summary-in:checked ~ .xr-section-details {\n",
       "  display: contents;\n",
       "}\n",
       "\n",
       ".xr-array-wrap {\n",
       "  grid-column: 1 / -1;\n",
       "  display: grid;\n",
       "  grid-template-columns: 20px auto;\n",
       "}\n",
       "\n",
       ".xr-array-wrap > label {\n",
       "  grid-column: 1;\n",
       "  vertical-align: top;\n",
       "}\n",
       "\n",
       ".xr-preview {\n",
       "  color: var(--xr-font-color3);\n",
       "}\n",
       "\n",
       ".xr-array-preview,\n",
       ".xr-array-data {\n",
       "  padding: 0 5px !important;\n",
       "  grid-column: 2;\n",
       "}\n",
       "\n",
       ".xr-array-data,\n",
       ".xr-array-in:checked ~ .xr-array-preview {\n",
       "  display: none;\n",
       "}\n",
       "\n",
       ".xr-array-in:checked ~ .xr-array-data,\n",
       ".xr-array-preview {\n",
       "  display: inline-block;\n",
       "}\n",
       "\n",
       ".xr-dim-list {\n",
       "  display: inline-block !important;\n",
       "  list-style: none;\n",
       "  padding: 0 !important;\n",
       "  margin: 0;\n",
       "}\n",
       "\n",
       ".xr-dim-list li {\n",
       "  display: inline-block;\n",
       "  padding: 0;\n",
       "  margin: 0;\n",
       "}\n",
       "\n",
       ".xr-dim-list:before {\n",
       "  content: '(';\n",
       "}\n",
       "\n",
       ".xr-dim-list:after {\n",
       "  content: ')';\n",
       "}\n",
       "\n",
       ".xr-dim-list li:not(:last-child):after {\n",
       "  content: ',';\n",
       "  padding-right: 5px;\n",
       "}\n",
       "\n",
       ".xr-has-index {\n",
       "  font-weight: bold;\n",
       "}\n",
       "\n",
       ".xr-var-list,\n",
       ".xr-var-item {\n",
       "  display: contents;\n",
       "}\n",
       "\n",
       ".xr-var-item > div,\n",
       ".xr-var-item label,\n",
       ".xr-var-item > .xr-var-name span {\n",
       "  background-color: var(--xr-background-color-row-even);\n",
       "  margin-bottom: 0;\n",
       "}\n",
       "\n",
       ".xr-var-item > .xr-var-name:hover span {\n",
       "  padding-right: 5px;\n",
       "}\n",
       "\n",
       ".xr-var-list > li:nth-child(odd) > div,\n",
       ".xr-var-list > li:nth-child(odd) > label,\n",
       ".xr-var-list > li:nth-child(odd) > .xr-var-name span {\n",
       "  background-color: var(--xr-background-color-row-odd);\n",
       "}\n",
       "\n",
       ".xr-var-name {\n",
       "  grid-column: 1;\n",
       "}\n",
       "\n",
       ".xr-var-dims {\n",
       "  grid-column: 2;\n",
       "}\n",
       "\n",
       ".xr-var-dtype {\n",
       "  grid-column: 3;\n",
       "  text-align: right;\n",
       "  color: var(--xr-font-color2);\n",
       "}\n",
       "\n",
       ".xr-var-preview {\n",
       "  grid-column: 4;\n",
       "}\n",
       "\n",
       ".xr-var-name,\n",
       ".xr-var-dims,\n",
       ".xr-var-dtype,\n",
       ".xr-preview,\n",
       ".xr-attrs dt {\n",
       "  white-space: nowrap;\n",
       "  overflow: hidden;\n",
       "  text-overflow: ellipsis;\n",
       "  padding-right: 10px;\n",
       "}\n",
       "\n",
       ".xr-var-name:hover,\n",
       ".xr-var-dims:hover,\n",
       ".xr-var-dtype:hover,\n",
       ".xr-attrs dt:hover {\n",
       "  overflow: visible;\n",
       "  width: auto;\n",
       "  z-index: 1;\n",
       "}\n",
       "\n",
       ".xr-var-attrs,\n",
       ".xr-var-data {\n",
       "  display: none;\n",
       "  background-color: var(--xr-background-color) !important;\n",
       "  padding-bottom: 5px !important;\n",
       "}\n",
       "\n",
       ".xr-var-attrs-in:checked ~ .xr-var-attrs,\n",
       ".xr-var-data-in:checked ~ .xr-var-data {\n",
       "  display: block;\n",
       "}\n",
       "\n",
       ".xr-var-data > table {\n",
       "  float: right;\n",
       "}\n",
       "\n",
       ".xr-var-name span,\n",
       ".xr-var-data,\n",
       ".xr-attrs {\n",
       "  padding-left: 25px !important;\n",
       "}\n",
       "\n",
       ".xr-attrs,\n",
       ".xr-var-attrs,\n",
       ".xr-var-data {\n",
       "  grid-column: 1 / -1;\n",
       "}\n",
       "\n",
       "dl.xr-attrs {\n",
       "  padding: 0;\n",
       "  margin: 0;\n",
       "  display: grid;\n",
       "  grid-template-columns: 125px auto;\n",
       "}\n",
       "\n",
       ".xr-attrs dt,\n",
       ".xr-attrs dd {\n",
       "  padding: 0;\n",
       "  margin: 0;\n",
       "  float: left;\n",
       "  padding-right: 10px;\n",
       "  width: auto;\n",
       "}\n",
       "\n",
       ".xr-attrs dt {\n",
       "  font-weight: normal;\n",
       "  grid-column: 1;\n",
       "}\n",
       "\n",
       ".xr-attrs dt:hover span {\n",
       "  display: inline-block;\n",
       "  background: var(--xr-background-color);\n",
       "  padding-right: 10px;\n",
       "}\n",
       "\n",
       ".xr-attrs dd {\n",
       "  grid-column: 2;\n",
       "  white-space: pre-wrap;\n",
       "  word-break: break-all;\n",
       "}\n",
       "\n",
       ".xr-icon-database,\n",
       ".xr-icon-file-text2 {\n",
       "  display: inline-block;\n",
       "  vertical-align: middle;\n",
       "  width: 1em;\n",
       "  height: 1.5em !important;\n",
       "  stroke-width: 0;\n",
       "  stroke: currentColor;\n",
       "  fill: currentColor;\n",
       "}\n",
       "</style><pre class='xr-text-repr-fallback'>&lt;xarray.Dataset&gt;\n",
       "Dimensions:    (ensemble: 10, init_date: 59, lead_time: 11)\n",
       "Coordinates:\n",
       "  * ensemble   (ensemble) int64 0 1 2 3 4 5 6 7 8 9\n",
       "  * init_date  (init_date) object 1960-11-01 00:00:00 ... 2018-11-01 00:00:00\n",
       "  * lead_time  (lead_time) int64 0 1 2 3 4 5 6 7 8 9 10\n",
       "    time       (lead_time, init_date) object dask.array&lt;chunksize=(11, 59), meta=np.ndarray&gt;\n",
       "Data variables:\n",
       "    pr         (init_date, ensemble, lead_time) float64 dask.array&lt;chunksize=(1, 1, 11), meta=np.ndarray&gt;\n",
       "Attributes: (12/39)\n",
       "    Conventions:           CF-1.7 CMIP-6.2\n",
       "    activity_id:           DCPP\n",
       "    branch_method:         standard lagged initialization\n",
       "    cmor_version:          3.5.0\n",
       "    contact:               cmip6-mpi-esm@dkrz.de\n",
       "    creation_date:         2019-09-29T09:56:22Z\n",
       "    ...                    ...\n",
       "    table_id:              day\n",
       "    table_info:            Creation Date:(09 May 2019) MD5:e6ef8ececc8f338646...\n",
       "    title:                 MPI-ESM1-2-HR output prepared for CMIP6\n",
       "    tracking_id:           hdl:21.14100/00829e12-8c4b-4755-bf39-8a71e94252ee\n",
       "    variable_id:           pr\n",
       "    variant_label:         r1i1p1f1</pre><div class='xr-wrap' style='display:none'><div class='xr-header'><div class='xr-obj-type'>xarray.Dataset</div></div><ul class='xr-sections'><li class='xr-section-item'><input id='section-c7b07c73-6e70-4e8e-8147-543be2ee4ca7' class='xr-section-summary-in' type='checkbox' disabled ><label for='section-c7b07c73-6e70-4e8e-8147-543be2ee4ca7' class='xr-section-summary'  title='Expand/collapse section'>Dimensions:</label><div class='xr-section-inline-details'><ul class='xr-dim-list'><li><span class='xr-has-index'>ensemble</span>: 10</li><li><span class='xr-has-index'>init_date</span>: 59</li><li><span class='xr-has-index'>lead_time</span>: 11</li></ul></div><div class='xr-section-details'></div></li><li class='xr-section-item'><input id='section-9adb95e8-03ae-4f7e-a527-c306a4de8845' class='xr-section-summary-in' type='checkbox'  checked><label for='section-9adb95e8-03ae-4f7e-a527-c306a4de8845' class='xr-section-summary' >Coordinates: <span>(4)</span></label><div class='xr-section-inline-details'></div><div class='xr-section-details'><ul class='xr-var-list'><li class='xr-var-item'><div class='xr-var-name'><span class='xr-has-index'>ensemble</span></div><div class='xr-var-dims'>(ensemble)</div><div class='xr-var-dtype'>int64</div><div class='xr-var-preview xr-preview'>0 1 2 3 4 5 6 7 8 9</div><input id='attrs-49bba924-fcf1-4c4e-ac98-9d216b85d300' class='xr-var-attrs-in' type='checkbox' disabled><label for='attrs-49bba924-fcf1-4c4e-ac98-9d216b85d300' title='Show/Hide attributes'><svg class='icon xr-icon-file-text2'><use xlink:href='#icon-file-text2'></use></svg></label><input id='data-531ef9f4-973e-4099-ada7-bcc2480d5745' class='xr-var-data-in' type='checkbox'><label for='data-531ef9f4-973e-4099-ada7-bcc2480d5745' title='Show/Hide data repr'><svg class='icon xr-icon-database'><use xlink:href='#icon-database'></use></svg></label><div class='xr-var-attrs'><dl class='xr-attrs'></dl></div><div class='xr-var-data'><pre>array([0, 1, 2, 3, 4, 5, 6, 7, 8, 9])</pre></div></li><li class='xr-var-item'><div class='xr-var-name'><span class='xr-has-index'>init_date</span></div><div class='xr-var-dims'>(init_date)</div><div class='xr-var-dtype'>object</div><div class='xr-var-preview xr-preview'>1960-11-01 00:00:00 ... 2018-11-...</div><input id='attrs-6ab19979-c41a-479a-a585-845b53fa5a6f' class='xr-var-attrs-in' type='checkbox' disabled><label for='attrs-6ab19979-c41a-479a-a585-845b53fa5a6f' title='Show/Hide attributes'><svg class='icon xr-icon-file-text2'><use xlink:href='#icon-file-text2'></use></svg></label><input id='data-3cccd5d5-938b-4aac-9cf3-fddfd675987c' class='xr-var-data-in' type='checkbox'><label for='data-3cccd5d5-938b-4aac-9cf3-fddfd675987c' title='Show/Hide data repr'><svg class='icon xr-icon-database'><use xlink:href='#icon-database'></use></svg></label><div class='xr-var-attrs'><dl class='xr-attrs'></dl></div><div class='xr-var-data'><pre>array([cftime.DatetimeJulian(1960, 11, 1, 0, 0, 0, 0, has_year_zero=False),\n",
       "       cftime.DatetimeJulian(1961, 11, 1, 0, 0, 0, 0, has_year_zero=False),\n",
       "       cftime.DatetimeJulian(1962, 11, 1, 0, 0, 0, 0, has_year_zero=False),\n",
       "       cftime.DatetimeJulian(1963, 11, 1, 0, 0, 0, 0, has_year_zero=False),\n",
       "       cftime.DatetimeJulian(1964, 11, 1, 0, 0, 0, 0, has_year_zero=False),\n",
       "       cftime.DatetimeJulian(1965, 11, 1, 0, 0, 0, 0, has_year_zero=False),\n",
       "       cftime.DatetimeJulian(1966, 11, 1, 0, 0, 0, 0, has_year_zero=False),\n",
       "       cftime.DatetimeJulian(1967, 11, 1, 0, 0, 0, 0, has_year_zero=False),\n",
       "       cftime.DatetimeJulian(1968, 11, 1, 0, 0, 0, 0, has_year_zero=False),\n",
       "       cftime.DatetimeJulian(1969, 11, 1, 0, 0, 0, 0, has_year_zero=False),\n",
       "       cftime.DatetimeJulian(1970, 11, 1, 0, 0, 0, 0, has_year_zero=False),\n",
       "       cftime.DatetimeJulian(1971, 11, 1, 0, 0, 0, 0, has_year_zero=False),\n",
       "       cftime.DatetimeJulian(1972, 11, 1, 0, 0, 0, 0, has_year_zero=False),\n",
       "       cftime.DatetimeJulian(1973, 11, 1, 0, 0, 0, 0, has_year_zero=False),\n",
       "       cftime.DatetimeJulian(1974, 11, 1, 0, 0, 0, 0, has_year_zero=False),\n",
       "       cftime.DatetimeJulian(1975, 11, 1, 0, 0, 0, 0, has_year_zero=False),\n",
       "       cftime.DatetimeJulian(1976, 11, 1, 0, 0, 0, 0, has_year_zero=False),\n",
       "       cftime.DatetimeJulian(1977, 11, 1, 0, 0, 0, 0, has_year_zero=False),\n",
       "       cftime.DatetimeJulian(1978, 11, 1, 0, 0, 0, 0, has_year_zero=False),\n",
       "       cftime.DatetimeJulian(1979, 11, 1, 0, 0, 0, 0, has_year_zero=False),\n",
       "       cftime.DatetimeJulian(1980, 11, 1, 0, 0, 0, 0, has_year_zero=False),\n",
       "       cftime.DatetimeJulian(1981, 11, 1, 0, 0, 0, 0, has_year_zero=False),\n",
       "       cftime.DatetimeJulian(1982, 11, 1, 0, 0, 0, 0, has_year_zero=False),\n",
       "       cftime.DatetimeJulian(1983, 11, 1, 0, 0, 0, 0, has_year_zero=False),\n",
       "       cftime.DatetimeJulian(1984, 11, 1, 0, 0, 0, 0, has_year_zero=False),\n",
       "       cftime.DatetimeJulian(1985, 11, 1, 0, 0, 0, 0, has_year_zero=False),\n",
       "       cftime.DatetimeJulian(1986, 11, 1, 0, 0, 0, 0, has_year_zero=False),\n",
       "       cftime.DatetimeJulian(1987, 11, 1, 0, 0, 0, 0, has_year_zero=False),\n",
       "       cftime.DatetimeJulian(1988, 11, 1, 0, 0, 0, 0, has_year_zero=False),\n",
       "       cftime.DatetimeJulian(1989, 11, 1, 0, 0, 0, 0, has_year_zero=False),\n",
       "       cftime.DatetimeJulian(1990, 11, 1, 0, 0, 0, 0, has_year_zero=False),\n",
       "       cftime.DatetimeJulian(1991, 11, 1, 0, 0, 0, 0, has_year_zero=False),\n",
       "       cftime.DatetimeJulian(1992, 11, 1, 0, 0, 0, 0, has_year_zero=False),\n",
       "       cftime.DatetimeJulian(1993, 11, 1, 0, 0, 0, 0, has_year_zero=False),\n",
       "       cftime.DatetimeJulian(1994, 11, 1, 0, 0, 0, 0, has_year_zero=False),\n",
       "       cftime.DatetimeJulian(1995, 11, 1, 0, 0, 0, 0, has_year_zero=False),\n",
       "       cftime.DatetimeJulian(1996, 11, 1, 0, 0, 0, 0, has_year_zero=False),\n",
       "       cftime.DatetimeJulian(1997, 11, 1, 0, 0, 0, 0, has_year_zero=False),\n",
       "       cftime.DatetimeJulian(1998, 11, 1, 0, 0, 0, 0, has_year_zero=False),\n",
       "       cftime.DatetimeJulian(1999, 11, 1, 0, 0, 0, 0, has_year_zero=False),\n",
       "       cftime.DatetimeJulian(2000, 11, 1, 0, 0, 0, 0, has_year_zero=False),\n",
       "       cftime.DatetimeJulian(2001, 11, 1, 0, 0, 0, 0, has_year_zero=False),\n",
       "       cftime.DatetimeJulian(2002, 11, 1, 0, 0, 0, 0, has_year_zero=False),\n",
       "       cftime.DatetimeJulian(2003, 11, 1, 0, 0, 0, 0, has_year_zero=False),\n",
       "       cftime.DatetimeJulian(2004, 11, 1, 0, 0, 0, 0, has_year_zero=False),\n",
       "       cftime.DatetimeJulian(2005, 11, 1, 0, 0, 0, 0, has_year_zero=False),\n",
       "       cftime.DatetimeJulian(2006, 11, 1, 0, 0, 0, 0, has_year_zero=False),\n",
       "       cftime.DatetimeJulian(2007, 11, 1, 0, 0, 0, 0, has_year_zero=False),\n",
       "       cftime.DatetimeJulian(2008, 11, 1, 0, 0, 0, 0, has_year_zero=False),\n",
       "       cftime.DatetimeJulian(2009, 11, 1, 0, 0, 0, 0, has_year_zero=False),\n",
       "       cftime.DatetimeJulian(2010, 11, 1, 0, 0, 0, 0, has_year_zero=False),\n",
       "       cftime.DatetimeJulian(2011, 11, 1, 0, 0, 0, 0, has_year_zero=False),\n",
       "       cftime.DatetimeJulian(2012, 11, 1, 0, 0, 0, 0, has_year_zero=False),\n",
       "       cftime.DatetimeJulian(2013, 11, 1, 0, 0, 0, 0, has_year_zero=False),\n",
       "       cftime.DatetimeJulian(2014, 11, 1, 0, 0, 0, 0, has_year_zero=False),\n",
       "       cftime.DatetimeJulian(2015, 11, 1, 0, 0, 0, 0, has_year_zero=False),\n",
       "       cftime.DatetimeJulian(2016, 11, 1, 0, 0, 0, 0, has_year_zero=False),\n",
       "       cftime.DatetimeJulian(2017, 11, 1, 0, 0, 0, 0, has_year_zero=False),\n",
       "       cftime.DatetimeJulian(2018, 11, 1, 0, 0, 0, 0, has_year_zero=False)],\n",
       "      dtype=object)</pre></div></li><li class='xr-var-item'><div class='xr-var-name'><span class='xr-has-index'>lead_time</span></div><div class='xr-var-dims'>(lead_time)</div><div class='xr-var-dtype'>int64</div><div class='xr-var-preview xr-preview'>0 1 2 3 4 5 6 7 8 9 10</div><input id='attrs-7f3c415d-52c5-476d-9cc0-ce3ecd46436f' class='xr-var-attrs-in' type='checkbox' ><label for='attrs-7f3c415d-52c5-476d-9cc0-ce3ecd46436f' title='Show/Hide attributes'><svg class='icon xr-icon-file-text2'><use xlink:href='#icon-file-text2'></use></svg></label><input id='data-50771662-4f74-4e35-a59f-b6153772a26a' class='xr-var-data-in' type='checkbox'><label for='data-50771662-4f74-4e35-a59f-b6153772a26a' title='Show/Hide data repr'><svg class='icon xr-icon-database'><use xlink:href='#icon-database'></use></svg></label><div class='xr-var-attrs'><dl class='xr-attrs'><dt><span>units :</span></dt><dd>A</dd></dl></div><div class='xr-var-data'><pre>array([ 0,  1,  2,  3,  4,  5,  6,  7,  8,  9, 10])</pre></div></li><li class='xr-var-item'><div class='xr-var-name'><span>time</span></div><div class='xr-var-dims'>(lead_time, init_date)</div><div class='xr-var-dtype'>object</div><div class='xr-var-preview xr-preview'>dask.array&lt;chunksize=(11, 59), meta=np.ndarray&gt;</div><input id='attrs-18a8fc9a-8221-497b-8dd7-8130af0f23a7' class='xr-var-attrs-in' type='checkbox' ><label for='attrs-18a8fc9a-8221-497b-8dd7-8130af0f23a7' title='Show/Hide attributes'><svg class='icon xr-icon-file-text2'><use xlink:href='#icon-file-text2'></use></svg></label><input id='data-af6afddb-d668-4651-b2fb-bd9d2aa97ea9' class='xr-var-data-in' type='checkbox'><label for='data-af6afddb-d668-4651-b2fb-bd9d2aa97ea9' title='Show/Hide data repr'><svg class='icon xr-icon-database'><use xlink:href='#icon-database'></use></svg></label><div class='xr-var-attrs'><dl class='xr-attrs'><dt><span>frequency :</span></dt><dd>A</dd></dl></div><div class='xr-var-data'><table>\n",
       "<tr>\n",
       "<td>\n",
       "<table>\n",
       "  <thead>\n",
       "    <tr><td> </td><th> Array </th><th> Chunk </th></tr>\n",
       "  </thead>\n",
       "  <tbody>\n",
       "    <tr><th> Bytes </th><td> 5.07 kiB </td> <td> 5.07 kiB </td></tr>\n",
       "    <tr><th> Shape </th><td> (11, 59) </td> <td> (11, 59) </td></tr>\n",
       "    <tr><th> Count </th><td> 2 Tasks </td><td> 1 Chunks </td></tr>\n",
       "    <tr><th> Type </th><td> object </td><td> numpy.ndarray </td></tr>\n",
       "  </tbody>\n",
       "</table>\n",
       "</td>\n",
       "<td>\n",
       "<svg width=\"170\" height=\"91\" style=\"stroke:rgb(0,0,0);stroke-width:1\" >\n",
       "\n",
       "  <!-- Horizontal lines -->\n",
       "  <line x1=\"0\" y1=\"0\" x2=\"120\" y2=\"0\" style=\"stroke-width:2\" />\n",
       "  <line x1=\"0\" y1=\"41\" x2=\"120\" y2=\"41\" style=\"stroke-width:2\" />\n",
       "\n",
       "  <!-- Vertical lines -->\n",
       "  <line x1=\"0\" y1=\"0\" x2=\"0\" y2=\"41\" style=\"stroke-width:2\" />\n",
       "  <line x1=\"120\" y1=\"0\" x2=\"120\" y2=\"41\" style=\"stroke-width:2\" />\n",
       "\n",
       "  <!-- Colored Rectangle -->\n",
       "  <polygon points=\"0.0,0.0 120.0,0.0 120.0,41.70788989335183 0.0,41.70788989335183\" style=\"fill:#ECB172A0;stroke-width:0\"/>\n",
       "\n",
       "  <!-- Text -->\n",
       "  <text x=\"60.000000\" y=\"61.707890\" font-size=\"1.0rem\" font-weight=\"100\" text-anchor=\"middle\" >59</text>\n",
       "  <text x=\"140.000000\" y=\"20.853945\" font-size=\"1.0rem\" font-weight=\"100\" text-anchor=\"middle\" transform=\"rotate(0,140.000000,20.853945)\">11</text>\n",
       "</svg>\n",
       "</td>\n",
       "</tr>\n",
       "</table></div></li></ul></div></li><li class='xr-section-item'><input id='section-c84f93a0-bce7-4310-9d4e-5416e525db74' class='xr-section-summary-in' type='checkbox'  checked><label for='section-c84f93a0-bce7-4310-9d4e-5416e525db74' class='xr-section-summary' >Data variables: <span>(1)</span></label><div class='xr-section-inline-details'></div><div class='xr-section-details'><ul class='xr-var-list'><li class='xr-var-item'><div class='xr-var-name'><span>pr</span></div><div class='xr-var-dims'>(init_date, ensemble, lead_time)</div><div class='xr-var-dtype'>float64</div><div class='xr-var-preview xr-preview'>dask.array&lt;chunksize=(1, 1, 11), meta=np.ndarray&gt;</div><input id='attrs-c7e754c0-fbed-4a17-98f1-a2da548fa972' class='xr-var-attrs-in' type='checkbox' ><label for='attrs-c7e754c0-fbed-4a17-98f1-a2da548fa972' title='Show/Hide attributes'><svg class='icon xr-icon-file-text2'><use xlink:href='#icon-file-text2'></use></svg></label><input id='data-f3ef4381-56c4-41c6-8690-5bc7d9c9488a' class='xr-var-data-in' type='checkbox'><label for='data-f3ef4381-56c4-41c6-8690-5bc7d9c9488a' title='Show/Hide data repr'><svg class='icon xr-icon-database'><use xlink:href='#icon-database'></use></svg></label><div class='xr-var-attrs'><dl class='xr-attrs'><dt><span>cell_measures :</span></dt><dd>area: areacella</dd><dt><span>cell_methods :</span></dt><dd>area: time: mean</dd><dt><span>comment :</span></dt><dd>includes both liquid and solid phases</dd><dt><span>history :</span></dt><dd>2019-09-29T09:56:22Z altered by CMOR: replaced missing value flag (-9e+33) and corresponding data with standard missing value (1e+20). 2019-09-29T09:56:22Z altered by CMOR: Inverted axis: lat.</dd><dt><span>long_name :</span></dt><dd>Precipitation</dd><dt><span>original_name :</span></dt><dd>pr</dd><dt><span>standard_name :</span></dt><dd>precipitation_flux</dd><dt><span>units :</span></dt><dd>mm d-1</dd></dl></div><div class='xr-var-data'><table>\n",
       "<tr>\n",
       "<td>\n",
       "<table>\n",
       "  <thead>\n",
       "    <tr><td> </td><th> Array </th><th> Chunk </th></tr>\n",
       "  </thead>\n",
       "  <tbody>\n",
       "    <tr><th> Bytes </th><td> 50.70 kiB </td> <td> 88 B </td></tr>\n",
       "    <tr><th> Shape </th><td> (59, 10, 11) </td> <td> (1, 1, 11) </td></tr>\n",
       "    <tr><th> Count </th><td> 591 Tasks </td><td> 590 Chunks </td></tr>\n",
       "    <tr><th> Type </th><td> float64 </td><td> numpy.ndarray </td></tr>\n",
       "  </tbody>\n",
       "</table>\n",
       "</td>\n",
       "<td>\n",
       "<svg width=\"172\" height=\"161\" style=\"stroke:rgb(0,0,0);stroke-width:1\" >\n",
       "\n",
       "  <!-- Horizontal lines -->\n",
       "  <line x1=\"10\" y1=\"0\" x2=\"80\" y2=\"70\" style=\"stroke-width:2\" />\n",
       "  <line x1=\"10\" y1=\"4\" x2=\"80\" y2=\"74\" />\n",
       "  <line x1=\"10\" y1=\"8\" x2=\"80\" y2=\"78\" />\n",
       "  <line x1=\"10\" y1=\"12\" x2=\"80\" y2=\"82\" />\n",
       "  <line x1=\"10\" y1=\"16\" x2=\"80\" y2=\"87\" />\n",
       "  <line x1=\"10\" y1=\"20\" x2=\"80\" y2=\"91\" />\n",
       "  <line x1=\"10\" y1=\"24\" x2=\"80\" y2=\"95\" />\n",
       "  <line x1=\"10\" y1=\"28\" x2=\"80\" y2=\"99\" />\n",
       "  <line x1=\"10\" y1=\"33\" x2=\"80\" y2=\"103\" />\n",
       "  <line x1=\"10\" y1=\"37\" x2=\"80\" y2=\"107\" />\n",
       "  <line x1=\"10\" y1=\"41\" x2=\"80\" y2=\"111\" style=\"stroke-width:2\" />\n",
       "\n",
       "  <!-- Vertical lines -->\n",
       "  <line x1=\"10\" y1=\"0\" x2=\"10\" y2=\"41\" style=\"stroke-width:2\" />\n",
       "  <line x1=\"13\" y1=\"3\" x2=\"13\" y2=\"44\" />\n",
       "  <line x1=\"17\" y1=\"7\" x2=\"17\" y2=\"48\" />\n",
       "  <line x1=\"20\" y1=\"10\" x2=\"20\" y2=\"52\" />\n",
       "  <line x1=\"24\" y1=\"14\" x2=\"24\" y2=\"55\" />\n",
       "  <line x1=\"27\" y1=\"17\" x2=\"27\" y2=\"59\" />\n",
       "  <line x1=\"31\" y1=\"21\" x2=\"31\" y2=\"62\" />\n",
       "  <line x1=\"35\" y1=\"25\" x2=\"35\" y2=\"66\" />\n",
       "  <line x1=\"38\" y1=\"28\" x2=\"38\" y2=\"69\" />\n",
       "  <line x1=\"42\" y1=\"32\" x2=\"42\" y2=\"73\" />\n",
       "  <line x1=\"47\" y1=\"37\" x2=\"47\" y2=\"78\" />\n",
       "  <line x1=\"50\" y1=\"40\" x2=\"50\" y2=\"81\" />\n",
       "  <line x1=\"54\" y1=\"44\" x2=\"54\" y2=\"85\" />\n",
       "  <line x1=\"57\" y1=\"47\" x2=\"57\" y2=\"89\" />\n",
       "  <line x1=\"61\" y1=\"51\" x2=\"61\" y2=\"92\" />\n",
       "  <line x1=\"65\" y1=\"55\" x2=\"65\" y2=\"96\" />\n",
       "  <line x1=\"68\" y1=\"58\" x2=\"68\" y2=\"99\" />\n",
       "  <line x1=\"72\" y1=\"62\" x2=\"72\" y2=\"103\" />\n",
       "  <line x1=\"75\" y1=\"65\" x2=\"75\" y2=\"107\" />\n",
       "  <line x1=\"80\" y1=\"70\" x2=\"80\" y2=\"111\" style=\"stroke-width:2\" />\n",
       "\n",
       "  <!-- Colored Rectangle -->\n",
       "  <polygon points=\"10.0,0.0 80.58823529411765,70.58823529411765 80.58823529411765,111.86931006392784 10.0,41.28107476981019\" style=\"fill:#8B4903A0;stroke-width:0\"/>\n",
       "\n",
       "  <!-- Horizontal lines -->\n",
       "  <line x1=\"10\" y1=\"0\" x2=\"51\" y2=\"0\" style=\"stroke-width:2\" />\n",
       "  <line x1=\"13\" y1=\"3\" x2=\"55\" y2=\"3\" />\n",
       "  <line x1=\"17\" y1=\"7\" x2=\"58\" y2=\"7\" />\n",
       "  <line x1=\"20\" y1=\"10\" x2=\"62\" y2=\"10\" />\n",
       "  <line x1=\"24\" y1=\"14\" x2=\"66\" y2=\"14\" />\n",
       "  <line x1=\"27\" y1=\"17\" x2=\"69\" y2=\"17\" />\n",
       "  <line x1=\"31\" y1=\"21\" x2=\"73\" y2=\"21\" />\n",
       "  <line x1=\"35\" y1=\"25\" x2=\"76\" y2=\"25\" />\n",
       "  <line x1=\"38\" y1=\"28\" x2=\"80\" y2=\"28\" />\n",
       "  <line x1=\"42\" y1=\"32\" x2=\"84\" y2=\"32\" />\n",
       "  <line x1=\"47\" y1=\"37\" x2=\"88\" y2=\"37\" />\n",
       "  <line x1=\"50\" y1=\"40\" x2=\"92\" y2=\"40\" />\n",
       "  <line x1=\"54\" y1=\"44\" x2=\"95\" y2=\"44\" />\n",
       "  <line x1=\"57\" y1=\"47\" x2=\"99\" y2=\"47\" />\n",
       "  <line x1=\"61\" y1=\"51\" x2=\"103\" y2=\"51\" />\n",
       "  <line x1=\"65\" y1=\"55\" x2=\"106\" y2=\"55\" />\n",
       "  <line x1=\"68\" y1=\"58\" x2=\"110\" y2=\"58\" />\n",
       "  <line x1=\"72\" y1=\"62\" x2=\"113\" y2=\"62\" />\n",
       "  <line x1=\"75\" y1=\"65\" x2=\"117\" y2=\"65\" />\n",
       "  <line x1=\"80\" y1=\"70\" x2=\"122\" y2=\"70\" style=\"stroke-width:2\" />\n",
       "\n",
       "  <!-- Vertical lines -->\n",
       "  <line x1=\"10\" y1=\"0\" x2=\"80\" y2=\"70\" style=\"stroke-width:2\" />\n",
       "  <line x1=\"51\" y1=\"0\" x2=\"122\" y2=\"70\" style=\"stroke-width:2\" />\n",
       "\n",
       "  <!-- Colored Rectangle -->\n",
       "  <polygon points=\"10.0,0.0 51.70788989335183,0.0 122.29612518746949,70.58823529411765 80.58823529411765,70.58823529411765\" style=\"fill:#8B4903A0;stroke-width:0\"/>\n",
       "\n",
       "  <!-- Horizontal lines -->\n",
       "  <line x1=\"80\" y1=\"70\" x2=\"122\" y2=\"70\" style=\"stroke-width:2\" />\n",
       "  <line x1=\"80\" y1=\"74\" x2=\"122\" y2=\"74\" />\n",
       "  <line x1=\"80\" y1=\"78\" x2=\"122\" y2=\"78\" />\n",
       "  <line x1=\"80\" y1=\"82\" x2=\"122\" y2=\"82\" />\n",
       "  <line x1=\"80\" y1=\"87\" x2=\"122\" y2=\"87\" />\n",
       "  <line x1=\"80\" y1=\"91\" x2=\"122\" y2=\"91\" />\n",
       "  <line x1=\"80\" y1=\"95\" x2=\"122\" y2=\"95\" />\n",
       "  <line x1=\"80\" y1=\"99\" x2=\"122\" y2=\"99\" />\n",
       "  <line x1=\"80\" y1=\"103\" x2=\"122\" y2=\"103\" />\n",
       "  <line x1=\"80\" y1=\"107\" x2=\"122\" y2=\"107\" />\n",
       "  <line x1=\"80\" y1=\"111\" x2=\"122\" y2=\"111\" style=\"stroke-width:2\" />\n",
       "\n",
       "  <!-- Vertical lines -->\n",
       "  <line x1=\"80\" y1=\"70\" x2=\"80\" y2=\"111\" style=\"stroke-width:2\" />\n",
       "  <line x1=\"122\" y1=\"70\" x2=\"122\" y2=\"111\" style=\"stroke-width:2\" />\n",
       "\n",
       "  <!-- Colored Rectangle -->\n",
       "  <polygon points=\"80.58823529411765,70.58823529411765 122.29612518746949,70.58823529411765 122.29612518746949,111.86931006392784 80.58823529411765,111.86931006392784\" style=\"fill:#ECB172A0;stroke-width:0\"/>\n",
       "\n",
       "  <!-- Text -->\n",
       "  <text x=\"101.442180\" y=\"131.869310\" font-size=\"1.0rem\" font-weight=\"100\" text-anchor=\"middle\" >11</text>\n",
       "  <text x=\"142.296125\" y=\"91.228773\" font-size=\"1.0rem\" font-weight=\"100\" text-anchor=\"middle\" transform=\"rotate(0,142.296125,91.228773)\">10</text>\n",
       "  <text x=\"35.294118\" y=\"96.575192\" font-size=\"1.0rem\" font-weight=\"100\" text-anchor=\"middle\" transform=\"rotate(45,35.294118,96.575192)\">59</text>\n",
       "</svg>\n",
       "</td>\n",
       "</tr>\n",
       "</table></div></li></ul></div></li><li class='xr-section-item'><input id='section-2ec2b2f7-d717-4128-8eac-5fd849a1a04d' class='xr-section-summary-in' type='checkbox'  ><label for='section-2ec2b2f7-d717-4128-8eac-5fd849a1a04d' class='xr-section-summary' >Attributes: <span>(39)</span></label><div class='xr-section-inline-details'></div><div class='xr-section-details'><dl class='xr-attrs'><dt><span>Conventions :</span></dt><dd>CF-1.7 CMIP-6.2</dd><dt><span>activity_id :</span></dt><dd>DCPP</dd><dt><span>branch_method :</span></dt><dd>standard lagged initialization</dd><dt><span>cmor_version :</span></dt><dd>3.5.0</dd><dt><span>contact :</span></dt><dd>cmip6-mpi-esm@dkrz.de</dd><dt><span>creation_date :</span></dt><dd>2019-09-29T09:56:22Z</dd><dt><span>data_specs_version :</span></dt><dd>01.00.30</dd><dt><span>experiment :</span></dt><dd>hindcast initialized based on observations and using historical forcing</dd><dt><span>experiment_id :</span></dt><dd>dcppA-hindcast</dd><dt><span>external_variables :</span></dt><dd>areacella</dd><dt><span>forcing_index :</span></dt><dd>1</dd><dt><span>frequency :</span></dt><dd>day</dd><dt><span>further_info_url :</span></dt><dd>https://furtherinfo.es-doc.org/CMIP6.MPI-M.MPI-ESM1-2-HR.dcppA-hindcast.s1960.r1i1p1f1</dd><dt><span>grid :</span></dt><dd>spectral T127; 384 x 192 longitude/latitude</dd><dt><span>grid_label :</span></dt><dd>gn</dd><dt><span>history :</span></dt><dd>Tue Apr 26 05:40:38 2022: /g/data/xv83/dbi599/miniconda3/envs/unseen/bin/python3.9 /g/data/xv83/dbi599/miniconda3/envs/unseen/bin/fileio file_lists/MPI-ESM1-2-HR_dcppA-hindcast_files.txt /g/data/xv83/dbi599/east-coast-rain/data/Rx15day_MPI-ESM1-2-HR-dcppA-hindcast_196011-201811_annual-aug-to-sep_east-coast-flood-region.zarr.zip --forecast --variables pr --spatial_coords -40 -20 140 160 --shapefile /g/data/xv83/dbi599/east-coast-rain/shapefiles/east-coast-flood.shp --shp_overlap 0.1 --spatial_agg weighted_mean --rolling_sum_window 15 --time_freq A-AUG --time_agg max --input_freq D --n_ensemble_files 10 --units pr=mm day-1 --units_timing middle --reset_times --complete_time_agg_periods --output_chunks lead_time=50 --dask_config dask_local.yml --verbose (git@github.com:AusClimateService/east-coast-rain)</dd><dt><span>initialization_index :</span></dt><dd>1</dd><dt><span>institution :</span></dt><dd>Max Planck Institute for Meteorology, Hamburg 20146, Germany</dd><dt><span>institution_id :</span></dt><dd>MPI-M</dd><dt><span>license :</span></dt><dd>CMIP6 model data produced by MPI-M is licensed under a Creative Commons Attribution ShareAlike 4.0 International License (https://creativecommons.org/licenses). Consult https://pcmdi.llnl.gov/CMIP6/TermsOfUse for terms of use governing CMIP6 output, including citation requirements and proper acknowledgment. Further information about this data, including some limitations, can be found via the further_info_url (recorded as a global attribute in this file) and. The data producers and data providers make no warranty, either express or implied, including, but not limited to, warranties of merchantability and fitness for a particular purpose. All liabilities arising from the supply of the information (including any liability arising in negligence) are excluded to the fullest extent permitted by law.</dd><dt><span>mip_era :</span></dt><dd>CMIP6</dd><dt><span>nominal_resolution :</span></dt><dd>100 km</dd><dt><span>physics_index :</span></dt><dd>1</dd><dt><span>product :</span></dt><dd>model-output</dd><dt><span>project_id :</span></dt><dd>CMIP6</dd><dt><span>realization_index :</span></dt><dd>1</dd><dt><span>realm :</span></dt><dd>atmos</dd><dt><span>references :</span></dt><dd>MPI-ESM: Mauritsen, T. et al. (2019), Developments in the MPI‐M Earth System Model version 1.2 (MPI‐ESM1.2) and Its Response to Increasing CO2, J. Adv. Model. Earth Syst.,11, 998-1038, doi:10.1029/2018MS001400,\n",
       "Mueller, W.A. et al. (2018): A high‐resolution version of the Max Planck Institute Earth System Model MPI‐ESM1.2‐HR. J. Adv. Model. EarthSyst.,10,1383–1413, doi:10.1029/2017MS001217</dd><dt><span>source :</span></dt><dd>MPI-ESM1.2-HR (2017): \n",
       "aerosol: none, prescribed MACv2-SP\n",
       "atmos: ECHAM6.3 (spectral T127; 384 x 192 longitude/latitude; 95 levels; top level 0.01 hPa)\n",
       "atmosChem: none\n",
       "land: JSBACH3.20\n",
       "landIce: none/prescribed\n",
       "ocean: MPIOM1.63 (tripolar TP04, approximately 0.4deg; 802 x 404 longitude/latitude; 40 levels; top grid cell 0-12 m)\n",
       "ocnBgchem: HAMOCC6\n",
       "seaIce: unnamed (thermodynamic (Semtner zero-layer) dynamic (Hibler 79) sea ice model)</dd><dt><span>source_id :</span></dt><dd>MPI-ESM1-2-HR</dd><dt><span>source_type :</span></dt><dd>AOGCM</dd><dt><span>sub_experiment :</span></dt><dd>initialized near end of year 1960</dd><dt><span>sub_experiment_id :</span></dt><dd>s1960</dd><dt><span>table_id :</span></dt><dd>day</dd><dt><span>table_info :</span></dt><dd>Creation Date:(09 May 2019) MD5:e6ef8ececc8f338646ebfb3aeed36bfc</dd><dt><span>title :</span></dt><dd>MPI-ESM1-2-HR output prepared for CMIP6</dd><dt><span>tracking_id :</span></dt><dd>hdl:21.14100/00829e12-8c4b-4755-bf39-8a71e94252ee</dd><dt><span>variable_id :</span></dt><dd>pr</dd><dt><span>variant_label :</span></dt><dd>r1i1p1f1</dd></dl></div></li></ul></div></div>"
      ],
      "text/plain": [
       "<xarray.Dataset>\n",
       "Dimensions:    (ensemble: 10, init_date: 59, lead_time: 11)\n",
       "Coordinates:\n",
       "  * ensemble   (ensemble) int64 0 1 2 3 4 5 6 7 8 9\n",
       "  * init_date  (init_date) object 1960-11-01 00:00:00 ... 2018-11-01 00:00:00\n",
       "  * lead_time  (lead_time) int64 0 1 2 3 4 5 6 7 8 9 10\n",
       "    time       (lead_time, init_date) object dask.array<chunksize=(11, 59), meta=np.ndarray>\n",
       "Data variables:\n",
       "    pr         (init_date, ensemble, lead_time) float64 dask.array<chunksize=(1, 1, 11), meta=np.ndarray>\n",
       "Attributes: (12/39)\n",
       "    Conventions:           CF-1.7 CMIP-6.2\n",
       "    activity_id:           DCPP\n",
       "    branch_method:         standard lagged initialization\n",
       "    cmor_version:          3.5.0\n",
       "    contact:               cmip6-mpi-esm@dkrz.de\n",
       "    creation_date:         2019-09-29T09:56:22Z\n",
       "    ...                    ...\n",
       "    table_id:              day\n",
       "    table_info:            Creation Date:(09 May 2019) MD5:e6ef8ececc8f338646...\n",
       "    title:                 MPI-ESM1-2-HR output prepared for CMIP6\n",
       "    tracking_id:           hdl:21.14100/00829e12-8c4b-4755-bf39-8a71e94252ee\n",
       "    variable_id:           pr\n",
       "    variant_label:         r1i1p1f1"
      ]
     },
     "execution_count": 16,
     "metadata": {},
     "output_type": "execute_result"
    }
   ],
   "source": [
    "model_ds"
   ]
  },
  {
   "cell_type": "markdown",
   "id": "b25bd815",
   "metadata": {
    "papermill": {
     "duration": 0.052292,
     "end_time": "2022-04-25T22:12:40.020469",
     "exception": false,
     "start_time": "2022-04-25T22:12:39.968177",
     "status": "completed"
    },
    "tags": []
   },
   "source": [
    "### Independence testing"
   ]
  },
  {
   "cell_type": "code",
   "execution_count": 17,
   "id": "b819d698",
   "metadata": {
    "execution": {
     "iopub.execute_input": "2022-04-25T22:12:40.131501Z",
     "iopub.status.busy": "2022-04-25T22:12:40.130195Z",
     "iopub.status.idle": "2022-04-25T22:12:40.141614Z",
     "shell.execute_reply": "2022-04-25T22:12:40.140384Z"
    },
    "papermill": {
     "duration": 0.070258,
     "end_time": "2022-04-25T22:12:40.141885",
     "exception": false,
     "start_time": "2022-04-25T22:12:40.071627",
     "status": "completed"
    },
    "tags": []
   },
   "outputs": [
    {
     "data": {
      "image/png": "[encoded data removed]",
      "text/plain": [
       "<IPython.core.display.Image object>"
      ]
     },
     "execution_count": 17,
     "metadata": {},
     "output_type": "execute_result"
    }
   ],
   "source": [
    "Image(filename=independence_plot)"
   ]
  },
  {
   "cell_type": "code",
   "execution_count": 18,
   "id": "a5ccabe2",
   "metadata": {
    "execution": {
     "iopub.execute_input": "2022-04-25T22:12:40.260658Z",
     "iopub.status.busy": "2022-04-25T22:12:40.259572Z",
     "iopub.status.idle": "2022-04-25T22:12:40.266697Z",
     "shell.execute_reply": "2022-04-25T22:12:40.265594Z"
    },
    "papermill": {
     "duration": 0.069963,
     "end_time": "2022-04-25T22:12:40.266970",
     "exception": false,
     "start_time": "2022-04-25T22:12:40.197007",
     "status": "completed"
    },
    "tags": []
   },
   "outputs": [
    {
     "name": "stdout",
     "output_type": "stream",
     "text": [
      "0\n"
     ]
    }
   ],
   "source": [
    "print(min_lead)"
   ]
  },
  {
   "cell_type": "code",
   "execution_count": 19,
   "id": "e055048c",
   "metadata": {
    "execution": {
     "iopub.execute_input": "2022-04-25T22:12:40.391087Z",
     "iopub.status.busy": "2022-04-25T22:12:40.390055Z",
     "iopub.status.idle": "2022-04-25T22:12:40.395866Z",
     "shell.execute_reply": "2022-04-25T22:12:40.394385Z"
    },
    "papermill": {
     "duration": 0.075933,
     "end_time": "2022-04-25T22:12:40.396229",
     "exception": false,
     "start_time": "2022-04-25T22:12:40.320296",
     "status": "completed"
    },
    "tags": []
   },
   "outputs": [],
   "source": [
    "model_da = model_ds['pr'].where(model_ds['lead_time'] >= min_lead)"
   ]
  },
  {
   "cell_type": "markdown",
   "id": "1e039e61",
   "metadata": {
    "papermill": {
     "duration": 0.055248,
     "end_time": "2022-04-25T22:12:40.507171",
     "exception": false,
     "start_time": "2022-04-25T22:12:40.451923",
     "status": "completed"
    },
    "tags": []
   },
   "source": [
    "### Bias correction and similarity testing"
   ]
  },
  {
   "cell_type": "code",
   "execution_count": 20,
   "id": "110c554e",
   "metadata": {
    "execution": {
     "iopub.execute_input": "2022-04-25T22:12:40.652865Z",
     "iopub.status.busy": "2022-04-25T22:12:40.629875Z",
     "iopub.status.idle": "2022-04-25T22:12:45.225777Z",
     "shell.execute_reply": "2022-04-25T22:12:45.224882Z"
    },
    "papermill": {
     "duration": 4.664531,
     "end_time": "2022-04-25T22:12:45.226073",
     "exception": false,
     "start_time": "2022-04-25T22:12:40.561542",
     "status": "completed"
    },
    "tags": []
   },
   "outputs": [
    {
     "data": {
      "image/png": "[encoded data removed]",
      "text/plain": [
       "<Figure size 720x432 with 1 Axes>"
      ]
     },
     "metadata": {
      "needs_background": "light"
     },
     "output_type": "display_data"
    }
   ],
   "source": [
    "fig = plt.figure(figsize=[10, 6])\n",
    "model_da.plot.hist(bins=50, density=True, label=model_name, alpha=0.7)\n",
    "model_bc_ds['pr'].plot.hist(bins=50, density=True, label=f'{model_name} bias corrected', facecolor='darkblue', alpha=0.7)\n",
    "agcd_ds['pr'].plot.hist(bins=50, density=True, label='AGCD', facecolor='green', alpha=0.7)\n",
    "plt.xlabel('precipitation (mm)')\n",
    "plt.ylabel('probability')\n",
    "plt.title(f'Annual (Sep-Aug) Rx15day for {region_name} ({model_name})')\n",
    "plt.legend()\n",
    "plt.savefig(f'/g/data/xv83/dbi599/east-coast-rain/figures/Rx15day_histogram_{model_name}_{region_name}.png',\n",
    "            bbox_inches='tight', facecolor='white', dpi=dpi)\n",
    "plt.show()"
   ]
  },
  {
   "cell_type": "code",
   "execution_count": 21,
   "id": "8b3f7de0",
   "metadata": {
    "execution": {
     "iopub.execute_input": "2022-04-25T22:12:45.339986Z",
     "iopub.status.busy": "2022-04-25T22:12:45.339212Z",
     "iopub.status.idle": "2022-04-25T22:12:45.367040Z",
     "shell.execute_reply": "2022-04-25T22:12:45.368063Z"
    },
    "papermill": {
     "duration": 0.089931,
     "end_time": "2022-04-25T22:12:45.368494",
     "exception": false,
     "start_time": "2022-04-25T22:12:45.278563",
     "status": "completed"
    },
    "tags": []
   },
   "outputs": [
    {
     "data": {
      "text/plain": [
       "array([0.37700906, 0.36047375, 0.19930849, 0.13499012, 0.13499012,\n",
       "       0.29911944, 0.31373363, 0.1788872 , 0.25817025])"
      ]
     },
     "execution_count": 21,
     "metadata": {},
     "output_type": "execute_result"
    }
   ],
   "source": [
    "similarity_bias_ds = fileio.open_dataset(similarity_bc_file)\n",
    "similarity_bias_ds['pval'].values"
   ]
  },
  {
   "cell_type": "code",
   "execution_count": 22,
   "id": "a21af1f7",
   "metadata": {
    "execution": {
     "iopub.execute_input": "2022-04-25T22:12:45.492565Z",
     "iopub.status.busy": "2022-04-25T22:12:45.491508Z",
     "iopub.status.idle": "2022-04-25T22:12:45.526719Z",
     "shell.execute_reply": "2022-04-25T22:12:45.525302Z"
    },
    "papermill": {
     "duration": 0.100271,
     "end_time": "2022-04-25T22:12:45.527130",
     "exception": false,
     "start_time": "2022-04-25T22:12:45.426859",
     "status": "completed"
    },
    "tags": []
   },
   "outputs": [
    {
     "data": {
      "text/plain": [
       "array([5.04729485e-32, 2.64282160e-33, 9.49103217e-33, 2.58717200e-31,\n",
       "       1.72521393e-31, 5.78008296e-31, 1.28027017e-30, 9.01261155e-30,\n",
       "       1.93959195e-29])"
      ]
     },
     "execution_count": 22,
     "metadata": {},
     "output_type": "execute_result"
    }
   ],
   "source": [
    "similarity_raw_ds = fileio.open_dataset(similarity_raw_file)\n",
    "similarity_raw_ds['pval'].values"
   ]
  },
  {
   "cell_type": "markdown",
   "id": "1a8210c0",
   "metadata": {
    "papermill": {
     "duration": 0.064166,
     "end_time": "2022-04-25T22:12:45.821821",
     "exception": false,
     "start_time": "2022-04-25T22:12:45.757655",
     "status": "completed"
    },
    "tags": []
   },
   "source": [
    "These are the p-values for each lead time.\n",
    "\n",
    "p > 0.05 means the null hypothesis (that the two samples are from the same population) can't be rejected."
   ]
  },
  {
   "cell_type": "markdown",
   "id": "692c7b58",
   "metadata": {
    "papermill": {
     "duration": 0.059437,
     "end_time": "2022-04-25T22:12:45.937479",
     "exception": false,
     "start_time": "2022-04-25T22:12:45.878042",
     "status": "completed"
    },
    "tags": []
   },
   "source": [
    "### Exceedance curves"
   ]
  },
  {
   "cell_type": "code",
   "execution_count": 23,
   "id": "76186045",
   "metadata": {
    "execution": {
     "iopub.execute_input": "2022-04-25T22:12:46.070933Z",
     "iopub.status.busy": "2022-04-25T22:12:46.069895Z",
     "iopub.status.idle": "2022-04-25T22:12:46.074797Z",
     "shell.execute_reply": "2022-04-25T22:12:46.075816Z"
    },
    "papermill": {
     "duration": 0.083144,
     "end_time": "2022-04-25T22:12:46.076214",
     "exception": false,
     "start_time": "2022-04-25T22:12:45.993070",
     "status": "completed"
    },
    "tags": []
   },
   "outputs": [],
   "source": [
    "def plot_exceedance(sample_ds, model_name, outfile=None):\n",
    "    \"\"\"Plot single exceedance curve\"\"\"\n",
    "    \n",
    "    sorted_data, exceedance_data = general_utils.exceedance_curve(sample_ds)\n",
    "    \n",
    "    fig = plt.figure(figsize=[8, 6])\n",
    "    ax = fig.add_subplot()\n",
    "    ax.plot(sorted_data, exceedance_data)\n",
    "    ax.set_title(f'Annual (Sep-Aug) Rx15day for {region_name} ({model_name})')\n",
    "    ax.set_ylabel('likelihood of exceedance (%)')\n",
    "    ax.set_xlabel('Rx15day precipitation (mm)')\n",
    "    ax.axvline(pr2022, color='0.5', linestyle='--')\n",
    "    if outfile:\n",
    "        plt.savefig(outfile, bbox_inches='tight', facecolor='white', dpi=dpi)\n",
    "        print(outfile)\n",
    "    else:\n",
    "        plt.show()"
   ]
  },
  {
   "cell_type": "code",
   "execution_count": 24,
   "id": "116edf55",
   "metadata": {
    "execution": {
     "iopub.execute_input": "2022-04-25T22:12:46.272550Z",
     "iopub.status.busy": "2022-04-25T22:12:46.268459Z",
     "iopub.status.idle": "2022-04-25T22:12:46.278793Z",
     "shell.execute_reply": "2022-04-25T22:12:46.277474Z"
    },
    "papermill": {
     "duration": 0.143143,
     "end_time": "2022-04-25T22:12:46.279092",
     "exception": false,
     "start_time": "2022-04-25T22:12:46.135949",
     "status": "completed"
    },
    "tags": []
   },
   "outputs": [],
   "source": [
    "def plot_exceedance_by_decade(sample_ds, model_name):\n",
    "    \"\"\"Plot exceedance curve by decade\"\"\"\n",
    "\n",
    "    fig = plt.figure(figsize=[8, 6])\n",
    "    ax = fig.add_subplot()\n",
    "    if model_name == 'CAFE':\n",
    "        start_years = [1995, 2000, 2005, 2010, 2015]\n",
    "        step = 4\n",
    "    else:\n",
    "        start_years = [1960, 1970, 1980, 1990, 2000, 2010]\n",
    "        step = 9\n",
    "    colors = iter(plt.cm.hot_r(np.linspace(0.3, 1, len(start_years))))\n",
    "\n",
    "    for start_year in start_years:\n",
    "        end_year = start_year + step\n",
    "        start_date = f'{start_year}-01-01'\n",
    "        end_date = f'{end_year}-12-25'\n",
    "        ds_selection = time_utils.select_time_period(sample_ds, [start_date, end_date])\n",
    "        ds_selection = ds_selection.dropna('sample')\n",
    "        sorted_data, exceedance_data = general_utils.exceedance_curve(ds_selection)\n",
    "        n_years = len(sorted_data)\n",
    "        label = f'{start_year}-{end_year} ({n_years} samples)'\n",
    "        color = next(colors)\n",
    "        ax.plot(sorted_data, exceedance_data, label=label, color=color)\n",
    "    \n",
    "        print(f'{start_year}-{end_year}')\n",
    "        n_events, n_population, return_period, percentile = general_utils.event_in_context(ds_selection.values, pr2022, 'above')\n",
    "        print(f'{n_events} events in {n_population} samples')\n",
    "        print(f'{percentile:.2f}% percentile')\n",
    "        print(f'{return_period:.0f} year return period\\n')\n",
    "\n",
    "    ax.set_title(f'Annual (Sep-Aug) Rx15day for {region_name} ({model_name})')\n",
    "    ax.set_ylabel('likelihood of exceedance (%)')\n",
    "    ax.set_xlabel('Rx15day precipitation (mm)')\n",
    "    ax.legend()\n",
    "    ax.axvline(pr2022, color='0.5', linestyle='--')\n",
    "    outfile = f'/g/data/xv83/dbi599/east-coast-rain/figures/Rx15day_precip_exceedence_{region_name}_{model_name}_by-decade.png'\n",
    "    plt.savefig(outfile, bbox_inches='tight', facecolor='white', dpi=dpi)\n",
    "    print(outfile)"
   ]
  },
  {
   "cell_type": "markdown",
   "id": "d6a40828",
   "metadata": {
    "papermill": {
     "duration": 0.063386,
     "end_time": "2022-04-25T22:12:46.405116",
     "exception": false,
     "start_time": "2022-04-25T22:12:46.341730",
     "status": "completed"
    },
    "tags": []
   },
   "source": [
    "#### Bias corrected data"
   ]
  },
  {
   "cell_type": "code",
   "execution_count": 25,
   "id": "f0b0019b",
   "metadata": {
    "execution": {
     "iopub.execute_input": "2022-04-25T22:12:46.565619Z",
     "iopub.status.busy": "2022-04-25T22:12:46.560362Z",
     "iopub.status.idle": "2022-04-25T22:12:48.352061Z",
     "shell.execute_reply": "2022-04-25T22:12:48.350165Z"
    },
    "papermill": {
     "duration": 1.888353,
     "end_time": "2022-04-25T22:12:48.352584",
     "exception": false,
     "start_time": "2022-04-25T22:12:46.464231",
     "status": "completed"
    },
    "tags": []
   },
   "outputs": [],
   "source": [
    "model_bc_da_stacked = model_bc_ds.dropna('lead_time')['pr'].stack({'sample': ['ensemble', 'init_date', 'lead_time']})"
   ]
  },
  {
   "cell_type": "code",
   "execution_count": 26,
   "id": "7d4fdc9e",
   "metadata": {
    "execution": {
     "iopub.execute_input": "2022-04-25T22:12:48.483959Z",
     "iopub.status.busy": "2022-04-25T22:12:48.482669Z",
     "iopub.status.idle": "2022-04-25T22:12:48.491246Z",
     "shell.execute_reply": "2022-04-25T22:12:48.490457Z"
    },
    "papermill": {
     "duration": 0.076127,
     "end_time": "2022-04-25T22:12:48.491567",
     "exception": false,
     "start_time": "2022-04-25T22:12:48.415440",
     "status": "completed"
    },
    "tags": []
   },
   "outputs": [
    {
     "data": {
      "text/plain": [
       "(5310,)"
      ]
     },
     "execution_count": 26,
     "metadata": {},
     "output_type": "execute_result"
    }
   ],
   "source": [
    "model_bc_da_stacked.shape"
   ]
  },
  {
   "cell_type": "code",
   "execution_count": 27,
   "id": "59075ebb",
   "metadata": {
    "execution": {
     "iopub.execute_input": "2022-04-25T22:12:48.625578Z",
     "iopub.status.busy": "2022-04-25T22:12:48.619572Z",
     "iopub.status.idle": "2022-04-25T22:12:51.459743Z",
     "shell.execute_reply": "2022-04-25T22:12:51.458383Z"
    },
    "papermill": {
     "duration": 2.910425,
     "end_time": "2022-04-25T22:12:51.460076",
     "exception": false,
     "start_time": "2022-04-25T22:12:48.549651",
     "status": "completed"
    },
    "tags": []
   },
   "outputs": [
    {
     "name": "stdout",
     "output_type": "stream",
     "text": [
      "/g/data/xv83/dbi599/east-coast-rain/figures/Rx15day_precip_exceedence_east-coast-flood-region_MPI-ESM1-2-HR.png\n"
     ]
    },
    {
     "data": {
      "image/png": "[encoded data removed]",
      "text/plain": [
       "<Figure size 576x432 with 1 Axes>"
      ]
     },
     "metadata": {
      "needs_background": "light"
     },
     "output_type": "display_data"
    }
   ],
   "source": [
    "outfile = f'/g/data/xv83/dbi599/east-coast-rain/figures/Rx15day_precip_exceedence_{region_name}_{model_name}.png'\n",
    "plot_exceedance(model_bc_da_stacked, model_name, outfile=outfile)"
   ]
  },
  {
   "cell_type": "code",
   "execution_count": 28,
   "id": "39e4acf0",
   "metadata": {
    "execution": {
     "iopub.execute_input": "2022-04-25T22:12:51.617512Z",
     "iopub.status.busy": "2022-04-25T22:12:51.607166Z",
     "iopub.status.idle": "2022-04-25T22:12:53.699265Z",
     "shell.execute_reply": "2022-04-25T22:12:53.698223Z"
    },
    "papermill": {
     "duration": 2.177471,
     "end_time": "2022-04-25T22:12:53.699656",
     "exception": false,
     "start_time": "2022-04-25T22:12:51.522185",
     "status": "completed"
    },
    "tags": []
   },
   "outputs": [
    {
     "name": "stdout",
     "output_type": "stream",
     "text": [
      "BIAS CORRECTED DATA\n",
      "10 events in 5310 samples\n",
      "99.81% percentile\n",
      "531 year return period\n"
     ]
    }
   ],
   "source": [
    "n_events_bc, n_population_bc, return_period_bc, percentile_bc = general_utils.event_in_context(model_bc_da_stacked.values, pr2022, 'above')\n",
    "print('BIAS CORRECTED DATA')\n",
    "print(f'{n_events_bc} events in {n_population_bc} samples')\n",
    "print(f'{percentile_bc:.2f}% percentile')\n",
    "print(f'{return_period_bc:.0f} year return period')"
   ]
  },
  {
   "cell_type": "code",
   "execution_count": 29,
   "id": "7789699c",
   "metadata": {
    "execution": {
     "iopub.execute_input": "2022-04-25T22:12:53.918077Z",
     "iopub.status.busy": "2022-04-25T22:12:53.914107Z",
     "iopub.status.idle": "2022-04-25T22:13:19.688109Z",
     "shell.execute_reply": "2022-04-25T22:13:19.686684Z"
    },
    "papermill": {
     "duration": 25.923258,
     "end_time": "2022-04-25T22:13:19.688568",
     "exception": false,
     "start_time": "2022-04-25T22:12:53.765310",
     "status": "completed"
    },
    "tags": []
   },
   "outputs": [
    {
     "name": "stdout",
     "output_type": "stream",
     "text": [
      "1960-1969\n"
     ]
    },
    {
     "name": "stderr",
     "output_type": "stream",
     "text": [
      "/home/599/dbi599/forks/unseen/unseen/general_utils.py:151: RuntimeWarning: divide by zero encountered in long_scalars\n",
      "  return_period = n_population / n_events\n"
     ]
    },
    {
     "name": "stdout",
     "output_type": "stream",
     "text": [
      "0 events in 450 samples\n",
      "100.00% percentile\n",
      "inf year return period\n",
      "\n"
     ]
    },
    {
     "name": "stdout",
     "output_type": "stream",
     "text": [
      "1970-1979\n"
     ]
    },
    {
     "name": "stdout",
     "output_type": "stream",
     "text": [
      "2 events in 900 samples\n",
      "99.78% percentile\n",
      "450 year return period\n",
      "\n"
     ]
    },
    {
     "name": "stdout",
     "output_type": "stream",
     "text": [
      "1980-1989\n"
     ]
    },
    {
     "name": "stdout",
     "output_type": "stream",
     "text": [
      "3 events in 900 samples\n",
      "99.67% percentile\n",
      "300 year return period\n",
      "\n"
     ]
    },
    {
     "name": "stdout",
     "output_type": "stream",
     "text": [
      "1990-1999\n"
     ]
    },
    {
     "name": "stdout",
     "output_type": "stream",
     "text": [
      "2 events in 900 samples\n",
      "99.78% percentile\n",
      "450 year return period\n",
      "\n"
     ]
    },
    {
     "name": "stdout",
     "output_type": "stream",
     "text": [
      "2000-2009\n"
     ]
    },
    {
     "name": "stdout",
     "output_type": "stream",
     "text": [
      "1 events in 900 samples\n",
      "99.89% percentile\n",
      "900 year return period\n",
      "\n"
     ]
    },
    {
     "name": "stdout",
     "output_type": "stream",
     "text": [
      "2010-2019\n"
     ]
    },
    {
     "name": "stdout",
     "output_type": "stream",
     "text": [
      "2 events in 900 samples\n",
      "99.78% percentile\n",
      "450 year return period\n",
      "\n"
     ]
    },
    {
     "name": "stdout",
     "output_type": "stream",
     "text": [
      "/g/data/xv83/dbi599/east-coast-rain/figures/Rx15day_precip_exceedence_east-coast-flood-region_MPI-ESM1-2-HR_by-decade.png\n"
     ]
    },
    {
     "data": {
      "image/png": "[encoded data removed]",
      "text/plain": [
       "<Figure size 576x432 with 1 Axes>"
      ]
     },
     "metadata": {
      "needs_background": "light"
     },
     "output_type": "display_data"
    }
   ],
   "source": [
    "plot_exceedance_by_decade(model_bc_da_stacked, model_name)"
   ]
  },
  {
   "cell_type": "markdown",
   "id": "c6a2c14c",
   "metadata": {
    "papermill": {
     "duration": 0.072052,
     "end_time": "2022-04-25T22:13:19.835230",
     "exception": false,
     "start_time": "2022-04-25T22:13:19.763178",
     "status": "completed"
    },
    "tags": []
   },
   "source": [
    "#### Raw data"
   ]
  },
  {
   "cell_type": "code",
   "execution_count": 30,
   "id": "6b40107c",
   "metadata": {
    "execution": {
     "iopub.execute_input": "2022-04-25T22:13:20.009940Z",
     "iopub.status.busy": "2022-04-25T22:13:20.004732Z",
     "iopub.status.idle": "2022-04-25T22:13:21.843293Z",
     "shell.execute_reply": "2022-04-25T22:13:21.841269Z"
    },
    "papermill": {
     "duration": 1.939434,
     "end_time": "2022-04-25T22:13:21.843885",
     "exception": false,
     "start_time": "2022-04-25T22:13:19.904451",
     "status": "completed"
    },
    "tags": []
   },
   "outputs": [],
   "source": [
    "model_da_stacked = model_da.dropna('lead_time').stack({'sample': ['ensemble', 'init_date', 'lead_time']})"
   ]
  },
  {
   "cell_type": "code",
   "execution_count": 31,
   "id": "10aaf4a0",
   "metadata": {
    "execution": {
     "iopub.execute_input": "2022-04-25T22:13:22.013125Z",
     "iopub.status.busy": "2022-04-25T22:13:22.011714Z",
     "iopub.status.idle": "2022-04-25T22:13:22.019584Z",
     "shell.execute_reply": "2022-04-25T22:13:22.018295Z"
    },
    "papermill": {
     "duration": 0.092939,
     "end_time": "2022-04-25T22:13:22.019925",
     "exception": false,
     "start_time": "2022-04-25T22:13:21.926986",
     "status": "completed"
    },
    "tags": []
   },
   "outputs": [
    {
     "data": {
      "text/plain": [
       "(5310,)"
      ]
     },
     "execution_count": 31,
     "metadata": {},
     "output_type": "execute_result"
    }
   ],
   "source": [
    "model_da_stacked.shape"
   ]
  },
  {
   "cell_type": "code",
   "execution_count": 32,
   "id": "cb75fa43",
   "metadata": {
    "execution": {
     "iopub.execute_input": "2022-04-25T22:13:22.196099Z",
     "iopub.status.busy": "2022-04-25T22:13:22.185851Z",
     "iopub.status.idle": "2022-04-25T22:13:24.077330Z",
     "shell.execute_reply": "2022-04-25T22:13:24.075797Z"
    },
    "papermill": {
     "duration": 1.985807,
     "end_time": "2022-04-25T22:13:24.077767",
     "exception": false,
     "start_time": "2022-04-25T22:13:22.091960",
     "status": "completed"
    },
    "tags": []
   },
   "outputs": [
    {
     "data": {
      "image/png": "[encoded data removed]",
      "text/plain": [
       "<Figure size 576x432 with 1 Axes>"
      ]
     },
     "metadata": {
      "needs_background": "light"
     },
     "output_type": "display_data"
    }
   ],
   "source": [
    "plot_exceedance(model_da_stacked, model_name)"
   ]
  },
  {
   "cell_type": "code",
   "execution_count": 33,
   "id": "89138fa6",
   "metadata": {
    "execution": {
     "iopub.execute_input": "2022-04-25T22:13:24.259101Z",
     "iopub.status.busy": "2022-04-25T22:13:24.244061Z",
     "iopub.status.idle": "2022-04-25T22:13:25.986310Z",
     "shell.execute_reply": "2022-04-25T22:13:25.984552Z"
    },
    "papermill": {
     "duration": 1.832581,
     "end_time": "2022-04-25T22:13:25.986761",
     "exception": false,
     "start_time": "2022-04-25T22:13:24.154180",
     "status": "completed"
    },
    "tags": []
   },
   "outputs": [
    {
     "name": "stdout",
     "output_type": "stream",
     "text": [
      "RAW DATA\n",
      "0 events in 5310 samples\n",
      "100.00% percentile\n",
      "inf year return period\n"
     ]
    },
    {
     "name": "stderr",
     "output_type": "stream",
     "text": [
      "/home/599/dbi599/forks/unseen/unseen/general_utils.py:151: RuntimeWarning: divide by zero encountered in long_scalars\n",
      "  return_period = n_population / n_events\n"
     ]
    }
   ],
   "source": [
    "n_events, n_population, return_period, percentile = general_utils.event_in_context(model_da_stacked.values, pr2022, 'above')\n",
    "print('RAW DATA')\n",
    "print(f'{n_events} events in {n_population} samples')\n",
    "print(f'{percentile:.2f}% percentile')\n",
    "print(f'{return_period:.0f} year return period')"
   ]
  },
  {
   "cell_type": "code",
   "execution_count": null,
   "id": "cbfda751",
   "metadata": {
    "papermill": {
     "duration": 0.075016,
     "end_time": "2022-04-25T22:13:26.141275",
     "exception": false,
     "start_time": "2022-04-25T22:13:26.066259",
     "status": "completed"
    },
    "tags": []
   },
   "outputs": [],
   "source": []
  }
 ],
 "metadata": {
  "kernelspec": {
   "display_name": "Python 3",
   "language": "python",
   "name": "python3"
  },
  "language_info": {
   "codemirror_mode": {
    "name": "ipython",
    "version": 3
   },
   "file_extension": ".py",
   "mimetype": "text/x-python",
   "name": "python",
   "nbconvert_exporter": "python",
   "pygments_lexer": "ipython3",
   "version": "3.9.4"
  },
  "papermill": {
   "default_parameters": {},
   "duration": 69.497795,
   "end_time": "2022-04-25T22:13:27.131335",
   "environment_variables": {},
   "exception": null,
   "input_path": "analysis.ipynb",
   "output_path": "analysis_MPI-ESM1-2-HR.ipynb",
   "parameters": {
    "agcd_file": "/g/data/xv83/dbi599/east-coast-rain/data/Rx15day_AGCD-CSIRO_r005_1900-2022_annual-aug-to-sep_east-coast-flood-region.zarr.zip",
    "file_list": "file_lists/MPI-ESM1-2-HR_dcppA-hindcast_files.txt",
    "independence_plot": "/g/data/xv83/dbi599/east-coast-rain/figures/independence-test_Rx15day_MPI-ESM1-2-HR-dcppA-hindcast_196011-201811_annual-aug-to-sep_east-coast-flood-region.png",
    "min_lead": 0,
    "model_bc_file": "/g/data/xv83/dbi599/east-coast-rain/data/Rx15day_MPI-ESM1-2-HR-dcppA-hindcast_196011-201811_annual-aug-to-sep_east-coast-flood-region_bias-corrected-AGCD-CSIRO-multiplicative.zarr.zip",
    "model_file": "/g/data/xv83/dbi599/east-coast-rain/data/Rx15day_MPI-ESM1-2-HR-dcppA-hindcast_196011-201811_annual-aug-to-sep_east-coast-flood-region.zarr.zip",
    "model_name": "MPI-ESM1-2-HR",
    "region_name": "east-coast-flood-region",
    "shape_file": "/g/data/xv83/dbi599/east-coast-rain/shapefiles/east-coast-flood.shp",
    "similarity_bc_file": "/g/data/xv83/dbi599/east-coast-rain/data/ks-test_Rx15day_MPI-ESM1-2-HR-dcppA-hindcast_196011-201811_annual-aug-to-sep_east-coast-flood-region_bias-corrected-AGCD-CSIRO-multiplicative.zarr.zip",
    "similarity_raw_file": "/g/data/xv83/dbi599/east-coast-rain/data/ks-test_Rx15day_MPI-ESM1-2-HR-dcppA-hindcast_196011-201811_annual-aug-to-sep_east-coast-flood-region_AGCD-CSIRO.zarr.zip"
   },
   "start_time": "2022-04-25T22:12:17.633540",
   "version": "2.3.3"
  }
 },
 "nbformat": 4,
 "nbformat_minor": 5
}